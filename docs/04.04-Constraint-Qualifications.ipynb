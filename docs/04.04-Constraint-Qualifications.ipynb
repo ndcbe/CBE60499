{
 "cells": [
  {
   "cell_type": "markdown",
   "metadata": {},
   "source": [
    "<!--NOTEBOOK_HEADER-->\n",
    "*This notebook contains material from [CBE60499](https://ndcbe.github.io/CBE60499);\n",
    "content is available [on Github](git@github.com:ndcbe/CBE60499.git).*\n"
   ]
  },
  {
   "cell_type": "markdown",
   "metadata": {},
   "source": [
    "<!--NAVIGATION-->\n",
    "< [4.3 Analysis of KKT Conditions](https://ndcbe.github.io/CBE60499/04.03-KKT-Multipliers.html) | [Contents](toc.html) | [Tag Index](tag_index.html) | [4.5 Second Order Optimality Conditions](https://ndcbe.github.io/CBE60499/04.05-Second-Order.html) ><p><a href=\"https://colab.research.google.com/github/ndcbe/CBE60499/blob/master/docs/04.04-Constraint-Qualifications.ipynb\"> <img align=\"left\" src=\"https://colab.research.google.com/assets/colab-badge.svg\" alt=\"Open in Colab\" title=\"Open in Google Colaboratory\"></a><p><a href=\"https://ndcbe.github.io/CBE60499/04.04-Constraint-Qualifications.ipynb\"> <img align=\"left\" src=\"https://img.shields.io/badge/Github-Download-blue.svg\" alt=\"Download\" title=\"Download Notebook\"></a>"
   ]
  },
  {
   "cell_type": "markdown",
   "metadata": {
    "nbpages": {
     "level": 1,
     "link": "[4.4 Constraint Qualifications](https://ndcbe.github.io/CBE60499/04.04-Constraint-Qualifications.html#4.4-Constraint-Qualifications)",
     "section": "4.4 Constraint Qualifications"
    }
   },
   "source": [
    "# 4.4 Constraint Qualifications"
   ]
  },
  {
   "cell_type": "markdown",
   "metadata": {
    "nbpages": {
     "level": 2,
     "link": "[4.4.1 Feasible Sequences and Limiting Directions](https://ndcbe.github.io/CBE60499/04.04-Constraint-Qualifications.html#4.4.1-Feasible-Sequences-and-Limiting-Directions)",
     "section": "4.4.1 Feasible Sequences and Limiting Directions"
    }
   },
   "source": [
    "## 4.4.1 Feasible Sequences and Limiting Directions"
   ]
  },
  {
   "cell_type": "markdown",
   "metadata": {
    "nbpages": {
     "level": 3,
     "link": "[4.4.1.1 Concepts](https://ndcbe.github.io/CBE60499/04.04-Constraint-Qualifications.html#4.4.1.1-Concepts)",
     "section": "4.4.1.1 Concepts"
    }
   },
   "source": [
    "### 4.4.1.1 Concepts"
   ]
  },
  {
   "cell_type": "markdown",
   "metadata": {
    "nbpages": {
     "level": 3,
     "link": "[4.4.1.1 Concepts](https://ndcbe.github.io/CBE60499/04.04-Constraint-Qualifications.html#4.4.1.1-Concepts)",
     "section": "4.4.1.1 Concepts"
    }
   },
   "source": [
    "![picture](./figures/limiting_directions.png)"
   ]
  },
  {
   "cell_type": "markdown",
   "metadata": {
    "nbpages": {
     "level": 3,
     "link": "[4.4.1.1 Concepts](https://ndcbe.github.io/CBE60499/04.04-Constraint-Qualifications.html#4.4.1.1-Concepts)",
     "section": "4.4.1.1 Concepts"
    }
   },
   "source": [
    "![picture](./figures/thm-4-8.png)"
   ]
  },
  {
   "cell_type": "markdown",
   "metadata": {
    "nbpages": {
     "level": 3,
     "link": "[4.4.1.2 Linear Constrainted Optimization Problems](https://ndcbe.github.io/CBE60499/04.04-Constraint-Qualifications.html#4.4.1.2-Linear-Constrainted-Optimization-Problems)",
     "section": "4.4.1.2 Linear Constrainted Optimization Problems"
    }
   },
   "source": [
    "### 4.4.1.2 Linear Constrainted Optimization Problems"
   ]
  },
  {
   "cell_type": "markdown",
   "metadata": {
    "nbpages": {
     "level": 3,
     "link": "[4.4.1.2 Linear Constrainted Optimization Problems](https://ndcbe.github.io/CBE60499/04.04-Constraint-Qualifications.html#4.4.1.2-Linear-Constrainted-Optimization-Problems)",
     "section": "4.4.1.2 Linear Constrainted Optimization Problems"
    }
   },
   "source": [
    "![picture](./figures/linear-opt-4-3.png)"
   ]
  },
  {
   "cell_type": "markdown",
   "metadata": {
    "nbpages": {
     "level": 3,
     "link": "[4.4.1.2 Linear Constrainted Optimization Problems](https://ndcbe.github.io/CBE60499/04.04-Constraint-Qualifications.html#4.4.1.2-Linear-Constrainted-Optimization-Problems)",
     "section": "4.4.1.2 Linear Constrainted Optimization Problems"
    }
   },
   "source": [
    "![picture](./figures/thm-4-9.png)"
   ]
  },
  {
   "cell_type": "markdown",
   "metadata": {
    "nbpages": {
     "level": 3,
     "link": "[4.4.1.2 Linear Constrainted Optimization Problems](https://ndcbe.github.io/CBE60499/04.04-Constraint-Qualifications.html#4.4.1.2-Linear-Constrainted-Optimization-Problems)",
     "section": "4.4.1.2 Linear Constrainted Optimization Problems"
    }
   },
   "source": [
    "![picture](./figures/thm-4-11.png)"
   ]
  },
  {
   "cell_type": "markdown",
   "metadata": {
    "nbpages": {
     "level": 2,
     "link": "[4.4.2 Constraint Qualifications](https://ndcbe.github.io/CBE60499/04.04-Constraint-Qualifications.html#4.4.2-Constraint-Qualifications)",
     "section": "4.4.2 Constraint Qualifications"
    }
   },
   "source": [
    "## 4.4.2 Constraint Qualifications"
   ]
  },
  {
   "cell_type": "markdown",
   "metadata": {
    "nbpages": {
     "level": 3,
     "link": "[4.4.2.1 Nonlinear Constrained Optimization Problems](https://ndcbe.github.io/CBE60499/04.04-Constraint-Qualifications.html#4.4.2.1-Nonlinear-Constrained-Optimization-Problems)",
     "section": "4.4.2.1 Nonlinear Constrained Optimization Problems"
    }
   },
   "source": [
    "### 4.4.2.1 Nonlinear Constrained Optimization Problems"
   ]
  },
  {
   "cell_type": "markdown",
   "metadata": {
    "nbpages": {
     "level": 3,
     "link": "[4.4.2.1 Nonlinear Constrained Optimization Problems](https://ndcbe.github.io/CBE60499/04.04-Constraint-Qualifications.html#4.4.2.1-Nonlinear-Constrained-Optimization-Problems)",
     "section": "4.4.2.1 Nonlinear Constrained Optimization Problems"
    }
   },
   "source": [
    "![picture](./figures/nonlinear-opt-4-3.png)"
   ]
  },
  {
   "cell_type": "markdown",
   "metadata": {
    "nbpages": {
     "level": 3,
     "link": "[4.4.2.1 Nonlinear Constrained Optimization Problems](https://ndcbe.github.io/CBE60499/04.04-Constraint-Qualifications.html#4.4.2.1-Nonlinear-Constrained-Optimization-Problems)",
     "section": "4.4.2.1 Nonlinear Constrained Optimization Problems"
    }
   },
   "source": [
    "![picture](./figures/nonlinear-opt-4-3b.png)"
   ]
  },
  {
   "cell_type": "markdown",
   "metadata": {
    "nbpages": {
     "level": 3,
     "link": "[4.4.2.2 Linearly Independent Constraint Qualification (LICQ)](https://ndcbe.github.io/CBE60499/04.04-Constraint-Qualifications.html#4.4.2.2-Linearly-Independent-Constraint-Qualification-(LICQ))",
     "section": "4.4.2.2 Linearly Independent Constraint Qualification (LICQ)"
    }
   },
   "source": [
    "### 4.4.2.2 Linearly Independent Constraint Qualification (LICQ)"
   ]
  },
  {
   "cell_type": "markdown",
   "metadata": {
    "nbpages": {
     "level": 3,
     "link": "[4.4.2.2 Linearly Independent Constraint Qualification (LICQ)](https://ndcbe.github.io/CBE60499/04.04-Constraint-Qualifications.html#4.4.2.2-Linearly-Independent-Constraint-Qualification-(LICQ))",
     "section": "4.4.2.2 Linearly Independent Constraint Qualification (LICQ)"
    }
   },
   "source": [
    "![picture](./figures/def-4-12.png)"
   ]
  },
  {
   "cell_type": "markdown",
   "metadata": {
    "nbpages": {
     "level": 3,
     "link": "[4.4.2.2 Linearly Independent Constraint Qualification (LICQ)](https://ndcbe.github.io/CBE60499/04.04-Constraint-Qualifications.html#4.4.2.2-Linearly-Independent-Constraint-Qualification-(LICQ))",
     "section": "4.4.2.2 Linearly Independent Constraint Qualification (LICQ)"
    }
   },
   "source": [
    "![picture](./figures/thm-4-14.png)"
   ]
  },
  {
   "cell_type": "markdown",
   "metadata": {
    "nbpages": {
     "level": 3,
     "link": "[4.4.2.2 Linearly Independent Constraint Qualification (LICQ)](https://ndcbe.github.io/CBE60499/04.04-Constraint-Qualifications.html#4.4.2.2-Linearly-Independent-Constraint-Qualification-(LICQ))",
     "section": "4.4.2.2 Linearly Independent Constraint Qualification (LICQ)"
    }
   },
   "source": [
    "![picture](./figures/thm-4-15.png)"
   ]
  },
  {
   "cell_type": "markdown",
   "metadata": {
    "nbpages": {
     "level": 3,
     "link": "[4.4.2.3 Mangasarian-Fromovitz Constraint Qualification (MFCQ)](https://ndcbe.github.io/CBE60499/04.04-Constraint-Qualifications.html#4.4.2.3-Mangasarian-Fromovitz-Constraint-Qualification-(MFCQ))",
     "section": "4.4.2.3 Mangasarian-Fromovitz Constraint Qualification (MFCQ)"
    }
   },
   "source": [
    "### 4.4.2.3 Mangasarian-Fromovitz Constraint Qualification (MFCQ)"
   ]
  },
  {
   "cell_type": "markdown",
   "metadata": {
    "nbpages": {
     "level": 3,
     "link": "[4.4.2.3 Mangasarian-Fromovitz Constraint Qualification (MFCQ)](https://ndcbe.github.io/CBE60499/04.04-Constraint-Qualifications.html#4.4.2.3-Mangasarian-Fromovitz-Constraint-Qualification-(MFCQ))",
     "section": "4.4.2.3 Mangasarian-Fromovitz Constraint Qualification (MFCQ)"
    }
   },
   "source": [
    "![picture](./figures/thm-4-16.png)"
   ]
  },
  {
   "cell_type": "markdown",
   "metadata": {
    "nbpages": {
     "level": 2,
     "link": "[4.4.3 Example](https://ndcbe.github.io/CBE60499/04.04-Constraint-Qualifications.html#4.4.3-Example)",
     "section": "4.4.3 Example"
    }
   },
   "source": [
    "## 4.4.3 Example\n",
    "\n",
    "\n",
    "Consider the following two dimensional optimization problem:\n",
    "\n",
    "$$\n",
    "\\begin{align} \\min_{x_1,x_2} \\quad & f(x) := x_1 \\\\\n",
    "\\mathrm{s.t.} \\quad & g_1(x) := x_2 \\leq x_1^3 \\\\\n",
    " & g_2(x) := -x_1^3 \\leq x_2\n",
    "\\end{align}\n",
    "$$\n",
    "\n",
    "This is an example from Section 4.3 in Nonlinear Programming by Biegler."
   ]
  },
  {
   "cell_type": "code",
   "execution_count": 2,
   "metadata": {
    "nbpages": {
     "level": 2,
     "link": "[4.4.3 Example](https://ndcbe.github.io/CBE60499/04.04-Constraint-Qualifications.html#4.4.3-Example)",
     "section": "4.4.3 Example"
    }
   },
   "outputs": [],
   "source": [
    "import numpy as np\n",
    "import matplotlib.cm as cm\n",
    "import matplotlib.pyplot as plt\n",
    "from pyomo.environ import *"
   ]
  },
  {
   "cell_type": "markdown",
   "metadata": {
    "nbpages": {
     "level": 3,
     "link": "[4.4.3.1 Visualize Feasible Set](https://ndcbe.github.io/CBE60499/04.04-Constraint-Qualifications.html#4.4.3.1-Visualize-Feasible-Set)",
     "section": "4.4.3.1 Visualize Feasible Set"
    }
   },
   "source": [
    "### 4.4.3.1 Visualize Feasible Set"
   ]
  },
  {
   "cell_type": "code",
   "execution_count": 5,
   "metadata": {
    "nbpages": {
     "level": 3,
     "link": "[4.4.3.1 Visualize Feasible Set](https://ndcbe.github.io/CBE60499/04.04-Constraint-Qualifications.html#4.4.3.1-Visualize-Feasible-Set)",
     "section": "4.4.3.1 Visualize Feasible Set"
    }
   },
   "outputs": [
    {
     "data": {
      "image/png": "[encoded data removed]",
      "text/plain": [
       "<Figure size 432x288 with 1 Axes>"
      ]
     },
     "metadata": {
      "needs_background": "light"
     },
     "output_type": "display_data"
    }
   ],
   "source": [
    "n = 101\n",
    "x1 = np.linspace(-3,3,n)\n",
    "plt.figure()\n",
    "\n",
    "g1 = np.power(x1,3)\n",
    "g2 = -g1\n",
    "\n",
    "plt.plot(x1,g1,color=\"blue\",linestyle=\"-\",label=\"$x_2 \\leq x_1^3$\")\n",
    "plt.fill_between(x1,g1,np.min(g1)*np.ones(n),color=\"blue\",alpha=0.5)\n",
    "\n",
    "\n",
    "plt.plot(x1,g2,color=\"red\",linestyle=\"-\",label=\"$-x_1^3 \\leq x_2$\")\n",
    "plt.fill_between(x1,np.max(g2)*np.ones(n),g2,color=\"red\",alpha=0.5)\n",
    "\n",
    "plt.xlabel(\"$x_1$\")\n",
    "plt.ylabel(\"$x_2$\")\n",
    "\n",
    "plt.grid()\n",
    "plt.legend(loc=\"center left\")\n",
    "plt.show()"
   ]
  },
  {
   "cell_type": "markdown",
   "metadata": {
    "nbpages": {
     "level": 3,
     "link": "[4.4.3.1 Visualize Feasible Set](https://ndcbe.github.io/CBE60499/04.04-Constraint-Qualifications.html#4.4.3.1-Visualize-Feasible-Set)",
     "section": "4.4.3.1 Visualize Feasible Set"
    }
   },
   "source": [
    "**Discussion**\n",
    "\n",
    "Where on the graph are both constraints satisfied? Choices:\n",
    "1. White region\n",
    "2. Blue region\n",
    "3. Red region\n",
    "4. Purple region"
   ]
  },
  {
   "cell_type": "markdown",
   "metadata": {
    "nbpages": {
     "level": 3,
     "link": "[4.4.3.2 Solve with Pyomo](https://ndcbe.github.io/CBE60499/04.04-Constraint-Qualifications.html#4.4.3.2-Solve-with-Pyomo)",
     "section": "4.4.3.2 Solve with Pyomo"
    }
   },
   "source": [
    "### 4.4.3.2 Solve with Pyomo"
   ]
  },
  {
   "cell_type": "code",
   "execution_count": 4,
   "metadata": {
    "nbpages": {
     "level": 3,
     "link": "[4.4.3.2 Solve with Pyomo](https://ndcbe.github.io/CBE60499/04.04-Constraint-Qualifications.html#4.4.3.2-Solve-with-Pyomo)",
     "section": "4.4.3.2 Solve with Pyomo"
    }
   },
   "outputs": [
    {
     "name": "stdout",
     "output_type": "stream",
     "text": [
      "Ipopt 3.13.2: \n",
      "\n",
      "******************************************************************************\n",
      "This program contains Ipopt, a library for large-scale nonlinear optimization.\n",
      " Ipopt is released as open source code under the Eclipse Public License (EPL).\n",
      "         For more information visit http://projects.coin-or.org/Ipopt\n",
      "******************************************************************************\n",
      "\n",
      "This is Ipopt version 3.13.2, running with linear solver ma27.\n",
      "\n",
      "Number of nonzeros in equality constraint Jacobian...:        0\n",
      "Number of nonzeros in inequality constraint Jacobian.:        4\n",
      "Number of nonzeros in Lagrangian Hessian.............:        1\n",
      "\n",
      "Total number of variables............................:        2\n",
      "                     variables with only lower bounds:        0\n",
      "                variables with lower and upper bounds:        0\n",
      "                     variables with only upper bounds:        0\n",
      "Total number of equality constraints.................:        0\n",
      "Total number of inequality constraints...............:        2\n",
      "        inequality constraints with only lower bounds:        0\n",
      "   inequality constraints with lower and upper bounds:        0\n",
      "        inequality constraints with only upper bounds:        2\n",
      "\n",
      "iter    objective    inf_pr   inf_du lg(mu)  ||d||  lg(rg) alpha_du alpha_pr  ls\n",
      "   0  1.0000000e+00 0.00e+00 7.89e-01  -1.0 0.00e+00    -  0.00e+00 0.00e+00   0\n",
      "   1  9.7574511e-01 0.00e+00 1.04e-02  -1.0 2.54e-01    -  1.00e+00 1.00e+00f  1\n",
      "   2  6.6105230e-01 0.00e+00 2.39e-01  -1.7 4.64e+00    -  1.00e+00 3.73e-01f  1\n",
      "   3  4.6924687e-01 0.00e+00 2.74e-01  -1.7 1.92e-01    -  1.00e+00 1.00e+00h  1\n",
      "   4  3.2820073e-01 0.00e+00 3.14e-01  -1.7 1.62e-01    -  1.00e+00 8.72e-01h  1\n",
      "   5  2.6957767e-01 0.00e+00 1.60e-01  -1.7 5.86e-02    -  1.00e+00 1.00e+00f  1\n",
      "   6  1.8935274e-01 0.00e+00 2.24e+00  -2.5 2.21e-01    -  1.00e+00 3.63e-01f  1\n",
      "   7  1.3091124e-01 0.00e+00 3.19e-01  -2.5 5.84e-02    -  1.00e+00 1.00e+00h  1\n",
      "   8  9.6126564e-02 0.00e+00 2.03e+00  -2.5 4.69e-02    -  1.00e+00 7.41e-01h  1\n",
      "   9  7.1009142e-02 0.00e+00 2.58e-01  -2.5 2.51e-02    -  1.00e+00 1.00e+00f  1\n",
      "iter    objective    inf_pr   inf_du lg(mu)  ||d||  lg(rg) alpha_du alpha_pr  ls\n",
      "  10  5.1777995e-02 0.00e+00 1.21e+01  -2.5 3.18e-02    -  1.00e+00 6.04e-01h  1\n",
      "  11  4.0824512e-02 0.00e+00 1.97e-01  -2.5 1.10e-02    -  1.00e+00 1.00e+00f  1\n",
      "  12  3.4583313e-02 0.00e+00 5.91e+01  -2.5 1.80e-02    -  1.00e+00 3.47e-01h  2\n",
      "  13  2.6914569e-02 0.00e+00 1.79e-01  -2.5 7.67e-03    -  1.00e+00 1.00e+00h  1\n",
      "  14  2.0308733e-02 0.00e+00 2.01e-01  -2.5 6.61e-03    -  1.00e+00 1.00e+00h  1\n",
      "  15  1.9046691e-02 0.00e+00 3.31e-02  -2.5 1.26e-03    -  1.00e+00 1.00e+00h  1\n",
      "  16  1.2746908e-02 0.00e+00 5.71e+02  -3.8 1.83e-02    -  1.00e+00 3.44e-01f  1\n",
      "  17  8.7118644e-03 0.00e+00 3.19e-01  -3.8 4.04e-03    -  1.00e+00 1.00e+00f  1\n",
      "  18  7.5197334e-03 0.00e+00 1.09e+03  -3.8 3.10e-03    -  1.00e+00 3.85e-01f  2\n",
      "  19  5.1147446e-03 0.00e+00 3.19e-01  -3.8 2.40e-03    -  1.00e+00 1.00e+00f  1\n",
      "iter    objective    inf_pr   inf_du lg(mu)  ||d||  lg(rg) alpha_du alpha_pr  ls\n",
      "  20  3.3178215e-03 0.00e+00 3.78e-01  -3.8 1.80e-03    -  1.00e+00 1.00e+00f  1\n",
      "  21  2.2893616e-03 0.00e+00 3.40e-01  -3.8 1.03e-03    -  1.00e+00 1.00e+00f  1\n",
      "  22  1.8283227e-03 0.00e+00 8.34e+04  -3.8 4.48e-03    -  1.00e+00 1.03e-01f  2\n",
      "  23  4.5313818e-04 0.00e+00 8.82e-01  -3.8 1.38e-03    -  1.00e+00 1.00e+00f  1\n",
      "  24  3.0653152e-04 0.00e+00 3.16e+05  -5.7 1.47e-04   4.0 2.32e-01 1.00e+00h  1\n",
      "  25 -5.5285928e-04 0.00e+00 1.00e+00  -5.7 8.59e-04    -  1.00e+00 1.00e+00f  1\n",
      "  26 -1.1223885e-02 1.40e-06 1.36e+04  -5.7 7.96e-01    -  1.00e+00 1.34e-02f  1\n",
      "  27 -1.1107786e-02 1.36e-06 1.16e+03  -5.7 3.72e-03    -  1.00e+00 3.12e-02h  6\n",
      "  28 -7.4290268e-03 4.00e-07 4.64e-01  -5.7 3.68e-03    -  1.00e+00 1.00e+00h  1\n",
      "  29 -5.8687786e-03 1.92e-07 8.66e+02  -5.7 2.41e-03    -  1.00e+00 6.47e-01h  1\n",
      "iter    objective    inf_pr   inf_du lg(mu)  ||d||  lg(rg) alpha_du alpha_pr  ls\n",
      "  30 -5.8542172e-03 1.91e-07 3.64e+03  -5.7 1.86e-03    -  1.00e+00 7.81e-03f  8\n",
      "  31 -3.9974633e-03 5.39e-08 3.37e-01  -5.7 1.86e-03    -  1.00e+00 1.00e+00h  1\n",
      "  32 -2.9534118e-03 1.58e-08 5.23e+02  -5.7 1.12e-03    -  1.00e+00 9.29e-01h  1\n",
      "  33 -2.9344353e-03 1.53e-08 1.06e+04  -5.7 6.07e-04    -  1.00e+00 3.12e-02f  6\n",
      "  34 -2.3405157e-03 2.82e-09 1.76e-01  -5.7 5.94e-04    -  1.00e+00 1.00e+00h  1\n",
      "  35 -2.1660008e-03 1.62e-10 3.83e-02  -5.7 1.75e-04    -  1.00e+00 1.00e+00h  1\n",
      "  36 -2.1508378e-03 0.00e+00 6.75e-04  -5.7 1.52e-05    -  1.00e+00 1.00e+00h  1\n",
      "  37 -2.1544258e-03 0.00e+00 6.10e-06  -8.6 3.59e-06    -  1.00e+00 1.00e+00f  1\n",
      "  38 -2.1544329e-03 0.00e+00 7.78e-12  -9.0 7.05e-09    -  1.00e+00 1.00e+00h  1\n",
      "\n",
      "Number of Iterations....: 38\n",
      "\n",
      "                                   (scaled)                 (unscaled)\n",
      "Objective...............:  -2.1544328718688505e-03   -2.1544328718688505e-03\n",
      "Dual infeasibility......:   7.7819972688075723e-12    7.7819972688075723e-12\n",
      "Constraint violation....:   0.0000000000000000e+00    0.0000000000000000e+00\n",
      "Complementarity.........:   9.0909382315597638e-10    9.0909382315597638e-10\n",
      "Overall NLP error.......:   2.5317795697139416e-12    9.0909382315597638e-10\n",
      "\n",
      "\n",
      "Number of objective function evaluations             = 64\n",
      "Number of objective gradient evaluations             = 39\n",
      "Number of equality constraint evaluations            = 0\n",
      "Number of inequality constraint evaluations          = 64\n",
      "Number of equality constraint Jacobian evaluations   = 0\n",
      "Number of inequality constraint Jacobian evaluations = 39\n",
      "Number of Lagrangian Hessian evaluations             = 38\n",
      "Total CPU secs in IPOPT (w/o function evaluations)   =      0.009\n",
      "Total CPU secs in NLP function evaluations           =      0.000\n",
      "\n",
      "EXIT: Optimal Solution Found.\n",
      "x1 =  -0.0021544328718688505\n",
      "x2 =  3.510966032529045e-27\n",
      "\n",
      "\n",
      "dual : Direction=Suffix.IMPORT, Datatype=Suffix.FLOAT\n",
      "    Key : Value\n",
      "     g1 : -35907.30543965533\n",
      "     g2 : -35907.30543965533\n"
     ]
    }
   ],
   "source": [
    "## Create concrete Pyomo model\n",
    "m = ConcreteModel()\n",
    "\n",
    "## Set up to extract dual variables after model solve.\n",
    "m.dual = Suffix(direction=Suffix.IMPORT)\n",
    "\n",
    "## Declare variables with initial values\n",
    "m.x1 = Var(initialize=1)\n",
    "m.x2 = Var(initialize=1)\n",
    "\n",
    "## Declare objective\n",
    "m.OBJ = Objective(expr=m.x1, sense = minimize)\n",
    "\n",
    "m.g1 = Constraint(expr=m.x2 <= m.x1**3)\n",
    "\n",
    "m.g2 = Constraint(expr=-m.x1**3 <= m.x2)\n",
    "\n",
    "## Specify IPOPT as solver\n",
    "solver = SolverFactory('ipopt')\n",
    "\n",
    "## Solve the model\n",
    "results = solver.solve(m, tee = True)\n",
    "\n",
    "## Return the solution\n",
    "print(\"x1 = \",value(m.x1))\n",
    "print(\"x2 = \",value(m.x2))\n",
    "print(\"\\n\")\n",
    "\n",
    "## Inspect dual variables\n",
    "m.dual.display()"
   ]
  },
  {
   "cell_type": "markdown",
   "metadata": {
    "nbpages": {
     "level": 3,
     "link": "[4.4.3.2 Solve with Pyomo](https://ndcbe.github.io/CBE60499/04.04-Constraint-Qualifications.html#4.4.3.2-Solve-with-Pyomo)",
     "section": "4.4.3.2 Solve with Pyomo"
    }
   },
   "source": [
    "**Discussion**\n",
    "1. Why so many iterations for such a simple problem?\n",
    "2. Why are the multipliers so negative?\n",
    "3. Are the constraints satisfied?\n",
    "4. Why is the solution not exactly $x_1 = x_2 = 0$?"
   ]
  },
  {
   "cell_type": "code",
   "execution_count": null,
   "metadata": {
    "nbpages": {
     "level": 3,
     "link": "[4.4.3.2 Solve with Pyomo](https://ndcbe.github.io/CBE60499/04.04-Constraint-Qualifications.html#4.4.3.2-Solve-with-Pyomo)",
     "section": "4.4.3.2 Solve with Pyomo"
    }
   },
   "outputs": [],
   "source": []
  },
  {
   "cell_type": "markdown",
   "metadata": {},
   "source": [
    "<!--NAVIGATION-->\n",
    "< [4.3 Analysis of KKT Conditions](https://ndcbe.github.io/CBE60499/04.03-KKT-Multipliers.html) | [Contents](toc.html) | [Tag Index](tag_index.html) | [4.5 Second Order Optimality Conditions](https://ndcbe.github.io/CBE60499/04.05-Second-Order.html) ><p><a href=\"https://colab.research.google.com/github/ndcbe/CBE60499/blob/master/docs/04.04-Constraint-Qualifications.ipynb\"> <img align=\"left\" src=\"https://colab.research.google.com/assets/colab-badge.svg\" alt=\"Open in Colab\" title=\"Open in Google Colaboratory\"></a><p><a href=\"https://ndcbe.github.io/CBE60499/04.04-Constraint-Qualifications.ipynb\"> <img align=\"left\" src=\"https://img.shields.io/badge/Github-Download-blue.svg\" alt=\"Download\" title=\"Download Notebook\"></a>"
   ]
  }
 ],
 "metadata": {
  "kernelspec": {
   "display_name": "Python 3",
   "language": "python",
   "name": "python3"
  },
  "language_info": {
   "codemirror_mode": {
    "name": "ipython",
    "version": 3
   },
   "file_extension": ".py",
   "mimetype": "text/x-python",
   "name": "python",
   "nbconvert_exporter": "python",
   "pygments_lexer": "ipython3",
   "version": "3.8.6"
  }
 },
 "nbformat": 4,
 "nbformat_minor": 2
}
