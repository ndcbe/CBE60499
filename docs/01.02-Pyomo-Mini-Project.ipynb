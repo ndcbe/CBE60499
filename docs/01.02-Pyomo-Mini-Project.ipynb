{
 "cells": [
  {
   "cell_type": "markdown",
   "metadata": {},
   "source": [
    "<!--NOTEBOOK_HEADER-->\n",
    "*This notebook contains material from [CBE60499](https://ndcbe.github.io/CBE60499);\n",
    "content is available [on Github](git@github.com:ndcbe/CBE60499.git).*\n"
   ]
  },
  {
   "cell_type": "markdown",
   "metadata": {},
   "source": [
    "<!--NAVIGATION-->\n",
    "< [1.1 60 Minutes to Pyomo: An Energy Storage Model Predictive Control Example](https://ndcbe.github.io/CBE60499/01.01-Pyomo-Nuts-and-Bolts.html) | [Contents](toc.html) | [2.0 Optimization Modeling with Applications](https://ndcbe.github.io/CBE60499/02.00-Optimization-Modeling.html) ><p><a href=\"https://colab.research.google.com/github/ndcbe/CBE60499/blob/master/docs/01.02-Pyomo-Mini-Project.ipynb\"> <img align=\"left\" src=\"https://colab.research.google.com/assets/colab-badge.svg\" alt=\"Open in Colab\" title=\"Open in Google Colaboratory\"></a><p><a href=\"https://ndcbe.github.io/CBE60499/01.02-Pyomo-Mini-Project.ipynb\"> <img align=\"left\" src=\"https://img.shields.io/badge/Github-Download-blue.svg\" alt=\"Download\" title=\"Download Notebook\"></a>"
   ]
  },
  {
   "cell_type": "code",
   "execution_count": null,
   "metadata": {},
   "outputs": [],
   "source": [
    "# IMPORT DATA FILES USED BY THIS NOTEBOOK\n",
    "import os,  requests\n",
    "\n",
    "file_links = [(\"data/Prices_DAM_ALTA2G_7_B1.csv\", \"https://ndcbe.github.io/CBE60499/data/Prices_DAM_ALTA2G_7_B1.csv\")]\n",
    "\n",
    "# This cell has been added by nbpages. Run this cell to download data files required for this notebook.\n",
    "\n",
    "for filepath, fileurl in file_links:\n",
    "    stem, filename = os.path.split(filepath)\n",
    "    if stem:\n",
    "        if not os.path.exists(stem):\n",
    "            os.mkdir(stem)\n",
    "    if not os.path.isfile(filepath):\n",
    "        with open(filepath, 'wb') as f:\n",
    "            response = requests.get(fileurl)\n",
    "            f.write(response.content)\n"
   ]
  },
  {
   "cell_type": "markdown",
   "metadata": {
    "nbpages": {
     "level": 1,
     "link": "[1.2 Pyomo Mini-Project: Receding Horizon Stochastic Control](https://ndcbe.github.io/CBE60499/01.02-Pyomo-Mini-Project.html#1.2-Pyomo-Mini-Project:-Receding-Horizon-Stochastic-Control)",
     "section": "1.2 Pyomo Mini-Project: Receding Horizon Stochastic Control"
    }
   },
   "source": [
    "# 1.2 Pyomo Mini-Project: Receding Horizon Stochastic Control"
   ]
  },
  {
   "cell_type": "code",
   "execution_count": null,
   "metadata": {
    "nbpages": {
     "level": 1,
     "link": "[1.2 Pyomo Mini-Project: Receding Horizon Stochastic Control](https://ndcbe.github.io/CBE60499/01.02-Pyomo-Mini-Project.html#1.2-Pyomo-Mini-Project:-Receding-Horizon-Stochastic-Control)",
     "section": "1.2 Pyomo Mini-Project: Receding Horizon Stochastic Control"
    }
   },
   "outputs": [],
   "source": [
    "# This code cell installs packages on Colab\n",
    "\n",
    "import sys\n",
    "if \"google.colab\" in sys.modules:\n",
    "    !wget \"https://raw.githubusercontent.com/ndcbe/CBE60499/main/notebooks/helper.py\"\n",
    "    import helper\n",
    "    helper.install_idaes()\n",
    "    helper.install_ipopt()\n",
    "    helper.download_data(['Prices_DAM_ALTA2G_7_B1.csv'])"
   ]
  },
  {
   "cell_type": "code",
   "execution_count": 1,
   "metadata": {
    "nbpages": {
     "level": 1,
     "link": "[1.2 Pyomo Mini-Project: Receding Horizon Stochastic Control](https://ndcbe.github.io/CBE60499/01.02-Pyomo-Mini-Project.html#1.2-Pyomo-Mini-Project:-Receding-Horizon-Stochastic-Control)",
     "section": "1.2 Pyomo Mini-Project: Receding Horizon Stochastic Control"
    }
   },
   "outputs": [],
   "source": [
    "import pandas as pd\n",
    "import pyomo.environ as pyo\n",
    "import numpy as np\n",
    "import matplotlib.pyplot as plt"
   ]
  },
  {
   "cell_type": "markdown",
   "metadata": {
    "nbpages": {
     "level": 1,
     "link": "[1.2 Pyomo Mini-Project: Receding Horizon Stochastic Control](https://ndcbe.github.io/CBE60499/01.02-Pyomo-Mini-Project.html#1.2-Pyomo-Mini-Project:-Receding-Horizon-Stochastic-Control)",
     "section": "1.2 Pyomo Mini-Project: Receding Horizon Stochastic Control"
    }
   },
   "source": [
    "In the previous notebook, we considered model predictive control (MPC) of a battery energy storage system interacting with the electricity market. In essence, we posed an optimization problem:\n",
    "\n",
    "*Given a forecasting for energy prices, what charging and discharging strategy maximizes net market revenue?*\n",
    "\n",
    "In this homework mini-project, you will consider two modifications to make the example more realistic:\n",
    "1. Receding horizon control\n",
    "2. Uncertainty\n",
    "\n",
    "The goal is to help you develop Python programming skills.\n",
    "\n",
    "## Background: Receding Horizon Control\n",
    "\n",
    "*Please ask questions during class.*\n",
    "\n",
    "Nomenclature: Let $u^*_{i}$ represent the optimal control action from time $t=i$ to $t=i+1$. For the battery system, $u_{i} = [c_i, d_i]^{T}$ (charging and discharging).\n",
    "\n",
    "Algorithm:\n",
    "1. Consider time $t=m$. \n",
    "2. Compute the optimal control actions $u^*=[u^*_m, u^*_{m+1}, ..., u^*_{m+N-1}]^T$ from time $t=m$ until $t=N+m$ where $N$ is the length of the planning horizon. In our battery example, we considered $N = 24$.\n",
    "3. Simulate the system for one timestep using control action $u^*_{m}$.\n",
    "4. (Optional). Update the system model or forecasts using new observations.\n",
    "5. Step $t=m+1$ and goto Step 2."
   ]
  },
  {
   "cell_type": "markdown",
   "metadata": {
    "nbpages": {
     "level": 2,
     "link": "[1.2.1 Pseudocode](https://ndcbe.github.io/CBE60499/01.02-Pyomo-Mini-Project.html#1.2.1-Pseudocode)",
     "section": "1.2.1 Pseudocode"
    }
   },
   "source": [
    "## 1.2.1 Pseudocode\n",
    "\n",
    "Pseudocode is an important planning tool for complex computer programs. The idea is to write out the code on paper or a whiteboard using generic programming syntax. As an example, consider calculating the 3rd through 10th elements of the Fibonacci sequence:\n",
    "\n",
    "```\n",
    "# Governing equation where f[i] is the ith element of the sequence\n",
    "# f[i] = f[i-1] + f[i-2]\n",
    "\n",
    "# Algorithm:\n",
    "\n",
    "# Previous previous number in the sequence, f[i-2]\n",
    "n_2prev = 1\n",
    "\n",
    "# Previous number in the sequence, f[i-1]\n",
    "n_1prev = 1\n",
    "\n",
    "# Set counter\n",
    "j = 3\n",
    "\n",
    "while j <= 10 do:\n",
    "    # Apply Fib. formula\n",
    "    n = n1_prev + n2_prev\n",
    "    \n",
    "    # Print to screen\n",
    "    print(n)\n",
    "    \n",
    "    # Shift history.\n",
    "    # Previous number becomes previous previous number\n",
    "    n2prev = n1prev\n",
    "    \n",
    "    # Current number becomes previous number\n",
    "    n1prev = n\n",
    "    \n",
    "    # Increment counter\n",
    "    j = j + 1\n",
    "```\n",
    "\n",
    "Here we sketched out the main algorithm (with comments!) in generic syntax. We did not worry about the correct way to write a while loop in Python. Once we figure out the algorithm we can worry about those details.\n",
    "\n",
    "Write pseudocode for the receding horizon control example on paper or a whiteboard. Your algorithm should include the following main steps:\n",
    "1. Load price data from a text file\n",
    "2. Loop over timesteps. Keep track of implemented control actions (charge and discharge), battery SOC, and net revenue.\n",
    "3. Make a plot of battery SOC and control actions that were actually implemented.\n",
    "\n",
    "Scan your pseudocode as a PDF and turn in via Gradescope."
   ]
  },
  {
   "cell_type": "markdown",
   "metadata": {
    "nbpages": {
     "level": 2,
     "link": "[1.2.2 Receding Horizon Control with Pyomo](https://ndcbe.github.io/CBE60499/01.02-Pyomo-Mini-Project.html#1.2.2-Receding-Horizon-Control-with-Pyomo)",
     "section": "1.2.2 Receding Horizon Control with Pyomo"
    }
   },
   "source": [
    "## 1.2.2 Receding Horizon Control with Pyomo\n",
    "\n",
    "Implement your pseudocode in Python. Hint: reuse code from the in class example. How can you exploit that price is a mutable paramter in the model?\n",
    "\n",
    "Perform receding horizon control for the first 5 days in January 2015. Make a plot to show the implemented control action."
   ]
  },
  {
   "cell_type": "markdown",
   "metadata": {
    "nbpages": {
     "level": 3,
     "link": "[1.2.2.1 Python Code](https://ndcbe.github.io/CBE60499/01.02-Pyomo-Mini-Project.html#1.2.2.1-Python-Code)",
     "section": "1.2.2.1 Python Code"
    }
   },
   "source": [
    "### 1.2.2.1 Python Code"
   ]
  },
  {
   "cell_type": "code",
   "execution_count": null,
   "metadata": {
    "nbpages": {
     "level": 3,
     "link": "[1.2.2.1 Python Code](https://ndcbe.github.io/CBE60499/01.02-Pyomo-Mini-Project.html#1.2.2.1-Python-Code)",
     "section": "1.2.2.1 Python Code"
    }
   },
   "outputs": [],
   "source": [
    "def build_model(price_data, horizon_length, include_pbc=True):\n",
    "    # return m\n",
    "    pass\n",
    "\n",
    "def update_model(m, new_price_data, new_EO):\n",
    "    pass\n",
    "\n",
    "def extract_solution(m):\n",
    "    # return c_first_timestep, d_first_timestep, E_first_timestep\n",
    "    pass\n",
    "\n",
    "def receding_horizon_simulation(start_hour, simulation_length):\n",
    "    # return c_implemented, d_implemented, E_implemented\n",
    "    pass"
   ]
  },
  {
   "cell_type": "markdown",
   "metadata": {
    "nbpages": {
     "level": 3,
     "link": "[1.2.2.2 Performance Over 1 Week](https://ndcbe.github.io/CBE60499/01.02-Pyomo-Mini-Project.html#1.2.2.2-Performance-Over-1-Week)",
     "section": "1.2.2.2 Performance Over 1 Week"
    }
   },
   "source": [
    "### 1.2.2.2 Performance Over 1 Week"
   ]
  },
  {
   "cell_type": "code",
   "execution_count": null,
   "metadata": {
    "nbpages": {
     "level": 3,
     "link": "[1.2.2.2 Performance Over 1 Week](https://ndcbe.github.io/CBE60499/01.02-Pyomo-Mini-Project.html#1.2.2.2-Performance-Over-1-Week)",
     "section": "1.2.2.2 Performance Over 1 Week"
    }
   },
   "outputs": [],
   "source": []
  },
  {
   "cell_type": "markdown",
   "metadata": {
    "nbpages": {
     "level": 3,
     "link": "[1.2.2.3 Impact of Horizon Length](https://ndcbe.github.io/CBE60499/01.02-Pyomo-Mini-Project.html#1.2.2.3-Impact-of-Horizon-Length)",
     "section": "1.2.2.3 Impact of Horizon Length"
    }
   },
   "source": [
    "### 1.2.2.3 Impact of Horizon Length"
   ]
  },
  {
   "cell_type": "code",
   "execution_count": null,
   "metadata": {
    "nbpages": {
     "level": 3,
     "link": "[1.2.2.3 Impact of Horizon Length](https://ndcbe.github.io/CBE60499/01.02-Pyomo-Mini-Project.html#1.2.2.3-Impact-of-Horizon-Length)",
     "section": "1.2.2.3 Impact of Horizon Length"
    }
   },
   "outputs": [],
   "source": []
  },
  {
   "cell_type": "markdown",
   "metadata": {
    "nbpages": {
     "level": 3,
     "link": "[1.2.2.4 Impact of Periodic Boundary Condition](https://ndcbe.github.io/CBE60499/01.02-Pyomo-Mini-Project.html#1.2.2.4-Impact-of-Periodic-Boundary-Condition)",
     "section": "1.2.2.4 Impact of Periodic Boundary Condition"
    }
   },
   "source": [
    "### 1.2.2.4 Impact of Periodic Boundary Condition"
   ]
  },
  {
   "cell_type": "code",
   "execution_count": null,
   "metadata": {
    "nbpages": {
     "level": 3,
     "link": "[1.2.2.4 Impact of Periodic Boundary Condition](https://ndcbe.github.io/CBE60499/01.02-Pyomo-Mini-Project.html#1.2.2.4-Impact-of-Periodic-Boundary-Condition)",
     "section": "1.2.2.4 Impact of Periodic Boundary Condition"
    }
   },
   "outputs": [],
   "source": []
  },
  {
   "cell_type": "markdown",
   "metadata": {
    "nbpages": {
     "level": 2,
     "link": "[1.2.3 Uncertainty](https://ndcbe.github.io/CBE60499/01.02-Pyomo-Mini-Project.html#1.2.3-Uncertainty)",
     "section": "1.2.3 Uncertainty"
    }
   },
   "source": [
    "## 1.2.3 Uncertainty\n",
    "Generate white noise with mean zero and standard deviation 5 $/MWh using `np.random.normal()` and add this to the price forecast. Calculate how much less revenue you make with price uncertainty compared to the perfect information case (Part B). *Hint:* Each time you run the simulation, you will get a different answer."
   ]
  },
  {
   "cell_type": "markdown",
   "metadata": {},
   "source": [
    "<!--NAVIGATION-->\n",
    "< [1.1 60 Minutes to Pyomo: An Energy Storage Model Predictive Control Example](https://ndcbe.github.io/CBE60499/01.01-Pyomo-Nuts-and-Bolts.html) | [Contents](toc.html) | [2.0 Optimization Modeling with Applications](https://ndcbe.github.io/CBE60499/02.00-Optimization-Modeling.html) ><p><a href=\"https://colab.research.google.com/github/ndcbe/CBE60499/blob/master/docs/01.02-Pyomo-Mini-Project.ipynb\"> <img align=\"left\" src=\"https://colab.research.google.com/assets/colab-badge.svg\" alt=\"Open in Colab\" title=\"Open in Google Colaboratory\"></a><p><a href=\"https://ndcbe.github.io/CBE60499/01.02-Pyomo-Mini-Project.ipynb\"> <img align=\"left\" src=\"https://img.shields.io/badge/Github-Download-blue.svg\" alt=\"Download\" title=\"Download Notebook\"></a>"
   ]
  }
 ],
 "metadata": {
  "kernelspec": {
   "display_name": "Python 3",
   "language": "python",
   "name": "python3"
  },
  "language_info": {
   "codemirror_mode": {
    "name": "ipython",
    "version": 3
   },
   "file_extension": ".py",
   "mimetype": "text/x-python",
   "name": "python",
   "nbconvert_exporter": "python",
   "pygments_lexer": "ipython3",
   "version": "3.8.6"
  }
 },
 "nbformat": 4,
 "nbformat_minor": 2
}
