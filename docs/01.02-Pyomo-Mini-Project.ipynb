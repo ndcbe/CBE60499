{
 "cells": [
  {
   "cell_type": "markdown",
   "metadata": {},
   "source": [
    "<!--NOTEBOOK_HEADER-->\n",
    "*This notebook contains material from [CBE60499](https://ndcbe.github.io/CBE60499);\n",
    "content is available [on Github](git@github.com:ndcbe/CBE60499.git).*\n"
   ]
  },
  {
   "cell_type": "markdown",
   "metadata": {},
   "source": [
    "<!--NAVIGATION-->\n",
    "< [1.1 60 Minutes to Pyomo: An Energy Storage Model Predictive Control Example](https://ndcbe.github.io/CBE60499/01.01-Pyomo-Nuts-and-Bolts.html) | [Contents](toc.html) | [2.0 Optimization Modeling with Applications](https://ndcbe.github.io/CBE60499/02.00-Optimization-Modeling.html) ><p><a href=\"https://colab.research.google.com/github/ndcbe/CBE60499/blob/master/docs/01.02-Pyomo-Mini-Project.ipynb\"> <img align=\"left\" src=\"https://colab.research.google.com/assets/colab-badge.svg\" alt=\"Open in Colab\" title=\"Open in Google Colaboratory\"></a><p><a href=\"https://ndcbe.github.io/CBE60499/01.02-Pyomo-Mini-Project.ipynb\"> <img align=\"left\" src=\"https://img.shields.io/badge/Github-Download-blue.svg\" alt=\"Download\" title=\"Download Notebook\"></a>"
   ]
  },
  {
   "cell_type": "code",
   "execution_count": null,
   "metadata": {},
   "outputs": [],
   "source": [
    "# IMPORT DATA FILES USED BY THIS NOTEBOOK\n",
    "import os,  requests\n",
    "\n",
    "file_links = [(\"data/Prices_DAM_ALTA2G_7_B1.csv\", \"https://ndcbe.github.io/CBE60499/data/Prices_DAM_ALTA2G_7_B1.csv\")]\n",
    "\n",
    "# This cell has been added by nbpages. Run this cell to download data files required for this notebook.\n",
    "\n",
    "for filepath, fileurl in file_links:\n",
    "    stem, filename = os.path.split(filepath)\n",
    "    if stem:\n",
    "        if not os.path.exists(stem):\n",
    "            os.mkdir(stem)\n",
    "    if not os.path.isfile(filepath):\n",
    "        with open(filepath, 'wb') as f:\n",
    "            response = requests.get(fileurl)\n",
    "            f.write(response.content)\n"
   ]
  },
  {
   "cell_type": "markdown",
   "metadata": {
    "nbpages": {
     "level": 1,
     "link": "[1.2 Pyomo Mini-Project: Receding Horizon Stochastic Control](https://ndcbe.github.io/CBE60499/01.02-Pyomo-Mini-Project.html#1.2-Pyomo-Mini-Project:-Receding-Horizon-Stochastic-Control)",
     "section": "1.2 Pyomo Mini-Project: Receding Horizon Stochastic Control"
    }
   },
   "source": [
    "# 1.2 Pyomo Mini-Project: Receding Horizon Stochastic Control"
   ]
  },
  {
   "cell_type": "markdown",
   "metadata": {
    "nbpages": {
     "level": 1,
     "link": "[1.2 Pyomo Mini-Project: Receding Horizon Stochastic Control](https://ndcbe.github.io/CBE60499/01.02-Pyomo-Mini-Project.html#1.2-Pyomo-Mini-Project:-Receding-Horizon-Stochastic-Control)",
     "section": "1.2 Pyomo Mini-Project: Receding Horizon Stochastic Control"
    }
   },
   "source": [
    "<div style=\"background-color: rgba(255,0,0,0.05) ; padding: 10px; border: 1px solid darkred;\"> \n",
    "<b>Important</b>: This assignment is a DRAFT. While the main ideas will not change, the notebook is still under development.\n",
    "</div>"
   ]
  },
  {
   "cell_type": "code",
   "execution_count": null,
   "metadata": {
    "nbpages": {
     "level": 1,
     "link": "[1.2 Pyomo Mini-Project: Receding Horizon Stochastic Control](https://ndcbe.github.io/CBE60499/01.02-Pyomo-Mini-Project.html#1.2-Pyomo-Mini-Project:-Receding-Horizon-Stochastic-Control)",
     "section": "1.2 Pyomo Mini-Project: Receding Horizon Stochastic Control"
    }
   },
   "outputs": [],
   "source": [
    "# This code cell installs packages on Colab\n",
    "\n",
    "import sys\n",
    "if \"google.colab\" in sys.modules:\n",
    "    !wget \"https://raw.githubusercontent.com/ndcbe/CBE60499/main/notebooks/helper.py\"\n",
    "    import helper\n",
    "    helper.install_idaes()\n",
    "    helper.install_ipopt()\n",
    "    helper.download_data(['Prices_DAM_ALTA2G_7_B1.csv'])"
   ]
  },
  {
   "cell_type": "code",
   "execution_count": 1,
   "metadata": {
    "nbpages": {
     "level": 1,
     "link": "[1.2 Pyomo Mini-Project: Receding Horizon Stochastic Control](https://ndcbe.github.io/CBE60499/01.02-Pyomo-Mini-Project.html#1.2-Pyomo-Mini-Project:-Receding-Horizon-Stochastic-Control)",
     "section": "1.2 Pyomo Mini-Project: Receding Horizon Stochastic Control"
    }
   },
   "outputs": [],
   "source": [
    "import pandas as pd\n",
    "import pyomo.environ as pyo\n",
    "import numpy as np\n",
    "import matplotlib.pyplot as plt"
   ]
  },
  {
   "cell_type": "markdown",
   "metadata": {
    "nbpages": {
     "level": 1,
     "link": "[1.2 Pyomo Mini-Project: Receding Horizon Stochastic Control](https://ndcbe.github.io/CBE60499/01.02-Pyomo-Mini-Project.html#1.2-Pyomo-Mini-Project:-Receding-Horizon-Stochastic-Control)",
     "section": "1.2 Pyomo Mini-Project: Receding Horizon Stochastic Control"
    }
   },
   "source": [
    "In the previous notebook, we considered model predictive control (MPC) of a battery energy storage system interacting with the electricity market. In essence, we posed an optimization problem:\n",
    "\n",
    "*Given a forecasting for energy prices, what charging and discharging strategy maximizes net market revenue?*\n",
    "\n",
    "In this homework mini-project, you will consider two modifications to make the example more realistic:\n",
    "1. Add a constraint to prevent simultanous charging and discharging.\n",
    "1. Receding horizon control\n",
    "2. Uncertainty\n",
    "\n",
    "The goal is to help you develop Python and Pyomo programming skills."
   ]
  },
  {
   "cell_type": "markdown",
   "metadata": {
    "nbpages": {
     "level": 2,
     "link": "[1.2.1 Model Refinement and Code Reorganization](https://ndcbe.github.io/CBE60499/01.02-Pyomo-Mini-Project.html#1.2.1-Model-Refinement-and-Code-Reorganization)",
     "section": "1.2.1 Model Refinement and Code Reorganization"
    }
   },
   "source": [
    "## 1.2.1 Model Refinement and Code Reorganization"
   ]
  },
  {
   "cell_type": "markdown",
   "metadata": {
    "nbpages": {
     "level": 3,
     "link": "[1.2.1.1 Revised Model](https://ndcbe.github.io/CBE60499/01.02-Pyomo-Mini-Project.html#1.2.1.1-Revised-Model)",
     "section": "1.2.1.1 Revised Model"
    }
   },
   "source": [
    "### 1.2.1.1 Revised Model"
   ]
  },
  {
   "cell_type": "markdown",
   "metadata": {
    "nbpages": {
     "level": 3,
     "link": "[1.2.1.1 Revised Model](https://ndcbe.github.io/CBE60499/01.02-Pyomo-Mini-Project.html#1.2.1.1-Revised-Model)",
     "section": "1.2.1.1 Revised Model"
    }
   },
   "source": [
    "Propose a new mathematical model that includes a constraint to prevent charging and discharging. Hint: using either integer variables or a disjunction will ensure the objective and constraints remaining linear.\n",
    "\n",
    "Below is the model description copied from our in-class example. **Please edit** such that this notebook describes your complete new model."
   ]
  },
  {
   "cell_type": "markdown",
   "metadata": {
    "nbpages": {
     "level": 3,
     "link": "[1.2.1.1 Revised Model](https://ndcbe.github.io/CBE60499/01.02-Pyomo-Mini-Project.html#1.2.1.1-Revised-Model)",
     "section": "1.2.1.1 Revised Model"
    }
   },
   "source": [
    "**Sets**\n",
    "\n",
    "Timesteps: $\\mathcal{T} = \\{0, 1, ..., N\\}$\n",
    "    \n",
    "Timesteps without the initial time: $\\mathcal{T}' = \\{1, ..., N\\}$\n",
    "\n",
    "**Variables**\n",
    "* $E_t$, energy stored in battery at time $t$, units: MWh\n",
    "* $d_t$, battery discharge power (sold to market) during time interval [t-1, t), units: MW\n",
    "* $c_t$, battery charge power (purchased from the market) during time interval [t-1, t), units: MW\n",
    "\n",
    "**Parameters**\n",
    "* $\\pi_t$: Energy price during time interval [t-1, t), units: \\$/MW\n",
    "* $\\eta$: Round trip efficiency, units: dimensionless\n",
    "* $c_{max}$ Maximum charge power, units: MW\n",
    "* $d_{max}$ Maximum discharge power, units: MW\n",
    "* $E_{max}$ Maximum storage energy, units: MWh\n",
    "* $E_{0}$ Energy in storage at time $t=0$, units: MWh\n",
    "* $\\Delta t = 1$ hour, Timestep for grid decisions and prices (fixed)"
   ]
  },
  {
   "cell_type": "markdown",
   "metadata": {
    "nbpages": {
     "level": 3,
     "link": "[1.2.1.1 Revised Model](https://ndcbe.github.io/CBE60499/01.02-Pyomo-Mini-Project.html#1.2.1.1-Revised-Model)",
     "section": "1.2.1.1 Revised Model"
    }
   },
   "source": [
    "**Optimization Problem**\n",
    "$$\n",
    "\\begin{align*}\n",
    "    \\max_{\\mathbf{E},\\mathbf{d},\\mathbf{c}} \\quad & \\psi := \\sum_{t \\in \\mathcal{T}'} \\pi_{t} \\Delta t (d_{t} - c_{t}) \\\\\n",
    "\\mathrm{s.t.} \\quad & E_{t} = E_{t-1} + \\Delta t \\left( c_{t} \\sqrt{\\eta} - \\frac{d_{t}}{\\sqrt{\\eta}} \\right), ~~ \\forall ~ t \\in \\mathcal{T}' \\\\\n",
    "    & E_{0} = E_{N} \\\\\n",
    "    & 0 \\leq c_{t} \\leq c_{max}, ~~\\forall ~ t \\in \\mathcal{T}' \\\\\n",
    "    & 0 \\leq d_{t} \\leq d_{max}, ~~\\forall ~ t \\in \\mathcal{T}' \\\\\n",
    "    & 0 \\leq E_{t} \\leq E_{max},  ~~\\forall ~ t \\in \\mathcal{T}'\n",
    "\\end{align*}\n",
    "$$"
   ]
  },
  {
   "cell_type": "markdown",
   "metadata": {
    "nbpages": {
     "level": 3,
     "link": "[1.2.1.2 Degree of Freedom Analysis](https://ndcbe.github.io/CBE60499/01.02-Pyomo-Mini-Project.html#1.2.1.2-Degree-of-Freedom-Analysis)",
     "section": "1.2.1.2 Degree of Freedom Analysis"
    }
   },
   "source": [
    "### 1.2.1.2 Degree of Freedom Analysis\n",
    "\n",
    "Perform degree of freedom analysis. Identify the (1) total number of variables, (2) total number of equality constraints, and (3) degrees of freedom. Tip: perform this on paper then typeset below."
   ]
  },
  {
   "cell_type": "markdown",
   "metadata": {
    "nbpages": {
     "level": 3,
     "link": "[1.2.1.2 Degree of Freedom Analysis](https://ndcbe.github.io/CBE60499/01.02-Pyomo-Mini-Project.html#1.2.1.2-Degree-of-Freedom-Analysis)",
     "section": "1.2.1.2 Degree of Freedom Analysis"
    }
   },
   "source": [
    "Number of variables:\n",
    "    \n",
    "Number of (equality) constraints:\n",
    "    \n",
    "Degrees of freedom:"
   ]
  },
  {
   "cell_type": "markdown",
   "metadata": {
    "nbpages": {
     "level": 3,
     "link": "[1.2.1.3 Python Code](https://ndcbe.github.io/CBE60499/01.02-Pyomo-Mini-Project.html#1.2.1.3-Python-Code)",
     "section": "1.2.1.3 Python Code"
    }
   },
   "source": [
    "### 1.2.1.3 Python Code"
   ]
  },
  {
   "cell_type": "markdown",
   "metadata": {
    "nbpages": {
     "level": 3,
     "link": "[1.2.1.3 Python Code](https://ndcbe.github.io/CBE60499/01.02-Pyomo-Mini-Project.html#1.2.1.3-Python-Code)",
     "section": "1.2.1.3 Python Code"
    }
   },
   "source": [
    "Programmers organize their code into functions, often following the rule \"1 task/action = 1 function\". Here are a few of the reasons you should always do this:\n",
    "1. Functions make your code easier to use\n",
    "2. More specifically, functions force you to abstract/generalize your code\n",
    "3. Writing doc strings (required for this course!) forces you to document your code and think about the structure.\n",
    "4. Functions allow your code to best tested piece by piece"
   ]
  },
  {
   "cell_type": "markdown",
   "metadata": {
    "nbpages": {
     "level": 3,
     "link": "[1.2.1.3 Python Code](https://ndcbe.github.io/CBE60499/01.02-Pyomo-Mini-Project.html#1.2.1.3-Python-Code)",
     "section": "1.2.1.3 Python Code"
    }
   },
   "source": [
    "To show you how to do this, we have provided skeletons for several functions in this assignment. Based on the doc string, complete the functions."
   ]
  },
  {
   "cell_type": "code",
   "execution_count": null,
   "metadata": {
    "nbpages": {
     "level": 3,
     "link": "[1.2.1.3 Python Code](https://ndcbe.github.io/CBE60499/01.02-Pyomo-Mini-Project.html#1.2.1.3-Python-Code)",
     "section": "1.2.1.3 Python Code"
    }
   },
   "outputs": [],
   "source": [
    "def build_model(price_data, horizon_length, include_pbc=True):\n",
    "    # return m\n",
    "    pass\n",
    "\n",
    "def extract_solution(m):\n",
    "    # return c_first_timestep, d_first_timestep, E_first_timestep\n",
    "    pass\n",
    "\n",
    "def plot_solution(t, c, d, E):\n",
    "    #\n",
    "    pass"
   ]
  },
  {
   "cell_type": "markdown",
   "metadata": {
    "nbpages": {
     "level": 3,
     "link": "[1.2.1.4 Optimal Control Over 3 Day Horizon](https://ndcbe.github.io/CBE60499/01.02-Pyomo-Mini-Project.html#1.2.1.4-Optimal-Control-Over-3-Day-Horizon)",
     "section": "1.2.1.4 Optimal Control Over 3 Day Horizon"
    }
   },
   "source": [
    "### 1.2.1.4 Optimal Control Over 3 Day Horizon\n",
    "\n",
    "Now let's use our functions for some analysis. Calculate the optimal battery operation strategy over 3 days starting on January 4, 2015."
   ]
  },
  {
   "cell_type": "markdown",
   "metadata": {
    "nbpages": {
     "level": 4,
     "link": "[1.2.1.4.1 Original Model](https://ndcbe.github.io/CBE60499/01.02-Pyomo-Mini-Project.html#1.2.1.4.1-Original-Model)",
     "section": "1.2.1.4.1 Original Model"
    }
   },
   "source": [
    "#### 1.2.1.4.1 Original Model"
   ]
  },
  {
   "cell_type": "code",
   "execution_count": null,
   "metadata": {
    "nbpages": {
     "level": 4,
     "link": "[1.2.1.4.1 Original Model](https://ndcbe.github.io/CBE60499/01.02-Pyomo-Mini-Project.html#1.2.1.4.1-Original-Model)",
     "section": "1.2.1.4.1 Original Model"
    }
   },
   "outputs": [],
   "source": []
  },
  {
   "cell_type": "markdown",
   "metadata": {
    "nbpages": {
     "level": 4,
     "link": "[1.2.1.4.2 With Constraint Enforcing No Simultaneous Charging or Discharging](https://ndcbe.github.io/CBE60499/01.02-Pyomo-Mini-Project.html#1.2.1.4.2-With-Constraint-Enforcing-No-Simultaneous-Charging-or-Discharging)",
     "section": "1.2.1.4.2 With Constraint Enforcing No Simultaneous Charging or Discharging"
    }
   },
   "source": [
    "#### 1.2.1.4.2 With Constraint Enforcing No Simultaneous Charging or Discharging"
   ]
  },
  {
   "cell_type": "code",
   "execution_count": null,
   "metadata": {
    "nbpages": {
     "level": 4,
     "link": "[1.2.1.4.2 With Constraint Enforcing No Simultaneous Charging or Discharging](https://ndcbe.github.io/CBE60499/01.02-Pyomo-Mini-Project.html#1.2.1.4.2-With-Constraint-Enforcing-No-Simultaneous-Charging-or-Discharging)",
     "section": "1.2.1.4.2 With Constraint Enforcing No Simultaneous Charging or Discharging"
    }
   },
   "outputs": [],
   "source": []
  },
  {
   "cell_type": "markdown",
   "metadata": {
    "nbpages": {
     "level": 4,
     "link": "[1.2.1.4.3 Comparison](https://ndcbe.github.io/CBE60499/01.02-Pyomo-Mini-Project.html#1.2.1.4.3-Comparison)",
     "section": "1.2.1.4.3 Comparison"
    }
   },
   "source": [
    "#### 1.2.1.4.3 Comparison\n",
    "\n",
    "Write Python code below to compare the solutions. Print out any timesteps where the charge or discharge profile is different by more than 10^{-4} MW."
   ]
  },
  {
   "cell_type": "code",
   "execution_count": null,
   "metadata": {
    "nbpages": {
     "level": 4,
     "link": "[1.2.1.4.3 Comparison](https://ndcbe.github.io/CBE60499/01.02-Pyomo-Mini-Project.html#1.2.1.4.3-Comparison)",
     "section": "1.2.1.4.3 Comparison"
    }
   },
   "outputs": [],
   "source": []
  },
  {
   "cell_type": "markdown",
   "metadata": {
    "nbpages": {
     "level": 2,
     "link": "[1.2.2 Receding Horizon Control](https://ndcbe.github.io/CBE60499/01.02-Pyomo-Mini-Project.html#1.2.2-Receding-Horizon-Control)",
     "section": "1.2.2 Receding Horizon Control"
    }
   },
   "source": [
    "## 1.2.2 Receding Horizon Control\n",
    "\n",
    "We now have functions to build, solve, and analyze the battery problem for a single problem. Now we can consider receeding horizon control.\n",
    "\n",
    "*Please ask questions during class. You do not need to turn anything in for this section.*\n",
    "\n",
    "Nomenclature: Let $u^*_{i}$ represent the optimal control action from time $t=i$ to $t=i+1$. For the battery system, $u_{i} = [c_i, d_i]^{T}$ (charging and discharging).\n",
    "\n",
    "Algorithm:\n",
    "1. Consider time $t=m$. \n",
    "2. Compute the optimal control actions $u^*=[u^*_m, u^*_{m+1}, ..., u^*_{m+N-1}]^T$ from time $t=m$ until $t=N+m$ where $N$ is the length of the planning horizon. In our battery example, we considered $N = 24$.\n",
    "3. Simulate the system for one timestep using control action $u^*_{m}$.\n",
    "4. (Optional). Update the system model or forecasts using new observations.\n",
    "5. Step $t=m+1$ and goto Step 2."
   ]
  },
  {
   "cell_type": "markdown",
   "metadata": {
    "nbpages": {
     "level": 3,
     "link": "[1.2.2.1 Write Pseudocode](https://ndcbe.github.io/CBE60499/01.02-Pyomo-Mini-Project.html#1.2.2.1-Write-Pseudocode)",
     "section": "1.2.2.1 Write Pseudocode"
    }
   },
   "source": [
    "### 1.2.2.1 Write Pseudocode\n",
    "\n",
    "Pseudocode is an important planning tool for complex computer programs. The idea is to write out the code on paper or a whiteboard using generic programming syntax. As an example, consider calculating the 3rd through 10th elements of the Fibonacci sequence:\n",
    "\n",
    "```\n",
    "# Governing equation where f[i] is the ith element of the sequence\n",
    "# f[i] = f[i-1] + f[i-2]\n",
    "\n",
    "# Algorithm:\n",
    "\n",
    "# Previous previous number in the sequence, f[i-2]\n",
    "n_2prev = 1\n",
    "\n",
    "# Previous number in the sequence, f[i-1]\n",
    "n_1prev = 1\n",
    "\n",
    "# Set counter\n",
    "j = 3\n",
    "\n",
    "while j <= 10 do:\n",
    "    # Apply Fib. formula\n",
    "    n = n1_prev + n2_prev\n",
    "    \n",
    "    # Print to screen\n",
    "    print(n)\n",
    "    \n",
    "    # Shift history.\n",
    "    # Previous number becomes previous previous number\n",
    "    n2prev = n1prev\n",
    "    \n",
    "    # Current number becomes previous number\n",
    "    n1prev = n\n",
    "    \n",
    "    # Increment counter\n",
    "    j = j + 1\n",
    "```\n",
    "\n",
    "Here we sketched out the main algorithm (with comments!) in generic syntax. We did not worry about the correct way to write a while loop in Python. Once we figure out the algorithm we can worry about those details.\n",
    "\n",
    "Write pseudocode for the receding horizon control example on paper or a whiteboard. Your algorithm should include the following main steps:\n",
    "1. Load price data from a text file\n",
    "2. Loop over timesteps. Keep track of implemented control actions (charge and discharge), battery SOC, and net revenue.\n",
    "3. Make a plot of battery SOC and control actions that were actually implemented.\n",
    "\n",
    "Scan your pseudocode as a PDF and turn in via Gradescope."
   ]
  },
  {
   "cell_type": "markdown",
   "metadata": {
    "nbpages": {
     "level": 3,
     "link": "[1.2.2.2 Python Code](https://ndcbe.github.io/CBE60499/01.02-Pyomo-Mini-Project.html#1.2.2.2-Python-Code)",
     "section": "1.2.2.2 Python Code"
    }
   },
   "source": [
    "### 1.2.2.2 Python Code"
   ]
  },
  {
   "cell_type": "code",
   "execution_count": null,
   "metadata": {
    "nbpages": {
     "level": 3,
     "link": "[1.2.2.2 Python Code](https://ndcbe.github.io/CBE60499/01.02-Pyomo-Mini-Project.html#1.2.2.2-Python-Code)",
     "section": "1.2.2.2 Python Code"
    }
   },
   "outputs": [],
   "source": [
    "def update_model(m, new_price_data, new_EO):\n",
    "    pass\n",
    "\n",
    "def receding_horizon_simulation(start_hour, simulation_length):\n",
    "    # return c_implemented, d_implemented, E_implemented\n",
    "    pass"
   ]
  },
  {
   "cell_type": "markdown",
   "metadata": {
    "nbpages": {
     "level": 3,
     "link": "[1.2.2.3 Simulate Performance Over 1 Week](https://ndcbe.github.io/CBE60499/01.02-Pyomo-Mini-Project.html#1.2.2.3-Simulate-Performance-Over-1-Week)",
     "section": "1.2.2.3 Simulate Performance Over 1 Week"
    }
   },
   "source": [
    "### 1.2.2.3 Simulate Performance Over 1 Week\n",
    "\n",
    "Perform receding horizon control for the first 5 days in January 2015. Make a plot to show the implemented control action.\n",
    "\n",
    "Tips:\n",
    "* The implemented control action is a concationation of the first timestep for each optimization problem.\n",
    "* How can you resuse the plot function above?"
   ]
  },
  {
   "cell_type": "markdown",
   "metadata": {
    "nbpages": {
     "level": 3,
     "link": "[1.2.2.4 Impact of Horizon Length](https://ndcbe.github.io/CBE60499/01.02-Pyomo-Mini-Project.html#1.2.2.4-Impact-of-Horizon-Length)",
     "section": "1.2.2.4 Impact of Horizon Length"
    }
   },
   "source": [
    "### 1.2.2.4 Impact of Horizon Length"
   ]
  },
  {
   "cell_type": "markdown",
   "metadata": {
    "nbpages": {
     "level": 3,
     "link": "[1.2.2.4 Impact of Horizon Length](https://ndcbe.github.io/CBE60499/01.02-Pyomo-Mini-Project.html#1.2.2.4-Impact-of-Horizon-Length)",
     "section": "1.2.2.4 Impact of Horizon Length"
    }
   },
   "source": [
    "Repeat the sensitivity analysis for horizon lengths of N=2 through N=48. For each simulation, compute the following:\n",
    "1. Revenue from first 30 days\n",
    "2. Total energy purchased from the market during the first 30 days\n",
    "3. Total energy sold to the market during the first 30 days\n",
    "4. Total computation time"
   ]
  },
  {
   "cell_type": "code",
   "execution_count": null,
   "metadata": {
    "nbpages": {
     "level": 3,
     "link": "[1.2.2.4 Impact of Horizon Length](https://ndcbe.github.io/CBE60499/01.02-Pyomo-Mini-Project.html#1.2.2.4-Impact-of-Horizon-Length)",
     "section": "1.2.2.4 Impact of Horizon Length"
    }
   },
   "outputs": [],
   "source": []
  },
  {
   "cell_type": "markdown",
   "metadata": {
    "nbpages": {
     "level": 3,
     "link": "[1.2.2.4 Impact of Horizon Length](https://ndcbe.github.io/CBE60499/01.02-Pyomo-Mini-Project.html#1.2.2.4-Impact-of-Horizon-Length)",
     "section": "1.2.2.4 Impact of Horizon Length"
    }
   },
   "source": [
    "Make four well labeled plots to show these trends."
   ]
  },
  {
   "cell_type": "code",
   "execution_count": null,
   "metadata": {
    "nbpages": {
     "level": 3,
     "link": "[1.2.2.4 Impact of Horizon Length](https://ndcbe.github.io/CBE60499/01.02-Pyomo-Mini-Project.html#1.2.2.4-Impact-of-Horizon-Length)",
     "section": "1.2.2.4 Impact of Horizon Length"
    }
   },
   "outputs": [],
   "source": []
  },
  {
   "cell_type": "markdown",
   "metadata": {
    "nbpages": {
     "level": 3,
     "link": "[1.2.2.4 Impact of Horizon Length](https://ndcbe.github.io/CBE60499/01.02-Pyomo-Mini-Project.html#1.2.2.4-Impact-of-Horizon-Length)",
     "section": "1.2.2.4 Impact of Horizon Length"
    }
   },
   "source": [
    "**Discussion** How long of a simulation horizon do you recommend? Discuss the trade-off between revenue and computation time."
   ]
  },
  {
   "cell_type": "markdown",
   "metadata": {
    "nbpages": {
     "level": 3,
     "link": "[1.2.2.5 Impact of Periodic Boundary Condition](https://ndcbe.github.io/CBE60499/01.02-Pyomo-Mini-Project.html#1.2.2.5-Impact-of-Periodic-Boundary-Condition)",
     "section": "1.2.2.5 Impact of Periodic Boundary Condition"
    }
   },
   "source": [
    "### 1.2.2.5 Impact of Periodic Boundary Condition"
   ]
  },
  {
   "cell_type": "markdown",
   "metadata": {
    "nbpages": {
     "level": 3,
     "link": "[1.2.2.5 Impact of Periodic Boundary Condition](https://ndcbe.github.io/CBE60499/01.02-Pyomo-Mini-Project.html#1.2.2.5-Impact-of-Periodic-Boundary-Condition)",
     "section": "1.2.2.5 Impact of Periodic Boundary Condition"
    }
   },
   "source": [
    "We will now explore the impact of the periodic boundary constraint.\n",
    "\n",
    "First, simulate the performance over 1 week without enforcing the periodic boundary constraint. Plot the implemented control action and calculate the total revenue."
   ]
  },
  {
   "cell_type": "code",
   "execution_count": null,
   "metadata": {
    "nbpages": {
     "level": 3,
     "link": "[1.2.2.5 Impact of Periodic Boundary Condition](https://ndcbe.github.io/CBE60499/01.02-Pyomo-Mini-Project.html#1.2.2.5-Impact-of-Periodic-Boundary-Condition)",
     "section": "1.2.2.5 Impact of Periodic Boundary Condition"
    }
   },
   "outputs": [],
   "source": []
  },
  {
   "cell_type": "markdown",
   "metadata": {
    "nbpages": {
     "level": 3,
     "link": "[1.2.2.5 Impact of Periodic Boundary Condition](https://ndcbe.github.io/CBE60499/01.02-Pyomo-Mini-Project.html#1.2.2.5-Impact-of-Periodic-Boundary-Condition)",
     "section": "1.2.2.5 Impact of Periodic Boundary Condition"
    }
   },
   "source": [
    "**Discussion** Compare the control actions and revenue with and without the periodic boundary constraint. How are they different (if at all). Offer an explanation for any differences."
   ]
  },
  {
   "cell_type": "markdown",
   "metadata": {
    "nbpages": {
     "level": 3,
     "link": "[1.2.2.5 Impact of Periodic Boundary Condition](https://ndcbe.github.io/CBE60499/01.02-Pyomo-Mini-Project.html#1.2.2.5-Impact-of-Periodic-Boundary-Condition)",
     "section": "1.2.2.5 Impact of Periodic Boundary Condition"
    }
   },
   "source": [
    "Next, repeat the horizon length sensitivity analysis without the peridoic boundary constraint."
   ]
  },
  {
   "cell_type": "code",
   "execution_count": null,
   "metadata": {
    "nbpages": {
     "level": 3,
     "link": "[1.2.2.5 Impact of Periodic Boundary Condition](https://ndcbe.github.io/CBE60499/01.02-Pyomo-Mini-Project.html#1.2.2.5-Impact-of-Periodic-Boundary-Condition)",
     "section": "1.2.2.5 Impact of Periodic Boundary Condition"
    }
   },
   "outputs": [],
   "source": []
  },
  {
   "cell_type": "markdown",
   "metadata": {
    "nbpages": {
     "level": 3,
     "link": "[1.2.2.5 Impact of Periodic Boundary Condition](https://ndcbe.github.io/CBE60499/01.02-Pyomo-Mini-Project.html#1.2.2.5-Impact-of-Periodic-Boundary-Condition)",
     "section": "1.2.2.5 Impact of Periodic Boundary Condition"
    }
   },
   "source": [
    "**Discussion** Compare these result to the analysis with periodic boundary constraints. Based on these results, make a recommendation to a battery operator."
   ]
  },
  {
   "cell_type": "markdown",
   "metadata": {
    "nbpages": {
     "level": 2,
     "link": "[1.2.3 Forecast Uncertainty (required for CBE 60499, optional for CBE 40499)](https://ndcbe.github.io/CBE60499/01.02-Pyomo-Mini-Project.html#1.2.3-Forecast-Uncertainty-(required-for-CBE-60499,-optional-for-CBE-40499))",
     "section": "1.2.3 Forecast Uncertainty (required for CBE 60499, optional for CBE 40499)"
    }
   },
   "source": [
    "## 1.2.3 Forecast Uncertainty (required for CBE 60499, optional for CBE 40499)\n",
    "Generate white noise with mean zero and standard deviation 5 $/MWh using `np.random.normal()` and add this to the price forecast. Calculate how much less revenue you make with price uncertainty compared to the perfect information case (Part B). *Hint:* Each time you run the simulation, you will get a different answer. Repeat the analysis 10 times and record the average."
   ]
  },
  {
   "cell_type": "code",
   "execution_count": null,
   "metadata": {
    "nbpages": {
     "level": 2,
     "link": "[1.2.3 Forecast Uncertainty (required for CBE 60499, optional for CBE 40499)](https://ndcbe.github.io/CBE60499/01.02-Pyomo-Mini-Project.html#1.2.3-Forecast-Uncertainty-(required-for-CBE-60499,-optional-for-CBE-40499))",
     "section": "1.2.3 Forecast Uncertainty (required for CBE 60499, optional for CBE 40499)"
    }
   },
   "outputs": [],
   "source": []
  },
  {
   "cell_type": "markdown",
   "metadata": {
    "nbpages": {
     "level": 2,
     "link": "[1.2.3 Forecast Uncertainty (required for CBE 60499, optional for CBE 40499)](https://ndcbe.github.io/CBE60499/01.02-Pyomo-Mini-Project.html#1.2.3-Forecast-Uncertainty-(required-for-CBE-60499,-optional-for-CBE-40499))",
     "section": "1.2.3 Forecast Uncertainty (required for CBE 60499, optional for CBE 40499)"
    }
   },
   "source": [
    "**Discussion** Compare the results with your earlier analysis. How much less revenue do you get with Gaussian noise with standard deviation 5 $/MWh."
   ]
  },
  {
   "cell_type": "markdown",
   "metadata": {
    "nbpages": {
     "level": 2,
     "link": "[1.2.3 Forecast Uncertainty (required for CBE 60499, optional for CBE 40499)](https://ndcbe.github.io/CBE60499/01.02-Pyomo-Mini-Project.html#1.2.3-Forecast-Uncertainty-(required-for-CBE-60499,-optional-for-CBE-40499))",
     "section": "1.2.3 Forecast Uncertainty (required for CBE 60499, optional for CBE 40499)"
    }
   },
   "source": [
    "Next, make a plot showing the average revenue as a function of the standard deviation of the uncertainty. *Hint*: Normalize the revenue by dividing by the perfect information revenue (no uncertainty)."
   ]
  },
  {
   "cell_type": "code",
   "execution_count": null,
   "metadata": {
    "nbpages": {
     "level": 2,
     "link": "[1.2.3 Forecast Uncertainty (required for CBE 60499, optional for CBE 40499)](https://ndcbe.github.io/CBE60499/01.02-Pyomo-Mini-Project.html#1.2.3-Forecast-Uncertainty-(required-for-CBE-60499,-optional-for-CBE-40499))",
     "section": "1.2.3 Forecast Uncertainty (required for CBE 60499, optional for CBE 40499)"
    }
   },
   "outputs": [],
   "source": []
  },
  {
   "cell_type": "markdown",
   "metadata": {
    "nbpages": {
     "level": 2,
     "link": "[1.2.3 Forecast Uncertainty (required for CBE 60499, optional for CBE 40499)](https://ndcbe.github.io/CBE60499/01.02-Pyomo-Mini-Project.html#1.2.3-Forecast-Uncertainty-(required-for-CBE-60499,-optional-for-CBE-40499))",
     "section": "1.2.3 Forecast Uncertainty (required for CBE 60499, optional for CBE 40499)"
    }
   },
   "source": [
    "**Discussion** What is the impact with the larger uncertainty?"
   ]
  },
  {
   "cell_type": "markdown",
   "metadata": {
    "nbpages": {
     "level": 2,
     "link": "[1.2.3 Forecast Uncertainty (required for CBE 60499, optional for CBE 40499)](https://ndcbe.github.io/CBE60499/01.02-Pyomo-Mini-Project.html#1.2.3-Forecast-Uncertainty-(required-for-CBE-60499,-optional-for-CBE-40499))",
     "section": "1.2.3 Forecast Uncertainty (required for CBE 60499, optional for CBE 40499)"
    }
   },
   "source": [
    "**Discussion** Why does uncertainty in the price decrease the revenue (on average)?"
   ]
  },
  {
   "cell_type": "code",
   "execution_count": null,
   "metadata": {
    "nbpages": {
     "level": 2,
     "link": "[1.2.3 Forecast Uncertainty (required for CBE 60499, optional for CBE 40499)](https://ndcbe.github.io/CBE60499/01.02-Pyomo-Mini-Project.html#1.2.3-Forecast-Uncertainty-(required-for-CBE-60499,-optional-for-CBE-40499))",
     "section": "1.2.3 Forecast Uncertainty (required for CBE 60499, optional for CBE 40499)"
    }
   },
   "outputs": [],
   "source": []
  },
  {
   "cell_type": "markdown",
   "metadata": {},
   "source": [
    "<!--NAVIGATION-->\n",
    "< [1.1 60 Minutes to Pyomo: An Energy Storage Model Predictive Control Example](https://ndcbe.github.io/CBE60499/01.01-Pyomo-Nuts-and-Bolts.html) | [Contents](toc.html) | [2.0 Optimization Modeling with Applications](https://ndcbe.github.io/CBE60499/02.00-Optimization-Modeling.html) ><p><a href=\"https://colab.research.google.com/github/ndcbe/CBE60499/blob/master/docs/01.02-Pyomo-Mini-Project.ipynb\"> <img align=\"left\" src=\"https://colab.research.google.com/assets/colab-badge.svg\" alt=\"Open in Colab\" title=\"Open in Google Colaboratory\"></a><p><a href=\"https://ndcbe.github.io/CBE60499/01.02-Pyomo-Mini-Project.ipynb\"> <img align=\"left\" src=\"https://img.shields.io/badge/Github-Download-blue.svg\" alt=\"Download\" title=\"Download Notebook\"></a>"
   ]
  }
 ],
 "metadata": {
  "kernelspec": {
   "display_name": "Python 3",
   "language": "python",
   "name": "python3"
  },
  "language_info": {
   "codemirror_mode": {
    "name": "ipython",
    "version": 3
   },
   "file_extension": ".py",
   "mimetype": "text/x-python",
   "name": "python",
   "nbconvert_exporter": "python",
   "pygments_lexer": "ipython3",
   "version": "3.8.6"
  }
 },
 "nbformat": 4,
 "nbformat_minor": 2
}
