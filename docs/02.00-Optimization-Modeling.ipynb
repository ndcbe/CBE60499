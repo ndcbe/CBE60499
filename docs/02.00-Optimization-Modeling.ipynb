{
 "cells": [
  {
   "cell_type": "markdown",
   "id": "e435dba4",
   "metadata": {},
   "source": [
    "<!--NOTEBOOK_HEADER-->\n",
    "*This notebook contains material from [CBE60499](https://ndcbe.github.io/CBE60499);\n",
    "content is available [on Github](git@github.com:ndcbe/CBE60499.git).*\n"
   ]
  },
  {
   "cell_type": "markdown",
   "id": "03cd2767",
   "metadata": {},
   "source": [
    "<!--NAVIGATION-->\n",
    "< [1.2 Pyomo Mini-Project: Receding Horizon Stochastic Control](https://ndcbe.github.io/CBE60499/01.02-Pyomo-Mini-Project.html) | [Contents](toc.html) | [Tag Index](tag_index.html) | [2.1 Continuous Optimization](https://ndcbe.github.io/CBE60499/02.01-LP-NLP.html) ><p><a href=\"https://colab.research.google.com/github/ndcbe/CBE60499/blob/master/docs/02.00-Optimization-Modeling.ipynb\"> <img align=\"left\" src=\"https://colab.research.google.com/assets/colab-badge.svg\" alt=\"Open in Colab\" title=\"Open in Google Colaboratory\"></a><p><a href=\"https://ndcbe.github.io/CBE60499/02.00-Optimization-Modeling.ipynb\"> <img align=\"left\" src=\"https://img.shields.io/badge/Github-Download-blue.svg\" alt=\"Download\" title=\"Download Notebook\"></a>"
   ]
  },
  {
   "cell_type": "markdown",
   "metadata": {
    "nbpages": {
     "level": 1,
     "link": "[2.0 Optimization Modeling with Applications](https://ndcbe.github.io/CBE60499/02.00-Optimization-Modeling.html#2.0-Optimization-Modeling-with-Applications)",
     "section": "2.0 Optimization Modeling with Applications"
    }
   },
   "source": [
    "# 2.0 Optimization Modeling with Applications"
   ]
  },
  {
   "cell_type": "markdown",
   "metadata": {
    "nbpages": {
     "level": 2,
     "link": "[2.0.1 Recommended Reading](https://ndcbe.github.io/CBE60499/02.00-Optimization-Modeling.html#2.0.1-Recommended-Reading)",
     "section": "2.0.1 Recommended Reading"
    }
   },
   "source": [
    "## 2.0.1 Recommended Reading\n",
    "\n",
    "Please review the following book chapters (in order):\n",
    "1. Chapter 1 of Biegler (2010) introduces classes of optimization problems motivated by applications.\n",
    "2. Chapters 1 and 2 in Hart et al. (2015) provides an overview of Pyomo and optimization modeling.\n",
    "3. Chapters 3 and 4 in Hart et al. (2015) describes core Pyomo features through examples.\n",
    "4. Chapter 7 in Hart et al. (2015) describes special considerations for nonlinear programs.\n",
    "5. Chapter 9 in Hart et al. (2015) describes generalized disjunctive programming (logical decisions).\n",
    "6. Chapter 10 in Hart et al. (2015) describes stochastic programming (sections 10.1 - 10.4 are most relevant).\n",
    "7. Chapter 11 in Hart et al. (2015) describes optimization with differential algebriac equations (DAEs).\n",
    "8. Chapter 10 in Biegler (2010) provides mathematical background for DAE-constrained optimization."
   ]
  },
  {
   "cell_type": "markdown",
   "metadata": {
    "nbpages": {
     "level": 2,
     "link": "[2.0.1 Recommended Reading](https://ndcbe.github.io/CBE60499/02.00-Optimization-Modeling.html#2.0.1-Recommended-Reading)",
     "section": "2.0.1 Recommended Reading"
    }
   },
   "source": [
    "![pyomo_book](./figures/pyomo_book_cover.jpg)\n",
    "\n",
    "![nlp_book](./figures/nlp_book_cover.jpg)"
   ]
  },
  {
   "cell_type": "markdown",
   "metadata": {
    "nbpages": {
     "level": 2,
     "link": "[2.0.2 Taxonomy of Optimization Problems](https://ndcbe.github.io/CBE60499/02.00-Optimization-Modeling.html#2.0.2-Taxonomy-of-Optimization-Problems)",
     "section": "2.0.2 Taxonomy of Optimization Problems"
    }
   },
   "source": [
    "## 2.0.2 Taxonomy of Optimization Problems\n",
    "\n",
    "Reference: Chapter 1 in Biegler (2010)."
   ]
  },
  {
   "cell_type": "markdown",
   "metadata": {
    "nbpages": {
     "level": 2,
     "link": "[2.0.2 Taxonomy of Optimization Problems](https://ndcbe.github.io/CBE60499/02.00-Optimization-Modeling.html#2.0.2-Taxonomy-of-Optimization-Problems)",
     "section": "2.0.2 Taxonomy of Optimization Problems"
    }
   },
   "source": [
    "The following chart organizes optimization problems based on key characteristics including variable type (continous versus discrete) and whether the objective and constraints are differentiable. These factors impact which algorithms are best suited for different problems.\n",
    "\n",
    "![taxonomy](./figures/classification.png)"
   ]
  },
  {
   "cell_type": "markdown",
   "metadata": {
    "nbpages": {
     "level": 2,
     "link": "[2.0.2 Taxonomy of Optimization Problems](https://ndcbe.github.io/CBE60499/02.00-Optimization-Modeling.html#2.0.2-Taxonomy-of-Optimization-Problems)",
     "section": "2.0.2 Taxonomy of Optimization Problems"
    }
   },
   "source": [
    "This is the most general problem structure we will consider:"
   ]
  },
  {
   "cell_type": "markdown",
   "metadata": {
    "nbpages": {
     "level": 2,
     "link": "[2.0.2 Taxonomy of Optimization Problems](https://ndcbe.github.io/CBE60499/02.00-Optimization-Modeling.html#2.0.2-Taxonomy-of-Optimization-Problems)",
     "section": "2.0.2 Taxonomy of Optimization Problems"
    }
   },
   "source": [
    "![minlp_formulation](./figures/minlp.png)"
   ]
  },
  {
   "cell_type": "markdown",
   "metadata": {
    "nbpages": {
     "level": 2,
     "link": "[2.0.2 Taxonomy of Optimization Problems](https://ndcbe.github.io/CBE60499/02.00-Optimization-Modeling.html#2.0.2-Taxonomy-of-Optimization-Problems)",
     "section": "2.0.2 Taxonomy of Optimization Problems"
    }
   },
   "source": [
    "Here are common (chemical) engineering optimization problems organizied by problem type:\n",
    "![optimization_examples](./figures/apps_table.png)"
   ]
  },
  {
   "cell_type": "code",
   "execution_count": null,
   "metadata": {
    "nbpages": {
     "level": 2,
     "link": "[2.0.2 Taxonomy of Optimization Problems](https://ndcbe.github.io/CBE60499/02.00-Optimization-Modeling.html#2.0.2-Taxonomy-of-Optimization-Problems)",
     "section": "2.0.2 Taxonomy of Optimization Problems"
    }
   },
   "outputs": [],
   "source": []
  },
  {
   "cell_type": "markdown",
   "id": "9dfcd47c",
   "metadata": {},
   "source": [
    "<!--NAVIGATION-->\n",
    "< [1.2 Pyomo Mini-Project: Receding Horizon Stochastic Control](https://ndcbe.github.io/CBE60499/01.02-Pyomo-Mini-Project.html) | [Contents](toc.html) | [Tag Index](tag_index.html) | [2.1 Continuous Optimization](https://ndcbe.github.io/CBE60499/02.01-LP-NLP.html) ><p><a href=\"https://colab.research.google.com/github/ndcbe/CBE60499/blob/master/docs/02.00-Optimization-Modeling.ipynb\"> <img align=\"left\" src=\"https://colab.research.google.com/assets/colab-badge.svg\" alt=\"Open in Colab\" title=\"Open in Google Colaboratory\"></a><p><a href=\"https://ndcbe.github.io/CBE60499/02.00-Optimization-Modeling.ipynb\"> <img align=\"left\" src=\"https://img.shields.io/badge/Github-Download-blue.svg\" alt=\"Download\" title=\"Download Notebook\"></a>"
   ]
  }
 ],
 "metadata": {
  "kernelspec": {
   "display_name": "Python 3",
   "language": "python",
   "name": "python3"
  },
  "language_info": {
   "codemirror_mode": {
    "name": "ipython",
    "version": 3
   },
   "file_extension": ".py",
   "mimetype": "text/x-python",
   "name": "python",
   "nbconvert_exporter": "python",
   "pygments_lexer": "ipython3",
   "version": "3.8.6"
  }
 },
 "nbformat": 4,
 "nbformat_minor": 2
}
