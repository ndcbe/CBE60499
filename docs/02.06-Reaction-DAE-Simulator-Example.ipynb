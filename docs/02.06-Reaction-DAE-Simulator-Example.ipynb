{
 "cells": [
  {
   "cell_type": "markdown",
   "metadata": {},
   "source": [
    "<!--NOTEBOOK_HEADER-->\n",
    "*This notebook contains material from [CBE60499](https://ndcbe.github.io/CBE60499);\n",
    "content is available [on Github](git@github.com:ndcbe/CBE60499.git).*\n"
   ]
  },
  {
   "cell_type": "markdown",
   "metadata": {},
   "source": [
    "<!--NAVIGATION-->\n",
    "< [2.6 Car Example](https://ndcbe.github.io/CBE60499/02.06-Pyomo-DAE.html) | [Contents](toc.html) | [2.7 Stochastic Programming](https://ndcbe.github.io/CBE60499/02.07-SP.html) ><p><a href=\"https://colab.research.google.com/github/ndcbe/CBE60499/blob/master/docs/02.06-Reaction-DAE-Simulator-Example.ipynb\"> <img align=\"left\" src=\"https://colab.research.google.com/assets/colab-badge.svg\" alt=\"Open in Colab\" title=\"Open in Google Colaboratory\"></a><p><a href=\"https://ndcbe.github.io/CBE60499/02.06-Reaction-DAE-Simulator-Example.ipynb\"> <img align=\"left\" src=\"https://img.shields.io/badge/Github-Download-blue.svg\" alt=\"Download\" title=\"Download Notebook\"></a>"
   ]
  },
  {
   "cell_type": "markdown",
   "metadata": {
    "nbpages": {
     "level": 1,
     "link": "[2.6 Reaction Kinetics Example / Simulation with Pyomo.DAE](https://ndcbe.github.io/CBE60499/02.06-Reaction-DAE-Simulator-Example.html#2.6-Reaction-Kinetics-Example-/-Simulation-with-Pyomo.DAE)",
     "section": "2.6 Reaction Kinetics Example / Simulation with Pyomo.DAE"
    }
   },
   "source": [
    "# 2.6 Reaction Kinetics Example / Simulation with Pyomo.DAE\n",
    "**Lecture 20**. Nonlinear and Stochastic Optimization. CBE 60499. A. Dowling. Fall 2018.\n",
    "\n",
    "Adapted from: https://github.com/Pyomo/pyomo/blob/master/examples/dae/simulator_dae_example.py"
   ]
  },
  {
   "cell_type": "markdown",
   "metadata": {
    "nbpages": {
     "level": 2,
     "link": "[2.6.1 Problem Formulation](https://ndcbe.github.io/CBE60499/02.06-Reaction-DAE-Simulator-Example.html#2.6.1-Problem-Formulation)",
     "section": "2.6.1 Problem Formulation"
    }
   },
   "source": [
    "## 2.6.1 Problem Formulation\n",
    "\n",
    "Consider the chemical reaction $$A \\Leftrightarrow B \\Leftrightarrow C$$\n",
    "\n",
    "which is modeling with the following differential algebraic equations:\n",
    "\n",
    "$$\\begin{align*}\n",
    "\\frac{dz_A}{dt} &= -p_1 z_A(t) + p_2 z_B(t),\\quad z_A(0)=1 \\\\\n",
    "\\frac{dz_B}{dt} &= p_1 z_A(t) - (p_2 + p_3) z_B(t) + p_4 z_C(t), \\quad z_B(0)=0 \\\\\n",
    "1 &= z_A(t) + z_B(t) + z_C(t)\n",
    "\\end{align*}$$\n",
    "\n",
    "where $p_1$, $p_2$, $p_3$, and $p_4$ are parameters."
   ]
  },
  {
   "cell_type": "markdown",
   "metadata": {
    "nbpages": {
     "level": 2,
     "link": "[2.6.2 Create Model](https://ndcbe.github.io/CBE60499/02.06-Reaction-DAE-Simulator-Example.html#2.6.2-Create-Model)",
     "section": "2.6.2 Create Model"
    }
   },
   "source": [
    "## 2.6.2 Create Model"
   ]
  },
  {
   "cell_type": "code",
   "execution_count": 1,
   "metadata": {
    "nbpages": {
     "level": 2,
     "link": "[2.6.2 Create Model](https://ndcbe.github.io/CBE60499/02.06-Reaction-DAE-Simulator-Example.html#2.6.2-Create-Model)",
     "section": "2.6.2 Create Model"
    }
   },
   "outputs": [],
   "source": [
    "from pyomo.environ import *\n",
    "from pyomo.dae import *\n",
    "from pyomo.dae.simulator import Simulator\n",
    "import matplotlib.pyplot as plt\n",
    "\n",
    "def create_model():\n",
    "    m = ConcreteModel()\n",
    "\n",
    "    m.t = ContinuousSet(bounds=(0.0, 1))\n",
    "\n",
    "    m.p1 = Param(initialize=4.0)\n",
    "    m.p2 = Param(initialize=2.0)\n",
    "    m.p3 = Param(initialize=40.0)\n",
    "    m.p4 = Param(initialize=20.0)\n",
    "\n",
    "    m.za = Var(m.t)\n",
    "    m.zb = Var(m.t)\n",
    "    m.zc = Var(m.t)\n",
    "    m.dza = DerivativeVar(m.za)\n",
    "    m.dzb = DerivativeVar(m.zb)\n",
    "\n",
    "    # Setting the initial conditions\n",
    "    m.za[0.0] = 1\n",
    "    m.zb[0.0] = 0\n",
    "\n",
    "    def _diffeq1(m, t):\n",
    "        return m.dza[t] == -m.p1 * m.za[t] + m.p2 * m.zb[t]\n",
    "    m.diffeq1 = Constraint(m.t, rule=_diffeq1)\n",
    "\n",
    "    def _diffeq2(m, t):\n",
    "        return m.dzb[t] == m.p1 * m.za[t] - \\\n",
    "                           (m.p2 + m.p3) * m.zb[t] + m.p4 * m.zc[t]\n",
    "    m.diffeq2 = Constraint(m.t, rule=_diffeq2)\n",
    "\n",
    "    def _algeq1(m, t):\n",
    "        return m.za[t] + m.zb[t] + m.zc[t] == 1\n",
    "    m.algeq1 = Constraint(m.t, rule=_algeq1)\n",
    "    return m"
   ]
  },
  {
   "cell_type": "markdown",
   "metadata": {
    "nbpages": {
     "level": 2,
     "link": "[2.6.3 Simulate Model](https://ndcbe.github.io/CBE60499/02.06-Reaction-DAE-Simulator-Example.html#2.6.3-Simulate-Model)",
     "section": "2.6.3 Simulate Model"
    }
   },
   "source": [
    "## 2.6.3 Simulate Model"
   ]
  },
  {
   "cell_type": "code",
   "execution_count": 2,
   "metadata": {
    "nbpages": {
     "level": 2,
     "link": "[2.6.3 Simulate Model](https://ndcbe.github.io/CBE60499/02.06-Reaction-DAE-Simulator-Example.html#2.6.3-Simulate-Model)",
     "section": "2.6.3 Simulate Model"
    }
   },
   "outputs": [],
   "source": [
    "def simulate_discretize_model(m,NFE,initialize):\n",
    "    # Simulate the model using casadi\n",
    "    sim = Simulator(m, package='casadi')\n",
    "    tsim, profiles = sim.simulate(numpoints=100, integrator='idas')\n",
    "\n",
    "    # Discretize model using Orthogonal Collocation\n",
    "    discretizer = TransformationFactory('dae.collocation')\n",
    "    discretizer.apply_to(m, nfe=NFE, ncp=3)\n",
    "\n",
    "    if initialize:\n",
    "    # Initialize the discretized model using the simulator profiles\n",
    "        sim.initialize_model()\n",
    "    \n",
    "    return sim, tsim, profiles"
   ]
  },
  {
   "cell_type": "markdown",
   "metadata": {
    "nbpages": {
     "level": 2,
     "link": "[2.6.4 Plot Results](https://ndcbe.github.io/CBE60499/02.06-Reaction-DAE-Simulator-Example.html#2.6.4-Plot-Results)",
     "section": "2.6.4 Plot Results"
    }
   },
   "source": [
    "## 2.6.4 Plot Results"
   ]
  },
  {
   "cell_type": "code",
   "execution_count": 3,
   "metadata": {
    "nbpages": {
     "level": 2,
     "link": "[2.6.4 Plot Results](https://ndcbe.github.io/CBE60499/02.06-Reaction-DAE-Simulator-Example.html#2.6.4-Plot-Results)",
     "section": "2.6.4 Plot Results"
    }
   },
   "outputs": [],
   "source": [
    "def plot_result(m, sim, tsim, profiles,initialize):\n",
    "\n",
    "    varorder = sim.get_variable_order()\n",
    "    algorder = sim.get_variable_order(vartype='algebraic')\n",
    "\n",
    "    for idx1, v in enumerate(varorder):\n",
    "        plt.plot(tsim, profiles[:, idx1], label=v)\n",
    "\n",
    "    for idx2, v in enumerate(algorder):\n",
    "        plt.plot(tsim, profiles[:, len(varorder) + idx2], label=v)\n",
    "\n",
    "    if initialize:\n",
    "        time = list(m.t)\n",
    "        za = [value(m.za[t]) for t in m.t]\n",
    "        zb = [value(m.zb[t]) for t in m.t]\n",
    "        zc = [value(m.zc[t]) for t in m.t]\n",
    "        \n",
    "        plt.plot(time, za, 'o', label='za interp')\n",
    "        plt.plot(time, zb, 'o', label='zb interp')\n",
    "        plt.plot(time, zc, 'o', label='zc interp')\n",
    "    \n",
    "    plt.xlabel('t')\n",
    "    plt.legend(loc='best')\n",
    "    plt.show()"
   ]
  },
  {
   "cell_type": "markdown",
   "metadata": {
    "nbpages": {
     "level": 2,
     "link": "[2.6.5 Main Routine](https://ndcbe.github.io/CBE60499/02.06-Reaction-DAE-Simulator-Example.html#2.6.5-Main-Routine)",
     "section": "2.6.5 Main Routine"
    }
   },
   "source": [
    "## 2.6.5 Main Routine"
   ]
  },
  {
   "cell_type": "code",
   "execution_count": 4,
   "metadata": {
    "nbpages": {
     "level": 2,
     "link": "[2.6.5 Main Routine](https://ndcbe.github.io/CBE60499/02.06-Reaction-DAE-Simulator-Example.html#2.6.5-Main-Routine)",
     "section": "2.6.5 Main Routine"
    }
   },
   "outputs": [
    {
     "data": {
      "image/png": "[encoded data removed]",
      "text/plain": [
       "<matplotlib.figure.Figure at 0x108dcf978>"
      ]
     },
     "metadata": {},
     "output_type": "display_data"
    }
   ],
   "source": [
    "# Create Pyomo model\n",
    "model = create_model()\n",
    "\n",
    "# Initialize discretized model with simulation result?\n",
    "init = False\n",
    "\n",
    "# Number of finite elements\n",
    "NFE = 6\n",
    "\n",
    "# Simulate model\n",
    "sim, tsim, profiles = simulate_discretize_model(model,NFE,init)\n",
    "\n",
    "# Plot simulation results\n",
    "plot_result(model, sim, tsim, profiles,init)"
   ]
  },
  {
   "cell_type": "markdown",
   "metadata": {
    "nbpages": {
     "level": 2,
     "link": "[2.6.6 Solve Collocation Formulation](https://ndcbe.github.io/CBE60499/02.06-Reaction-DAE-Simulator-Example.html#2.6.6-Solve-Collocation-Formulation)",
     "section": "2.6.6 Solve Collocation Formulation"
    }
   },
   "source": [
    "## 2.6.6 Solve Collocation Formulation"
   ]
  },
  {
   "cell_type": "code",
   "execution_count": 5,
   "metadata": {
    "nbpages": {
     "level": 2,
     "link": "[2.6.6 Solve Collocation Formulation](https://ndcbe.github.io/CBE60499/02.06-Reaction-DAE-Simulator-Example.html#2.6.6-Solve-Collocation-Formulation)",
     "section": "2.6.6 Solve Collocation Formulation"
    }
   },
   "outputs": [
    {
     "name": "stdout",
     "output_type": "stream",
     "text": [
      "Ipopt 3.12.10: \n",
      "\n",
      "******************************************************************************\n",
      "This program contains Ipopt, a library for large-scale nonlinear optimization.\n",
      " Ipopt is released as open source code under the Eclipse Public License (EPL).\n",
      "         For more information visit http://projects.coin-or.org/Ipopt\n",
      "******************************************************************************\n",
      "\n",
      "This is Ipopt version 3.12.10, running with linear solver mumps.\n",
      "NOTE: Other linear solvers might be more efficient (see Ipopt documentation).\n",
      "\n",
      "Number of nonzeros in equality constraint Jacobian...:      372\n",
      "Number of nonzeros in inequality constraint Jacobian.:        0\n",
      "Number of nonzeros in Lagrangian Hessian.............:        0\n",
      "\n",
      "Total number of variables............................:       95\n",
      "                     variables with only lower bounds:        0\n",
      "                variables with lower and upper bounds:        0\n",
      "                     variables with only upper bounds:        0\n",
      "Total number of equality constraints.................:       95\n",
      "Total number of inequality constraints...............:        0\n",
      "        inequality constraints with only lower bounds:        0\n",
      "   inequality constraints with lower and upper bounds:        0\n",
      "        inequality constraints with only upper bounds:        0\n",
      "\n",
      "iter    objective    inf_pr   inf_du lg(mu)  ||d||  lg(rg) alpha_du alpha_pr  ls\n",
      "   0  0.0000000e+00 2.48e+01 0.00e+00  -1.0 0.00e+00    -  0.00e+00 0.00e+00   0\n",
      "   1  0.0000000e+00 5.11e-15 0.00e+00  -1.0 4.00e+00    -  1.00e+00 1.00e+00h  1\n",
      "\n",
      "Number of Iterations....: 1\n",
      "\n",
      "                                   (scaled)                 (unscaled)\n",
      "Objective...............:   0.0000000000000000e+00    0.0000000000000000e+00\n",
      "Dual infeasibility......:   0.0000000000000000e+00    0.0000000000000000e+00\n",
      "Constraint violation....:   5.1070259132757201e-15    5.1070259132757201e-15\n",
      "Complementarity.........:   0.0000000000000000e+00    0.0000000000000000e+00\n",
      "Overall NLP error.......:   5.1070259132757201e-15    5.1070259132757201e-15\n",
      "\n",
      "\n",
      "Number of objective function evaluations             = 2\n",
      "Number of objective gradient evaluations             = 2\n",
      "Number of equality constraint evaluations            = 2\n",
      "Number of inequality constraint evaluations          = 0\n",
      "Number of equality constraint Jacobian evaluations   = 2\n",
      "Number of inequality constraint Jacobian evaluations = 0\n",
      "Number of Lagrangian Hessian evaluations             = 1\n",
      "Total CPU secs in IPOPT (w/o function evaluations)   =      0.005\n",
      "Total CPU secs in NLP function evaluations           =      0.000\n",
      "\n",
      "EXIT: Optimal Solution Found.\n",
      "\b"
     ]
    },
    {
     "data": {
      "text/plain": [
       "{'Problem': [{'Lower bound': -inf, 'Upper bound': inf, 'Number of objectives': 1, 'Number of constraints': 95, 'Number of variables': 95, 'Sense': 'unknown'}], 'Solver': [{'Status': 'ok', 'Message': 'Ipopt 3.12.10\\\\x3a Optimal Solution Found', 'Termination condition': 'optimal', 'Id': 0, 'Error rc': 0, 'Time': 0.04537773132324219}], 'Solution': [OrderedDict([('number of solutions', 0), ('number of solutions displayed', 0)])]}"
      ]
     },
     "execution_count": 5,
     "metadata": {},
     "output_type": "execute_result"
    }
   ],
   "source": [
    "# Specify initial conditions\n",
    "def _init(m):\n",
    "    yield m.za[0] == 1\n",
    "    yield m.zb[0] == 0\n",
    "model.initcon = ConstraintList(rule=_init)\n",
    "\n",
    "# Solve collocation formulation (no objective)\n",
    "solver = SolverFactory('ipopt')\n",
    "solver.solve(model,tee=True)"
   ]
  },
  {
   "cell_type": "code",
   "execution_count": 6,
   "metadata": {
    "nbpages": {
     "level": 2,
     "link": "[2.6.6 Solve Collocation Formulation](https://ndcbe.github.io/CBE60499/02.06-Reaction-DAE-Simulator-Example.html#2.6.6-Solve-Collocation-Formulation)",
     "section": "2.6.6 Solve Collocation Formulation"
    }
   },
   "outputs": [
    {
     "data": {
      "image/png": "[encoded data removed]",
      "text/plain": [
       "<matplotlib.figure.Figure at 0x11bccd438>"
      ]
     },
     "metadata": {},
     "output_type": "display_data"
    }
   ],
   "source": [
    "def plot_results2(m):\n",
    "    za = []\n",
    "    zb = []\n",
    "    zc = []\n",
    "    time = []\n",
    "    for t in m.t:\n",
    "        time.append(value(t))\n",
    "        za.append(value(m.za[t]))\n",
    "        zb.append(value(m.zb[t]))\n",
    "        zc.append(value(m.zc[t]))\n",
    "\n",
    "    plt.plot(time, za, '-', label='za(t)')\n",
    "    plt.plot(time, zb, '-', label='zb(t)')\n",
    "    plt.plot(time, zc, '-', label='zc(t)')\n",
    "    plt.xlabel('t')\n",
    "    plt.legend(loc='best')\n",
    "    plt.show()\n",
    "    \n",
    "plot_results2(model)"
   ]
  },
  {
   "cell_type": "markdown",
   "metadata": {
    "nbpages": {
     "level": 2,
     "link": "[2.6.7 Discussion](https://ndcbe.github.io/CBE60499/02.06-Reaction-DAE-Simulator-Example.html#2.6.7-Discussion)",
     "section": "2.6.7 Discussion"
    }
   },
   "source": [
    "## 2.6.7 Discussion\n",
    "* What happens if we disable initialization?\n",
    "* How does the problem size and solution profiles change with the number of finite elements?\n",
    "* How many degrees of freedom are there in the *simulation* problem?\n",
    "* Why is this problem robust to poor initialization?"
   ]
  },
  {
   "cell_type": "code",
   "execution_count": null,
   "metadata": {
    "nbpages": {
     "level": 2,
     "link": "[2.6.7 Discussion](https://ndcbe.github.io/CBE60499/02.06-Reaction-DAE-Simulator-Example.html#2.6.7-Discussion)",
     "section": "2.6.7 Discussion"
    }
   },
   "outputs": [],
   "source": []
  },
  {
   "cell_type": "markdown",
   "metadata": {},
   "source": [
    "<!--NAVIGATION-->\n",
    "< [2.6 Car Example](https://ndcbe.github.io/CBE60499/02.06-Pyomo-DAE.html) | [Contents](toc.html) | [2.7 Stochastic Programming](https://ndcbe.github.io/CBE60499/02.07-SP.html) ><p><a href=\"https://colab.research.google.com/github/ndcbe/CBE60499/blob/master/docs/02.06-Reaction-DAE-Simulator-Example.ipynb\"> <img align=\"left\" src=\"https://colab.research.google.com/assets/colab-badge.svg\" alt=\"Open in Colab\" title=\"Open in Google Colaboratory\"></a><p><a href=\"https://ndcbe.github.io/CBE60499/02.06-Reaction-DAE-Simulator-Example.ipynb\"> <img align=\"left\" src=\"https://img.shields.io/badge/Github-Download-blue.svg\" alt=\"Download\" title=\"Download Notebook\"></a>"
   ]
  }
 ],
 "metadata": {
  "kernelspec": {
   "display_name": "Python 3",
   "language": "python",
   "name": "python3"
  },
  "language_info": {
   "codemirror_mode": {
    "name": "ipython",
    "version": 3
   },
   "file_extension": ".py",
   "mimetype": "text/x-python",
   "name": "python",
   "nbconvert_exporter": "python",
   "pygments_lexer": "ipython3",
   "version": "3.8.6"
  }
 },
 "nbformat": 4,
 "nbformat_minor": 2
}
