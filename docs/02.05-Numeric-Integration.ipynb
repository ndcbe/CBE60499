{
 "cells": [
  {
   "cell_type": "markdown",
   "metadata": {},
   "source": [
    "<!--NOTEBOOK_HEADER-->\n",
    "*This notebook contains material from [CBE60499](https://ndcbe.github.io/CBE60499);\n",
    "content is available [on Github](git@github.com:ndcbe/CBE60499.git).*\n"
   ]
  },
  {
   "cell_type": "markdown",
   "metadata": {},
   "source": [
    "<!--NAVIGATION-->\n",
    "< [2.4 Dynamic Optimization: Differential Algebraic Equations (DAEs)](https://ndcbe.github.io/CBE60499/02.04-DAE-modeling.html) | [Contents](toc.html) | [2.5 Quadrature Rules](https://ndcbe.github.io/CBE60499/02.05-Quadrature-Rules.html) ><p><a href=\"https://colab.research.google.com/github/ndcbe/CBE60499/blob/master/docs/02.05-Numeric-Integration.ipynb\"> <img align=\"left\" src=\"https://colab.research.google.com/assets/colab-badge.svg\" alt=\"Open in Colab\" title=\"Open in Google Colaboratory\"></a><p><a href=\"https://ndcbe.github.io/CBE60499/02.05-Numeric-Integration.ipynb\"> <img align=\"left\" src=\"https://img.shields.io/badge/Github-Download-blue.svg\" alt=\"Download\" title=\"Download Notebook\"></a>"
   ]
  },
  {
   "cell_type": "markdown",
   "metadata": {
    "nbpages": {
     "level": 1,
     "link": "[2.5 Runge Kutta: Single-Step Numeric Integration](https://ndcbe.github.io/CBE60499/02.05-Numeric-Integration.html#2.5-Runge-Kutta:-Single-Step-Numeric-Integration)",
     "section": "2.5 Runge Kutta: Single-Step Numeric Integration"
    }
   },
   "source": [
    "# 2.5 Runge Kutta: Single-Step Numeric Integration\n",
    "**Lecture 19**. CBE 60499. Fall 2018. A. Dowling."
   ]
  },
  {
   "cell_type": "code",
   "execution_count": 1,
   "metadata": {
    "nbpages": {
     "level": 1,
     "link": "[2.5 Runge Kutta: Single-Step Numeric Integration](https://ndcbe.github.io/CBE60499/02.05-Numeric-Integration.html#2.5-Runge-Kutta:-Single-Step-Numeric-Integration)",
     "section": "2.5 Runge Kutta: Single-Step Numeric Integration"
    }
   },
   "outputs": [],
   "source": [
    "import numpy as np\n",
    "import scipy.optimize as opt\n",
    "import matplotlib.pyplot as plt"
   ]
  },
  {
   "cell_type": "markdown",
   "metadata": {
    "nbpages": {
     "level": 2,
     "link": "[2.5.1 General Form: Index 0 DAE](https://ndcbe.github.io/CBE60499/02.05-Numeric-Integration.html#2.5.1-General-Form:-Index-0-DAE)",
     "section": "2.5.1 General Form: Index 0 DAE"
    }
   },
   "source": [
    "## 2.5.1 General Form: Index 0 DAE\n",
    "\n",
    "Consider the ODE system:\n",
    "$$\\begin{equation*}\n",
    "\\dot{z} = f(t,z), \\quad z(t_0) = z_0\n",
    "\\end{equation*}$$\n",
    "\n",
    "where $z(t)$ are the differentail variables and $f(t,z)$ is a (nonlinear) continous function.\n",
    "\n",
    "The general Runge-Kutta formula is:\n",
    "$$\\begin{align*}\n",
    "z_{i+1} &= z_{i} + h_i \\sum_{k=1}^{n_s} b_k f(t_i + c_k h_i, \\hat{z}_k) \\\\\n",
    "    \\hat{z}_k &= z_i + h_i \\sum_{j=1}^{n_{rk}} a_{k,j} f(t_i + c_j h_i, \\hat{z}_j), \\quad k=1,...,n_s \n",
    "\\end{align*}$$\n",
    "\n",
    "where\n",
    "* $z_i$ are the differential variables at the **start** of **step** $i$ (time $t_i$)\n",
    "* $z_{i+1}$ are the differential variables at the **end** of **step** $i$ (time $t_{i+1}$)\n",
    "* $\\hat{z}_k$ are differential variables for **intermediate stage** $k$\n",
    "* $h_i$ is the size for step $i$ such that $t_{i+1} = t_i + h_i$\n",
    "* $n_s$ is the number of stages\n",
    "* $n_{rk}$ is the number of $f(\\cdot)$ evaluations to calculate intermediate $k$\n",
    "* $a_{k,j}$ are coefficients, together known as the *Runge-Kutta matrix*\n",
    "* $b_k$ are cofficients, known as the *weights*\n",
    "* $c_k$ are coefficients, know as the *nodes*\n",
    "\n",
    "$h_i$ is selected based on error tolerances\n",
    "\n",
    "The choice for $A$, $b$ and $c$ selects the specific method in the *Runge-Kutta family*. These coefficients are often specific in a [Buther block](https://en.wikipedia.org/wiki/Runge%E2%80%93Kutta_methods#Explicit_Runge).\n",
    "\n",
    "A Runge-Kutta method is called [**consistent**](https://en.wikiversity.org/wiki/Numerical_Analysis/stability_of_RK_methods) if:\n",
    "$$\\begin{equation*}\n",
    "\\sum_{k=1}^{n_s} b_k = 1 \\quad \\mathrm{and} \\quad \\sum_{j=1}^{n_s} a_{k,j} = c_k\n",
    "\\end{equation*}$$"
   ]
  },
  {
   "cell_type": "markdown",
   "metadata": {
    "nbpages": {
     "level": 2,
     "link": "[2.5.2 Explicit (Forward) Euler](https://ndcbe.github.io/CBE60499/02.05-Numeric-Integration.html#2.5.2-Explicit-(Forward)-Euler)",
     "section": "2.5.2 Explicit (Forward) Euler"
    }
   },
   "source": [
    "## 2.5.2 Explicit (Forward) Euler\n",
    "\n",
    "Consider one of the simplest Runge-Kutta methods:\n",
    "\n",
    "$$z_{i+1} = z_{i} + h_i~f(t_i, z_i)$$\n",
    "\n",
    "What are $A$, $b$ and $c$ in the general formula?\n",
    "\n",
    "$n_s = 1$. This is only a single stage. Thus we only need to determine $c_1$, $b_1$, and $n_{r1}$\n",
    "\n",
    "Moreover, $\\hat{z}_1 = z_i$ because $f(\\cdot)$ is only evaluated at $t_i$ and $z_i$. This implies:\n",
    "* $n_{r1} = 0$\n",
    "* $c_1 = 0$\n",
    "* $b_1 = 1$\n",
    "* $A$ is empty because $n_{r1} = 0$\n",
    "\n",
    "The implementation is very straightword (see below). We can calculate $z_{i+1}$ with a single line!"
   ]
  },
  {
   "cell_type": "code",
   "execution_count": 2,
   "metadata": {
    "nbpages": {
     "level": 2,
     "link": "[2.5.2 Explicit (Forward) Euler](https://ndcbe.github.io/CBE60499/02.05-Numeric-Integration.html#2.5.2-Explicit-(Forward)-Euler)",
     "section": "2.5.2 Explicit (Forward) Euler"
    }
   },
   "outputs": [],
   "source": [
    "def create_steps(tstart,tend,dt):\n",
    "    n = int(np.ceil((tend-tstart)/dt))\n",
    "    return dt*np.ones(n)\n",
    "\n",
    "def explicit_euler(f,h,z0):\n",
    "    '''\n",
    "    Arguments:\n",
    "        f: function that returns rhs of ODE\n",
    "        h: list of step sizes\n",
    "        z0: initial conditions\n",
    "        \n",
    "    Returns:\n",
    "        t: list of time steps. t[0] is 0.0 by default\n",
    "        z: list of differential variable values\n",
    "    '''\n",
    "    \n",
    "    # Number of timesteps\n",
    "    nT = len(h) + 1\n",
    "    \n",
    "    t = np.zeros(nT)\n",
    "    \n",
    "    # Number of states\n",
    "    nZ = len(z0)\n",
    "    Z = np.zeros((nT,nZ))\n",
    "    \n",
    "    # Copy initial states\n",
    "    Z[0,:] = z0\n",
    "    \n",
    "    for i in range(1,nT):\n",
    "        \n",
    "        i_ = i-1\n",
    "        \n",
    "        # Advance time\n",
    "        t[i] = t[i_] + h[i_]\n",
    "        \n",
    "        # Implicit Euler formula\n",
    "        Z[i,:] = Z[i_,:] + h[i_]*f(t[i_],Z[i_,:])\n",
    "        \n",
    "    return t, Z"
   ]
  },
  {
   "cell_type": "markdown",
   "metadata": {
    "nbpages": {
     "level": 2,
     "link": "[2.5.3 Implicit (Backward) Euler](https://ndcbe.github.io/CBE60499/02.05-Numeric-Integration.html#2.5.3-Implicit-(Backward)-Euler)",
     "section": "2.5.3 Implicit (Backward) Euler"
    }
   },
   "source": [
    "## 2.5.3 Implicit (Backward) Euler\n",
    "\n",
    "Consider another simple Runge-Kutta method:\n",
    "\n",
    "$$z_{i+1} = z_{i} + h_i~f(t_{i+1}, z_{i+1})$$\n",
    "\n",
    "What are $A$, $b$ and $c$ to express using the general formula?\n",
    "\n",
    "$n_s = 1$. Thus is only a single stage. Moreover, $\\hat{z}_1 = z_{i+1}$ because $f(\\cdot)$ is evaluated at $t_{i+1}$ and $z_{i+1}$. This implies:\n",
    "* $b_1 = 1$\n",
    "* $c_1 = 1$\n",
    "\n",
    "Moreover, $z_{i+1} = z_{i} + h_i~f(t_{i+1}, z_{i+1})$ implies $\\hat{z}_1 = z_i + h_i f(t_{i+1}, \\hat{z}_1)$. Thus:\n",
    "* $a_{1,1} = 1$\n",
    "\n",
    "Notice that the formula for $z_{i+1}$ is implicit. We need to solve a (nonlinear) system of equations to calculate the step."
   ]
  },
  {
   "cell_type": "code",
   "execution_count": 3,
   "metadata": {
    "nbpages": {
     "level": 2,
     "link": "[2.5.3 Implicit (Backward) Euler](https://ndcbe.github.io/CBE60499/02.05-Numeric-Integration.html#2.5.3-Implicit-(Backward)-Euler)",
     "section": "2.5.3 Implicit (Backward) Euler"
    }
   },
   "outputs": [],
   "source": [
    "def implicit_euler(f,h,z0):\n",
    "    '''\n",
    "    Arguments:\n",
    "        f: function that returns rhs of ODE\n",
    "        h: list of step sizes\n",
    "        z0: initial conditions\n",
    "        \n",
    "    Returns:\n",
    "        t: list of time steps. t[0] is 0.0 by default\n",
    "        z: list of differential variable values\n",
    "    '''\n",
    "    \n",
    "    # Number of timesteps\n",
    "    nT = len(h) + 1\n",
    "    \n",
    "    t = np.zeros(nT)\n",
    "    \n",
    "    # Number of states\n",
    "    nZ = len(z0)\n",
    "    Z = np.zeros((nT,nZ))\n",
    "    \n",
    "    # Copy initial states\n",
    "    Z[0,:] = z0\n",
    "    \n",
    "    for i in range(1,nT):\n",
    "        \n",
    "        i_ = i-1\n",
    "        \n",
    "        # Advance time\n",
    "        t[i] = t[i_] + h[i_]\n",
    "        \n",
    "        ## Implicit Runge-Kutta formula.\n",
    "        ## Need to solve nonlinear system of equations.\n",
    "        \n",
    "        # Use Explicit Euler to calculate initial guess\n",
    "        Z[i,:] = Z[i_,:] + h[i_]*f(t[i_],Z[i_,:])\n",
    "        \n",
    "        # Solve nonlinear equation\n",
    "        implicit = lambda z : Z[i_,:] + h[i_]*f(t[i_],z) - z\n",
    "        Z[i,:] = opt.fsolve(implicit, Z[i,:])\n",
    "        \n",
    "        \n",
    "    return t, Z"
   ]
  },
  {
   "cell_type": "markdown",
   "metadata": {
    "nbpages": {
     "level": 2,
     "link": "[2.5.4 Comparison](https://ndcbe.github.io/CBE60499/02.05-Numeric-Integration.html#2.5.4-Comparison)",
     "section": "2.5.4 Comparison"
    }
   },
   "source": [
    "## 2.5.4 Comparison\n",
    "\n",
    "Let's test this on a simple problem:\n",
    "$$\\dot{z}(t) = -\\lambda z(t), \\qquad z_0 = 1.$$ The solution to this problem is \n",
    "$$z(t) = e^{-\\lambda t}.$$\n",
    "\n",
    "For simplicity, let's numerically analyze $\\lambda = 1$."
   ]
  },
  {
   "cell_type": "code",
   "execution_count": 4,
   "metadata": {
    "nbpages": {
     "level": 2,
     "link": "[2.5.4 Comparison](https://ndcbe.github.io/CBE60499/02.05-Numeric-Integration.html#2.5.4-Comparison)",
     "section": "2.5.4 Comparison"
    }
   },
   "outputs": [
    {
     "data": {
      "image/png": "[encoded data removed]",
      "text/plain": [
       "<matplotlib.figure.Figure at 0x1163d6128>"
      ]
     },
     "metadata": {},
     "output_type": "display_data"
    }
   ],
   "source": [
    "rhs = lambda t, z: -z\n",
    "sln = lambda t: np.exp(-t)\n",
    "\n",
    "dt = 1.0\n",
    "h = create_steps(0.0,5.0,dt)\n",
    "\n",
    "z0 = [1]\n",
    "\n",
    "te, Ze = explicit_euler(rhs, h, z0)\n",
    "ti, Zi = implicit_euler(rhs, h, z0)\n",
    "\n",
    "plt.figure()\n",
    "\n",
    "# Use 101 points for exact to make it smooth\n",
    "texact = np.linspace(0.0,np.sum(h),101)\n",
    "\n",
    "# Plot solutions\n",
    "plt.plot(texact, sln(texact),color='green',label=\"Exact Solution\")\n",
    "plt.plot(te,Ze,color='red',marker='s',label='Forward Euler')\n",
    "plt.plot(ti,Zi,color='blue',marker='o',label='Backward Euler')\n",
    "plt.xlabel('t')\n",
    "plt.ylabel('z')\n",
    "plt.legend()\n",
    "plt.title('Solution with h = '+ str(dt))\n",
    "plt.show()"
   ]
  },
  {
   "cell_type": "markdown",
   "metadata": {
    "nbpages": {
     "level": 2,
     "link": "[2.5.5 Stability](https://ndcbe.github.io/CBE60499/02.05-Numeric-Integration.html#2.5.5-Stability)",
     "section": "2.5.5 Stability"
    }
   },
   "source": [
    "## 2.5.5 Stability\n",
    "\n",
    "Keeping $\\lambda = 1$, are there any limits on step size?\n",
    "\n"
   ]
  },
  {
   "cell_type": "code",
   "execution_count": 5,
   "metadata": {
    "nbpages": {
     "level": 2,
     "link": "[2.5.5 Stability](https://ndcbe.github.io/CBE60499/02.05-Numeric-Integration.html#2.5.5-Stability)",
     "section": "2.5.5 Stability"
    }
   },
   "outputs": [
    {
     "data": {
      "image/png": "[encoded data removed]",
      "text/plain": [
       "<matplotlib.figure.Figure at 0x11646efd0>"
      ]
     },
     "metadata": {},
     "output_type": "display_data"
    }
   ],
   "source": [
    "dt = 2.5\n",
    "h = create_steps(0.0,10.0,dt)\n",
    "\n",
    "z0 = [1]\n",
    "\n",
    "te, Ze = explicit_euler(rhs, h, z0)\n",
    "ti, Zi = implicit_euler(rhs, h, z0)\n",
    "\n",
    "plt.figure()\n",
    "\n",
    "# Use 101 points for exact to make it smooth\n",
    "texact = np.linspace(0.0,np.sum(h),101)\n",
    "\n",
    "# Plot solutions\n",
    "plt.plot(texact, sln(texact),color='green',label=\"Exact Solution\")\n",
    "plt.plot(te,Ze,color='red',marker='s',label='Forward Euler')\n",
    "plt.plot(ti,Zi,color='blue',marker='o',label='Backward Euler')\n",
    "plt.xlabel('t')\n",
    "plt.ylabel('z')\n",
    "plt.legend()\n",
    "plt.title('Solution with h = '+ str(dt))\n",
    "plt.show()"
   ]
  },
  {
   "cell_type": "markdown",
   "metadata": {
    "nbpages": {
     "level": 2,
     "link": "[2.5.5 Stability](https://ndcbe.github.io/CBE60499/02.05-Numeric-Integration.html#2.5.5-Stability)",
     "section": "2.5.5 Stability"
    }
   },
   "source": [
    "**Key observation:** forward (explicit) Euler becomes unstable with large steps whereas backward (implicit) Euler is stable.\n",
    "\n",
    "There is a good mathematical reason for this! See http://www.it.uu.se/edu/course/homepage/bridging/ht13/Stability_Analysis.pdf for details.\n",
    "\n",
    "**Key results** (for this specific test problem):\n",
    "* Explicit Euler requires step sizes with $h < 2/\\lambda$.\n",
    "* Implicit Euler is *unconditionally stable* provided $\\lambda > 0$.\n",
    "* Similar analysis and concepts extend to Runge-Kutta methods."
   ]
  },
  {
   "cell_type": "markdown",
   "metadata": {
    "nbpages": {
     "level": 2,
     "link": "[2.5.6 Error Analysis](https://ndcbe.github.io/CBE60499/02.05-Numeric-Integration.html#2.5.6-Error-Analysis)",
     "section": "2.5.6 Error Analysis"
    }
   },
   "source": [
    "## 2.5.6 Error Analysis\n",
    "\n",
    "How does our choice in step size $h$ impact the error of these numerical techniques?\n",
    "\n",
    "Excellent tutorial: http://www.math.unl.edu/~gledder1/Math447/EulerError"
   ]
  },
  {
   "cell_type": "code",
   "execution_count": 10,
   "metadata": {
    "nbpages": {
     "level": 2,
     "link": "[2.5.6 Error Analysis](https://ndcbe.github.io/CBE60499/02.05-Numeric-Integration.html#2.5.6-Error-Analysis)",
     "section": "2.5.6 Error Analysis"
    }
   },
   "outputs": [
    {
     "data": {
      "image/png": "[encoded data removed]",
      "text/plain": [
       "<matplotlib.figure.Figure at 0x11e31f208>"
      ]
     },
     "metadata": {},
     "output_type": "display_data"
    },
    {
     "name": "stdout",
     "output_type": "stream",
     "text": [
      "Slope for Forward Euler: 1.0220608473216777\n",
      "Slope for Backward Euler: 0.9874086317220228\n"
     ]
    }
   ],
   "source": [
    "Delta_t = np.array([1.0,.5,.25,.125,.0625,.0625/2])\n",
    "t_final = 2\n",
    "error_forward = np.zeros(Delta_t.size)\n",
    "error_backward = np.zeros(Delta_t.size)\n",
    "\n",
    "for i in range(0,len(Delta_t)):\n",
    "    \n",
    "    # create steps\n",
    "    h = create_steps(0.0,t_final,Delta_t[i])\n",
    "    \n",
    "    # solve\n",
    "    t,ze = explicit_euler(rhs, h, z0)\n",
    "    t,zi = implicit_euler(rhs, h, z0)\n",
    "    zsln = np.exp(-t)\n",
    "    \n",
    "    n = len(t) - 1\n",
    "    \n",
    "    # Calculate error\n",
    "    error_forward[i] = np.linalg.norm(ze[:,0] - zsln)/np.sqrt(n)\n",
    "    error_backward[i] = np.linalg.norm(zi[:,0] - zsln)/np.sqrt(n)\n",
    "    \n",
    "\n",
    "plt.loglog(Delta_t,error_forward,'s-',color=\"red\",label=\"Forward Euler\")\n",
    "plt.loglog(Delta_t,error_backward,'o-',color=\"blue\",label=\"Backward Euler\")\n",
    "\n",
    "#slope = (np.log(error[-1]) - np.log(error[-2]))/(np.log(Delta_t[-1])- np.log(Delta_t[-2]))\n",
    "#plt.title(\"Slope of Error is \" + str(slope))\n",
    "plt.xlabel(\"Step Size (h)\")\n",
    "plt.ylabel(\"Norm of Error\")\n",
    "plt.show()\n",
    "\n",
    "# Calculate slope\n",
    "calc_slope = lambda error: (np.log(error[-1]) - np.log(error[-2]))/(np.log(Delta_t[-1])- np.log(Delta_t[-2]))\n",
    "\n",
    "print(\"Slope for Forward Euler: \" + str(calc_slope(error_forward)))\n",
    "print(\"Slope for Backward Euler: \" + str(calc_slope(error_backward)))"
   ]
  },
  {
   "cell_type": "markdown",
   "metadata": {
    "nbpages": {
     "level": 2,
     "link": "[2.5.6 Error Analysis](https://ndcbe.github.io/CBE60499/02.05-Numeric-Integration.html#2.5.6-Error-Analysis)",
     "section": "2.5.6 Error Analysis"
    }
   },
   "source": [
    "Notice that the error indicates that this is a first-order method in $\\Delta t$: when I decrease $\\Delta t$ by a factor of 2, the error decreases by a factor of 2.  In this case we measured the error with a slightly different error norm:\n",
    "$$\\mathrm{Error} = \\frac{1}{\\sqrt{N}}\\sqrt{\\sum_{n=1}^{N} \\left(y^n_\\mathrm{approx} - y^n_\\mathrm{exact}\\right)^2},$$\n",
    "where $N$ is the number of steps the ODE is solved over."
   ]
  },
  {
   "cell_type": "markdown",
   "metadata": {
    "nbpages": {
     "level": 2,
     "link": "[2.5.6 Error Analysis](https://ndcbe.github.io/CBE60499/02.05-Numeric-Integration.html#2.5.6-Error-Analysis)",
     "section": "2.5.6 Error Analysis"
    }
   },
   "source": [
    "**Key Results**:\n",
    "* Implicit and Explicit Euler have $O(h^2)$ local error and $O(h)$ global error."
   ]
  },
  {
   "cell_type": "markdown",
   "metadata": {
    "nbpages": {
     "level": 2,
     "link": "[2.5.7 Extensions to DAEs](https://ndcbe.github.io/CBE60499/02.05-Numeric-Integration.html#2.5.7-Extensions-to-DAEs)",
     "section": "2.5.7 Extensions to DAEs"
    }
   },
   "source": [
    "## 2.5.7 Extensions to DAEs\n",
    "\n",
    "Consider semi-explicit DAEs:\n",
    "$$\\begin{equation*}\n",
    "\\dot{z} = f(t,z,y), \\quad g(z,y) = 0, \\quad z(t_0) = z_0\n",
    "\\end{equation*}$$\n",
    "\n",
    "Runge-Kutta methods are easy to extend.\n",
    "\n",
    "$$\\begin{align*}\n",
    "z_{i+1} &= z_{i} + h_i \\sum_{k=1}^{n_s} b_k f(t_i + c_k h_i, \\hat{z}_k, \\hat{y}_k) \\\\\n",
    "    \\hat{z}_k &= z_i + h_i \\sum_{j=1}^{n_{rk}} a_{k,j} f(t_i + c_j h_i, \\hat{z}_j, \\hat{y}_j), \\quad k=1,...,n_s \\\\\n",
    "    0 &= g(\\hat{z}_k, \\hat{y}_k), \\quad k=1,...,n_s\n",
    "\\end{align*}$$\n",
    "\n",
    "**Key Results**. If DAE is index 1, then similar stability and order properties as for ODE problems.\n",
    "\n",
    "**Discussion:** Why are *implicit* RK methods always used for DAE systems?"
   ]
  },
  {
   "cell_type": "code",
   "execution_count": null,
   "metadata": {
    "nbpages": {
     "level": 2,
     "link": "[2.5.7 Extensions to DAEs](https://ndcbe.github.io/CBE60499/02.05-Numeric-Integration.html#2.5.7-Extensions-to-DAEs)",
     "section": "2.5.7 Extensions to DAEs"
    }
   },
   "outputs": [],
   "source": []
  },
  {
   "cell_type": "markdown",
   "metadata": {},
   "source": [
    "<!--NAVIGATION-->\n",
    "< [2.4 Dynamic Optimization: Differential Algebraic Equations (DAEs)](https://ndcbe.github.io/CBE60499/02.04-DAE-modeling.html) | [Contents](toc.html) | [2.5 Quadrature Rules](https://ndcbe.github.io/CBE60499/02.05-Quadrature-Rules.html) ><p><a href=\"https://colab.research.google.com/github/ndcbe/CBE60499/blob/master/docs/02.05-Numeric-Integration.ipynb\"> <img align=\"left\" src=\"https://colab.research.google.com/assets/colab-badge.svg\" alt=\"Open in Colab\" title=\"Open in Google Colaboratory\"></a><p><a href=\"https://ndcbe.github.io/CBE60499/02.05-Numeric-Integration.ipynb\"> <img align=\"left\" src=\"https://img.shields.io/badge/Github-Download-blue.svg\" alt=\"Download\" title=\"Download Notebook\"></a>"
   ]
  }
 ],
 "metadata": {
  "kernelspec": {
   "display_name": "Python 3",
   "language": "python",
   "name": "python3"
  },
  "language_info": {
   "codemirror_mode": {
    "name": "ipython",
    "version": 3
   },
   "file_extension": ".py",
   "mimetype": "text/x-python",
   "name": "python",
   "nbconvert_exporter": "python",
   "pygments_lexer": "ipython3",
   "version": "3.8.6"
  }
 },
 "nbformat": 4,
 "nbformat_minor": 2
}
