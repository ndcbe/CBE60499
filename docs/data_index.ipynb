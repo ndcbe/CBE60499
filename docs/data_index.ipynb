{
 "cells": [
  {
   "cell_type": "markdown",
   "id": "ecb4543d",
   "metadata": {},
   "source": [
    "# [CBE60499](https://ndcbe.github.io/CBE60499)\n",
    "\n",
    "## Index of Data files in this Repository\n",
    "\n",
    "### knapsack_data.csv\n",
    "![knapsack_data.csv](data/knapsack_data.csv)\n",
    "* [2.10 Pyomo Homework 1](https://ndcbe.github.io/CBE60499/02.10-Pyomo1.html#2.10-Pyomo-Homework-1)\n",
    "\n",
    "### parmest_20210609_data_exp1.csv\n",
    "![parmest_20210609_data_exp1.csv](data/parmest_20210609_data_exp1.csv)\n",
    "* [2.8.4 Parameter estimation with a single dataset](https://ndcbe.github.io/CBE60499/02.08-Parmest-tutorial.html#2.8.4-Parameter-estimation-with-a-single-dataset)\n",
    "\n",
    "### parmest_log_file.csv\n",
    "![parmest_log_file.csv](data/parmest_log_file.csv)\n",
    "* [2.8 Parameter estimation with `parmest`](https://ndcbe.github.io/CBE60499/02.08-Parmest-tutorial.html#2.8-Parameter-estimation-with-`parmest`)\n",
    "* [2.8.5.1 Generate list of dataset](https://ndcbe.github.io/CBE60499/02.08-Parmest-tutorial.html#2.8.5.1-Generate-list-of-dataset)\n",
    "\n",
    "### Prices_DAM_ALTA2G_7_B1.csv\n",
    "![Prices_DAM_ALTA2G_7_B1.csv](data/Prices_DAM_ALTA2G_7_B1.csv)\n",
    "* [1.1 60 Minutes to Pyomo: An Energy Storage Model Predictive Control Example](https://ndcbe.github.io/CBE60499/01.01-Pyomo-Nuts-and-Bolts.html#1.1-60-Minutes-to-Pyomo:-An-Energy-Storage-Model-Predictive-Control-Example)\n",
    "* [1.1.1.2 Pandas and Energy Prices](https://ndcbe.github.io/CBE60499/01.01-Pyomo-Nuts-and-Bolts.html#1.1.1.2-Pandas-and-Energy-Prices)\n",
    "* [1.2.1 Assignment Goals](https://ndcbe.github.io/CBE60499/01.02-Pyomo-Mini-Project.html#1.2.1-Assignment-Goals)\n",
    "\n",
    "### student_diet.csv\n",
    "![student_diet.csv](data/student_diet.csv)\n",
    "* [2.1 Continuous Optimization](https://ndcbe.github.io/CBE60499/02.01-LP-NLP.html#2.1-Continuous-Optimization)\n",
    "* [2.1.1 Linear Programs: Student Diet Example](https://ndcbe.github.io/CBE60499/02.01-LP-NLP.html#2.1.1-Linear-Programs:-Student-Diet-Example)"
   ]
  }
 ],
 "metadata": {},
 "nbformat": 4,
 "nbformat_minor": 5
}
