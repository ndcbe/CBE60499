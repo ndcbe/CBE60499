{
 "cells": [
  {
   "cell_type": "markdown",
   "metadata": {},
   "source": [
    "<!--NOTEBOOK_HEADER-->\n",
    "*This notebook contains material from [CBE60499](https://ndcbe.github.io/CBE60499);\n",
    "content is available [on Github](git@github.com:ndcbe/CBE60499.git).*\n"
   ]
  },
  {
   "cell_type": "markdown",
   "metadata": {},
   "source": [
    "<!--NAVIGATION-->\n",
    "< [3.1 Linear Algebra Review and SciPy Basics](https://ndcbe.github.io/CBE60499/03.01-Math-Primer.html) | [Contents](toc.html) | [3.3 Newton Methods](https://ndcbe.github.io/CBE60499/03.03-Netwon-Methods.html) ><p><a href=\"https://colab.research.google.com/github/ndcbe/CBE60499/blob/master/docs/03.02-Optimality.ipynb\"> <img align=\"left\" src=\"https://colab.research.google.com/assets/colab-badge.svg\" alt=\"Open in Colab\" title=\"Open in Google Colaboratory\"></a><p><a href=\"https://ndcbe.github.io/CBE60499/03.02-Optimality.ipynb\"> <img align=\"left\" src=\"https://img.shields.io/badge/Github-Download-blue.svg\" alt=\"Download\" title=\"Download Notebook\"></a>"
   ]
  },
  {
   "cell_type": "markdown",
   "metadata": {
    "nbpages": {
     "level": 1,
     "link": "[3.2 Unconstrained Optimality Conditions](https://ndcbe.github.io/CBE60499/03.02-Optimality.html#3.2-Unconstrained-Optimality-Conditions)",
     "section": "3.2 Unconstrained Optimality Conditions"
    }
   },
   "source": [
    "# 3.2 Unconstrained Optimality Conditions"
   ]
  },
  {
   "cell_type": "code",
   "execution_count": null,
   "metadata": {
    "nbpages": {
     "level": 1,
     "link": "[3.2 Unconstrained Optimality Conditions](https://ndcbe.github.io/CBE60499/03.02-Optimality.html#3.2-Unconstrained-Optimality-Conditions)",
     "section": "3.2 Unconstrained Optimality Conditions"
    }
   },
   "outputs": [],
   "source": []
  },
  {
   "cell_type": "markdown",
   "metadata": {},
   "source": [
    "<!--NAVIGATION-->\n",
    "< [3.1 Linear Algebra Review and SciPy Basics](https://ndcbe.github.io/CBE60499/03.01-Math-Primer.html) | [Contents](toc.html) | [3.3 Newton Methods](https://ndcbe.github.io/CBE60499/03.03-Netwon-Methods.html) ><p><a href=\"https://colab.research.google.com/github/ndcbe/CBE60499/blob/master/docs/03.02-Optimality.ipynb\"> <img align=\"left\" src=\"https://colab.research.google.com/assets/colab-badge.svg\" alt=\"Open in Colab\" title=\"Open in Google Colaboratory\"></a><p><a href=\"https://ndcbe.github.io/CBE60499/03.02-Optimality.ipynb\"> <img align=\"left\" src=\"https://img.shields.io/badge/Github-Download-blue.svg\" alt=\"Download\" title=\"Download Notebook\"></a>"
   ]
  }
 ],
 "metadata": {
  "kernelspec": {
   "display_name": "Python 3",
   "language": "python",
   "name": "python3"
  },
  "language_info": {
   "codemirror_mode": {
    "name": "ipython",
    "version": 3
   },
   "file_extension": ".py",
   "mimetype": "text/x-python",
   "name": "python",
   "nbconvert_exporter": "python",
   "pygments_lexer": "ipython3",
   "version": "3.7.3"
  }
 },
 "nbformat": 4,
 "nbformat_minor": 2
}
