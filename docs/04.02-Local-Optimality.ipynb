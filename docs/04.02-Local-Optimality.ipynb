{
 "cells": [
  {
   "cell_type": "markdown",
   "metadata": {},
   "source": [
    "<!--NOTEBOOK_HEADER-->\n",
    "*This notebook contains material from [CBE60499](https://ndcbe.github.io/CBE60499);\n",
    "content is available [on Github](git@github.com:ndcbe/CBE60499.git).*\n"
   ]
  },
  {
   "cell_type": "markdown",
   "metadata": {},
   "source": [
    "<!--NAVIGATION-->\n",
    "< [4.1 Convexity Revisited](https://ndcbe.github.io/CBE60499/04.01-Convexity.html) | [Contents](toc.html) | [Tag Index](tag_index.html) | [4.3 Analysis of KKT Conditions](https://ndcbe.github.io/CBE60499/04.03-KKT-Multipliers.html) ><p><a href=\"https://colab.research.google.com/github/ndcbe/CBE60499/blob/master/docs/04.02-Local-Optimality.ipynb\"> <img align=\"left\" src=\"https://colab.research.google.com/assets/colab-badge.svg\" alt=\"Open in Colab\" title=\"Open in Google Colaboratory\"></a><p><a href=\"https://ndcbe.github.io/CBE60499/04.02-Local-Optimality.ipynb\"> <img align=\"left\" src=\"https://img.shields.io/badge/Github-Download-blue.svg\" alt=\"Download\" title=\"Download Notebook\"></a>"
   ]
  },
  {
   "cell_type": "markdown",
   "metadata": {
    "nbpages": {
     "level": 1,
     "link": "[4.2 Local Optimality Conditions](https://ndcbe.github.io/CBE60499/04.02-Local-Optimality.html#4.2-Local-Optimality-Conditions)",
     "section": "4.2 Local Optimality Conditions"
    }
   },
   "source": [
    "# 4.2 Local Optimality Conditions"
   ]
  },
  {
   "cell_type": "markdown",
   "metadata": {
    "nbpages": {
     "level": 1,
     "link": "[4.2 Local Optimality Conditions](https://ndcbe.github.io/CBE60499/04.02-Local-Optimality.html#4.2-Local-Optimality-Conditions)",
     "section": "4.2 Local Optimality Conditions"
    }
   },
   "source": [
    "**Reference** Section 4.2 in Biegler (2010)"
   ]
  },
  {
   "cell_type": "markdown",
   "metadata": {
    "nbpages": {
     "level": 2,
     "link": "[4.2.1 Unconstrained Optimality Conditions](https://ndcbe.github.io/CBE60499/04.02-Local-Optimality.html#4.2.1-Unconstrained-Optimality-Conditions)",
     "section": "4.2.1 Unconstrained Optimality Conditions"
    }
   },
   "source": [
    "## 4.2.1 Unconstrained Optimality Conditions"
   ]
  },
  {
   "cell_type": "markdown",
   "metadata": {
    "nbpages": {
     "level": 2,
     "link": "[4.2.1 Unconstrained Optimality Conditions](https://ndcbe.github.io/CBE60499/04.02-Local-Optimality.html#4.2.1-Unconstrained-Optimality-Conditions)",
     "section": "4.2.1 Unconstrained Optimality Conditions"
    }
   },
   "source": [
    "![picture](./figures/unconstrained_opt.png)"
   ]
  },
  {
   "cell_type": "markdown",
   "metadata": {
    "nbpages": {
     "level": 2,
     "link": "[4.2.2 Karush-Kuhn-Tucker (KKT) Necessary Conditions](https://ndcbe.github.io/CBE60499/04.02-Local-Optimality.html#4.2.2-Karush-Kuhn-Tucker-(KKT)-Necessary-Conditions)",
     "section": "4.2.2 Karush-Kuhn-Tucker (KKT) Necessary Conditions"
    }
   },
   "source": [
    "## 4.2.2 Karush-Kuhn-Tucker (KKT) Necessary Conditions"
   ]
  },
  {
   "cell_type": "markdown",
   "metadata": {
    "nbpages": {
     "level": 2,
     "link": "[4.2.2 Karush-Kuhn-Tucker (KKT) Necessary Conditions](https://ndcbe.github.io/CBE60499/04.02-Local-Optimality.html#4.2.2-Karush-Kuhn-Tucker-(KKT)-Necessary-Conditions)",
     "section": "4.2.2 Karush-Kuhn-Tucker (KKT) Necessary Conditions"
    }
   },
   "source": [
    "![picture](./figures/kkt_1.png)"
   ]
  },
  {
   "cell_type": "markdown",
   "metadata": {
    "nbpages": {
     "level": 2,
     "link": "[4.2.2 Karush-Kuhn-Tucker (KKT) Necessary Conditions](https://ndcbe.github.io/CBE60499/04.02-Local-Optimality.html#4.2.2-Karush-Kuhn-Tucker-(KKT)-Necessary-Conditions)",
     "section": "4.2.2 Karush-Kuhn-Tucker (KKT) Necessary Conditions"
    }
   },
   "source": [
    "![picture](./figures/kkt_2.png)"
   ]
  },
  {
   "cell_type": "markdown",
   "metadata": {
    "nbpages": {
     "level": 2,
     "link": "[4.2.3 Kinematic Interpretation via Example](https://ndcbe.github.io/CBE60499/04.02-Local-Optimality.html#4.2.3-Kinematic-Interpretation-via-Example)",
     "section": "4.2.3 Kinematic Interpretation via Example"
    }
   },
   "source": [
    "## 4.2.3 Kinematic Interpretation via Example\n",
    "\n",
    "Consider the following two dimensional optimization problem:\n",
    "\n",
    "$$\n",
    "\\begin{align} \\min_{x_1,x_2} \\quad & f(x) := x_1^2 - 4 x_1 + \\frac{3}{2} x_2^2 -7x_2 + x_1 x_2 + 9 - \\mathrm{ln}(x_1) - \\mathrm{ln}(x_2) \\\\\n",
    "\\mathrm{s.t.} \\quad & g(x) := 4 - x_1 x_2 \\leq 0 \\\\\n",
    " & h(x) := 2 x_1 - x_2 = 0\n",
    "\\end{align}\n",
    "$$"
   ]
  },
  {
   "cell_type": "code",
   "execution_count": 1,
   "metadata": {
    "nbpages": {
     "level": 2,
     "link": "[4.2.3 Kinematic Interpretation via Example](https://ndcbe.github.io/CBE60499/04.02-Local-Optimality.html#4.2.3-Kinematic-Interpretation-via-Example)",
     "section": "4.2.3 Kinematic Interpretation via Example"
    }
   },
   "outputs": [],
   "source": [
    "import numpy as np\n",
    "import matplotlib.cm as cm\n",
    "import matplotlib.pyplot as plt\n",
    "from pyomo.environ import *"
   ]
  },
  {
   "cell_type": "markdown",
   "metadata": {
    "nbpages": {
     "level": 3,
     "link": "[4.2.3.1 Define Function for Visualization](https://ndcbe.github.io/CBE60499/04.02-Local-Optimality.html#4.2.3.1-Define-Function-for-Visualization)",
     "section": "4.2.3.1 Define Function for Visualization"
    }
   },
   "source": [
    "### 4.2.3.1 Define Function for Visualization"
   ]
  },
  {
   "cell_type": "code",
   "execution_count": 2,
   "metadata": {
    "nbpages": {
     "level": 3,
     "link": "[4.2.3.1 Define Function for Visualization](https://ndcbe.github.io/CBE60499/04.02-Local-Optimality.html#4.2.3.1-Define-Function-for-Visualization)",
     "section": "4.2.3.1 Define Function for Visualization"
    }
   },
   "outputs": [],
   "source": [
    "## Objective function\n",
    "def f(x):\n",
    "    return x[0]**2 - 4*x[0] + 1.5*x[1]**2 - 7*x[1] + x[0]*x[1] + 9 - np.log(x[0]) - np.log(x[1])\n",
    "\n",
    "## Gradient of objective f(x)\n",
    "def df(x):\n",
    "    return np.array((2*x[0] - 4 + x[1] - 1/x[0], 3*x[1] - 7 + x[0] - 1/x[1]))\n",
    "\n",
    "## Gradient of inequality constraint g(x)\n",
    "def dg(x):\n",
    "    return np.array((-x[1], -x[0]))\n",
    "\n",
    "## Gradient of equality constraint h(x)\n",
    "def dh(x):\n",
    "    return np.array([2, -1])\n",
    "\n",
    "## Function that plots contour of objective, solution, and optionally g(x) <= 0 and h(x) = 0\n",
    "def visualize(xsln,plot_g,plot_h):\n",
    "    ## Create contour plot\n",
    "    \n",
    "    n1 = 101\n",
    "    n2 = 101\n",
    "    x1eval = np.linspace(0.05,10,n1)\n",
    "    x2eval = np.linspace(0.05,10,n2)\n",
    "    \n",
    "    X, Y = np.meshgrid(x1eval, x2eval)\n",
    "    \n",
    "    Z = np.zeros([n2,n1])\n",
    "    \n",
    "    for i in range(0,n1):\n",
    "        for j in range(0,n2):\n",
    "            Z[j,i] = f((X[j,i], Y[j,i]))\n",
    "            \n",
    "    fig, ax = plt.subplots()\n",
    "    CS = ax.contour(X, Y, Z)\n",
    "    ax.clabel(CS, inline=1, fontsize=10)\n",
    "    \n",
    "    ## Plot g(x) <= 0\n",
    "    if(plot_g):\n",
    "        g_x2 = np.zeros(n1)\n",
    "        for i in range(0,n1):\n",
    "            # Inverted g(x) = 0 to calculate x2 explicitly from x1\n",
    "            g_x2[i] = 4 / x1eval[i]\n",
    "        \n",
    "        plt.plot(x1eval,g_x2,color=\"blue\",linestyle=\"-.\",label=\"$g(x) \\leq 0$\")\n",
    "    \n",
    "    ## Plot h(x) = 0\n",
    "    if(plot_h):\n",
    "        h_x2 = 2*x1eval\n",
    "        plt.plot(x1eval,h_x2,color=\"red\",linestyle=\"--\",label=\"$h(x) = 0$\")\n",
    "    \n",
    "    ## Plot solution\n",
    "    plt.scatter(xsln[0],xsln[1],marker=\"*\",color=\"black\",label=\"$x^{*}$\")\n",
    "    \n",
    "    ## Adjust x and y limits\n",
    "    plt.xlim([-1,10])\n",
    "    plt.ylim([-1,10])\n",
    "    \n",
    "    ## Add legend\n",
    "    plt.legend()\n",
    "        \n",
    "## Function that draws gradient of f(x) and optionally g(x) and h(x)\n",
    "def draw_gradients(x,with_g,with_h):\n",
    "    dh_x = dh(x)\n",
    "    \n",
    "    ## Draw gradient of f(x) [objective]\n",
    "    df_x = df(x)\n",
    "    plt.arrow(x[0],x[1],df_x[0],df_x[1],color=\"black\",width=0.1)\n",
    "    \n",
    "    ## Draw gradient of g(x) [inequality]\n",
    "    if(with_g):\n",
    "        dg_x = dg(x)\n",
    "        plt.arrow(x[0],x[1],dg_x[0],dg_x[1],color=\"blue\",width=0.1)\n",
    "        \n",
    "    ## Draw gradient of h(x) [equality]\n",
    "    if(with_h):\n",
    "        dh_x = dh(x)\n",
    "        plt.arrow(x[0],x[1],dh_x[0],dh_x[1],color=\"red\",width=0.1)\n",
    "    \n",
    "    "
   ]
  },
  {
   "cell_type": "markdown",
   "metadata": {
    "nbpages": {
     "level": 3,
     "link": "[4.2.3.2 Define function to solve optimization problem with Pyomo](https://ndcbe.github.io/CBE60499/04.02-Local-Optimality.html#4.2.3.2-Define-function-to-solve-optimization-problem-with-Pyomo)",
     "section": "4.2.3.2 Define function to solve optimization problem with Pyomo"
    }
   },
   "source": [
    "### 4.2.3.2 Define function to solve optimization problem with Pyomo"
   ]
  },
  {
   "cell_type": "code",
   "execution_count": 2,
   "metadata": {
    "nbpages": {
     "level": 3,
     "link": "[4.2.3.2 Define function to solve optimization problem with Pyomo](https://ndcbe.github.io/CBE60499/04.02-Local-Optimality.html#4.2.3.2-Define-function-to-solve-optimization-problem-with-Pyomo)",
     "section": "4.2.3.2 Define function to solve optimization problem with Pyomo"
    }
   },
   "outputs": [],
   "source": [
    "def solve_opt(consider_g,consider_h):\n",
    "    \n",
    "    ## Create concrete Pyomo model\n",
    "    m = ConcreteModel()\n",
    "    \n",
    "    ## Declare variables with initial values\n",
    "    m.x1 = Var(bounds=(0,100),initialize=10)\n",
    "    m.x2 = Var(bounds=(0,100),initialize=10)\n",
    "    \n",
    "    ## Declare objective\n",
    "    m.OBJ = Objective(expr=m.x1**2 - 4*m.x1 + 1.5*m.x2**2 - 7*m.x2 + m.x1 * m.x2 + 9 - log(m.x1) - log(m.x2), sense = minimize)\n",
    " \n",
    "    if(consider_g):\n",
    "        ## Add inequality constraint\n",
    "        m.con1 = Constraint(expr=4 - m.x1*m.x2 <= 0)\n",
    "        \n",
    "    if(consider_h):\n",
    "        ## Add equality constraint\n",
    "        m.con2 = Constraint(expr=2*m.x1 - m.x2 == 0)\n",
    "    \n",
    "    ## Specify IPOPT as solver\n",
    "    solver = SolverFactory('ipopt')\n",
    "\n",
    "    ## Solve the model\n",
    "    results = solver.solve(m, tee = True)\n",
    "    \n",
    "    ## Return the solution\n",
    "    return [value(m.x1),value(m.x2)]\n",
    "    "
   ]
  },
  {
   "cell_type": "markdown",
   "metadata": {
    "nbpages": {
     "level": 3,
     "link": "[4.2.3.3 Take 1: Unconstrained](https://ndcbe.github.io/CBE60499/04.02-Local-Optimality.html#4.2.3.3-Take-1:-Unconstrained)",
     "section": "4.2.3.3 Take 1: Unconstrained"
    }
   },
   "source": [
    "### 4.2.3.3 Take 1: Unconstrained"
   ]
  },
  {
   "cell_type": "code",
   "execution_count": 4,
   "metadata": {
    "nbpages": {
     "level": 3,
     "link": "[4.2.3.3 Take 1: Unconstrained](https://ndcbe.github.io/CBE60499/04.02-Local-Optimality.html#4.2.3.3-Take-1:-Unconstrained)",
     "section": "4.2.3.3 Take 1: Unconstrained"
    }
   },
   "outputs": [
    {
     "name": "stdout",
     "output_type": "stream",
     "text": [
      "Ipopt 3.12.10: \n",
      "\n",
      "******************************************************************************\n",
      "This program contains Ipopt, a library for large-scale nonlinear optimization.\n",
      " Ipopt is released as open source code under the Eclipse Public License (EPL).\n",
      "         For more information visit http://projects.coin-or.org/Ipopt\n",
      "******************************************************************************\n",
      "\n",
      "This is Ipopt version 3.12.10, running with linear solver mumps.\n",
      "NOTE: Other linear solvers might be more efficient (see Ipopt documentation).\n",
      "\n",
      "Number of nonzeros in equality constraint Jacobian...:        0\n",
      "Number of nonzeros in inequality constraint Jacobian.:        0\n",
      "Number of nonzeros in Lagrangian Hessian.............:        3\n",
      "\n",
      "Total number of variables............................:        2\n",
      "                     variables with only lower bounds:        0\n",
      "                variables with lower and upper bounds:        2\n",
      "                     variables with only upper bounds:        0\n",
      "Total number of equality constraints.................:        0\n",
      "Total number of inequality constraints...............:        0\n",
      "        inequality constraints with only lower bounds:        0\n",
      "   inequality constraints with lower and upper bounds:        0\n",
      "        inequality constraints with only upper bounds:        0\n",
      "\n",
      "iter    objective    inf_pr   inf_du lg(mu)  ||d||  lg(rg) alpha_du alpha_pr  ls\n",
      "   0  2.4439483e+02 0.00e+00 3.29e+01  -1.0 0.00e+00    -  0.00e+00 0.00e+00   0\n",
      "   1 -8.0094510e-01 0.00e+00 4.03e-01  -1.0 8.53e+00    -  9.05e-01 1.00e+00f  1\n",
      "   2 -8.7120418e-01 0.00e+00 2.51e-03  -1.0 1.31e-01    -  1.00e+00 1.00e+00f  1\n",
      "   3 -8.7421973e-01 0.00e+00 5.46e-04  -2.5 3.76e-02    -  1.00e+00 1.00e+00f  1\n",
      "   4 -8.7422408e-01 0.00e+00 1.29e-06  -3.8 1.78e-03    -  1.00e+00 1.00e+00f  1\n",
      "   5 -8.7422408e-01 0.00e+00 6.93e-10  -5.7 4.12e-05    -  1.00e+00 1.00e+00f  1\n",
      "   6 -8.7422408e-01 0.00e+00 9.45e-14  -8.6 4.81e-07    -  1.00e+00 1.00e+00f  1\n",
      "\n",
      "Number of Iterations....: 6\n",
      "\n",
      "                                   (scaled)                 (unscaled)\n",
      "Objective...............:  -8.7422408318635370e-01   -8.7422408318635370e-01\n",
      "Dual infeasibility......:   9.4500693109869893e-14    9.4500693109869893e-14\n",
      "Constraint violation....:   0.0000000000000000e+00    0.0000000000000000e+00\n",
      "Complementarity.........:   2.5065634500861016e-09    2.5065634500861016e-09\n",
      "Overall NLP error.......:   2.5065634500861016e-09    2.5065634500861016e-09\n",
      "\n",
      "\n",
      "Number of objective function evaluations             = 7\n",
      "Number of objective gradient evaluations             = 7\n",
      "Number of equality constraint evaluations            = 0\n",
      "Number of inequality constraint evaluations          = 0\n",
      "Number of equality constraint Jacobian evaluations   = 0\n",
      "Number of inequality constraint Jacobian evaluations = 0\n",
      "Number of Lagrangian Hessian evaluations             = 6\n",
      "Total CPU secs in IPOPT (w/o function evaluations)   =      0.010\n",
      "Total CPU secs in NLP function evaluations           =      0.000\n",
      "\n",
      "EXIT: Optimal Solution Found.\n",
      "\b"
     ]
    },
    {
     "data": {
      "image/png": "[encoded data removed]",
      "text/plain": [
       "<matplotlib.figure.Figure at 0x103a6a320>"
      ]
     },
     "metadata": {},
     "output_type": "display_data"
    }
   ],
   "source": [
    "# Solve optimization problem\n",
    "xsln = solve_opt(False,False)\n",
    "\n",
    "# Create contour plot\n",
    "visualize(xsln,False,False)\n",
    "\n",
    "plt.show()"
   ]
  },
  {
   "cell_type": "markdown",
   "metadata": {
    "nbpages": {
     "level": 3,
     "link": "[4.2.3.4 Take 2. With $g(x) \\leq 0$](https://ndcbe.github.io/CBE60499/04.02-Local-Optimality.html#4.2.3.4-Take-2.-With-$g(x)-\\leq-0$)",
     "section": "4.2.3.4 Take 2. With $g(x) \\leq 0$"
    }
   },
   "source": [
    "### 4.2.3.4 Take 2. With $g(x) \\leq 0$"
   ]
  },
  {
   "cell_type": "code",
   "execution_count": 5,
   "metadata": {
    "nbpages": {
     "level": 3,
     "link": "[4.2.3.4 Take 2. With $g(x) \\leq 0$](https://ndcbe.github.io/CBE60499/04.02-Local-Optimality.html#4.2.3.4-Take-2.-With-$g(x)-\\leq-0$)",
     "section": "4.2.3.4 Take 2. With $g(x) \\leq 0$"
    }
   },
   "outputs": [
    {
     "name": "stdout",
     "output_type": "stream",
     "text": [
      "Ipopt 3.12.10: \n",
      "\n",
      "******************************************************************************\n",
      "This program contains Ipopt, a library for large-scale nonlinear optimization.\n",
      " Ipopt is released as open source code under the Eclipse Public License (EPL).\n",
      "         For more information visit http://projects.coin-or.org/Ipopt\n",
      "******************************************************************************\n",
      "\n",
      "This is Ipopt version 3.12.10, running with linear solver mumps.\n",
      "NOTE: Other linear solvers might be more efficient (see Ipopt documentation).\n",
      "\n",
      "Number of nonzeros in equality constraint Jacobian...:        0\n",
      "Number of nonzeros in inequality constraint Jacobian.:        2\n",
      "Number of nonzeros in Lagrangian Hessian.............:        3\n",
      "\n",
      "Total number of variables............................:        2\n",
      "                     variables with only lower bounds:        0\n",
      "                variables with lower and upper bounds:        2\n",
      "                     variables with only upper bounds:        0\n",
      "Total number of equality constraints.................:        0\n",
      "Total number of inequality constraints...............:        1\n",
      "        inequality constraints with only lower bounds:        0\n",
      "   inequality constraints with lower and upper bounds:        0\n",
      "        inequality constraints with only upper bounds:        1\n",
      "\n",
      "iter    objective    inf_pr   inf_du lg(mu)  ||d||  lg(rg) alpha_du alpha_pr  ls\n",
      "   0  2.4439483e+02 0.00e+00 3.60e+00  -1.0 0.00e+00    -  0.00e+00 0.00e+00   0\n",
      "   1  4.4804168e+01 0.00e+00 3.92e+00  -1.0 2.13e+02    -  8.82e-01 4.46e-01f  1\n",
      "   2  5.4337665e+00 0.00e+00 1.68e+00  -1.0 2.39e+00    -  1.00e+00 1.00e+00f  1\n",
      "   3  5.2037708e-02 0.00e+00 8.16e-01  -1.0 9.15e-01    -  1.00e+00 1.00e+00f  1\n",
      "   4 -4.4584904e-01 0.00e+00 1.06e-01  -1.7 2.32e-01    -  1.00e+00 1.00e+00h  1\n",
      "   5 -4.8930521e-01 0.00e+00 1.81e-03  -2.5 5.28e-02    -  1.00e+00 1.00e+00h  1\n",
      "   6 -4.9427819e-01 0.00e+00 8.51e-06  -3.8 8.98e-03    -  1.00e+00 1.00e+00h  1\n",
      "   7 -4.9445150e-01 0.00e+00 7.69e-09  -5.7 3.02e-04    -  1.00e+00 1.00e+00h  1\n",
      "   8 -4.9445337e-01 0.00e+00 8.06e-13  -8.6 3.28e-06    -  1.00e+00 1.00e+00h  1\n",
      "\n",
      "Number of Iterations....: 8\n",
      "\n",
      "                                   (scaled)                 (unscaled)\n",
      "Objective...............:  -4.9445336916190996e-01   -4.9445336916190996e-01\n",
      "Dual infeasibility......:   8.0590836175421712e-13    8.0590836175421712e-13\n",
      "Constraint violation....:   0.0000000000000000e+00    0.0000000000000000e+00\n",
      "Complementarity.........:   2.5083384199831901e-09    2.5083384199831901e-09\n",
      "Overall NLP error.......:   2.5083384199831901e-09    2.5083384199831901e-09\n",
      "\n",
      "\n",
      "Number of objective function evaluations             = 9\n",
      "Number of objective gradient evaluations             = 9\n",
      "Number of equality constraint evaluations            = 0\n",
      "Number of inequality constraint evaluations          = 9\n",
      "Number of equality constraint Jacobian evaluations   = 0\n",
      "Number of inequality constraint Jacobian evaluations = 9\n",
      "Number of Lagrangian Hessian evaluations             = 8\n",
      "Total CPU secs in IPOPT (w/o function evaluations)   =      0.012\n",
      "Total CPU secs in NLP function evaluations           =      0.000\n",
      "\n",
      "EXIT: Optimal Solution Found.\n",
      "\b"
     ]
    },
    {
     "data": {
      "image/png": "[encoded data removed]",
      "text/plain": [
       "<matplotlib.figure.Figure at 0x116a7a358>"
      ]
     },
     "metadata": {},
     "output_type": "display_data"
    }
   ],
   "source": [
    "# Solve optimization problem\n",
    "xsln = solve_opt(True,False)\n",
    "\n",
    "# Create contour plot\n",
    "visualize(xsln,True,False)\n",
    "\n",
    "# Draw gradient\n",
    "draw_gradients(xsln,True,False)\n",
    "\n",
    "plt.show()"
   ]
  },
  {
   "cell_type": "markdown",
   "metadata": {
    "nbpages": {
     "level": 3,
     "link": "[4.2.3.5 Take 3. With $g(x) \\leq 0$ and $h(x) = 0$](https://ndcbe.github.io/CBE60499/04.02-Local-Optimality.html#4.2.3.5-Take-3.-With-$g(x)-\\leq-0$-and-$h(x)-=-0$)",
     "section": "4.2.3.5 Take 3. With $g(x) \\leq 0$ and $h(x) = 0$"
    }
   },
   "source": [
    "### 4.2.3.5 Take 3. With $g(x) \\leq 0$ and $h(x) = 0$"
   ]
  },
  {
   "cell_type": "code",
   "execution_count": 6,
   "metadata": {
    "nbpages": {
     "level": 3,
     "link": "[4.2.3.5 Take 3. With $g(x) \\leq 0$ and $h(x) = 0$](https://ndcbe.github.io/CBE60499/04.02-Local-Optimality.html#4.2.3.5-Take-3.-With-$g(x)-\\leq-0$-and-$h(x)-=-0$)",
     "section": "4.2.3.5 Take 3. With $g(x) \\leq 0$ and $h(x) = 0$"
    }
   },
   "outputs": [
    {
     "name": "stdout",
     "output_type": "stream",
     "text": [
      "Ipopt 3.12.10: \n",
      "\n",
      "******************************************************************************\n",
      "This program contains Ipopt, a library for large-scale nonlinear optimization.\n",
      " Ipopt is released as open source code under the Eclipse Public License (EPL).\n",
      "         For more information visit http://projects.coin-or.org/Ipopt\n",
      "******************************************************************************\n",
      "\n",
      "This is Ipopt version 3.12.10, running with linear solver mumps.\n",
      "NOTE: Other linear solvers might be more efficient (see Ipopt documentation).\n",
      "\n",
      "Number of nonzeros in equality constraint Jacobian...:        2\n",
      "Number of nonzeros in inequality constraint Jacobian.:        2\n",
      "Number of nonzeros in Lagrangian Hessian.............:        3\n",
      "\n",
      "Total number of variables............................:        2\n",
      "                     variables with only lower bounds:        0\n",
      "                variables with lower and upper bounds:        2\n",
      "                     variables with only upper bounds:        0\n",
      "Total number of equality constraints.................:        1\n",
      "Total number of inequality constraints...............:        1\n",
      "        inequality constraints with only lower bounds:        0\n",
      "   inequality constraints with lower and upper bounds:        0\n",
      "        inequality constraints with only upper bounds:        1\n",
      "\n",
      "iter    objective    inf_pr   inf_du lg(mu)  ||d||  lg(rg) alpha_du alpha_pr  ls\n",
      "   0  2.4439483e+02 1.00e+01 2.05e+00  -1.0 0.00e+00    -  0.00e+00 0.00e+00   0\n",
      "   1  4.4148045e+01 5.54e+00 2.30e+00  -1.0 2.13e+02    -  8.84e-01 4.46e-01f  1\n",
      "   2  8.2513369e+00 4.16e-01 1.12e+00  -1.0 3.36e+00    -  1.00e+00 9.25e-01f  1\n",
      "   3  1.0558961e+00 0.00e+00 8.05e-01  -1.0 9.84e-01    -  1.00e+00 1.00e+00f  1\n",
      "   4  2.1482166e-01 0.00e+00 1.14e-01  -1.7 2.30e-01    -  1.00e+00 1.00e+00f  1\n",
      "   5  1.6203098e-01 0.00e+00 9.32e-04  -2.5 2.25e-02    -  1.00e+00 1.00e+00h  1\n",
      "   6  1.5801768e-01 0.00e+00 1.94e-06  -3.8 3.61e-03    -  1.00e+00 1.00e+00h  1\n",
      "   7  1.5786332e-01 0.00e+00 1.79e-09  -5.7 1.44e-04    -  1.00e+00 1.00e+00h  1\n",
      "   8  1.5786148e-01 0.00e+00 2.44e-13  -8.6 1.73e-06    -  1.00e+00 1.00e+00h  1\n",
      "\n",
      "Number of Iterations....: 8\n",
      "\n",
      "                                   (scaled)                 (unscaled)\n",
      "Objective...............:   1.5786147595031963e-01    1.5786147595031963e-01\n",
      "Dual infeasibility......:   2.4449104235876087e-13    2.4449104235876087e-13\n",
      "Constraint violation....:   0.0000000000000000e+00    0.0000000000000000e+00\n",
      "Complementarity.........:   2.5065016939133549e-09    2.5065016939133549e-09\n",
      "Overall NLP error.......:   2.5065016939133549e-09    2.5065016939133549e-09\n",
      "\n",
      "\n",
      "Number of objective function evaluations             = 9\n",
      "Number of objective gradient evaluations             = 9\n",
      "Number of equality constraint evaluations            = 9\n",
      "Number of inequality constraint evaluations          = 9\n",
      "Number of equality constraint Jacobian evaluations   = 9\n",
      "Number of inequality constraint Jacobian evaluations = 9\n",
      "Number of Lagrangian Hessian evaluations             = 8\n",
      "Total CPU secs in IPOPT (w/o function evaluations)   =      0.011\n",
      "Total CPU secs in NLP function evaluations           =      0.000\n",
      "\n",
      "EXIT: Optimal Solution Found.\n",
      "\b"
     ]
    },
    {
     "data": {
      "image/png": "[encoded data removed]",
      "text/plain": [
       "<matplotlib.figure.Figure at 0x116b0b438>"
      ]
     },
     "metadata": {},
     "output_type": "display_data"
    }
   ],
   "source": [
    "# Solve optimization problem\n",
    "xsln = solve_opt(True,True)\n",
    "\n",
    "# Create contour plot\n",
    "visualize(xsln,True,True)\n",
    "\n",
    "# Draw gradient\n",
    "draw_gradients(xsln,True,True)\n",
    "\n",
    "plt.show()"
   ]
  },
  {
   "cell_type": "markdown",
   "metadata": {
    "nbpages": {
     "level": 3,
     "link": "[4.2.3.6 Discussion](https://ndcbe.github.io/CBE60499/04.02-Local-Optimality.html#4.2.3.6-Discussion)",
     "section": "4.2.3.6 Discussion"
    }
   },
   "source": [
    "### 4.2.3.6 Discussion\n",
    "\n",
    "Why are the gradient vectors not the same length? I thought the forces were balanced..."
   ]
  },
  {
   "cell_type": "markdown",
   "metadata": {
    "nbpages": {
     "level": 3,
     "link": "[4.2.3.7 Analysis without Constraints](https://ndcbe.github.io/CBE60499/04.02-Local-Optimality.html#4.2.3.7-Analysis-without-Constraints)",
     "section": "4.2.3.7 Analysis without Constraints"
    }
   },
   "source": [
    "### 4.2.3.7 Analysis without Constraints"
   ]
  },
  {
   "cell_type": "markdown",
   "metadata": {
    "nbpages": {
     "level": 3,
     "link": "[4.2.3.7 Analysis without Constraints](https://ndcbe.github.io/CBE60499/04.02-Local-Optimality.html#4.2.3.7-Analysis-without-Constraints)",
     "section": "4.2.3.7 Analysis without Constraints"
    }
   },
   "source": [
    "![picture](./figures/unconstrained_analysis.png)"
   ]
  },
  {
   "cell_type": "markdown",
   "metadata": {
    "nbpages": {
     "level": 3,
     "link": "[4.2.3.8 Analysis with Constraints](https://ndcbe.github.io/CBE60499/04.02-Local-Optimality.html#4.2.3.8-Analysis-with-Constraints)",
     "section": "4.2.3.8 Analysis with Constraints"
    }
   },
   "source": [
    "### 4.2.3.8 Analysis with Constraints"
   ]
  },
  {
   "cell_type": "markdown",
   "metadata": {
    "nbpages": {
     "level": 3,
     "link": "[4.2.3.8 Analysis with Constraints](https://ndcbe.github.io/CBE60499/04.02-Local-Optimality.html#4.2.3.8-Analysis-with-Constraints)",
     "section": "4.2.3.8 Analysis with Constraints"
    }
   },
   "source": [
    "![picture](./figures/constrained_analysis.png)"
   ]
  },
  {
   "cell_type": "markdown",
   "metadata": {},
   "source": [
    "<!--NAVIGATION-->\n",
    "< [4.1 Convexity Revisited](https://ndcbe.github.io/CBE60499/04.01-Convexity.html) | [Contents](toc.html) | [Tag Index](tag_index.html) | [4.3 Analysis of KKT Conditions](https://ndcbe.github.io/CBE60499/04.03-KKT-Multipliers.html) ><p><a href=\"https://colab.research.google.com/github/ndcbe/CBE60499/blob/master/docs/04.02-Local-Optimality.ipynb\"> <img align=\"left\" src=\"https://colab.research.google.com/assets/colab-badge.svg\" alt=\"Open in Colab\" title=\"Open in Google Colaboratory\"></a><p><a href=\"https://ndcbe.github.io/CBE60499/04.02-Local-Optimality.ipynb\"> <img align=\"left\" src=\"https://img.shields.io/badge/Github-Download-blue.svg\" alt=\"Download\" title=\"Download Notebook\"></a>"
   ]
  }
 ],
 "metadata": {
  "kernelspec": {
   "display_name": "Python 3",
   "language": "python",
   "name": "python3"
  },
  "language_info": {
   "codemirror_mode": {
    "name": "ipython",
    "version": 3
   },
   "file_extension": ".py",
   "mimetype": "text/x-python",
   "name": "python",
   "nbconvert_exporter": "python",
   "pygments_lexer": "ipython3",
   "version": "3.8.6"
  }
 },
 "nbformat": 4,
 "nbformat_minor": 2
}
