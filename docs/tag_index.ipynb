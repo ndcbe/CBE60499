{
 "cells": [
  {
   "cell_type": "markdown",
   "id": "0c179cc7",
   "metadata": {},
   "source": [
    "# [CBE60499](https://ndcbe.github.io/CBE60499)\n",
    "\n",
    "## Tag Index\n",
    "* <a name=gradescope></a>gradescope\n",
    "    - [3.7.1.1 Exact solution](https://ndcbe.github.io/CBE60499/03.07-Algorithms1.html#3.7.1.1-Exact-solution)\n",
    "    - [3.7.2.1 Calculate eigenvalues by hand (on paper)](https://ndcbe.github.io/CBE60499/03.07-Algorithms1.html#3.7.2.1-Calculate-eigenvalues-by-hand-(on-paper))\n",
    "    - [3.7.2.3 Definiteness](https://ndcbe.github.io/CBE60499/03.07-Algorithms1.html#3.7.2.3-Definiteness)\n",
    "    - [3.7.3 Convexity](https://ndcbe.github.io/CBE60499/03.07-Algorithms1.html#3.7.3-Convexity)\n",
    "    - [3.8.1.1 Finite difference order](https://ndcbe.github.io/CBE60499/03.08-Algorithms2.html#3.8.1.1-Finite-difference-order)"
   ]
  }
 ],
 "metadata": {},
 "nbformat": 4,
 "nbformat_minor": 5
}
