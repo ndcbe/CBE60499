{
 "cells": [
  {
   "cell_type": "markdown",
   "metadata": {},
   "source": [
    "<!--NOTEBOOK_HEADER-->\n",
    "*This notebook contains material from [CBE60499](https://ndcbe.github.io/CBE60499);\n",
    "content is available [on Github](git@github.com:ndcbe/CBE60499.git).*\n"
   ]
  },
  {
   "cell_type": "markdown",
   "metadata": {},
   "source": [
    "<!--NAVIGATION-->\n",
    "< [4.6 NLP Diagnostics with Degeneracy Hunter](https://ndcbe.github.io/CBE60499/04.06-NLP-Diagnostics.html) | [Contents](toc.html) | [Tag Index](tag_index.html) | [4.8 Inertia-Corrected Netwon Method for Equality Constrained NLPs](https://ndcbe.github.io/CBE60499/04.08-Interior-Point2.html) ><p><a href=\"https://colab.research.google.com/github/ndcbe/CBE60499/blob/master/docs/04.07-Interior-Point1.ipynb\"> <img align=\"left\" src=\"https://colab.research.google.com/assets/colab-badge.svg\" alt=\"Open in Colab\" title=\"Open in Google Colaboratory\"></a><p><a href=\"https://ndcbe.github.io/CBE60499/04.07-Interior-Point1.ipynb\"> <img align=\"left\" src=\"https://img.shields.io/badge/Github-Download-blue.svg\" alt=\"Download\" title=\"Download Notebook\"></a>"
   ]
  },
  {
   "cell_type": "markdown",
   "metadata": {
    "nbpages": {
     "level": 1,
     "link": "[4.7 Simple Netwon Method for Equality Constrained NLPs](https://ndcbe.github.io/CBE60499/04.07-Interior-Point1.html#4.7-Simple-Netwon-Method-for-Equality-Constrained-NLPs)",
     "section": "4.7 Simple Netwon Method for Equality Constrained NLPs"
    }
   },
   "source": [
    "# 4.7 Simple Netwon Method for Equality Constrained NLPs"
   ]
  },
  {
   "cell_type": "markdown",
   "metadata": {
    "nbpages": {
     "level": 1,
     "link": "[4.7 Simple Netwon Method for Equality Constrained NLPs](https://ndcbe.github.io/CBE60499/04.07-Interior-Point1.html#4.7-Simple-Netwon-Method-for-Equality-Constrained-NLPs)",
     "section": "4.7 Simple Netwon Method for Equality Constrained NLPs"
    }
   },
   "source": [
    "**Reference**: Section 5.2 in Biegler (2010)"
   ]
  },
  {
   "cell_type": "markdown",
   "metadata": {
    "nbpages": {
     "level": 1,
     "link": "[4.7 Simple Netwon Method for Equality Constrained NLPs](https://ndcbe.github.io/CBE60499/04.07-Interior-Point1.html#4.7-Simple-Netwon-Method-for-Equality-Constrained-NLPs)",
     "section": "4.7 Simple Netwon Method for Equality Constrained NLPs"
    }
   },
   "source": [
    "![Alg51](figures/alg5-1.png)"
   ]
  },
  {
   "cell_type": "markdown",
   "metadata": {
    "nbpages": {
     "level": 2,
     "link": "[4.7.1 Helper Functions](https://ndcbe.github.io/CBE60499/04.07-Interior-Point1.html#4.7.1-Helper-Functions)",
     "section": "4.7.1 Helper Functions"
    }
   },
   "source": [
    "## 4.7.1 Helper Functions\n"
   ]
  },
  {
   "cell_type": "code",
   "execution_count": 1,
   "metadata": {
    "nbpages": {
     "level": 2,
     "link": "[4.7.1 Helper Functions](https://ndcbe.github.io/CBE60499/04.07-Interior-Point1.html#4.7.1-Helper-Functions)",
     "section": "4.7.1 Helper Functions"
    }
   },
   "outputs": [],
   "source": [
    "# Load required Python libraries.\n",
    "import matplotlib.pyplot as plt\n",
    "import numpy as np\n",
    "from scipy import linalg\n",
    "\n",
    "## Check is element of array is NaN\n",
    "def check_nan(A):\n",
    "    return np.sum(np.isnan(A))\n",
    "\n",
    "## Calculate gradient with central finite difference\n",
    "## Calculate gradient with central finite difference\n",
    "def my_grad_approx(x,f,eps1,verbose=False):\n",
    "    '''\n",
    "    Calculate gradient of function f using central difference formula\n",
    "    \n",
    "    Inputs:\n",
    "        x - point for which to evaluate gradient\n",
    "        f - function to consider\n",
    "        eps1 - perturbation size\n",
    "        \n",
    "    Outputs:\n",
    "        grad - gradient (vector)\n",
    "    '''\n",
    "    \n",
    "    n = len(x)\n",
    "    grad = np.zeros(n)\n",
    "    \n",
    "    if(verbose):\n",
    "        print(\"***** my_grad_approx at x = \",x,\"*****\")\n",
    "    \n",
    "    for i in range(0,n):\n",
    "        \n",
    "        # Create vector of zeros except eps in position i\n",
    "        e = np.zeros(n)\n",
    "        e[i] = eps1\n",
    "        \n",
    "        # Finite difference formula\n",
    "        my_f_plus = f(x + e)\n",
    "        my_f_minus = f(x - e)\n",
    "        \n",
    "        # Diagnostics\n",
    "        if(verbose):\n",
    "            print(\"e[\",i,\"] = \",e)\n",
    "            print(\"f(x + e[\",i,\"]) = \",my_f_plus)\n",
    "            print(\"f(x - e[\",i,\"]) = \",my_f_minus)\n",
    "        \n",
    "        \n",
    "        grad[i] = (my_f_plus - my_f_minus)/(2*eps1)\n",
    "    \n",
    "    if(verbose):\n",
    "        print(\"***** Done. ***** \\n\")\n",
    "    \n",
    "    return grad\n",
    "\n",
    "def my_jac_approx(x,h,eps1,verbose=False):\n",
    "    '''\n",
    "    Calculate Jacobian of function h(x) using central difference formula\n",
    "    \n",
    "    Inputs:\n",
    "        x - point for which to evaluate gradient\n",
    "        h - vector-valued function to consider. h(x): R^n --> R^m\n",
    "        eps1 - perturbation size\n",
    "        \n",
    "    Outputs:\n",
    "        A - Jacobian (n x m matrix)\n",
    "    '''\n",
    "    \n",
    "    # Check h(x) at x\n",
    "    h_x0 = h(x)\n",
    "    \n",
    "    # Extract dimensions\n",
    "    n = len(x)\n",
    "    m = len(h_x0)\n",
    "    \n",
    "    # Initialize Jacobian matrix\n",
    "    A = np.zeros((n,m))\n",
    "    \n",
    "    # Calculate Jacobian by row\n",
    "    for i in range(0,n):\n",
    "        \n",
    "        # Create vector of zeros except eps in position i\n",
    "        e = np.zeros(n)\n",
    "        e[i] = eps1\n",
    "        \n",
    "        # Finite difference formula\n",
    "        my_h_plus = h(x + e)\n",
    "        my_h_minus = h(x - e)\n",
    "        \n",
    "        # Diagnostics\n",
    "        if(verbose):\n",
    "            print(\"e[\",i,\"] = \",e)\n",
    "            print(\"h(x + e[\",i,\"]) = \",my_h_plus)\n",
    "            print(\"h(x - e[\",i,\"]) = \",my_h_minus)\n",
    "        \n",
    "        \n",
    "        A[i,:] = (my_h_plus - my_h_minus)/(2*eps1)\n",
    "    \n",
    "    if(verbose):\n",
    "        print(\"***** Done. ***** \\n\")\n",
    "    \n",
    "    return A\n",
    "    \n",
    "## Calculate gradient using central finite difference and my_hes_approx\n",
    "def my_hes_approx(x,grad,eps2):\n",
    "    '''\n",
    "    Calculate gradient of function my_f using central difference formula and my_grad\n",
    "    \n",
    "    Inputs:\n",
    "        x - point for which to evaluate gradient\n",
    "        grad - function to calculate the gradient\n",
    "        eps2 - perturbation size (for Hessian NOT gradient approximation)\n",
    "        \n",
    "    Outputs:\n",
    "        H - Hessian (matrix)\n",
    "    '''\n",
    "    \n",
    "    n = len(x)\n",
    "    H = np.zeros([n,n])\n",
    "    \n",
    "    for i in range(0,n):\n",
    "        # Create vector of zeros except eps in position i\n",
    "        e = np.zeros(n)\n",
    "        e[i] = eps2\n",
    "        \n",
    "        # Evaluate gradient twice\n",
    "        grad_plus = grad(x + e)\n",
    "        grad_minus = grad(x - e)\n",
    "        \n",
    "        # Notice we are building the Hessian by column (or row)\n",
    "        H[:,i] = (grad_plus - grad_minus)/(2*eps2)\n",
    "\n",
    "    return H\n",
    "\n",
    "## Linear algebra calculation\n",
    "def xxT(u):\n",
    "    '''\n",
    "    Calculates u*u.T to circumvent limitation with SciPy\n",
    "    \n",
    "    Arguments:\n",
    "    u - numpy 1D array\n",
    "    \n",
    "    Returns:\n",
    "    u*u.T\n",
    "    \n",
    "    Assume u is a nx1 vector.\n",
    "    Recall: NumPy does not distinguish between row or column vectors\n",
    "    \n",
    "    u.dot(u) returns a scalar. This functon returns an nxn matrix.\n",
    "    '''\n",
    "    \n",
    "    n = len(u)\n",
    "    A = np.zeros([n,n])\n",
    "    for i in range(0,n):\n",
    "        for j in range(0,n):\n",
    "            A[i,j] = u[i]*u[j]\n",
    "    \n",
    "    return A\n",
    "\n",
    "## Analyze Hessian\n",
    "def analyze_hes(B):\n",
    "    print(B,\"\\n\")\n",
    "    \n",
    "    l = linalg.eigvals(B)\n",
    "    print(\"Eigenvalues: \",l,\"\\n\")"
   ]
  },
  {
   "cell_type": "markdown",
   "metadata": {
    "nbpages": {
     "level": 2,
     "link": "[4.7.2 Algorithm 5.1](https://ndcbe.github.io/CBE60499/04.07-Interior-Point1.html#4.7.2-Algorithm-5.1)",
     "section": "4.7.2 Algorithm 5.1"
    }
   },
   "source": [
    "## 4.7.2 Algorithm 5.1"
   ]
  },
  {
   "cell_type": "code",
   "execution_count": 2,
   "metadata": {
    "nbpages": {
     "level": 2,
     "link": "[4.7.2 Algorithm 5.1](https://ndcbe.github.io/CBE60499/04.07-Interior-Point1.html#4.7.2-Algorithm-5.1)",
     "section": "4.7.2 Algorithm 5.1"
    }
   },
   "outputs": [],
   "source": [
    "def alg51(x0,calc_f,calc_h,eps1=1E-6,eps2=1E-6,max_iter=50,verbose=False):\n",
    "    '''\n",
    "    Basic Full Space Newton Method for Equality Constrained NLP\n",
    "    \n",
    "    Input:\n",
    "        x0 - starting point (vector)\n",
    "        calc_f - function to calculate objective (returns scalar)\n",
    "        calc_h - function to calculate constraints (returns vector)\n",
    "        eps1 - tolerance for primal and dual steps\n",
    "        eps2 - tolerance for gradient of L1\n",
    "        \n",
    "    Outputs:\n",
    "        x - history of steps (primal variables)\n",
    "        v - history of steps (dual variables)\n",
    "        f - history of objective evaluations\n",
    "        h - history of constraint evaluations\n",
    "        df - history of objective gradients\n",
    "        dL - history of Lagrange function gradients\n",
    "        A - history of constraint Jacobians\n",
    "        W - history of Lagrange Hessians\n",
    "    \n",
    "    Notes:\n",
    "        1. For simplicity, central finite difference is used \n",
    "           for all gradient calculations.\n",
    "    '''\n",
    "    \n",
    "    # Declare iteration histories as empty lists\n",
    "    x = []\n",
    "    v = []\n",
    "    f = []\n",
    "    L = []\n",
    "    h = []\n",
    "    df = []\n",
    "    dL = []\n",
    "    A = []\n",
    "    W = []\n",
    "    \n",
    "    # Flag for iterations\n",
    "    flag = True\n",
    "    \n",
    "    # Iteration counter\n",
    "    k = 0\n",
    "    \n",
    "    # Copy initial point to primal variable history\n",
    "    n = len(x0)\n",
    "    x.append(x0)\n",
    "    \n",
    "    # Evaluate objective and constraints at initial point\n",
    "    f.append(calc_f(x0))\n",
    "    h.append(calc_h(x0))\n",
    "    \n",
    "    # Determine number of equality constraints\n",
    "    m = len(h[0])\n",
    "    \n",
    "    # Initial dual variables with vector of ones\n",
    "    v.append(np.ones(m))\n",
    "    \n",
    "    # Print header for iteration information\n",
    "    print(\"Iter. \\tf(x) \\t\\t||h(x)|| \\t||grad_L(x)|| \\t||dx|| \\t\\t||dv||\")\n",
    "    \n",
    "    while(flag and k < max_iter):\n",
    "        \n",
    "        # STEP 1. Construct KKT matrix\n",
    "        \n",
    "        if(k > 0):\n",
    "            # Evaluate objective function\n",
    "            f.append(calc_f(x[k]))\n",
    "            \n",
    "            # Evaluate constraint function\n",
    "            h.append(calc_h(x[k]))\n",
    "        \n",
    "        # Evaluate objective gradient\n",
    "        df.append(my_grad_approx(x[k],calc_f,1E-6))\n",
    "        \n",
    "        # Evaluate constraint Jacobian\n",
    "        A.append(my_jac_approx(x[k],calc_h,1E-6))\n",
    "        \n",
    "        # Evaluate gradient of Lagrange function\n",
    "        L_func = lambda x_ : calc_f(x_) + (calc_h(x_)).dot(v[k])\n",
    "        L_grad = lambda x_ : my_grad_approx(x_,L_func,1E-6)\n",
    "        dL.append(L_grad(x[k]))\n",
    "        norm_dL = linalg.norm(dL[k])\n",
    "        \n",
    "        # Evaluate Hessian of Lagrange function\n",
    "        W.append(my_hes_approx(x[k],L_grad,1E-6))\n",
    "        \n",
    "        if(verbose):\n",
    "            print(\"*** k =\",k,\" ***\")\n",
    "            print(\"x_k =\",x[k])\n",
    "            print(\"v_k =\",v[k])\n",
    "            print(\"f_k =\",f[k])\n",
    "            print(\"df_k =\",df[k])\n",
    "            print(\"h_k =\",h[k])\n",
    "            print(\"A_k =\\n\",A[k])\n",
    "            print(\"W_k =\\n\",W[k])\n",
    "            print(\"\\n\")\n",
    "        \n",
    "        # Assemble KKT matrix\n",
    "        KKT_top = np.concatenate((W[k],A[k]),axis=1)\n",
    "        KKT_bot = np.concatenate((A[k].T,np.zeros((m,m))),axis=1)\n",
    "        KKT = np.concatenate((KKT_top,KKT_bot),axis=0)\n",
    "        \n",
    "        if(verbose):\n",
    "            print(\"KKT matrix =\\n\",KKT,\"\\n\")\n",
    "        \n",
    "        # Check if KKT matrix is singular\n",
    "        l, eigvec = linalg.eig(KKT)\n",
    "        \n",
    "        if(verbose):\n",
    "            print(\"KKT matrix eigenvalues:\")\n",
    "            print(l)\n",
    "        \n",
    "        zero_eigenvalues = sum(np.abs(l) <= 1E-8)\n",
    "        \n",
    "        if(zero_eigenvalues > 0):\n",
    "            flag = False\n",
    "            print(\"KKT matrix is singular. Eigenvalues:\\n\")\n",
    "            print(l,\"\\n\")\n",
    "        \n",
    "        ## STEP 2. Solve linear system.\n",
    "        \n",
    "        if(flag):\n",
    "            b = -np.concatenate((dL[k],h[k]),axis=0)\n",
    "            z = linalg.solve(KKT,b)\n",
    "        else:\n",
    "            z = []\n",
    "            \n",
    "        ## STEP 3. Take step\n",
    "        if(flag):\n",
    "            dx = z[0:n]\n",
    "            dv = z[n:(n+m+1)]\n",
    "            \n",
    "            x.append(x[k] + dx)\n",
    "            v.append(v[k] + dv)\n",
    "            \n",
    "            norm_dx = linalg.norm(dx)\n",
    "            norm_dv = linalg.norm(dv)\n",
    "        \n",
    "        ## Print iteration information\n",
    "        print(k,'  \\t{0: 1.4e} \\t{1:1.4e} \\t{2:1.4e}'.format(f[k],linalg.norm(h[k]),norm_dL),end='')\n",
    "        \n",
    "        if flag:\n",
    "            print(' \\t{0: 1.4e} \\t{1: 1.4e}'.format(norm_dx,norm_dv),end='\\n')\n",
    "        else:\n",
    "            print(' \\t -------  \\t -------',end='\\n')\n",
    "         \n",
    "        # Increment counter\n",
    "        k = k + 1\n",
    "        \n",
    "        ## Check convergence criteria\n",
    "        if(flag):\n",
    "            flag = norm_dx > eps1 and norm_dv > eps1 and norm_dL > eps2\n",
    "    \n",
    "    if (not flag) and k >= max_iter:\n",
    "        print(\"Reached maximum number of iterations.\")\n",
    "    \n",
    "    return x,v,f,h,df,dL,A,W"
   ]
  },
  {
   "cell_type": "markdown",
   "metadata": {
    "nbpages": {
     "level": 2,
     "link": "[4.7.3 Example Problem 1](https://ndcbe.github.io/CBE60499/04.07-Interior-Point1.html#4.7.3-Example-Problem-1)",
     "section": "4.7.3 Example Problem 1"
    }
   },
   "source": [
    "## 4.7.3 Example Problem 1\n",
    "\n",
    "Consider:\n",
    "\n",
    "$$\\begin{align*} \\min_{x} \\quad & x_1^2 + 2 x_2^2 - x_3 \\\\\n",
    "\\mathrm{s.t.} \\quad & x_1 + x_2 = 1 \\\\\n",
    "& x_1 + x_2 - x_3 = 5\n",
    "\\end{align*} $$\n",
    "\n",
    "### Define Functions"
   ]
  },
  {
   "cell_type": "code",
   "execution_count": 3,
   "metadata": {
    "nbpages": {
     "level": 2,
     "link": "[4.7.3 Example Problem 1](https://ndcbe.github.io/CBE60499/04.07-Interior-Point1.html#4.7.3-Example-Problem-1)",
     "section": "4.7.3 Example Problem 1"
    }
   },
   "outputs": [],
   "source": [
    "def my_f(x):\n",
    "    return x[0]**2 + 2*x[1]**2 - 1*x[2]\n",
    "\n",
    "def my_h(x):\n",
    "    h = np.zeros(2)\n",
    "    \n",
    "    h[0] = x[0] + x[1] - 1\n",
    "    h[1] = x[0] + x[1] - x[2] - 5\n",
    "    \n",
    "    return h"
   ]
  },
  {
   "cell_type": "markdown",
   "metadata": {
    "nbpages": {
     "level": 3,
     "link": "[4.7.3.1 Test Finite Difference Approximations](https://ndcbe.github.io/CBE60499/04.07-Interior-Point1.html#4.7.3.1-Test-Finite-Difference-Approximations)",
     "section": "4.7.3.1 Test Finite Difference Approximations"
    }
   },
   "source": [
    "### 4.7.3.1 Test Finite Difference Approximations"
   ]
  },
  {
   "cell_type": "code",
   "execution_count": 4,
   "metadata": {
    "nbpages": {
     "level": 3,
     "link": "[4.7.3.1 Test Finite Difference Approximations](https://ndcbe.github.io/CBE60499/04.07-Interior-Point1.html#4.7.3.1-Test-Finite-Difference-Approximations)",
     "section": "4.7.3.1 Test Finite Difference Approximations"
    }
   },
   "outputs": [
    {
     "name": "stdout",
     "output_type": "stream",
     "text": [
      "f(x0) = 2 \n",
      "\n",
      "h(x0) = [ 1. -4.] \n",
      "\n",
      "df(x0) = [ 2.  4. -1.] \n",
      "\n",
      "dh(x0) =\n",
      " [[ 1.  1.]\n",
      " [ 1.  1.]\n",
      " [ 0. -1.]] \n",
      "\n"
     ]
    }
   ],
   "source": [
    "## Define initial point\n",
    "x0 = np.array([1,1,1])\n",
    "\n",
    "## Calculate objective\n",
    "print(\"f(x0) =\",my_f(x0),\"\\n\")\n",
    "\n",
    "## Calculate constraints\n",
    "print(\"h(x0) =\",my_h(x0),\"\\n\")\n",
    "\n",
    "## Calculate objective gradient\n",
    "print(\"df(x0) =\",my_grad_approx(x0,my_f,1E-6),\"\\n\")\n",
    "\n",
    "## Calculate constraint Jacobian\n",
    "print(\"dh(x0) =\\n\",my_jac_approx(x0,my_h,1E-6),\"\\n\")"
   ]
  },
  {
   "cell_type": "markdown",
   "metadata": {
    "nbpages": {
     "level": 3,
     "link": "[4.7.3.2 Test Algorithm 5.1](https://ndcbe.github.io/CBE60499/04.07-Interior-Point1.html#4.7.3.2-Test-Algorithm-5.1)",
     "section": "4.7.3.2 Test Algorithm 5.1"
    }
   },
   "source": [
    "### 4.7.3.2 Test Algorithm 5.1"
   ]
  },
  {
   "cell_type": "code",
   "execution_count": 5,
   "metadata": {
    "nbpages": {
     "level": 3,
     "link": "[4.7.3.2 Test Algorithm 5.1](https://ndcbe.github.io/CBE60499/04.07-Interior-Point1.html#4.7.3.2-Test-Algorithm-5.1)",
     "section": "4.7.3.2 Test Algorithm 5.1"
    }
   },
   "outputs": [
    {
     "name": "stdout",
     "output_type": "stream",
     "text": [
      "Iter. \tf(x) \t\t||h(x)|| \t||grad_L(x)|| \t||dx|| \t\t||dv||\n",
      "0   \t 2.0000e+00 \t4.1231e+00 \t7.4833e+00 \t 5.0553e+00 \t 2.4040e+00\n",
      "1   \t 4.6667e+00 \t5.7632e-10 \t8.2956e-04 \t 1.5000e-04 \t 6.2903e-04\n",
      "2   \t 4.6667e+00 \t0.0000e+00 \t1.4762e-08 \t 1.9888e-09 \t 8.1407e-09\n",
      "\n",
      "x* = [ 0.66666667  0.33333333 -4.        ]\n",
      "\n",
      "v* = [-0.33333333 -1.        ]\n"
     ]
    }
   ],
   "source": [
    "## Run Algorithm 5.1 on test problem\n",
    "results = alg51(x0,my_f,my_h)\n",
    "\n",
    "## Display results\n",
    "xstar = results[0][-1]\n",
    "print(\"\\nx* =\",xstar)\n",
    "\n",
    "## Display results\n",
    "vstar = results[1][-1]\n",
    "print(\"\\nv* =\",vstar)"
   ]
  },
  {
   "cell_type": "markdown",
   "metadata": {
    "nbpages": {
     "level": 2,
     "link": "[4.7.4 Example Problem 2](https://ndcbe.github.io/CBE60499/04.07-Interior-Point1.html#4.7.4-Example-Problem-2)",
     "section": "4.7.4 Example Problem 2"
    }
   },
   "source": [
    "## 4.7.4 Example Problem 2\n",
    "\n",
    "**Can we break Algorithm 5.1?**\n",
    "\n",
    "Probably. Let us try a model where $\\nabla h(x^k)^T$ is always rank-deficient.\n",
    "\n",
    "Consider:\n",
    "$$\\begin{align}\\min_x \\quad & x_1^2 + 2 x_2^2 \\\\\n",
    "\\mathrm{s.t.} \\quad & x_1 + x_2 = 1 \\\\\n",
    " & x_1 + x_2 = 1 \\end{align}$$\n",
    " \n",
    "### Test Algorithm 5.1 with the redundant constraint"
   ]
  },
  {
   "cell_type": "code",
   "execution_count": 6,
   "metadata": {
    "nbpages": {
     "level": 2,
     "link": "[4.7.4 Example Problem 2](https://ndcbe.github.io/CBE60499/04.07-Interior-Point1.html#4.7.4-Example-Problem-2)",
     "section": "4.7.4 Example Problem 2"
    }
   },
   "outputs": [
    {
     "name": "stdout",
     "output_type": "stream",
     "text": [
      "Iter. \tf(x) \t\t||h(x)|| \t||grad_L(x)|| \t||dx|| \t\t||dv||\n",
      "KKT matrix is singular. Eigenvalues:\n",
      "\n",
      "[-1.05145076+0.j  2.51704031+0.j  4.53361158+0.j  0.        +0.j] \n",
      "\n",
      "0   \t 3.0000e+00 \t1.4142e+00 \t7.2111e+00 \t -------  \t -------\n",
      "\n",
      "x* = [1 1]\n",
      "\n",
      "v* = [1. 1.]\n"
     ]
    }
   ],
   "source": [
    "def my_f2(x):\n",
    "    return x[0]**2 + 2*x[1]**2\n",
    "\n",
    "def my_h2(x):\n",
    "    h = np.zeros(2)\n",
    "    h[0] = x[0] + x[1] - 1\n",
    "    h[1] = h[0]\n",
    "    return h\n",
    "\n",
    "x0 = np.array((1,1))\n",
    "\n",
    "## Run Algorithm 5.1 on test problem\n",
    "results = alg51(x0,my_f2,my_h2)\n",
    "\n",
    "## Display results\n",
    "xstar = results[0][-1]\n",
    "print(\"\\nx* =\",xstar)\n",
    "\n",
    "## Display results\n",
    "vstar = results[1][-1]\n",
    "print(\"\\nv* =\",vstar)"
   ]
  },
  {
   "cell_type": "markdown",
   "metadata": {
    "nbpages": {
     "level": 3,
     "link": "[4.7.4.1 Trying Algorithm 5.1 again without the redundant constraint](https://ndcbe.github.io/CBE60499/04.07-Interior-Point1.html#4.7.4.1-Trying-Algorithm-5.1-again-without-the-redundant-constraint)",
     "section": "4.7.4.1 Trying Algorithm 5.1 again without the redundant constraint"
    }
   },
   "source": [
    "### 4.7.4.1 Trying Algorithm 5.1 again without the redundant constraint"
   ]
  },
  {
   "cell_type": "code",
   "execution_count": 7,
   "metadata": {
    "nbpages": {
     "level": 3,
     "link": "[4.7.4.1 Trying Algorithm 5.1 again without the redundant constraint](https://ndcbe.github.io/CBE60499/04.07-Interior-Point1.html#4.7.4.1-Trying-Algorithm-5.1-again-without-the-redundant-constraint)",
     "section": "4.7.4.1 Trying Algorithm 5.1 again without the redundant constraint"
    }
   },
   "outputs": [
    {
     "name": "stdout",
     "output_type": "stream",
     "text": [
      "Iter. \tf(x) \t\t||h(x)|| \t||grad_L(x)|| \t||dx|| \t\t||dv||\n",
      "0   \t 3.0000e+00 \t1.0000e+00 \t5.8310e+00 \t 7.4537e-01 \t 2.3335e+00\n",
      "1   \t 6.6667e-01 \t1.3978e-10 \t2.9473e-04 \t 4.5326e-05 \t 1.5285e-04\n",
      "2   \t 6.6667e-01 \t0.0000e+00 \t4.5431e-09 \t 1.4393e-09 \t 2.0170e-09\n",
      "\n",
      "x* = [0.66666667 0.33333333]\n",
      "\n",
      "v* = [-1.33333333]\n"
     ]
    }
   ],
   "source": [
    "def my_h2b(x):\n",
    "    return (x[0] + x[1] - 1)*np.ones(1)\n",
    "\n",
    "x0 = np.array((1,1))\n",
    "\n",
    "## Run Algorithm 5.1 on test problem\n",
    "results = alg51(x0,my_f2,my_h2b)\n",
    "\n",
    "## Display results\n",
    "xstar = results[0][-1]\n",
    "print(\"\\nx* =\",xstar)\n",
    "\n",
    "## Display results\n",
    "vstar = results[1][-1]\n",
    "print(\"\\nv* =\",vstar)"
   ]
  },
  {
   "cell_type": "markdown",
   "metadata": {
    "nbpages": {
     "level": 2,
     "link": "[4.7.5 Example Problem 3](https://ndcbe.github.io/CBE60499/04.07-Interior-Point1.html#4.7.5-Example-Problem-3)",
     "section": "4.7.5 Example Problem 3"
    }
   },
   "source": [
    "## 4.7.5 Example Problem 3\n",
    "\n",
    "**Can we break Algorithm 5.1 in another way?**\n",
    "\n",
    "Let us try a model where $\\nabla h(x^k)^T$ is full rank but there are multiple local optima.\n",
    "\n",
    "Consider:\n",
    "$$\\begin{align}\\min_x \\quad & x_1^3 - x_2 -x_1 x_2 - x_2^2 \\\\\n",
    "\\mathrm{s.t.} \\quad & x_1^2 + x_2^2 = 1\n",
    "\\end{align}$$"
   ]
  },
  {
   "cell_type": "code",
   "execution_count": 8,
   "metadata": {
    "nbpages": {
     "level": 2,
     "link": "[4.7.5 Example Problem 3](https://ndcbe.github.io/CBE60499/04.07-Interior-Point1.html#4.7.5-Example-Problem-3)",
     "section": "4.7.5 Example Problem 3"
    }
   },
   "outputs": [],
   "source": [
    "def my_f3(x):\n",
    "    return x[0]**3 - x[1] - x[0]*x[1] - x[1]**2\n",
    "\n",
    "def my_h3(x):\n",
    "    return (x[0]**2 + x[1]**2 - 1)*np.ones(1)"
   ]
  },
  {
   "cell_type": "markdown",
   "metadata": {
    "nbpages": {
     "level": 3,
     "link": "[4.7.5.1 Visualize](https://ndcbe.github.io/CBE60499/04.07-Interior-Point1.html#4.7.5.1-Visualize)",
     "section": "4.7.5.1 Visualize"
    }
   },
   "source": [
    "### 4.7.5.1 Visualize"
   ]
  },
  {
   "cell_type": "code",
   "execution_count": 9,
   "metadata": {
    "nbpages": {
     "level": 3,
     "link": "[4.7.5.1 Visualize](https://ndcbe.github.io/CBE60499/04.07-Interior-Point1.html#4.7.5.1-Visualize)",
     "section": "4.7.5.1 Visualize"
    }
   },
   "outputs": [
    {
     "data": {
      "image/png": "[encoded data removed]",
      "text/plain": [
       "<Figure size 432x288 with 1 Axes>"
      ]
     },
     "metadata": {
      "needs_background": "light"
     },
     "output_type": "display_data"
    }
   ],
   "source": [
    "def visualize(xk=[]):\n",
    "    n1 = 101\n",
    "    n2 = 101\n",
    "    x1eval = np.linspace(-2,2,n1)\n",
    "    x2eval = np.linspace(-2,2,n2)\n",
    "    \n",
    "    X, Y = np.meshgrid(x1eval, x2eval)\n",
    "    \n",
    "    Z = np.zeros([n2,n1])\n",
    "    \n",
    "    for i in range(0,n1):\n",
    "        for j in range(0,n2):\n",
    "            Z[j,i] = my_f3((X[j,i], Y[j,i]))\n",
    "            \n",
    "    fig, ax = plt.subplots(1,1)\n",
    "    CS = ax.contour(X, Y, Z)\n",
    "    ax.clabel(CS, inline=1, fontsize=12)\n",
    "\n",
    "    # Add grid\n",
    "    plt.grid()\n",
    "    \n",
    "    # Add unit circle\n",
    "    circ = plt.Circle((0, 0), radius=1, edgecolor='b', facecolor='None')\n",
    "    ax.add_patch(circ)\n",
    "    \n",
    "    # Plot iteration history\n",
    "    if len(xk) > 0:\n",
    "        for i in range(0,len(xk)):\n",
    "            if i == len(xk) - 1:\n",
    "                c = \"red\"\n",
    "            else:\n",
    "                c = \"black\"\n",
    "            plt.scatter((xk[i][0]),(xk[i][1]),marker='o',color=c)\n",
    "    \n",
    "    plt.xlim([-2,2])\n",
    "    plt.ylim([-2,2])\n",
    "    \n",
    "visualize()"
   ]
  },
  {
   "cell_type": "code",
   "execution_count": 10,
   "metadata": {
    "nbpages": {
     "level": 3,
     "link": "[4.7.5.1 Visualize](https://ndcbe.github.io/CBE60499/04.07-Interior-Point1.html#4.7.5.1-Visualize)",
     "section": "4.7.5.1 Visualize"
    }
   },
   "outputs": [
    {
     "data": {
      "image/png": "[encoded data removed]",
      "text/plain": [
       "<Figure size 432x288 with 1 Axes>"
      ]
     },
     "metadata": {
      "needs_background": "light"
     },
     "output_type": "display_data"
    }
   ],
   "source": [
    "nt = 200\n",
    "theta = np.linspace(0,2*np.pi,nt)\n",
    "obj = np.zeros(nt)\n",
    "\n",
    "\n",
    "for i in range(0,nt):\n",
    "    x_ = np.cos(theta[i])\n",
    "    y_ = np.sin(theta[i])\n",
    "    \n",
    "    obj[i] = my_f3((x_,y_))\n",
    "\n",
    "\n",
    "plt.figure()\n",
    "plt.plot(theta,obj)\n",
    "plt.xlabel('$\\\\theta$ [radians]')\n",
    "plt.ylabel('Objective')\n",
    "plt.grid()"
   ]
  },
  {
   "cell_type": "markdown",
   "metadata": {
    "nbpages": {
     "level": 3,
     "link": "[4.7.5.2 Starting Point Near Global Min ($\\theta_0 = 1.0$)](https://ndcbe.github.io/CBE60499/04.07-Interior-Point1.html#4.7.5.2-Starting-Point-Near-Global-Min-($\\theta_0-=-1.0$))",
     "section": "4.7.5.2 Starting Point Near Global Min ($\\theta_0 = 1.0$)"
    }
   },
   "source": [
    "### 4.7.5.2 Starting Point Near Global Min ($\\theta_0 = 1.0$)"
   ]
  },
  {
   "cell_type": "code",
   "execution_count": 11,
   "metadata": {
    "nbpages": {
     "level": 3,
     "link": "[4.7.5.2 Starting Point Near Global Min ($\\theta_0 = 1.0$)](https://ndcbe.github.io/CBE60499/04.07-Interior-Point1.html#4.7.5.2-Starting-Point-Near-Global-Min-($\\theta_0-=-1.0$))",
     "section": "4.7.5.2 Starting Point Near Global Min ($\\theta_0 = 1.0$)"
    }
   },
   "outputs": [
    {
     "name": "stdout",
     "output_type": "stream",
     "text": [
      "Iter. \tf(x) \t\t||h(x)|| \t||grad_L(x)|| \t||dx|| \t\t||dv||\n",
      "0   \t-6.9105e-01 \t0.0000e+00 \t3.7501e+00 \t 1.1171e+00 \t 1.1455e+00\n",
      "1   \t-4.0104e+00 \t1.2480e+00 \t2.1729e+00 \t 4.2318e-01 \t 3.9672e-01\n",
      "2   \t-2.4216e+00 \t1.7908e-01 \t3.3575e-01 \t 8.3649e-02 \t 1.0205e-01\n",
      "3   \t-2.1438e+00 \t6.9971e-03 \t1.7074e-02 \t 3.5294e-03 \t 6.5710e-03\n",
      "4   \t-2.1324e+00 \t1.2457e-05 \t4.6327e-05 \t 6.3597e-06 \t 1.9707e-05\n",
      "5   \t-2.1323e+00 \t4.0446e-11 \t1.4043e-09 \t 2.8044e-10 \t 3.3891e-11\n",
      "\n",
      "x* = [0.24215301 0.97023807]\n",
      "\n",
      "v* = [1.64012795]\n",
      "\n",
      "theta* = 1.326212035697004 = 1.3262120356970035\n"
     ]
    },
    {
     "data": {
      "image/png": "[encoded data removed]",
      "text/plain": [
       "<Figure size 432x288 with 1 Axes>"
      ]
     },
     "metadata": {
      "needs_background": "light"
     },
     "output_type": "display_data"
    }
   ],
   "source": [
    "theta0 = 1.0\n",
    "x0 = np.array((np.sin(theta0),np.cos(theta0)))\n",
    "\n",
    "## Run Algorithm 5.1 on test problem\n",
    "results = alg51(x0,my_f3,my_h3)\n",
    "\n",
    "## Display results\n",
    "xstar = results[0][-1]\n",
    "print(\"\\nx* =\",xstar)\n",
    "\n",
    "## Display results\n",
    "vstar = results[1][-1]\n",
    "print(\"\\nv* =\",vstar)\n",
    "\n",
    "## Convert into theta\n",
    "print(\"\\ntheta* =\",np.arccos(xstar[0]),\"=\",np.arcsin(xstar[1]))\n",
    "\n",
    "## Visualize\n",
    "visualize(results[0])"
   ]
  },
  {
   "cell_type": "markdown",
   "metadata": {
    "nbpages": {
     "level": 3,
     "link": "[4.7.5.3 Starting Point Near Local Min ($\\theta_0 = \\pi$)](https://ndcbe.github.io/CBE60499/04.07-Interior-Point1.html#4.7.5.3-Starting-Point-Near-Local-Min-($\\theta_0-=-\\pi$))",
     "section": "4.7.5.3 Starting Point Near Local Min ($\\theta_0 = \\pi$)"
    }
   },
   "source": [
    "### 4.7.5.3 Starting Point Near Local Min ($\\theta_0 = \\pi$)"
   ]
  },
  {
   "cell_type": "code",
   "execution_count": 12,
   "metadata": {
    "nbpages": {
     "level": 3,
     "link": "[4.7.5.3 Starting Point Near Local Min ($\\theta_0 = \\pi$)](https://ndcbe.github.io/CBE60499/04.07-Interior-Point1.html#4.7.5.3-Starting-Point-Near-Local-Min-($\\theta_0-=-\\pi$))",
     "section": "4.7.5.3 Starting Point Near Local Min ($\\theta_0 = \\pi$)"
    }
   },
   "outputs": [
    {
     "name": "stdout",
     "output_type": "stream",
     "text": [
      "Iter. \tf(x) \t\t||h(x)|| \t||grad_L(x)|| \t||dx|| \t\t||dv||\n",
      "0   \t 2.2204e-16 \t0.0000e+00 \t1.4142e+00 \t 5.0002e-01 \t 2.4998e-01\n",
      "1   \t-6.2504e-01 \t2.5002e-01 \t1.0000e+00 \t 1.5691e+00 \t 5.7493e-01\n",
      "2   \t 1.4168e+00 \t2.4621e+00 \t4.6902e+00 \t 8.7011e-01 \t 3.2838e-01\n",
      "3   \t-2.5316e-01 \t7.5709e-01 \t1.5056e+00 \t 7.9530e-01 \t 2.7969e-01\n",
      "4   \t-1.0868e+00 \t6.3250e-01 \t1.3374e+00 \t 8.5429e-01 \t 2.8370e-01\n",
      "5   \t-1.3530e-01 \t7.2981e-01 \t1.6069e+00 \t 7.2946e-01 \t 2.4685e-01\n",
      "6   \t-8.5883e-01 \t5.3212e-01 \t1.1571e+00 \t 1.2138e+00 \t 4.1547e-01\n",
      "7   \t 6.1712e-01 \t1.4732e+00 \t3.1780e+00 \t 7.4184e-01 \t 2.5345e-01\n",
      "8   \t-3.7711e-01 \t5.5033e-01 \t1.1886e+00 \t 1.1024e+00 \t 3.7605e-01\n",
      "9   \t-2.5016e+00 \t1.2153e+00 \t2.6283e+00 \t 7.1193e-01 \t 2.4266e-01\n",
      "10   \t-7.5418e-01 \t5.0685e-01 \t1.0966e+00 \t 1.7975e+00 \t 6.1304e-01\n",
      "11   \t 3.3538e+00 \t3.2310e+00 \t6.9879e+00 \t 9.7525e-01 \t 3.3253e-01\n",
      "12   \t 5.8930e-02 \t9.5111e-01 \t2.0572e+00 \t 6.9821e-01 \t 2.3817e-01\n",
      "13   \t-6.1495e-01 \t4.8750e-01 \t1.0543e+00 \t 1.4259e+01 \t 4.8624e+00\n",
      "14   \t 2.5068e+03 \t2.0332e+02 \t4.3978e+02 \t 7.1129e+00 \t 1.9921e+00\n",
      "15   \t 3.1998e+02 \t5.0594e+01 \t1.0966e+02 \t 3.5283e+00 \t 1.0103e+00\n",
      "16   \t 4.2333e+01 \t1.2449e+01 \t2.7524e+01 \t 1.7008e+00 \t 4.4931e-02\n",
      "17   \t 7.8208e+00 \t2.8927e+00 \t6.7410e+00 \t 7.3461e-01 \t 8.5778e-02\n",
      "18   \t 2.3007e+00 \t5.3965e-01 \t1.6085e+00 \t 2.1789e-01 \t 2.8153e-01\n",
      "19   \t 1.4550e+00 \t4.7477e-02 \t2.3141e-01 \t 2.3326e-02 \t 8.3222e-02\n",
      "20   \t 1.3796e+00 \t5.4409e-04 \t5.3572e-03 \t 2.8876e-04 \t 2.4477e-03\n",
      "21   \t 1.3787e+00 \t8.3383e-08 \t1.4706e-06 \t 1.0427e-07 \t 5.7736e-07\n",
      "\n",
      "x* = [ 0.92828695 -0.37186469]\n",
      "\n",
      "v* = [-1.59272661]\n",
      "\n",
      "theta* = 0.3810169551495443 (using arccos)\n",
      "\n",
      "theta* = -0.3810169551495601 (using arcsin)\n"
     ]
    },
    {
     "data": {
      "image/png": "[encoded data removed]",
      "text/plain": [
       "<Figure size 432x288 with 1 Axes>"
      ]
     },
     "metadata": {
      "needs_background": "light"
     },
     "output_type": "display_data"
    }
   ],
   "source": [
    "theta0 = np.pi\n",
    "x0 = np.array((np.sin(theta0),np.cos(theta0)))\n",
    "\n",
    "## Run Algorithm 5.1 on test problem\n",
    "results = alg51(x0,my_f3,my_h3)\n",
    "\n",
    "## Display results\n",
    "xstar = results[0][-1]\n",
    "print(\"\\nx* =\",xstar)\n",
    "\n",
    "## Display results\n",
    "vstar = results[1][-1]\n",
    "print(\"\\nv* =\",vstar)\n",
    "\n",
    "## Convert into theta\n",
    "print(\"\\ntheta* =\",np.arccos(xstar[0]),\"(using arccos)\")\n",
    "print(\"\\ntheta* =\",np.arcsin(xstar[1]),\"(using arcsin)\")\n",
    "\n",
    "## Visualize\n",
    "visualize(results[0])"
   ]
  },
  {
   "cell_type": "markdown",
   "metadata": {
    "nbpages": {
     "level": 3,
     "link": "[4.7.5.4 Starting Point Near Global Max ($\\theta_0 = 5.5$)](https://ndcbe.github.io/CBE60499/04.07-Interior-Point1.html#4.7.5.4-Starting-Point-Near-Global-Max-($\\theta_0-=-5.5$))",
     "section": "4.7.5.4 Starting Point Near Global Max ($\\theta_0 = 5.5$)"
    }
   },
   "source": [
    "### 4.7.5.4 Starting Point Near Global Max ($\\theta_0 = 5.5$)"
   ]
  },
  {
   "cell_type": "code",
   "execution_count": 13,
   "metadata": {
    "nbpages": {
     "level": 3,
     "link": "[4.7.5.4 Starting Point Near Global Max ($\\theta_0 = 5.5$)](https://ndcbe.github.io/CBE60499/04.07-Interior-Point1.html#4.7.5.4-Starting-Point-Near-Global-Max-($\\theta_0-=-5.5$))",
     "section": "4.7.5.4 Starting Point Near Global Max ($\\theta_0 = 5.5$)"
    }
   },
   "outputs": [
    {
     "name": "stdout",
     "output_type": "stream",
     "text": [
      "Iter. \tf(x) \t\t||h(x)|| \t||grad_L(x)|| \t||dx|| \t\t||dv||\n",
      "0   \t-1.0621e+00 \t0.0000e+00 \t6.9215e-01 \t 3.0715e-01 \t 5.4165e-02\n",
      "1   \t-1.0667e+00 \t9.4343e-02 \t1.2087e-01 \t 5.8624e-02 \t 5.2391e-02\n",
      "2   \t-9.6641e-01 \t3.4368e-03 \t6.8422e-03 \t 5.8274e-03 \t 6.8831e-03\n",
      "3   \t-9.6261e-01 \t3.3959e-05 \t8.0237e-05 \t 9.3484e-05 \t 8.7639e-05\n",
      "4   \t-9.6258e-01 \t8.7393e-09 \t2.1977e-08 \t 2.1636e-08 \t 2.4039e-08\n",
      "\n",
      "x* = [-0.90194813  0.43184437]\n",
      "\n",
      "v* = [1.11352685]\n",
      "\n",
      "theta* = 2.6950559970723194 (using arccos)\n",
      "\n",
      "theta* = 0.4465366565174743 (using arcsin)\n"
     ]
    },
    {
     "data": {
      "image/png": "[encoded data removed]",
      "text/plain": [
       "<Figure size 432x288 with 1 Axes>"
      ]
     },
     "metadata": {
      "needs_background": "light"
     },
     "output_type": "display_data"
    }
   ],
   "source": [
    "theta0 = 5.5\n",
    "x0 = np.array((np.sin(theta0),np.cos(theta0)))\n",
    "\n",
    "## Run Algorithm 5.1 on test problem\n",
    "results = alg51(x0,my_f3,my_h3)\n",
    "\n",
    "## Display results\n",
    "xstar = results[0][-1]\n",
    "print(\"\\nx* =\",xstar)\n",
    "\n",
    "## Display results\n",
    "vstar = results[1][-1]\n",
    "print(\"\\nv* =\",vstar)\n",
    "\n",
    "## Convert into theta\n",
    "print(\"\\ntheta* =\",np.arccos(xstar[0]),\"(using arccos)\")\n",
    "print(\"\\ntheta* =\",np.arcsin(xstar[1]),\"(using arcsin)\")\n",
    "\n",
    "## Visualize\n",
    "visualize(results[0])"
   ]
  },
  {
   "cell_type": "code",
   "execution_count": null,
   "metadata": {
    "nbpages": {
     "level": 3,
     "link": "[4.7.5.4 Starting Point Near Global Max ($\\theta_0 = 5.5$)](https://ndcbe.github.io/CBE60499/04.07-Interior-Point1.html#4.7.5.4-Starting-Point-Near-Global-Max-($\\theta_0-=-5.5$))",
     "section": "4.7.5.4 Starting Point Near Global Max ($\\theta_0 = 5.5$)"
    }
   },
   "outputs": [],
   "source": []
  },
  {
   "cell_type": "markdown",
   "metadata": {},
   "source": [
    "<!--NAVIGATION-->\n",
    "< [4.6 NLP Diagnostics with Degeneracy Hunter](https://ndcbe.github.io/CBE60499/04.06-NLP-Diagnostics.html) | [Contents](toc.html) | [Tag Index](tag_index.html) | [4.8 Inertia-Corrected Netwon Method for Equality Constrained NLPs](https://ndcbe.github.io/CBE60499/04.08-Interior-Point2.html) ><p><a href=\"https://colab.research.google.com/github/ndcbe/CBE60499/blob/master/docs/04.07-Interior-Point1.ipynb\"> <img align=\"left\" src=\"https://colab.research.google.com/assets/colab-badge.svg\" alt=\"Open in Colab\" title=\"Open in Google Colaboratory\"></a><p><a href=\"https://ndcbe.github.io/CBE60499/04.07-Interior-Point1.ipynb\"> <img align=\"left\" src=\"https://img.shields.io/badge/Github-Download-blue.svg\" alt=\"Download\" title=\"Download Notebook\"></a>"
   ]
  }
 ],
 "metadata": {
  "kernelspec": {
   "display_name": "Python 3",
   "language": "python",
   "name": "python3"
  },
  "language_info": {
   "codemirror_mode": {
    "name": "ipython",
    "version": 3
   },
   "file_extension": ".py",
   "mimetype": "text/x-python",
   "name": "python",
   "nbconvert_exporter": "python",
   "pygments_lexer": "ipython3",
   "version": "3.8.6"
  }
 },
 "nbformat": 4,
 "nbformat_minor": 2
}
