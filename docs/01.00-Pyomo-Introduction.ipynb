{
 "cells": [
  {
   "cell_type": "markdown",
   "metadata": {},
   "source": [
    "<!--NOTEBOOK_HEADER-->\n",
    "*This notebook contains material from [CBE60499](https://ndcbe.github.io/CBE60499);\n",
    "content is available [on Github](git@github.com:ndcbe/CBE60499.git).*\n"
   ]
  },
  {
   "cell_type": "markdown",
   "metadata": {},
   "source": [
    "<!--NAVIGATION-->\n",
    "| [Contents](toc.html) | [Tag Index](tag_index.html) | [1.1 60 Minutes to Pyomo: An Energy Storage Model Predictive Control Example](https://ndcbe.github.io/CBE60499/01.01-Pyomo-Nuts-and-Bolts.html) ><p><a href=\"https://colab.research.google.com/github/ndcbe/CBE60499/blob/master/docs/01.00-Pyomo-Introduction.ipynb\"> <img align=\"left\" src=\"https://colab.research.google.com/assets/colab-badge.svg\" alt=\"Open in Colab\" title=\"Open in Google Colaboratory\"></a><p><a href=\"https://ndcbe.github.io/CBE60499/01.00-Pyomo-Introduction.ipynb\"> <img align=\"left\" src=\"https://img.shields.io/badge/Github-Download-blue.svg\" alt=\"Download\" title=\"Download Notebook\"></a>"
   ]
  },
  {
   "cell_type": "markdown",
   "metadata": {
    "nbpages": {
     "level": 1,
     "link": "[1.0 Getting Started with Pyomo](https://ndcbe.github.io/CBE60499/01.00-Pyomo-Introduction.html#1.0-Getting-Started-with-Pyomo)",
     "section": "1.0 Getting Started with Pyomo"
    }
   },
   "source": [
    "# 1.0 Getting Started with Pyomo"
   ]
  },
  {
   "cell_type": "markdown",
   "metadata": {
    "nbpages": {
     "level": 2,
     "link": "[1.0.1 Local Installation](https://ndcbe.github.io/CBE60499/01.00-Pyomo-Introduction.html#1.0.1-Local-Installation)",
     "section": "1.0.1 Local Installation"
    }
   },
   "source": [
    "## 1.0.1 Local Installation"
   ]
  },
  {
   "cell_type": "markdown",
   "metadata": {
    "nbpages": {
     "level": 3,
     "link": "[1.0.1.1 Install anaconda](https://ndcbe.github.io/CBE60499/01.00-Pyomo-Introduction.html#1.0.1.1-Install-anaconda)",
     "section": "1.0.1.1 Install anaconda"
    }
   },
   "source": [
    "### 1.0.1.1 Install anaconda"
   ]
  },
  {
   "cell_type": "markdown",
   "metadata": {
    "nbpages": {
     "level": 3,
     "link": "[1.0.1.1 Install anaconda](https://ndcbe.github.io/CBE60499/01.00-Pyomo-Introduction.html#1.0.1.1-Install-anaconda)",
     "section": "1.0.1.1 Install anaconda"
    }
   },
   "source": [
    "Anaconda is a Python distribution that supports the `conda` package manager and environments. Follow these steps if you do not have anaconda or miniconda already installed:\n",
    "* https://docs.anaconda.com/anaconda/install/\n",
    "* https://docs.conda.io/en/latest/miniconda.html"
   ]
  },
  {
   "cell_type": "markdown",
   "metadata": {
    "nbpages": {
     "level": 3,
     "link": "[1.0.1.2 Create a new conda environment](https://ndcbe.github.io/CBE60499/01.00-Pyomo-Introduction.html#1.0.1.2-Create-a-new-conda-environment)",
     "section": "1.0.1.2 Create a new conda environment"
    }
   },
   "source": [
    "### 1.0.1.2 Create a new conda environment"
   ]
  },
  {
   "cell_type": "markdown",
   "metadata": {
    "nbpages": {
     "level": 3,
     "link": "[1.0.1.2 Create a new conda environment](https://ndcbe.github.io/CBE60499/01.00-Pyomo-Introduction.html#1.0.1.2-Create-a-new-conda-environment)",
     "section": "1.0.1.2 Create a new conda environment"
    }
   },
   "source": [
    "`conda` envirorments allow us to maintain several difference Python installations on our computer. This allows for easy switching between Python versions or different versions of Python packages. Using an environment will ensure anything we install for this class does not disrupt your other Python workflows.\n",
    "\n",
    "After installing `conda`, run this command in the terminal:\n",
    "\n",
    "```\n",
    "conda create --name spring2021 python=3.8\n",
    "```"
   ]
  },
  {
   "cell_type": "markdown",
   "metadata": {
    "nbpages": {
     "level": 3,
     "link": "[1.0.1.2 Create a new conda environment](https://ndcbe.github.io/CBE60499/01.00-Pyomo-Introduction.html#1.0.1.2-Create-a-new-conda-environment)",
     "section": "1.0.1.2 Create a new conda environment"
    }
   },
   "source": [
    "This creates an environment called `spring2021`. Next we need to activate it:\n",
    "\n",
    "```\n",
    "conda activate spring2021\n",
    "```\n",
    "\n",
    "Whenever you open a new terminal, you will likely need to activate our new environment."
   ]
  },
  {
   "cell_type": "markdown",
   "metadata": {
    "nbpages": {
     "level": 3,
     "link": "[1.0.1.3 Install IDAES-PSE](https://ndcbe.github.io/CBE60499/01.00-Pyomo-Introduction.html#1.0.1.3-Install-IDAES-PSE)",
     "section": "1.0.1.3 Install IDAES-PSE"
    }
   },
   "source": [
    "### 1.0.1.3 Install IDAES-PSE"
   ]
  },
  {
   "cell_type": "markdown",
   "metadata": {
    "nbpages": {
     "level": 3,
     "link": "[1.0.1.3 Install IDAES-PSE](https://ndcbe.github.io/CBE60499/01.00-Pyomo-Introduction.html#1.0.1.3-Install-IDAES-PSE)",
     "section": "1.0.1.3 Install IDAES-PSE"
    }
   },
   "source": [
    "The IDAES-PSE toolset (Institute for the Design of Advanced Energy Systems - Process Systems Engineering) is an open-source framework for multiscale process modeling, optimization, and advanced analytics. The IDAES toolset is built on top of Pyomo. We'll mainly use Pyomo in this class, although we'll highlight a few IDAES capabilities.\n",
    "\n",
    "To install `idaes`, run:\n",
    "\n",
    "```\n",
    " conda install -c idaes-pse -c conda-forge idaes-pse\n",
    "```\n",
    "\n",
    "This command will install `idaes` as well as all of its dependencies, including `pyomo`.\n",
    "\n",
    "After `conda` finishes, run:\n",
    "\n",
    "```\n",
    "idaes --version\n",
    "```\n",
    "\n",
    "To verify `idaes` is installed in your active environment."
   ]
  },
  {
   "cell_type": "markdown",
   "metadata": {
    "nbpages": {
     "level": 3,
     "link": "[1.0.1.4 Install Ipopt](https://ndcbe.github.io/CBE60499/01.00-Pyomo-Introduction.html#1.0.1.4-Install-Ipopt)",
     "section": "1.0.1.4 Install Ipopt"
    }
   },
   "source": [
    "### 1.0.1.4 Install Ipopt"
   ]
  },
  {
   "cell_type": "markdown",
   "metadata": {
    "nbpages": {
     "level": 3,
     "link": "[1.0.1.4 Install Ipopt](https://ndcbe.github.io/CBE60499/01.00-Pyomo-Introduction.html#1.0.1.4-Install-Ipopt)",
     "section": "1.0.1.4 Install Ipopt"
    }
   },
   "source": [
    "**Windows and Linux users** - you are in luck. IDAES comes with a nonlinear optimization solver Ipopt compiled with the HSL linear algebra routines; I may refer to this as \"good Ipopt\". Later in the semester, we'll talk about why the linear alegbra library is important. To install the \"good Ipopt\", run:\n",
    "\n",
    "```\n",
    "idaes get-extensions\n",
    "```\n",
    "\n",
    "Linux users: you may need to install some dependencies too: https://idaes-pse.readthedocs.io/en/stable/getting_started/index.html#linux"
   ]
  },
  {
   "cell_type": "markdown",
   "metadata": {
    "nbpages": {
     "level": 3,
     "link": "[1.0.1.4 Install Ipopt](https://ndcbe.github.io/CBE60499/01.00-Pyomo-Introduction.html#1.0.1.4-Install-Ipopt)",
     "section": "1.0.1.4 Install Ipopt"
    }
   },
   "source": [
    "This will install Ipopt in a hidden user folder. If you get the error `WARNING: Could not locate the 'ipopt' executable` add the line `import idaes` to the top of your notebook then restart the Python kernel. Our library `helper` takes care of adding Ipopt to the system path on Colab. If you use the instructions below, \"okay\" Ipopt will be installed."
   ]
  },
  {
   "cell_type": "markdown",
   "metadata": {
    "nbpages": {
     "level": 3,
     "link": "[1.0.1.4 Install Ipopt](https://ndcbe.github.io/CBE60499/01.00-Pyomo-Introduction.html#1.0.1.4-Install-Ipopt)",
     "section": "1.0.1.4 Install Ipopt"
    }
   },
   "source": [
    "**macOS users** - unfortunately, IDAES does not include binaries for \"good Ipopt\". You can either compile the solver yourself after obtaining an academic license for HSL or you can install the \"okay Ipopt\" using conda:\n",
    "\n",
    "```\n",
    "conda install -c conda-forge ipopt\n",
    "```"
   ]
  },
  {
   "cell_type": "markdown",
   "metadata": {
    "nbpages": {
     "level": 3,
     "link": "[1.0.1.5 Install Additional Solvers](https://ndcbe.github.io/CBE60499/01.00-Pyomo-Introduction.html#1.0.1.5-Install-Additional-Solvers)",
     "section": "1.0.1.5 Install Additional Solvers"
    }
   },
   "source": [
    "### 1.0.1.5 Install Additional Solvers"
   ]
  },
  {
   "cell_type": "markdown",
   "metadata": {
    "nbpages": {
     "level": 3,
     "link": "[1.0.1.5 Install Additional Solvers](https://ndcbe.github.io/CBE60499/01.00-Pyomo-Introduction.html#1.0.1.5-Install-Additional-Solvers)",
     "section": "1.0.1.5 Install Additional Solvers"
    }
   },
   "source": [
    "In additional to `ipopt`, we will also use `glpk`. To install it, run:\n",
    "\n",
    "```\n",
    "conda install -c conda-forge glpk\n",
    "```\n",
    "\n",
    "You may also wish to install other commercial solvers, especially if you want to consider large mixed integer optimization problems for research. These solvers offer free academic licenses:\n",
    "* CPLEX: https://www.ibm.com/products/ilog-cplex-optimization-studio\n",
    "* Gurobi: https://www.gurobi.com/downloads/end-user-license-agreement-academic/"
   ]
  },
  {
   "cell_type": "markdown",
   "metadata": {
    "nbpages": {
     "level": 3,
     "link": "[1.0.1.6 Install Notebook Spellcheker](https://ndcbe.github.io/CBE60499/01.00-Pyomo-Introduction.html#1.0.1.6-Install-Notebook-Spellcheker)",
     "section": "1.0.1.6 Install Notebook Spellcheker"
    }
   },
   "source": [
    "### 1.0.1.6 Install Notebook Spellcheker\n",
    "\n",
    "Here is a great Jupyter extension that adds a [spellchecker](https://jupyter-contrib-nbextensions.readthedocs.io/en/latest/nbextensions/spellchecker/README.html) to your notebooks. To install, run the following commands in the terminal (in your new conda environment):\n",
    "\n",
    "```\n",
    "conda install -c conda-forge jupyter_contrib_nbextensions\n",
    "jupyter contrib nbextension install --user\n",
    "jupyter nbextension enable spellchecker/main\n",
    "```\n"
   ]
  },
  {
   "cell_type": "markdown",
   "metadata": {
    "nbpages": {
     "level": 2,
     "link": "[1.0.2 Cloud Computing with Google Colab](https://ndcbe.github.io/CBE60499/01.00-Pyomo-Introduction.html#1.0.2-Cloud-Computing-with-Google-Colab)",
     "section": "1.0.2 Cloud Computing with Google Colab"
    }
   },
   "source": [
    "## 1.0.2 Cloud Computing with Google Colab"
   ]
  },
  {
   "cell_type": "code",
   "execution_count": 1,
   "metadata": {
    "nbpages": {
     "level": 2,
     "link": "[1.0.2 Cloud Computing with Google Colab](https://ndcbe.github.io/CBE60499/01.00-Pyomo-Introduction.html#1.0.2-Cloud-Computing-with-Google-Colab)",
     "section": "1.0.2 Cloud Computing with Google Colab"
    }
   },
   "outputs": [],
   "source": [
    "## Tip: Please put code like this at the top of your notebook.\n",
    "# We want all of the module/package installations to start up front\n",
    "\n",
    "import sys\n",
    "if \"google.colab\" in sys.modules:\n",
    "    !wget \"https://raw.githubusercontent.com/ndcbe/CBE60499/main/notebooks/helper.py\"\n",
    "    import helper\n",
    "    helper.install_idaes()\n",
    "    helper.install_ipopt()"
   ]
  },
  {
   "cell_type": "markdown",
   "metadata": {
    "nbpages": {
     "level": 2,
     "link": "[1.0.3 Your First Optimization Problem](https://ndcbe.github.io/CBE60499/01.00-Pyomo-Introduction.html#1.0.3-Your-First-Optimization-Problem)",
     "section": "1.0.3 Your First Optimization Problem"
    }
   },
   "source": [
    "## 1.0.3 Your First Optimization Problem"
   ]
  },
  {
   "cell_type": "markdown",
   "metadata": {
    "nbpages": {
     "level": 2,
     "link": "[1.0.3 Your First Optimization Problem](https://ndcbe.github.io/CBE60499/01.00-Pyomo-Introduction.html#1.0.3-Your-First-Optimization-Problem)",
     "section": "1.0.3 Your First Optimization Problem"
    }
   },
   "source": [
    "We are now ready to solve your first optimization problem in Pyomo."
   ]
  },
  {
   "cell_type": "markdown",
   "metadata": {
    "nbpages": {
     "level": 3,
     "link": "[1.0.3.1 Mathematical Model](https://ndcbe.github.io/CBE60499/01.00-Pyomo-Introduction.html#1.0.3.1-Mathematical-Model)",
     "section": "1.0.3.1 Mathematical Model"
    }
   },
   "source": [
    "### 1.0.3.1 Mathematical Model"
   ]
  },
  {
   "cell_type": "markdown",
   "metadata": {
    "nbpages": {
     "level": 3,
     "link": "[1.0.3.1 Mathematical Model](https://ndcbe.github.io/CBE60499/01.00-Pyomo-Introduction.html#1.0.3.1-Mathematical-Model)",
     "section": "1.0.3.1 Mathematical Model"
    }
   },
   "source": [
    "Let's start with a purely mathematical example:\n",
    "\n",
    "$$\\begin{align*} \\min_{x} \\quad & x_1^2 + 2 x_2^2 - x_3 \\\\\n",
    "\\mathrm{s.t.} \\quad & x_1 + x_2 = 1 \\\\\n",
    "& x_1 + 2 x_2 - x_3 = 5 \\\\\n",
    "& -10 \\leq x_1, x_2, x_3 \\leq 10 \n",
    "\\end{align*} $$\n",
    "\n",
    "We want to solve the constrained optimization problem numerically."
   ]
  },
  {
   "cell_type": "markdown",
   "metadata": {
    "nbpages": {
     "level": 3,
     "link": "[1.0.3.2 Define the Model in Pyomo](https://ndcbe.github.io/CBE60499/01.00-Pyomo-Introduction.html#1.0.3.2-Define-the-Model-in-Pyomo)",
     "section": "1.0.3.2 Define the Model in Pyomo"
    }
   },
   "source": [
    "### 1.0.3.2 Define the Model in Pyomo"
   ]
  },
  {
   "cell_type": "markdown",
   "metadata": {
    "nbpages": {
     "level": 3,
     "link": "[1.0.3.2 Define the Model in Pyomo](https://ndcbe.github.io/CBE60499/01.00-Pyomo-Introduction.html#1.0.3.2-Define-the-Model-in-Pyomo)",
     "section": "1.0.3.2 Define the Model in Pyomo"
    }
   },
   "source": [
    "<div style=\"background-color: rgba(0,0,255,0.05) ; padding: 10px; border: 1px solid darkblue;\"> \n",
    "<b>Activity</b>: Fill in the missing constraint.\n",
    "</div>"
   ]
  },
  {
   "cell_type": "code",
   "execution_count": 2,
   "metadata": {
    "nbpages": {
     "level": 3,
     "link": "[1.0.3.2 Define the Model in Pyomo](https://ndcbe.github.io/CBE60499/01.00-Pyomo-Introduction.html#1.0.3.2-Define-the-Model-in-Pyomo)",
     "section": "1.0.3.2 Define the Model in Pyomo"
    }
   },
   "outputs": [
    {
     "name": "stdout",
     "output_type": "stream",
     "text": [
      "3 Var Declarations\n",
      "    x1 : Size=1, Index=None\n",
      "        Key  : Lower : Value : Upper : Fixed : Stale : Domain\n",
      "        None :   -10 :     1 :    10 : False : False :  Reals\n",
      "    x2 : Size=1, Index=None\n",
      "        Key  : Lower : Value : Upper : Fixed : Stale : Domain\n",
      "        None :   -10 :     1 :    10 : False : False :  Reals\n",
      "    x3 : Size=1, Index=None\n",
      "        Key  : Lower : Value : Upper : Fixed : Stale : Domain\n",
      "        None :   -10 :     1 :    10 : False : False :  Reals\n",
      "\n",
      "1 Objective Declarations\n",
      "    OBJ : Size=1, Index=None, Active=True\n",
      "        Key  : Active : Sense    : Expression\n",
      "        None :   True : minimize : x1**2 + 2*x2**2 - x3\n",
      "\n",
      "2 Constraint Declarations\n",
      "    h1 : Size=1, Index=None, Active=True\n",
      "        Key  : Lower : Body    : Upper : Active\n",
      "        None :   1.0 : x1 + x2 :   1.0 :   True\n",
      "    h2 : Size=1, Index=None, Active=True\n",
      "        Key  : Lower : Body           : Upper : Active\n",
      "        None :   5.0 : x1 + 2*x2 - x3 :   5.0 :   True\n",
      "\n",
      "6 Declarations: x1 x2 x3 OBJ h1 h2\n"
     ]
    }
   ],
   "source": [
    "import pyomo.environ as pyo\n",
    "\n",
    "# Create instance of concrete Pyomo model.\n",
    "# concrete means all of the sets and model data are specified at the time of model construction.\n",
    "# In this class, you'll use a concrete model.\n",
    "m = pyo.ConcreteModel()\n",
    "\n",
    "## Declare variables with initial values with bounds\n",
    "m.x1 = pyo.Var(initialize=1, bounds=(-10, 10))\n",
    "m.x2 = pyo.Var(initialize=1, bounds=(-10, 10))\n",
    "m.x3 = pyo.Var(initialize=1, bounds=(-10, 10))\n",
    "\n",
    "## Declare objective\n",
    "m.OBJ = pyo.Objective(expr=m.x1**2 + 2*m.x2**2 - m.x3, sense = pyo.minimize)\n",
    "\n",
    "## Declare equality constraints\n",
    "m.h1 = pyo.Constraint(expr= m.x1 + m.x2 == 1)\n",
    "\n",
    "# YOUR SOLUTION HERE\n",
    "\n",
    "## Display model\n",
    "m.pprint()"
   ]
  },
  {
   "cell_type": "markdown",
   "metadata": {
    "nbpages": {
     "level": 3,
     "link": "[1.0.3.3 Solve using Ipopt](https://ndcbe.github.io/CBE60499/01.00-Pyomo-Introduction.html#1.0.3.3-Solve-using-Ipopt)",
     "section": "1.0.3.3 Solve using Ipopt"
    }
   },
   "source": [
    "### 1.0.3.3 Solve using Ipopt\n",
    "\n",
    "Toward the end of the semester we will learn, in perhaps more detail than you care, what makes Ipopt work under the hood. For now, we'll use it as a computational tool."
   ]
  },
  {
   "cell_type": "code",
   "execution_count": 3,
   "metadata": {
    "nbpages": {
     "level": 3,
     "link": "[1.0.3.3 Solve using Ipopt](https://ndcbe.github.io/CBE60499/01.00-Pyomo-Introduction.html#1.0.3.3-Solve-using-Ipopt)",
     "section": "1.0.3.3 Solve using Ipopt"
    }
   },
   "outputs": [
    {
     "name": "stdout",
     "output_type": "stream",
     "text": [
      "Ipopt 3.13.2: \n",
      "\n",
      "******************************************************************************\n",
      "This program contains Ipopt, a library for large-scale nonlinear optimization.\n",
      " Ipopt is released as open source code under the Eclipse Public License (EPL).\n",
      "         For more information visit http://projects.coin-or.org/Ipopt\n",
      "******************************************************************************\n",
      "\n",
      "This is Ipopt version 3.13.2, running with linear solver ma27.\n",
      "\n",
      "Number of nonzeros in equality constraint Jacobian...:        5\n",
      "Number of nonzeros in inequality constraint Jacobian.:        0\n",
      "Number of nonzeros in Lagrangian Hessian.............:        2\n",
      "\n",
      "Total number of variables............................:        3\n",
      "                     variables with only lower bounds:        0\n",
      "                variables with lower and upper bounds:        3\n",
      "                     variables with only upper bounds:        0\n",
      "Total number of equality constraints.................:        2\n",
      "Total number of inequality constraints...............:        0\n",
      "        inequality constraints with only lower bounds:        0\n",
      "   inequality constraints with lower and upper bounds:        0\n",
      "        inequality constraints with only upper bounds:        0\n",
      "\n",
      "iter    objective    inf_pr   inf_du lg(mu)  ||d||  lg(rg) alpha_du alpha_pr  ls\n",
      "   0  2.0000000e+00 3.00e+00 3.33e-01  -1.0 0.00e+00    -  0.00e+00 0.00e+00   0\n",
      "   1  4.3065612e+00 1.11e-16 2.89e-01  -1.0 4.36e+00    -  6.72e-01 1.00e+00h  1\n",
      "   2  4.2501103e+00 0.00e+00 5.55e-17  -1.0 1.31e-01    -  1.00e+00 1.00e+00f  1\n",
      "   3  4.2500000e+00 0.00e+00 4.32e-16  -2.5 6.02e-03    -  1.00e+00 1.00e+00f  1\n",
      "   4  4.2500000e+00 8.88e-16 1.14e-16  -3.8 4.41e-05    -  1.00e+00 1.00e+00f  1\n",
      "   5  4.2500000e+00 0.00e+00 3.13e-16  -5.7 1.98e-06    -  1.00e+00 1.00e+00h  1\n",
      "   6  4.2500000e+00 0.00e+00 1.55e-16  -8.6 2.45e-08    -  1.00e+00 1.00e+00f  1\n",
      "\n",
      "Number of Iterations....: 6\n",
      "\n",
      "                                   (scaled)                 (unscaled)\n",
      "Objective...............:   4.2500000000000000e+00    4.2500000000000000e+00\n",
      "Dual infeasibility......:   1.5452628521041094e-16    1.5452628521041094e-16\n",
      "Constraint violation....:   0.0000000000000000e+00    0.0000000000000000e+00\n",
      "Complementarity.........:   2.5059105039901454e-09    2.5059105039901454e-09\n",
      "Overall NLP error.......:   2.5059105039901454e-09    2.5059105039901454e-09\n",
      "\n",
      "\n",
      "Number of objective function evaluations             = 7\n",
      "Number of objective gradient evaluations             = 7\n",
      "Number of equality constraint evaluations            = 7\n",
      "Number of inequality constraint evaluations          = 0\n",
      "Number of equality constraint Jacobian evaluations   = 7\n",
      "Number of inequality constraint Jacobian evaluations = 0\n",
      "Number of Lagrangian Hessian evaluations             = 6\n",
      "Total CPU secs in IPOPT (w/o function evaluations)   =      0.002\n",
      "Total CPU secs in NLP function evaluations           =      0.000\n",
      "\n",
      "EXIT: Optimal Solution Found.\n"
     ]
    }
   ],
   "source": [
    "opt1 = pyo.SolverFactory('ipopt')\n",
    "status1 = opt1.solve(m, tee=True)"
   ]
  },
  {
   "cell_type": "markdown",
   "metadata": {
    "nbpages": {
     "level": 3,
     "link": "[1.0.3.4 Inspect the Solution](https://ndcbe.github.io/CBE60499/01.00-Pyomo-Introduction.html#1.0.3.4-Inspect-the-Solution)",
     "section": "1.0.3.4 Inspect the Solution"
    }
   },
   "source": [
    "### 1.0.3.4 Inspect the Solution\n",
    "\n",
    "Now let's inspect the solution. We'll use the function `value()` to extract the numeric value from the Pyomo variable object."
   ]
  },
  {
   "cell_type": "code",
   "execution_count": 4,
   "metadata": {
    "nbpages": {
     "level": 3,
     "link": "[1.0.3.4 Inspect the Solution](https://ndcbe.github.io/CBE60499/01.00-Pyomo-Introduction.html#1.0.3.4-Inspect-the-Solution)",
     "section": "1.0.3.4 Inspect the Solution"
    }
   },
   "outputs": [
    {
     "name": "stdout",
     "output_type": "stream",
     "text": [
      "x1 =  0.4999999999666826\n",
      "x2 =  0.5000000000333175\n",
      "x3 =  -3.499999999966682\n",
      "\n",
      "\n"
     ]
    }
   ],
   "source": [
    "## Return the solution\n",
    "print(\"x1 = \",pyo.value(m.x1))\n",
    "print(\"x2 = \",pyo.value(m.x2))\n",
    "print(\"x3 = \",pyo.value(m.x3))\n",
    "print(\"\\n\")"
   ]
  },
  {
   "cell_type": "markdown",
   "metadata": {
    "nbpages": {
     "level": 3,
     "link": "[1.0.3.5 Visualize the Solution](https://ndcbe.github.io/CBE60499/01.00-Pyomo-Introduction.html#1.0.3.5-Visualize-the-Solution)",
     "section": "1.0.3.5 Visualize the Solution"
    }
   },
   "source": [
    "### 1.0.3.5 Visualize the Solution"
   ]
  },
  {
   "cell_type": "markdown",
   "metadata": {
    "nbpages": {
     "level": 3,
     "link": "[1.0.3.5 Visualize the Solution](https://ndcbe.github.io/CBE60499/01.00-Pyomo-Introduction.html#1.0.3.5-Visualize-the-Solution)",
     "section": "1.0.3.5 Visualize the Solution"
    }
   },
   "source": [
    "Is our answer correct?\n",
    "\n",
    "We can solve this optimization problem with guess and check. If we guess $x_3$, we can then solve the constraints for $x_1$ and $x_2$:\n",
    "\n",
    "$$\\begin{bmatrix}\n",
    "1 & 1 \\\\\n",
    "1 & 2\n",
    "\\end{bmatrix} \\begin{bmatrix} x_1 \\\\ x_2 \\end{bmatrix} = \\begin{bmatrix} 1 \\\\ 5 + x_3 \\end{bmatrix}$$\n",
    "\n",
    "We can then evaluate the objective. Let's see the graphical solution to our optimization problem."
   ]
  },
  {
   "cell_type": "markdown",
   "metadata": {
    "nbpages": {
     "level": 3,
     "link": "[1.0.3.5 Visualize the Solution](https://ndcbe.github.io/CBE60499/01.00-Pyomo-Introduction.html#1.0.3.5-Visualize-the-Solution)",
     "section": "1.0.3.5 Visualize the Solution"
    }
   },
   "source": [
    "<div style=\"background-color: rgba(0,0,255,0.05) ; padding: 10px; border: 1px solid darkblue;\"> \n",
    "<b>Activity</b>: Verify you agree with how to translate the two linear constraints into a linear system of questions.</div>"
   ]
  },
  {
   "cell_type": "code",
   "execution_count": 5,
   "metadata": {
    "nbpages": {
     "level": 3,
     "link": "[1.0.3.5 Visualize the Solution](https://ndcbe.github.io/CBE60499/01.00-Pyomo-Introduction.html#1.0.3.5-Visualize-the-Solution)",
     "section": "1.0.3.5 Visualize the Solution"
    }
   },
   "outputs": [
    {
     "data": {
      "image/png": "[encoded data removed]",
      "text/plain": [
       "<Figure size 432x288 with 1 Axes>"
      ]
     },
     "metadata": {
      "needs_background": "light"
     },
     "output_type": "display_data"
    }
   ],
   "source": [
    "import numpy as np\n",
    "import matplotlib.pyplot as plt\n",
    "\n",
    "def constraints(x3):\n",
    "    ''' Solve the linear constraints\n",
    "    \n",
    "    Args:\n",
    "        x3: Value for the decision variable x3\n",
    "        \n",
    "    Returns:\n",
    "        x1 and x2: Values calculated from the constraints\n",
    "    '''\n",
    "\n",
    "    # Define the matrices in the above equations\n",
    "    A = np.array([[1, 1],[1, 2]])\n",
    "    b = np.array([1, 5+x3])\n",
    "\n",
    "    # Solve the linear system of equations\n",
    "    z = np.linalg.solve(A,b)\n",
    "    x1 = z[0]\n",
    "    x2 = z[1]\n",
    "    return x1, x2\n",
    "\n",
    "# Define a lambda function to plot the objective\n",
    "objective = lambda x1, x2, x3: x1**2 + 2*x2**2 - x3\n",
    "\n",
    "# Guess many values of x3.\n",
    "x3_guesses = np.linspace(-10,4,21)\n",
    "obj = []\n",
    "for x3 in x3_guesses:\n",
    "    # Solve the constraints to determine x1 and x2\n",
    "    x1, x2 = constraints(x3)\n",
    "    # Calculate the store the objective function value\n",
    "    obj.append(objective(x1,x2,x3))\n",
    "\n",
    "# Plot the objective function value versus x3\n",
    "plt.plot(x3_guesses, obj,color='blue',linewidth=2,label=\"Sensitivity Analysis\")\n",
    "plt.xlabel(\"$x_3$\",fontsize=18)\n",
    "plt.ylabel(\"$f(x)$\",fontsize=18)\n",
    "\n",
    "# Plot the solution from Pyomo\n",
    "x3_sln = pyo.value(m.x3)\n",
    "obj_sln = pyo.value(m.OBJ)\n",
    "plt.plot(x3_sln, obj_sln,marker='o',color='red',markersize=10,label=\"Pyomo Solution\",linestyle='')\n",
    "plt.legend()\n",
    "plt.grid(True)\n",
    "plt.show()"
   ]
  },
  {
   "cell_type": "code",
   "execution_count": null,
   "metadata": {
    "nbpages": {
     "level": 3,
     "link": "[1.0.3.5 Visualize the Solution](https://ndcbe.github.io/CBE60499/01.00-Pyomo-Introduction.html#1.0.3.5-Visualize-the-Solution)",
     "section": "1.0.3.5 Visualize the Solution"
    }
   },
   "outputs": [],
   "source": []
  },
  {
   "cell_type": "markdown",
   "metadata": {},
   "source": [
    "<!--NAVIGATION-->\n",
    "| [Contents](toc.html) | [Tag Index](tag_index.html) | [1.1 60 Minutes to Pyomo: An Energy Storage Model Predictive Control Example](https://ndcbe.github.io/CBE60499/01.01-Pyomo-Nuts-and-Bolts.html) ><p><a href=\"https://colab.research.google.com/github/ndcbe/CBE60499/blob/master/docs/01.00-Pyomo-Introduction.ipynb\"> <img align=\"left\" src=\"https://colab.research.google.com/assets/colab-badge.svg\" alt=\"Open in Colab\" title=\"Open in Google Colaboratory\"></a><p><a href=\"https://ndcbe.github.io/CBE60499/01.00-Pyomo-Introduction.ipynb\"> <img align=\"left\" src=\"https://img.shields.io/badge/Github-Download-blue.svg\" alt=\"Download\" title=\"Download Notebook\"></a>"
   ]
  }
 ],
 "metadata": {
  "kernelspec": {
   "display_name": "Python 3",
   "language": "python",
   "name": "python3"
  },
  "language_info": {
   "codemirror_mode": {
    "name": "ipython",
    "version": 3
   },
   "file_extension": ".py",
   "mimetype": "text/x-python",
   "name": "python",
   "nbconvert_exporter": "python",
   "pygments_lexer": "ipython3",
   "version": "3.8.6"
  }
 },
 "nbformat": 4,
 "nbformat_minor": 2
}
