{
 "cells": [
  {
   "cell_type": "markdown",
   "metadata": {},
   "source": [
    "<!--NOTEBOOK_HEADER-->\n",
    "*This notebook contains material from [CBE60499](https://ndcbe.github.io/CBE60499);\n",
    "content is available [on Github](git@github.com:ndcbe/CBE60499.git).*\n"
   ]
  },
  {
   "cell_type": "markdown",
   "metadata": {},
   "source": [
    "<!--NAVIGATION-->\n",
    "< [4.0 Constrained Nonlinear Optimization: Theory and Applications](https://ndcbe.github.io/CBE60499/04.00-Constrained.html) | [Contents](toc.html) | [Tag Index](tag_index.html) | [4.2 Local Optimality Conditions](https://ndcbe.github.io/CBE60499/04.02-Local-Optimality.html) ><p><a href=\"https://colab.research.google.com/github/ndcbe/CBE60499/blob/master/docs/04.01-Convexity.ipynb\"> <img align=\"left\" src=\"https://colab.research.google.com/assets/colab-badge.svg\" alt=\"Open in Colab\" title=\"Open in Google Colaboratory\"></a><p><a href=\"https://ndcbe.github.io/CBE60499/04.01-Convexity.ipynb\"> <img align=\"left\" src=\"https://img.shields.io/badge/Github-Download-blue.svg\" alt=\"Download\" title=\"Download Notebook\"></a>"
   ]
  },
  {
   "cell_type": "markdown",
   "metadata": {
    "nbpages": {
     "level": 1,
     "link": "[4.1 Convexity Revisited](https://ndcbe.github.io/CBE60499/04.01-Convexity.html#4.1-Convexity-Revisited)",
     "section": "4.1 Convexity Revisited"
    }
   },
   "source": [
    "# 4.1 Convexity Revisited"
   ]
  },
  {
   "cell_type": "code",
   "execution_count": 1,
   "metadata": {
    "nbpages": {
     "level": 1,
     "link": "[4.1 Convexity Revisited](https://ndcbe.github.io/CBE60499/04.01-Convexity.html#4.1-Convexity-Revisited)",
     "section": "4.1 Convexity Revisited"
    }
   },
   "outputs": [],
   "source": [
    "# This code cell installs packages on Colab\n",
    "\n",
    "import sys\n",
    "if \"google.colab\" in sys.modules:\n",
    "    !wget \"https://raw.githubusercontent.com/ndcbe/CBE60499/main/notebooks/helper.py\"\n",
    "    import helper\n",
    "    helper.install_idaes()\n",
    "    helper.install_ipopt()\n",
    "    helper.install_glpk()\n",
    "    helper.download_figures(['pack1.png','pack2.png','pack3.png'])"
   ]
  },
  {
   "cell_type": "code",
   "execution_count": 2,
   "metadata": {
    "nbpages": {
     "level": 1,
     "link": "[4.1 Convexity Revisited](https://ndcbe.github.io/CBE60499/04.01-Convexity.html#4.1-Convexity-Revisited)",
     "section": "4.1 Convexity Revisited"
    }
   },
   "outputs": [],
   "source": [
    "import pandas as pd\n",
    "import pyomo.environ as pyo"
   ]
  },
  {
   "cell_type": "markdown",
   "metadata": {
    "nbpages": {
     "level": 2,
     "link": "[4.1.1 Background](https://ndcbe.github.io/CBE60499/04.01-Convexity.html#4.1.1-Background)",
     "section": "4.1.1 Background"
    }
   },
   "source": [
    "## 4.1.1 Background"
   ]
  },
  {
   "cell_type": "markdown",
   "metadata": {
    "nbpages": {
     "level": 2,
     "link": "[4.1.1 Background](https://ndcbe.github.io/CBE60499/04.01-Convexity.html#4.1.1-Background)",
     "section": "4.1.1 Background"
    }
   },
   "source": [
    "**Reference**: Beginning of Chapter 4 in Biegler (2010)"
   ]
  },
  {
   "cell_type": "markdown",
   "metadata": {
    "nbpages": {
     "level": 3,
     "link": "[4.1.1.1 Canonical Nonlinear Program](https://ndcbe.github.io/CBE60499/04.01-Convexity.html#4.1.1.1-Canonical-Nonlinear-Program)",
     "section": "4.1.1.1 Canonical Nonlinear Program"
    }
   },
   "source": [
    "### 4.1.1.1 Canonical Nonlinear Program"
   ]
  },
  {
   "cell_type": "markdown",
   "metadata": {
    "nbpages": {
     "level": 3,
     "link": "[4.1.1.1 Canonical Nonlinear Program](https://ndcbe.github.io/CBE60499/04.01-Convexity.html#4.1.1.1-Canonical-Nonlinear-Program)",
     "section": "4.1.1.1 Canonical Nonlinear Program"
    }
   },
   "source": [
    "![picture](./figures/general_nlp.png)"
   ]
  },
  {
   "cell_type": "markdown",
   "metadata": {
    "nbpages": {
     "level": 3,
     "link": "[4.1.1.2 Types of Constrained Optimal Solutions](https://ndcbe.github.io/CBE60499/04.01-Convexity.html#4.1.1.2-Types-of-Constrained-Optimal-Solutions)",
     "section": "4.1.1.2 Types of Constrained Optimal Solutions"
    }
   },
   "source": [
    "### 4.1.1.2 Types of Constrained Optimal Solutions"
   ]
  },
  {
   "cell_type": "markdown",
   "metadata": {
    "nbpages": {
     "level": 3,
     "link": "[4.1.1.2 Types of Constrained Optimal Solutions](https://ndcbe.github.io/CBE60499/04.01-Convexity.html#4.1.1.2-Types-of-Constrained-Optimal-Solutions)",
     "section": "4.1.1.2 Types of Constrained Optimal Solutions"
    }
   },
   "source": [
    "![picture](./figures/def_4_1_a.png)"
   ]
  },
  {
   "cell_type": "markdown",
   "metadata": {
    "nbpages": {
     "level": 3,
     "link": "[4.1.1.2 Types of Constrained Optimal Solutions](https://ndcbe.github.io/CBE60499/04.01-Convexity.html#4.1.1.2-Types-of-Constrained-Optimal-Solutions)",
     "section": "4.1.1.2 Types of Constrained Optimal Solutions"
    }
   },
   "source": [
    "![picture](./figures/def_4_1_b.png)"
   ]
  },
  {
   "cell_type": "markdown",
   "metadata": {
    "nbpages": {
     "level": 3,
     "link": "[4.1.1.3 Key Questions](https://ndcbe.github.io/CBE60499/04.01-Convexity.html#4.1.1.3-Key-Questions)",
     "section": "4.1.1.3 Key Questions"
    }
   },
   "source": [
    "### 4.1.1.3 Key Questions"
   ]
  },
  {
   "cell_type": "markdown",
   "metadata": {
    "nbpages": {
     "level": 3,
     "link": "[4.1.1.3 Key Questions](https://ndcbe.github.io/CBE60499/04.01-Convexity.html#4.1.1.3-Key-Questions)",
     "section": "4.1.1.3 Key Questions"
    }
   },
   "source": [
    "![picture](./figures/4_1_questions.png)"
   ]
  },
  {
   "cell_type": "markdown",
   "metadata": {
    "nbpages": {
     "level": 2,
     "link": "[4.1.2 Convexity for Constrained Optimization](https://ndcbe.github.io/CBE60499/04.01-Convexity.html#4.1.2-Convexity-for-Constrained-Optimization)",
     "section": "4.1.2 Convexity for Constrained Optimization"
    }
   },
   "source": [
    "## 4.1.2 Convexity for Constrained Optimization"
   ]
  },
  {
   "cell_type": "markdown",
   "metadata": {
    "nbpages": {
     "level": 2,
     "link": "[4.1.2 Convexity for Constrained Optimization](https://ndcbe.github.io/CBE60499/04.01-Convexity.html#4.1.2-Convexity-for-Constrained-Optimization)",
     "section": "4.1.2 Convexity for Constrained Optimization"
    }
   },
   "source": [
    "**Reference**: Section 4.1 in Biegler (2010)"
   ]
  },
  {
   "cell_type": "markdown",
   "metadata": {
    "nbpages": {
     "level": 2,
     "link": "[4.1.2 Convexity for Constrained Optimization](https://ndcbe.github.io/CBE60499/04.01-Convexity.html#4.1.2-Convexity-for-Constrained-Optimization)",
     "section": "4.1.2 Convexity for Constrained Optimization"
    }
   },
   "source": [
    "![picture](./figures/thm_4_2.png)"
   ]
  },
  {
   "cell_type": "markdown",
   "metadata": {
    "nbpages": {
     "level": 2,
     "link": "[4.1.2 Convexity for Constrained Optimization](https://ndcbe.github.io/CBE60499/04.01-Convexity.html#4.1.2-Convexity-for-Constrained-Optimization)",
     "section": "4.1.2 Convexity for Constrained Optimization"
    }
   },
   "source": [
    "![picture](./figures/thm_4_3.png)"
   ]
  },
  {
   "cell_type": "markdown",
   "metadata": {
    "nbpages": {
     "level": 2,
     "link": "[4.1.3 Circle Packing Example](https://ndcbe.github.io/CBE60499/04.01-Convexity.html#4.1.3-Circle-Packing-Example)",
     "section": "4.1.3 Circle Packing Example"
    }
   },
   "source": [
    "## 4.1.3 Circle Packing Example"
   ]
  },
  {
   "cell_type": "markdown",
   "metadata": {
    "nbpages": {
     "level": 2,
     "link": "[4.1.3 Circle Packing Example](https://ndcbe.github.io/CBE60499/04.01-Convexity.html#4.1.3-Circle-Packing-Example)",
     "section": "4.1.3 Circle Packing Example"
    }
   },
   "source": [
    "**Reference**: Section 4.1 in Biegler (2010)"
   ]
  },
  {
   "cell_type": "markdown",
   "metadata": {
    "nbpages": {
     "level": 2,
     "link": "[4.1.3 Circle Packing Example](https://ndcbe.github.io/CBE60499/04.01-Convexity.html#4.1.3-Circle-Packing-Example)",
     "section": "4.1.3 Circle Packing Example"
    }
   },
   "source": [
    "**Motivating Question**: Is this problem convex?"
   ]
  },
  {
   "cell_type": "markdown",
   "metadata": {
    "nbpages": {
     "level": 2,
     "link": "[4.1.3 Circle Packing Example](https://ndcbe.github.io/CBE60499/04.01-Convexity.html#4.1.3-Circle-Packing-Example)",
     "section": "4.1.3 Circle Packing Example"
    }
   },
   "source": [
    "What is the smallest rectangle you can use to enclose three given circles? Reference: Example 4.4 in Biegler (2010).\n",
    "\n",
    "![picture](./figures/pack1.png)"
   ]
  },
  {
   "cell_type": "markdown",
   "metadata": {
    "nbpages": {
     "level": 3,
     "link": "[4.1.3.1 Optimization Model and Pyomo Implementation](https://ndcbe.github.io/CBE60499/04.01-Convexity.html#4.1.3.1-Optimization-Model-and-Pyomo-Implementation)",
     "section": "4.1.3.1 Optimization Model and Pyomo Implementation"
    }
   },
   "source": [
    "### 4.1.3.1 Optimization Model and Pyomo Implementation\n",
    "\n",
    "The following optimization model is given in Biegler (2010):"
   ]
  },
  {
   "cell_type": "markdown",
   "metadata": {
    "nbpages": {
     "level": 3,
     "link": "[4.1.3.1 Optimization Model and Pyomo Implementation](https://ndcbe.github.io/CBE60499/04.01-Convexity.html#4.1.3.1-Optimization-Model-and-Pyomo-Implementation)",
     "section": "4.1.3.1 Optimization Model and Pyomo Implementation"
    }
   },
   "source": [
    "![picture](./figures/pack2.png)\n",
    "![picture](./figures/pack3.png)"
   ]
  },
  {
   "cell_type": "code",
   "execution_count": 3,
   "metadata": {
    "nbpages": {
     "level": 3,
     "link": "[4.1.3.1 Optimization Model and Pyomo Implementation](https://ndcbe.github.io/CBE60499/04.01-Convexity.html#4.1.3.1-Optimization-Model-and-Pyomo-Implementation)",
     "section": "4.1.3.1 Optimization Model and Pyomo Implementation"
    }
   },
   "outputs": [],
   "source": [
    "import random\n",
    "import numpy as np\n",
    "import matplotlib.pyplot as plt\n",
    "import matplotlib.patches as mpatches\n",
    "\n",
    "def create_circle_model(circle_radii):\n",
    "    ''' Create circle optimization model in Pyomo\n",
    "    \n",
    "    Arguments:\n",
    "        circle_radii: dictionary with keys=circle name and value=radius (float)\n",
    "        \n",
    "    Returns:\n",
    "        model: Pyomo model\n",
    "    '''\n",
    "\n",
    "    # Number of circles to consider\n",
    "    n = len(circle_radii)\n",
    "\n",
    "    # Create a concrete Pyomo model.\n",
    "    model = pyo.ConcreteModel()\n",
    "\n",
    "    # Initialize index for circles\n",
    "    model.CIRCLES = pyo.Set(initialize = circle_radii.keys())\n",
    "    \n",
    "    # Create parameter\n",
    "    model.R = pyo.Param(model.CIRCLES, domain=pyo.PositiveReals, initialize=circle_radii)\n",
    "\n",
    "    # Create variables for box\n",
    "    model.a = pyo.Var(domain=pyo.PositiveReals)\n",
    "    model.b = pyo.Var(domain=pyo.PositiveReals)\n",
    "\n",
    "    # Set objective\n",
    "    model.obj = pyo.Objective(expr=2*(model.a + model.b), sense = pyo.minimize)\n",
    "\n",
    "    # Create variables for circle centers\n",
    "    model.x = pyo.Var(model.CIRCLES, domain=pyo.PositiveReals)\n",
    "    model.y = pyo.Var(model.CIRCLES, domain=pyo.PositiveReals)\n",
    "\n",
    "    # \"In the box\" constraints\n",
    "    def left_x(m,c):\n",
    "        return m.x[c] >= model.R[c]\n",
    "    model.left_x_con = pyo.Constraint(model.CIRCLES, rule=left_x)\n",
    "\n",
    "    def left_y(m,c):\n",
    "        return m.y[c] >= model.R[c]\n",
    "    model.left_y_con = pyo.Constraint(model.CIRCLES, rule=left_y)\n",
    "\n",
    "    def right_x(m,c):\n",
    "        return m.x[c] <= m.b - model.R[c]\n",
    "    model.right_x_con = pyo.Constraint(model.CIRCLES, rule=right_x)\n",
    "\n",
    "    def right_y(m,c):\n",
    "        return m.y[c] <= m.a - model.R[c]\n",
    "    model.right_y_con = pyo.Constraint(model.CIRCLES, rule=right_y)\n",
    "\n",
    "    # No overlap constraints\n",
    "    def no_overlap(m,c1,c2):\n",
    "        if c1 < c2:\n",
    "            return (m.x[c1] - m.x[c2])**2 + (m.y[c1] - m.y[c2])**2 >= (model.R[c1] + model.R[c2])**2\n",
    "        else:\n",
    "            return pyo.Constraint.Skip\n",
    "    model.no_overlap_con = pyo.Constraint(model.CIRCLES, model.CIRCLES, rule=no_overlap)\n",
    "    \n",
    "    return model\n",
    "\n",
    "def initialize_circle_model(model, a_init=25, b_init=25):\n",
    "    ''' Initialize the x and y coordinates using uniform distribution\n",
    "    \n",
    "    Arguments:\n",
    "        a_init: initial value for a (default=25)\n",
    "        b_init: initial value for b (default=25)\n",
    "        \n",
    "    Returns:\n",
    "        Nothing. But per Pyomo scoping rules, the input argument `model`\n",
    "        can be modified in this function.\n",
    "    \n",
    "    '''\n",
    "    # Initialize \n",
    "    model.a = 25\n",
    "    model.b = 25\n",
    "\n",
    "    for i in model.CIRCLES:\n",
    "        # Adding circle radii ensures the remains in the >0, >0 quadrant\n",
    "        model.x[i] = random.uniform(0,10) + model.R[i]\n",
    "        model.y[i] = random.uniform(0,10) + model.R[i]\n",
    "\n"
   ]
  },
  {
   "cell_type": "markdown",
   "metadata": {
    "nbpages": {
     "level": 3,
     "link": "[4.1.3.1 Optimization Model and Pyomo Implementation](https://ndcbe.github.io/CBE60499/04.01-Convexity.html#4.1.3.1-Optimization-Model-and-Pyomo-Implementation)",
     "section": "4.1.3.1 Optimization Model and Pyomo Implementation"
    }
   },
   "source": [
    "Next, we will create a dictionary containing the circle names and radii values."
   ]
  },
  {
   "cell_type": "code",
   "execution_count": 4,
   "metadata": {
    "nbpages": {
     "level": 3,
     "link": "[4.1.3.1 Optimization Model and Pyomo Implementation](https://ndcbe.github.io/CBE60499/04.01-Convexity.html#4.1.3.1-Optimization-Model-and-Pyomo-Implementation)",
     "section": "4.1.3.1 Optimization Model and Pyomo Implementation"
    }
   },
   "outputs": [
    {
     "data": {
      "text/plain": [
       "{'A': 10.0, 'B': 5.0, 'C': 3.0}"
      ]
     },
     "execution_count": 4,
     "metadata": {},
     "output_type": "execute_result"
    }
   ],
   "source": [
    "# Create dictionary with circle data\n",
    "circle_data = {'A':10.0, 'B':5.0, 'C':3.0}\n",
    "circle_data"
   ]
  },
  {
   "cell_type": "code",
   "execution_count": 5,
   "metadata": {
    "nbpages": {
     "level": 3,
     "link": "[4.1.3.1 Optimization Model and Pyomo Implementation](https://ndcbe.github.io/CBE60499/04.01-Convexity.html#4.1.3.1-Optimization-Model-and-Pyomo-Implementation)",
     "section": "4.1.3.1 Optimization Model and Pyomo Implementation"
    }
   },
   "outputs": [
    {
     "data": {
      "text/plain": [
       "dict_keys(['A', 'B', 'C'])"
      ]
     },
     "execution_count": 5,
     "metadata": {},
     "output_type": "execute_result"
    }
   ],
   "source": [
    "# Access the keys\n",
    "circle_data.keys()"
   ]
  },
  {
   "cell_type": "markdown",
   "metadata": {
    "nbpages": {
     "level": 3,
     "link": "[4.1.3.1 Optimization Model and Pyomo Implementation](https://ndcbe.github.io/CBE60499/04.01-Convexity.html#4.1.3.1-Optimization-Model-and-Pyomo-Implementation)",
     "section": "4.1.3.1 Optimization Model and Pyomo Implementation"
    }
   },
   "source": [
    "Now let's create the model."
   ]
  },
  {
   "cell_type": "code",
   "execution_count": 6,
   "metadata": {
    "nbpages": {
     "level": 3,
     "link": "[4.1.3.1 Optimization Model and Pyomo Implementation](https://ndcbe.github.io/CBE60499/04.01-Convexity.html#4.1.3.1-Optimization-Model-and-Pyomo-Implementation)",
     "section": "4.1.3.1 Optimization Model and Pyomo Implementation"
    }
   },
   "outputs": [],
   "source": [
    "# Create model\n",
    "model = create_circle_model(circle_data)"
   ]
  },
  {
   "cell_type": "markdown",
   "metadata": {
    "nbpages": {
     "level": 3,
     "link": "[4.1.3.1 Optimization Model and Pyomo Implementation](https://ndcbe.github.io/CBE60499/04.01-Convexity.html#4.1.3.1-Optimization-Model-and-Pyomo-Implementation)",
     "section": "4.1.3.1 Optimization Model and Pyomo Implementation"
    }
   },
   "source": [
    "And let's initialize the model."
   ]
  },
  {
   "cell_type": "code",
   "execution_count": 7,
   "metadata": {
    "nbpages": {
     "level": 3,
     "link": "[4.1.3.1 Optimization Model and Pyomo Implementation](https://ndcbe.github.io/CBE60499/04.01-Convexity.html#4.1.3.1-Optimization-Model-and-Pyomo-Implementation)",
     "section": "4.1.3.1 Optimization Model and Pyomo Implementation"
    }
   },
   "outputs": [
    {
     "name": "stdout",
     "output_type": "stream",
     "text": [
      "2 Set Declarations\n",
      "    CIRCLES : Size=1, Index=None, Ordered=Insertion\n",
      "        Key  : Dimen : Domain : Size : Members\n",
      "        None :     1 :    Any :    3 : {'A', 'B', 'C'}\n",
      "    no_overlap_con_index : Size=1, Index=None, Ordered=True\n",
      "        Key  : Dimen : Domain          : Size : Members\n",
      "        None :     2 : CIRCLES*CIRCLES :    9 : {('A', 'A'), ('A', 'B'), ('A', 'C'), ('B', 'A'), ('B', 'B'), ('B', 'C'), ('C', 'A'), ('C', 'B'), ('C', 'C')}\n",
      "\n",
      "1 Param Declarations\n",
      "    R : Size=3, Index=CIRCLES, Domain=PositiveReals, Default=None, Mutable=False\n",
      "        Key : Value\n",
      "          A :  10.0\n",
      "          B :   5.0\n",
      "          C :   3.0\n",
      "\n",
      "4 Var Declarations\n",
      "    a : Size=1, Index=None\n",
      "        Key  : Lower : Value : Upper : Fixed : Stale : Domain\n",
      "        None :     0 :    25 :  None : False : False : PositiveReals\n",
      "    b : Size=1, Index=None\n",
      "        Key  : Lower : Value : Upper : Fixed : Stale : Domain\n",
      "        None :     0 :    25 :  None : False : False : PositiveReals\n",
      "    x : Size=3, Index=CIRCLES\n",
      "        Key : Lower : Value              : Upper : Fixed : Stale : Domain\n",
      "          A :     0 : 12.841552708011381 :  None : False : False : PositiveReals\n",
      "          B :     0 :  5.317917334950976 :  None : False : False : PositiveReals\n",
      "          C :     0 :   7.92668839728193 :  None : False : False : PositiveReals\n",
      "    y : Size=3, Index=CIRCLES\n",
      "        Key : Lower : Value             : Upper : Fixed : Stale : Domain\n",
      "          A :     0 : 15.93994957385218 :  None : False : False : PositiveReals\n",
      "          B :     0 : 5.402476587728794 :  None : False : False : PositiveReals\n",
      "          C :     0 : 7.556772365151705 :  None : False : False : PositiveReals\n",
      "\n",
      "1 Objective Declarations\n",
      "    obj : Size=1, Index=None, Active=True\n",
      "        Key  : Active : Sense    : Expression\n",
      "        None :   True : minimize : 2*(a + b)\n",
      "\n",
      "5 Constraint Declarations\n",
      "    left_x_con : Size=3, Index=CIRCLES, Active=True\n",
      "        Key : Lower : Body : Upper : Active\n",
      "          A :  10.0 : x[A] :  +Inf :   True\n",
      "          B :   5.0 : x[B] :  +Inf :   True\n",
      "          C :   3.0 : x[C] :  +Inf :   True\n",
      "    left_y_con : Size=3, Index=CIRCLES, Active=True\n",
      "        Key : Lower : Body : Upper : Active\n",
      "          A :  10.0 : y[A] :  +Inf :   True\n",
      "          B :   5.0 : y[B] :  +Inf :   True\n",
      "          C :   3.0 : y[C] :  +Inf :   True\n",
      "    no_overlap_con : Size=3, Index=no_overlap_con_index, Active=True\n",
      "        Key        : Lower : Body                                : Upper : Active\n",
      "        ('A', 'B') : 225.0 : (x[A] - x[B])**2 + (y[A] - y[B])**2 :  +Inf :   True\n",
      "        ('A', 'C') : 169.0 : (x[A] - x[C])**2 + (y[A] - y[C])**2 :  +Inf :   True\n",
      "        ('B', 'C') :  64.0 : (x[B] - x[C])**2 + (y[B] - y[C])**2 :  +Inf :   True\n",
      "    right_x_con : Size=3, Index=CIRCLES, Active=True\n",
      "        Key : Lower : Body              : Upper : Active\n",
      "          A :  -Inf : x[A] - (b - 10.0) :   0.0 :   True\n",
      "          B :  -Inf :  x[B] - (b - 5.0) :   0.0 :   True\n",
      "          C :  -Inf :  x[C] - (b - 3.0) :   0.0 :   True\n",
      "    right_y_con : Size=3, Index=CIRCLES, Active=True\n",
      "        Key : Lower : Body              : Upper : Active\n",
      "          A :  -Inf : y[A] - (a - 10.0) :   0.0 :   True\n",
      "          B :  -Inf :  y[B] - (a - 5.0) :   0.0 :   True\n",
      "          C :  -Inf :  y[C] - (a - 3.0) :   0.0 :   True\n",
      "\n",
      "13 Declarations: CIRCLES R a b obj x y left_x_con left_y_con right_x_con right_y_con no_overlap_con_index no_overlap_con\n"
     ]
    }
   ],
   "source": [
    "# Initialize model\n",
    "initialize_circle_model(model)\n",
    "model.pprint()"
   ]
  },
  {
   "cell_type": "markdown",
   "metadata": {
    "nbpages": {
     "level": 3,
     "link": "[4.1.3.2 Visualize Initial Point](https://ndcbe.github.io/CBE60499/04.01-Convexity.html#4.1.3.2-Visualize-Initial-Point)",
     "section": "4.1.3.2 Visualize Initial Point"
    }
   },
   "source": [
    "### 4.1.3.2 Visualize Initial Point"
   ]
  },
  {
   "cell_type": "markdown",
   "metadata": {
    "nbpages": {
     "level": 3,
     "link": "[4.1.3.2 Visualize Initial Point](https://ndcbe.github.io/CBE60499/04.01-Convexity.html#4.1.3.2-Visualize-Initial-Point)",
     "section": "4.1.3.2 Visualize Initial Point"
    }
   },
   "source": [
    "Next, we'll define a function to plot the solution (or initial point)"
   ]
  },
  {
   "cell_type": "code",
   "execution_count": 8,
   "metadata": {
    "nbpages": {
     "level": 3,
     "link": "[4.1.3.2 Visualize Initial Point](https://ndcbe.github.io/CBE60499/04.01-Convexity.html#4.1.3.2-Visualize-Initial-Point)",
     "section": "4.1.3.2 Visualize Initial Point"
    }
   },
   "outputs": [
    {
     "data": {
      "image/png": "[encoded data removed]",
      "text/plain": [
       "<Figure size 432x432 with 1 Axes>"
      ]
     },
     "metadata": {
      "needs_background": "light"
     },
     "output_type": "display_data"
    }
   ],
   "source": [
    "# Plot initial point\n",
    "\n",
    "def plot_circles(m):\n",
    "    ''' Plot circles using data in Pyomo model\n",
    "    \n",
    "    Arguments:\n",
    "        m: Pyomo concrete model\n",
    "    \n",
    "    Returns:\n",
    "        Nothing (but makes a figure)\n",
    "    \n",
    "    '''\n",
    "    \n",
    "    # Create figure\n",
    "    fig, ax = plt.subplots(1,figsize=(6,6))\n",
    "    \n",
    "    # Adjust axes\n",
    "    l = max(m.a.value,m.b.value) + 1\n",
    "    ax.set_xlim(0,l)\n",
    "    ax.set_ylim(0,l)\n",
    "    \n",
    "    # Draw box\n",
    "    art = mpatches.Rectangle((0,0), width=m.b.value, height=m.a.value,fill=False)\n",
    "    ax.add_patch(art)\n",
    "\n",
    "    # Draw circles and mark center\n",
    "    for i in m.CIRCLES:\n",
    "        art2 = mpatches.Circle( (m.x[i].value,m.y[i].value), radius=m.R[i],fill=True,alpha=0.25)\n",
    "        ax.add_patch(art2)\n",
    "        \n",
    "        plt.scatter(m.x[i].value,m.y[i].value,color='black')\n",
    "    \n",
    "    # Show plot\n",
    "    plt.show()\n",
    "    \n",
    "plot_circles(model)"
   ]
  },
  {
   "cell_type": "markdown",
   "metadata": {
    "nbpages": {
     "level": 3,
     "link": "[4.1.3.3 Solve and Inspect the Solution](https://ndcbe.github.io/CBE60499/04.01-Convexity.html#4.1.3.3-Solve-and-Inspect-the-Solution)",
     "section": "4.1.3.3 Solve and Inspect the Solution"
    }
   },
   "source": [
    "### 4.1.3.3 Solve and Inspect the Solution"
   ]
  },
  {
   "cell_type": "code",
   "execution_count": 9,
   "metadata": {
    "nbpages": {
     "level": 3,
     "link": "[4.1.3.3 Solve and Inspect the Solution](https://ndcbe.github.io/CBE60499/04.01-Convexity.html#4.1.3.3-Solve-and-Inspect-the-Solution)",
     "section": "4.1.3.3 Solve and Inspect the Solution"
    }
   },
   "outputs": [
    {
     "name": "stdout",
     "output_type": "stream",
     "text": [
      "Ipopt 3.13.2: \n",
      "\n",
      "******************************************************************************\n",
      "This program contains Ipopt, a library for large-scale nonlinear optimization.\n",
      " Ipopt is released as open source code under the Eclipse Public License (EPL).\n",
      "         For more information visit http://projects.coin-or.org/Ipopt\n",
      "******************************************************************************\n",
      "\n",
      "This is Ipopt version 3.13.2, running with linear solver ma27.\n",
      "\n",
      "Number of nonzeros in equality constraint Jacobian...:        0\n",
      "Number of nonzeros in inequality constraint Jacobian.:       30\n",
      "Number of nonzeros in Lagrangian Hessian.............:       12\n",
      "\n",
      "Total number of variables............................:        8\n",
      "                     variables with only lower bounds:        8\n",
      "                variables with lower and upper bounds:        0\n",
      "                     variables with only upper bounds:        0\n",
      "Total number of equality constraints.................:        0\n",
      "Total number of inequality constraints...............:       15\n",
      "        inequality constraints with only lower bounds:        9\n",
      "   inequality constraints with lower and upper bounds:        0\n",
      "        inequality constraints with only upper bounds:        6\n",
      "\n",
      "iter    objective    inf_pr   inf_du lg(mu)  ||d||  lg(rg) alpha_du alpha_pr  ls\n",
      "   0  1.0000000e+02 7.46e+01 1.06e+00  -1.0 0.00e+00    -  0.00e+00 0.00e+00   0\n",
      "   1  1.0050650e+02 4.98e+01 4.22e+00  -1.0 2.36e+01    -  1.84e-01 1.30e-01h  1\n",
      "   2  1.0015862e+02 3.01e+01 2.32e+00  -1.0 5.24e+00    -  8.18e-01 3.67e-01h  1\n",
      "   3  9.9730828e+01 1.33e+01 1.16e+00  -1.0 4.96e+00    -  7.51e-01 4.53e-01h  1\n",
      "   4  9.8213893e+01 8.23e+00 1.08e+00  -1.0 2.46e+01    -  2.93e-01 7.07e-02f  1\n",
      "   5  9.8307816e+01 1.84e+00 3.42e-01  -1.0 7.81e+00    -  1.00e+00 6.57e-01h  1\n",
      "   6  9.8901802e+01 0.00e+00 1.06e-02  -1.0 1.80e+01    -  1.00e+00 1.00e+00h  1\n",
      "   7  9.8393352e+01 0.00e+00 3.30e-03  -1.7 9.37e+00    -  1.00e+00 1.00e+00h  1\n",
      "   8  9.8405011e+01 0.00e+00 1.08e-03  -1.7 4.38e+01    -  1.00e+00 1.00e+00h  1\n",
      "   9  9.8405025e+01 0.00e+00 1.17e-04  -1.7 7.44e+00    -  1.00e+00 1.00e+00h  1\n",
      "iter    objective    inf_pr   inf_du lg(mu)  ||d||  lg(rg) alpha_du alpha_pr  ls\n",
      "  10  9.8405027e+01 0.00e+00 5.74e-07  -1.7 1.52e+00    -  1.00e+00 1.00e+00h  1\n",
      "  11  9.8284703e+01 0.00e+00 4.42e-05  -3.8 2.93e-01    -  1.00e+00 9.98e-01h  1\n",
      "  12  9.8284281e+01 0.00e+00 2.33e-09  -5.7 2.63e-03    -  1.00e+00 1.00e+00h  1\n",
      "  13  9.8284270e+01 0.00e+00 1.33e-13  -8.6 2.80e-05    -  1.00e+00 1.00e+00h  1\n",
      "\n",
      "Number of Iterations....: 13\n",
      "\n",
      "                                   (scaled)                 (unscaled)\n",
      "Objective...............:   9.8284270438747228e+01    9.8284270438747228e+01\n",
      "Dual infeasibility......:   1.3347017888941731e-13    1.3347017888941731e-13\n",
      "Constraint violation....:   0.0000000000000000e+00    0.0000000000000000e+00\n",
      "Complementarity.........:   2.5071615765896930e-09    2.5071615765896930e-09\n",
      "Overall NLP error.......:   2.5071615765896930e-09    2.5071615765896930e-09\n",
      "\n",
      "\n",
      "Number of objective function evaluations             = 14\n",
      "Number of objective gradient evaluations             = 14\n",
      "Number of equality constraint evaluations            = 0\n",
      "Number of inequality constraint evaluations          = 14\n",
      "Number of equality constraint Jacobian evaluations   = 0\n",
      "Number of inequality constraint Jacobian evaluations = 14\n",
      "Number of Lagrangian Hessian evaluations             = 13\n",
      "Total CPU secs in IPOPT (w/o function evaluations)   =      0.004\n",
      "Total CPU secs in NLP function evaluations           =      0.000\n",
      "\n",
      "EXIT: Optimal Solution Found.\n"
     ]
    }
   ],
   "source": [
    "# Specify the solver\n",
    "solver = pyo.SolverFactory('ipopt')\n",
    "\n",
    "# Solve the model\n",
    "results = solver.solve(model, tee = True)"
   ]
  },
  {
   "cell_type": "markdown",
   "metadata": {
    "nbpages": {
     "level": 3,
     "link": "[4.1.3.3 Solve and Inspect the Solution](https://ndcbe.github.io/CBE60499/04.01-Convexity.html#4.1.3.3-Solve-and-Inspect-the-Solution)",
     "section": "4.1.3.3 Solve and Inspect the Solution"
    }
   },
   "source": [
    "Next, we can inspect the solution. Because Pyomo is a Python extension, we can use Pyoth (for loops, etc.) to programmatically inspect the solution."
   ]
  },
  {
   "cell_type": "code",
   "execution_count": 10,
   "metadata": {
    "nbpages": {
     "level": 3,
     "link": "[4.1.3.3 Solve and Inspect the Solution](https://ndcbe.github.io/CBE60499/04.01-Convexity.html#4.1.3.3-Solve-and-Inspect-the-Solution)",
     "section": "4.1.3.3 Solve and Inspect the Solution"
    }
   },
   "outputs": [
    {
     "name": "stdout",
     "output_type": "stream",
     "text": [
      "Name\tValue\n",
      "a \t 29.142135416184022\n",
      "b \t 19.999999803189596\n",
      "x[A] \t 9.99999990193744\n",
      "x[B] \t 4.999999953543133\n",
      "x[C] \t 15.734851787229463\n",
      "y[A] \t 19.142135514931184\n",
      "y[B] \t 4.999999951252124\n",
      "y[C] \t 5.517617033892999\n"
     ]
    },
    {
     "data": {
      "image/png": "[encoded data removed]",
      "text/plain": [
       "<Figure size 432x432 with 1 Axes>"
      ]
     },
     "metadata": {
      "needs_background": "light"
     },
     "output_type": "display_data"
    }
   ],
   "source": [
    "# Print variable values\n",
    "print(\"Name\\tValue\")\n",
    "for c in model.component_data_objects(pyo.Var):\n",
    "    print(c.name,\"\\t\", pyo.value(c))\n",
    "\n",
    "# Plot solution\n",
    "plot_circles(model)"
   ]
  },
  {
   "cell_type": "code",
   "execution_count": 11,
   "metadata": {
    "nbpages": {
     "level": 3,
     "link": "[4.1.3.3 Solve and Inspect the Solution](https://ndcbe.github.io/CBE60499/04.01-Convexity.html#4.1.3.3-Solve-and-Inspect-the-Solution)",
     "section": "4.1.3.3 Solve and Inspect the Solution"
    }
   },
   "outputs": [
    {
     "name": "stdout",
     "output_type": "stream",
     "text": [
      "left_x_con[A] \t 10.0 \t 9.99999990193744 \t None\n",
      "left_x_con[B] \t 5.0 \t 4.999999953543133 \t None\n",
      "left_x_con[C] \t 3.0 \t 15.734851787229463 \t None\n",
      "left_y_con[A] \t 10.0 \t 19.142135514931184 \t None\n",
      "left_y_con[B] \t 5.0 \t 4.999999951252124 \t None\n",
      "left_y_con[C] \t 3.0 \t 5.517617033892999 \t None\n",
      "right_x_con[A] \t None \t 9.874784367980283e-08 \t 0.0\n",
      "right_x_con[B] \t None \t -9.999999849646462 \t 0.0\n",
      "right_x_con[C] \t None \t -1.2651480159601327 \t 0.0\n",
      "right_y_con[A] \t None \t 9.87471615587765e-08 \t 0.0\n",
      "right_y_con[B] \t None \t -19.142135464931897 \t 0.0\n",
      "right_y_con[C] \t None \t -20.624518382291022 \t 0.0\n",
      "no_overlap_con[A,B] \t 225.0 \t 224.99999778541908 \t None\n",
      "no_overlap_con[A,C] \t 169.0 \t 218.51602998638847 \t None\n",
      "no_overlap_con[B,C] \t 64.0 \t 115.5049713354404 \t None\n"
     ]
    }
   ],
   "source": [
    "# Print constraints\n",
    "for c in model.component_data_objects(pyo.Constraint):\n",
    "    print(c.name,\"\\t\", pyo.value(c.lower),\"\\t\", pyo.value(c.body),\"\\t\", pyo.value(c.upper))"
   ]
  },
  {
   "cell_type": "markdown",
   "metadata": {
    "nbpages": {
     "level": 3,
     "link": "[4.1.3.4 Reinitialize and Resolve](https://ndcbe.github.io/CBE60499/04.01-Convexity.html#4.1.3.4-Reinitialize-and-Resolve)",
     "section": "4.1.3.4 Reinitialize and Resolve"
    }
   },
   "source": [
    "### 4.1.3.4 Reinitialize and Resolve"
   ]
  },
  {
   "cell_type": "markdown",
   "metadata": {
    "nbpages": {
     "level": 3,
     "link": "[4.1.3.4 Reinitialize and Resolve](https://ndcbe.github.io/CBE60499/04.01-Convexity.html#4.1.3.4-Reinitialize-and-Resolve)",
     "section": "4.1.3.4 Reinitialize and Resolve"
    }
   },
   "source": [
    "Reinitialize the model, plot the initial point, resolve, and plot the solution. Is there more than one solution?"
   ]
  },
  {
   "cell_type": "code",
   "execution_count": 12,
   "metadata": {
    "nbpages": {
     "level": 3,
     "link": "[4.1.3.4 Reinitialize and Resolve](https://ndcbe.github.io/CBE60499/04.01-Convexity.html#4.1.3.4-Reinitialize-and-Resolve)",
     "section": "4.1.3.4 Reinitialize and Resolve"
    }
   },
   "outputs": [],
   "source": [
    "# Initialize and print the model\n",
    "initialize_circle_model(model)"
   ]
  },
  {
   "cell_type": "code",
   "execution_count": 13,
   "metadata": {
    "nbpages": {
     "level": 3,
     "link": "[4.1.3.4 Reinitialize and Resolve](https://ndcbe.github.io/CBE60499/04.01-Convexity.html#4.1.3.4-Reinitialize-and-Resolve)",
     "section": "4.1.3.4 Reinitialize and Resolve"
    }
   },
   "outputs": [
    {
     "data": {
      "image/png": "[encoded data removed]",
      "text/plain": [
       "<Figure size 432x432 with 1 Axes>"
      ]
     },
     "metadata": {
      "needs_background": "light"
     },
     "output_type": "display_data"
    }
   ],
   "source": [
    "# Plot initial point\n",
    "plot_circles(model)"
   ]
  },
  {
   "cell_type": "code",
   "execution_count": 14,
   "metadata": {
    "nbpages": {
     "level": 3,
     "link": "[4.1.3.4 Reinitialize and Resolve](https://ndcbe.github.io/CBE60499/04.01-Convexity.html#4.1.3.4-Reinitialize-and-Resolve)",
     "section": "4.1.3.4 Reinitialize and Resolve"
    }
   },
   "outputs": [
    {
     "name": "stdout",
     "output_type": "stream",
     "text": [
      "Ipopt 3.13.2: \n",
      "\n",
      "******************************************************************************\n",
      "This program contains Ipopt, a library for large-scale nonlinear optimization.\n",
      " Ipopt is released as open source code under the Eclipse Public License (EPL).\n",
      "         For more information visit http://projects.coin-or.org/Ipopt\n",
      "******************************************************************************\n",
      "\n",
      "This is Ipopt version 3.13.2, running with linear solver ma27.\n",
      "\n",
      "Number of nonzeros in equality constraint Jacobian...:        0\n",
      "Number of nonzeros in inequality constraint Jacobian.:       30\n",
      "Number of nonzeros in Lagrangian Hessian.............:       12\n",
      "\n",
      "Total number of variables............................:        8\n",
      "                     variables with only lower bounds:        8\n",
      "                variables with lower and upper bounds:        0\n",
      "                     variables with only upper bounds:        0\n",
      "Total number of equality constraints.................:        0\n",
      "Total number of inequality constraints...............:       15\n",
      "        inequality constraints with only lower bounds:        9\n",
      "   inequality constraints with lower and upper bounds:        0\n",
      "        inequality constraints with only upper bounds:        6\n",
      "\n",
      "iter    objective    inf_pr   inf_du lg(mu)  ||d||  lg(rg) alpha_du alpha_pr  ls\n",
      "   0  1.0000000e+02 1.37e+02 1.00e+00  -1.0 0.00e+00    -  0.00e+00 0.00e+00   0\n",
      "   1  1.0276645e+02 6.44e+01 6.62e-01  -1.0 7.31e+00    -  6.14e-01 4.44e-01h  1\n",
      "   2  1.0566116e+02 1.85e+01 1.63e+00  -1.0 2.55e+00   0.0 8.96e-01 6.48e-01h  1\n",
      "   3  1.0612677e+02 0.00e+00 5.99e-01  -1.0 1.46e+00  -0.5 1.00e+00 1.00e+00h  1\n",
      "   4  1.0329539e+02 0.00e+00 3.22e-01  -1.0 2.52e+00  -1.0 1.00e+00 6.55e-01f  1\n",
      "   5  1.0326145e+02 0.00e+00 3.12e-01  -1.0 1.93e+00    -  8.26e-01 1.00e+00h  1\n",
      "   6  1.0237284e+02 0.00e+00 1.44e-01  -1.7 4.25e+00  -1.4 6.57e-01 7.24e-01f  1\n",
      "   7  9.9794889e+01 0.00e+00 1.92e-01  -1.7 1.94e+00  -1.0 9.54e-01 1.00e+00h  1\n",
      "   8  9.8743606e+01 0.00e+00 9.11e-01  -1.7 3.49e+01  -1.5 2.76e-01 2.60e-02f  1\n",
      "   9  9.8483796e+01 0.00e+00 1.74e-01  -1.7 4.32e+00    -  9.92e-01 8.22e-01h  1\n",
      "iter    objective    inf_pr   inf_du lg(mu)  ||d||  lg(rg) alpha_du alpha_pr  ls\n",
      "  10  9.8455971e+01 0.00e+00 9.38e-02  -1.7 1.73e+02    -  9.38e-01 3.53e-01f  1\n",
      "  11  9.8404443e+01 0.00e+00 2.67e-03  -1.7 9.65e+00    -  1.00e+00 1.00e+00h  1\n",
      "  12  9.8405024e+01 0.00e+00 2.10e-05  -1.7 4.30e+00    -  1.00e+00 1.00e+00h  1\n",
      "  13  9.8300696e+01 0.00e+00 1.14e-05  -2.5 2.47e-01    -  1.00e+00 1.00e+00h  1\n",
      "  14  9.8285160e+01 0.00e+00 2.64e-07  -3.8 3.60e-02    -  1.00e+00 1.00e+00h  1\n",
      "  15  9.8284281e+01 0.00e+00 1.27e-09  -5.7 3.07e-03    -  1.00e+00 1.00e+00h  1\n",
      "  16  9.8284270e+01 0.00e+00 1.75e-12  -8.6 2.76e-04    -  1.00e+00 1.00e+00h  1\n",
      "\n",
      "Number of Iterations....: 16\n",
      "\n",
      "                                   (scaled)                 (unscaled)\n",
      "Objective...............:   9.8284270438747257e+01    9.8284270438747257e+01\n",
      "Dual infeasibility......:   1.7491657667044265e-12    1.7491657667044265e-12\n",
      "Constraint violation....:   0.0000000000000000e+00    0.0000000000000000e+00\n",
      "Complementarity.........:   2.5240899380720466e-09    2.5240899380720466e-09\n",
      "Overall NLP error.......:   2.5240899380720466e-09    2.5240899380720466e-09\n",
      "\n",
      "\n",
      "Number of objective function evaluations             = 17\n",
      "Number of objective gradient evaluations             = 17\n",
      "Number of equality constraint evaluations            = 0\n",
      "Number of inequality constraint evaluations          = 17\n",
      "Number of equality constraint Jacobian evaluations   = 0\n",
      "Number of inequality constraint Jacobian evaluations = 17\n",
      "Number of Lagrangian Hessian evaluations             = 16\n",
      "Total CPU secs in IPOPT (w/o function evaluations)   =      0.004\n",
      "Total CPU secs in NLP function evaluations           =      0.000\n",
      "\n",
      "EXIT: Optimal Solution Found.\n"
     ]
    }
   ],
   "source": [
    "# Solve the model\n",
    "results = solver.solve(model, tee = True)"
   ]
  },
  {
   "cell_type": "code",
   "execution_count": 15,
   "metadata": {
    "nbpages": {
     "level": 3,
     "link": "[4.1.3.4 Reinitialize and Resolve](https://ndcbe.github.io/CBE60499/04.01-Convexity.html#4.1.3.4-Reinitialize-and-Resolve)",
     "section": "4.1.3.4 Reinitialize and Resolve"
    }
   },
   "outputs": [
    {
     "data": {
      "image/png": "[encoded data removed]",
      "text/plain": [
       "<Figure size 432x432 with 1 Axes>"
      ]
     },
     "metadata": {
      "needs_background": "light"
     },
     "output_type": "display_data"
    }
   ],
   "source": [
    "# Plot solution\n",
    "plot_circles(model)"
   ]
  },
  {
   "cell_type": "markdown",
   "metadata": {
    "nbpages": {
     "level": 2,
     "link": "[4.1.4 Take Away Messages](https://ndcbe.github.io/CBE60499/04.01-Convexity.html#4.1.4-Take-Away-Messages)",
     "section": "4.1.4 Take Away Messages"
    }
   },
   "source": [
    "## 4.1.4 Take Away Messages\n",
    "* Nonlinear programs may be nonconvex. For nonconvex problems, there often exists many local optima that are not also global optima.\n",
    "* Initialization is really important in optimization problems with nonlinear objectives or constraints!"
   ]
  },
  {
   "cell_type": "markdown",
   "metadata": {},
   "source": [
    "<!--NAVIGATION-->\n",
    "< [4.0 Constrained Nonlinear Optimization: Theory and Applications](https://ndcbe.github.io/CBE60499/04.00-Constrained.html) | [Contents](toc.html) | [Tag Index](tag_index.html) | [4.2 Local Optimality Conditions](https://ndcbe.github.io/CBE60499/04.02-Local-Optimality.html) ><p><a href=\"https://colab.research.google.com/github/ndcbe/CBE60499/blob/master/docs/04.01-Convexity.ipynb\"> <img align=\"left\" src=\"https://colab.research.google.com/assets/colab-badge.svg\" alt=\"Open in Colab\" title=\"Open in Google Colaboratory\"></a><p><a href=\"https://ndcbe.github.io/CBE60499/04.01-Convexity.ipynb\"> <img align=\"left\" src=\"https://img.shields.io/badge/Github-Download-blue.svg\" alt=\"Download\" title=\"Download Notebook\"></a>"
   ]
  }
 ],
 "metadata": {
  "kernelspec": {
   "display_name": "Python 3",
   "language": "python",
   "name": "python3"
  },
  "language_info": {
   "codemirror_mode": {
    "name": "ipython",
    "version": 3
   },
   "file_extension": ".py",
   "mimetype": "text/x-python",
   "name": "python",
   "nbconvert_exporter": "python",
   "pygments_lexer": "ipython3",
   "version": "3.8.6"
  }
 },
 "nbformat": 4,
 "nbformat_minor": 2
}
