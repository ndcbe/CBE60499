{
 "cells": [
  {
   "cell_type": "markdown",
   "metadata": {},
   "source": [
    "<!--NOTEBOOK_HEADER-->\n",
    "*This notebook contains material from [CBE60499](https://ndcbe.github.io/CBE60499);\n",
    "content is available [on Github](git@github.com:ndcbe/CBE60499.git).*\n"
   ]
  },
  {
   "cell_type": "markdown",
   "metadata": {},
   "source": [
    "<!--NAVIGATION-->\n",
    "< [2.6 Dynamic Optimization with Pyomo.DAE](https://ndcbe.github.io/CBE60499/02.06-Pyomo-DAE.html) | [Contents](toc.html) | [Tag Index](tag_index.html) | [2.8 Pyomo Homework 1](https://ndcbe.github.io/CBE60499/02.08-Pyomo1.html) ><p><a href=\"https://colab.research.google.com/github/ndcbe/CBE60499/blob/master/docs/02.07-SP.ipynb\"> <img align=\"left\" src=\"https://colab.research.google.com/assets/colab-badge.svg\" alt=\"Open in Colab\" title=\"Open in Google Colaboratory\"></a><p><a href=\"https://ndcbe.github.io/CBE60499/02.07-SP.ipynb\"> <img align=\"left\" src=\"https://img.shields.io/badge/Github-Download-blue.svg\" alt=\"Download\" title=\"Download Notebook\"></a>"
   ]
  },
  {
   "cell_type": "markdown",
   "metadata": {
    "nbpages": {
     "level": 1,
     "link": "[2.7 Stochastic Programming](https://ndcbe.github.io/CBE60499/02.07-SP.html#2.7-Stochastic-Programming)",
     "section": "2.7 Stochastic Programming"
    }
   },
   "source": [
    "# 2.7 Stochastic Programming"
   ]
  },
  {
   "cell_type": "markdown",
   "metadata": {
    "nbpages": {
     "level": 2,
     "link": "[2.7.1 Key Concepts](https://ndcbe.github.io/CBE60499/02.07-SP.html#2.7.1-Key-Concepts)",
     "section": "2.7.1 Key Concepts"
    }
   },
   "source": [
    "## 2.7.1 Key Concepts"
   ]
  },
  {
   "cell_type": "markdown",
   "metadata": {
    "nbpages": {
     "level": 3,
     "link": "[2.7.1.1 Infinite Dimensional Formulation](https://ndcbe.github.io/CBE60499/02.07-SP.html#2.7.1.1-Infinite-Dimensional-Formulation)",
     "section": "2.7.1.1 Infinite Dimensional Formulation"
    }
   },
   "source": [
    "### 2.7.1.1 Infinite Dimensional Formulation"
   ]
  },
  {
   "cell_type": "markdown",
   "metadata": {
    "nbpages": {
     "level": 3,
     "link": "[2.7.1.2 Discrete (Finite Dimensional) Approximations](https://ndcbe.github.io/CBE60499/02.07-SP.html#2.7.1.2-Discrete-(Finite-Dimensional)-Approximations)",
     "section": "2.7.1.2 Discrete (Finite Dimensional) Approximations"
    }
   },
   "source": [
    "### 2.7.1.2 Discrete (Finite Dimensional) Approximations"
   ]
  },
  {
   "cell_type": "markdown",
   "metadata": {
    "nbpages": {
     "level": 3,
     "link": "[2.7.1.3 Sample Average Approximation](https://ndcbe.github.io/CBE60499/02.07-SP.html#2.7.1.3-Sample-Average-Approximation)",
     "section": "2.7.1.3 Sample Average Approximation"
    }
   },
   "source": [
    "### 2.7.1.3 Sample Average Approximation"
   ]
  },
  {
   "cell_type": "markdown",
   "metadata": {
    "nbpages": {
     "level": 3,
     "link": "[2.7.1.4 Sparse Grids (Worst Case)](https://ndcbe.github.io/CBE60499/02.07-SP.html#2.7.1.4-Sparse-Grids-(Worst-Case))",
     "section": "2.7.1.4 Sparse Grids (Worst Case)"
    }
   },
   "source": [
    "### 2.7.1.4 Sparse Grids (Worst Case)"
   ]
  },
  {
   "cell_type": "markdown",
   "metadata": {
    "nbpages": {
     "level": 2,
     "link": "[2.7.2 Farmers Example](https://ndcbe.github.io/CBE60499/02.07-SP.html#2.7.2-Farmers-Example)",
     "section": "2.7.2 Farmers Example"
    }
   },
   "source": [
    "## 2.7.2 Farmers Example"
   ]
  },
  {
   "cell_type": "markdown",
   "metadata": {
    "nbpages": {
     "level": 2,
     "link": "[2.7.2 Farmers Example](https://ndcbe.github.io/CBE60499/02.07-SP.html#2.7.2-Farmers-Example)",
     "section": "2.7.2 Farmers Example"
    }
   },
   "source": [
    "https://mpi-sppy.readthedocs.io/en/latest/quick_start.html\n",
    "\n",
    "https://mpi-sppy.readthedocs.io/en/latest/examples.html#examples"
   ]
  },
  {
   "cell_type": "markdown",
   "metadata": {
    "nbpages": {
     "level": 2,
     "link": "[2.7.3 PID Controller Tuning Example](https://ndcbe.github.io/CBE60499/02.07-SP.html#2.7.3-PID-Controller-Tuning-Example)",
     "section": "2.7.3 PID Controller Tuning Example"
    }
   },
   "source": [
    "## 2.7.3 PID Controller Tuning Example"
   ]
  },
  {
   "cell_type": "code",
   "execution_count": null,
   "metadata": {
    "nbpages": {
     "level": 2,
     "link": "[2.7.3 PID Controller Tuning Example](https://ndcbe.github.io/CBE60499/02.07-SP.html#2.7.3-PID-Controller-Tuning-Example)",
     "section": "2.7.3 PID Controller Tuning Example"
    }
   },
   "outputs": [],
   "source": []
  },
  {
   "cell_type": "markdown",
   "metadata": {},
   "source": [
    "<!--NAVIGATION-->\n",
    "< [2.6 Dynamic Optimization with Pyomo.DAE](https://ndcbe.github.io/CBE60499/02.06-Pyomo-DAE.html) | [Contents](toc.html) | [Tag Index](tag_index.html) | [2.8 Pyomo Homework 1](https://ndcbe.github.io/CBE60499/02.08-Pyomo1.html) ><p><a href=\"https://colab.research.google.com/github/ndcbe/CBE60499/blob/master/docs/02.07-SP.ipynb\"> <img align=\"left\" src=\"https://colab.research.google.com/assets/colab-badge.svg\" alt=\"Open in Colab\" title=\"Open in Google Colaboratory\"></a><p><a href=\"https://ndcbe.github.io/CBE60499/02.07-SP.ipynb\"> <img align=\"left\" src=\"https://img.shields.io/badge/Github-Download-blue.svg\" alt=\"Download\" title=\"Download Notebook\"></a>"
   ]
  }
 ],
 "metadata": {
  "kernelspec": {
   "display_name": "Python 3",
   "language": "python",
   "name": "python3"
  },
  "language_info": {
   "codemirror_mode": {
    "name": "ipython",
    "version": 3
   },
   "file_extension": ".py",
   "mimetype": "text/x-python",
   "name": "python",
   "nbconvert_exporter": "python",
   "pygments_lexer": "ipython3",
   "version": "3.8.6"
  }
 },
 "nbformat": 4,
 "nbformat_minor": 2
}
