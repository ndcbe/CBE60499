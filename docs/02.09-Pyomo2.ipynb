{
 "cells": [
  {
   "cell_type": "markdown",
   "metadata": {},
   "source": [
    "<!--NOTEBOOK_HEADER-->\n",
    "*This notebook contains material from [CBE60499](https://ndcbe.github.io/CBE60499);\n",
    "content is available [on Github](git@github.com:ndcbe/CBE60499.git).*\n"
   ]
  },
  {
   "cell_type": "markdown",
   "metadata": {},
   "source": [
    "<!--NAVIGATION-->\n",
    "< [2.8 Pyomo Homework 1](https://ndcbe.github.io/CBE60499/02.08-Pyomo1.html) | [Contents](toc.html) | [3.0 Unconstrained Nonlinear Optimization: Theory and Algorithms](https://ndcbe.github.io/CBE60499/03.00-Unconstrained.html) ><p><a href=\"https://colab.research.google.com/github/ndcbe/CBE60499/blob/master/docs/02.09-Pyomo2.ipynb\"> <img align=\"left\" src=\"https://colab.research.google.com/assets/colab-badge.svg\" alt=\"Open in Colab\" title=\"Open in Google Colaboratory\"></a><p><a href=\"https://ndcbe.github.io/CBE60499/02.09-Pyomo2.ipynb\"> <img align=\"left\" src=\"https://img.shields.io/badge/Github-Download-blue.svg\" alt=\"Download\" title=\"Download Notebook\"></a>"
   ]
  },
  {
   "cell_type": "markdown",
   "metadata": {
    "nbpages": {
     "level": 1,
     "link": "[2.9 Pyomo Homework 2](https://ndcbe.github.io/CBE60499/02.09-Pyomo2.html#2.9-Pyomo-Homework-2)",
     "section": "2.9 Pyomo Homework 2"
    }
   },
   "source": [
    "# 2.9 Pyomo Homework 2\n",
    "\n",
    "**Due Date:** 2/23/2021"
   ]
  },
  {
   "cell_type": "code",
   "execution_count": 1,
   "metadata": {
    "nbpages": {
     "level": 1,
     "link": "[2.9 Pyomo Homework 2](https://ndcbe.github.io/CBE60499/02.09-Pyomo2.html#2.9-Pyomo-Homework-2)",
     "section": "2.9 Pyomo Homework 2"
    }
   },
   "outputs": [],
   "source": [
    "# This code cell installs packages on Colab\n",
    "\n",
    "import sys\n",
    "if \"google.colab\" in sys.modules:\n",
    "    !wget \"https://raw.githubusercontent.com/ndcbe/CBE60499/main/notebooks/helper.py\"\n",
    "    import helper\n",
    "    helper.install_idaes()\n",
    "    helper.install_ipopt()\n",
    "    helper.install_glpk()"
   ]
  },
  {
   "cell_type": "code",
   "execution_count": 2,
   "metadata": {
    "nbpages": {
     "level": 1,
     "link": "[2.9 Pyomo Homework 2](https://ndcbe.github.io/CBE60499/02.09-Pyomo2.html#2.9-Pyomo-Homework-2)",
     "section": "2.9 Pyomo Homework 2"
    }
   },
   "outputs": [],
   "source": [
    "## IMPORT LIBRARIES\n",
    "from pyomo.environ import *\n",
    "import pandas as pd"
   ]
  },
  {
   "cell_type": "markdown",
   "metadata": {
    "nbpages": {
     "level": 1,
     "link": "[2.9 Pyomo Homework 2](https://ndcbe.github.io/CBE60499/02.09-Pyomo2.html#2.9-Pyomo-Homework-2)",
     "section": "2.9 Pyomo Homework 2"
    }
   },
   "source": [
    "Special thanks to the Pyomo team for create these excercises as part of their excellent PyomoFest workshop."
   ]
  },
  {
   "cell_type": "markdown",
   "metadata": {
    "nbpages": {
     "level": 2,
     "link": "[2.9.1 Some Advanced Pyomo Tricks](https://ndcbe.github.io/CBE60499/02.09-Pyomo2.html#2.9.1-Some-Advanced-Pyomo-Tricks)",
     "section": "2.9.1 Some Advanced Pyomo Tricks"
    }
   },
   "source": [
    "## 2.9.1 Some Advanced Pyomo Tricks"
   ]
  },
  {
   "cell_type": "markdown",
   "metadata": {
    "nbpages": {
     "level": 3,
     "link": "[2.9.1.1 Using the decorator notation for rules](https://ndcbe.github.io/CBE60499/02.09-Pyomo2.html#2.9.1.1-Using-the-decorator-notation-for-rules)",
     "section": "2.9.1.1 Using the decorator notation for rules"
    }
   },
   "source": [
    "### 2.9.1.1 Using the decorator notation for rules\n",
    "\n",
    "Alternative notation for declaring and defining Pyomo components using decorators exists. Starting with the warehouse location problem code below, change the model to use the decorator notation."
   ]
  },
  {
   "cell_type": "code",
   "execution_count": 3,
   "metadata": {
    "nbpages": {
     "level": 3,
     "link": "[2.9.1.1 Using the decorator notation for rules](https://ndcbe.github.io/CBE60499/02.09-Pyomo2.html#2.9.1.1-Using-the-decorator-notation-for-rules)",
     "section": "2.9.1.1 Using the decorator notation for rules"
    }
   },
   "outputs": [
    {
     "name": "stdout",
     "output_type": "stream",
     "text": [
      "y : Size=3, Index=y_index\n",
      "    Key       : Lower : Value : Upper : Fixed : Stale : Domain\n",
      "      Ashland :     0 :   1.0 :     1 : False : False : Binary\n",
      "    Harlingen :     0 :   1.0 :     1 : False : False : Binary\n",
      "      Memphis :     0 :   0.0 :     1 : False : False : Binary\n",
      "x : Size=12, Index=x_index\n",
      "    Key                      : Lower : Value : Upper : Fixed : Stale : Domain\n",
      "      ('Ashland', 'Chicago') :     0 :   1.0 :     1 : False : False :  Reals\n",
      "      ('Ashland', 'Houston') :     0 :   0.0 :     1 : False : False :  Reals\n",
      "           ('Ashland', 'LA') :     0 :   0.0 :     1 : False : False :  Reals\n",
      "          ('Ashland', 'NYC') :     0 :   1.0 :     1 : False : False :  Reals\n",
      "    ('Harlingen', 'Chicago') :     0 :   0.0 :     1 : False : False :  Reals\n",
      "    ('Harlingen', 'Houston') :     0 :   1.0 :     1 : False : False :  Reals\n",
      "         ('Harlingen', 'LA') :     0 :   1.0 :     1 : False : False :  Reals\n",
      "        ('Harlingen', 'NYC') :     0 :   0.0 :     1 : False : False :  Reals\n",
      "      ('Memphis', 'Chicago') :     0 :   0.0 :     1 : False : False :  Reals\n",
      "      ('Memphis', 'Houston') :     0 :   0.0 :     1 : False : False :  Reals\n",
      "           ('Memphis', 'LA') :     0 :   0.0 :     1 : False : False :  Reals\n",
      "          ('Memphis', 'NYC') :     0 :   0.0 :     1 : False : False :  Reals\n"
     ]
    }
   ],
   "source": [
    "# warehouse_location.py: Warehouse location determination problem\n",
    "model = ConcreteModel(name=\"(WL)\")\n",
    "\n",
    "W = ['Harlingen', 'Memphis', 'Ashland']\n",
    "C = ['NYC', 'LA', 'Chicago', 'Houston']\n",
    "d = {('Harlingen', 'NYC'): 1956, \\\n",
    "     ('Harlingen', 'LA'): 1606, \\\n",
    "     ('Harlingen', 'Chicago'): 1410, \\\n",
    "     ('Harlingen', 'Houston'): 330, \\\n",
    "     ('Memphis', 'NYC'): 1096, \\\n",
    "     ('Memphis', 'LA'): 1792, \\\n",
    "     ('Memphis', 'Chicago'): 531, \\\n",
    "     ('Memphis', 'Houston'): 567, \\\n",
    "     ('Ashland', 'NYC'): 485, \\\n",
    "     ('Ashland', 'LA'): 2322, \\\n",
    "     ('Ashland', 'Chicago'): 324, \\\n",
    "     ('Ashland', 'Houston'): 1236 }\n",
    "P = 2\n",
    "\n",
    "model.x = Var(W, C, bounds=(0,1))\n",
    "model.y = Var(W, within=Binary)\n",
    "\n",
    "@model.Objective()\n",
    "def obj(m):\n",
    "    return sum(d[w,c]*m.x[w,c] for w in W for c in C)\n",
    "\n",
    "@model.Constraint(C)\n",
    "def one_per_cust(m, c):\n",
    "    return sum(m.x[w,c] for w in W) == 1\n",
    "\n",
    "# YOUR SOLUTION HERE\n",
    "def num_warehouses(m):\n",
    "    return sum(m.y[w] for w in W) <= P\n",
    "\n",
    "SolverFactory('glpk').solve(model)\n",
    "\n",
    "model.y.pprint()\n",
    "model.x.pprint()"
   ]
  },
  {
   "cell_type": "markdown",
   "metadata": {
    "nbpages": {
     "level": 3,
     "link": "[2.9.1.2 Changing parameter values](https://ndcbe.github.io/CBE60499/02.09-Pyomo2.html#2.9.1.2-Changing-parameter-values)",
     "section": "2.9.1.2 Changing parameter values"
    }
   },
   "source": [
    "### 2.9.1.2 Changing parameter values\n",
    "\n",
    "A parameter can be specified to be mutable. This tells Pyomo that the value of the parameter may change in the future, and allows the user to change the parameter value and resolve the problem without the need to rebuild the entire model each time. We will use this functionality to find a better solution to the knapsack problem. We would like to find when the wrench becomes valuable enough to be a part of the optimal solution. Create a Pyomo Parameter for the value of the items, make it mutable, and then write a loop that prints the solution for different wrench values."
   ]
  },
  {
   "cell_type": "code",
   "execution_count": 4,
   "metadata": {
    "nbpages": {
     "level": 3,
     "link": "[2.9.1.2 Changing parameter values](https://ndcbe.github.io/CBE60499/02.09-Pyomo2.html#2.9.1.2-Changing-parameter-values)",
     "section": "2.9.1.2 Changing parameter values"
    }
   },
   "outputs": [
    {
     "name": "stdout",
     "output_type": "stream",
     "text": [
      "Wrench benefit: 1 x['wrench']: 0.0\n",
      "Wrench benefit: 2 x['wrench']: 0.0\n",
      "Wrench benefit: 3 x['wrench']: 0.0\n",
      "Wrench benefit: 4 x['wrench']: 0.0\n",
      "Wrench benefit: 5 x['wrench']: 0.0\n",
      "Wrench benefit: 6 x['wrench']: 0.0\n",
      "Wrench benefit: 7 x['wrench']: 0.0\n",
      "Wrench benefit: 8 x['wrench']: 1.0\n",
      "Wrench benefit: 9 x['wrench']: 1.0\n",
      "Wrench benefit: 10 x['wrench']: 1.0\n"
     ]
    }
   ],
   "source": [
    "A = ['hammer', 'wrench', 'screwdriver', 'towel']\n",
    "b = {'hammer':8, 'wrench':3, 'screwdriver':6, 'towel':11}\n",
    "w = {'hammer':5, 'wrench':7, 'screwdriver':4, 'towel':3}\n",
    "W_max = 14\n",
    "\n",
    "model = ConcreteModel()\n",
    "model.x = Var( A, within=Binary )\n",
    "# YOUR SOLUTION HERE"
   ]
  },
  {
   "cell_type": "markdown",
   "metadata": {
    "nbpages": {
     "level": 3,
     "link": "[2.9.1.3 Integer cuts](https://ndcbe.github.io/CBE60499/02.09-Pyomo2.html#2.9.1.3-Integer-cuts)",
     "section": "2.9.1.3 Integer cuts"
    }
   },
   "source": [
    "### 2.9.1.3 Integer cuts\n",
    "\n",
    "Often, it can be important to find not only the \"best\" solution, but a number of solutions that are equally optimal, or close to optimal. For discrete optimization problems, this can be done using something known as an integer cut. Consider again the knapsack problem where the choice of which items to select is a discrete variable $x_i \\forall i \\in A$. Let $x_i^*$ be a particular set of $x$ values we want to remove from the feasible solution space. We define an integer cut using two sets. The first set $S_0$ contains the indices for those variables whose current solution is 0, and the second set $S_1$ consists of indices for those variables whose current solution is 1. Given these two sets, an integer cut constraint that would prevent such a solution from appearing again is defined by,\n",
    "\n",
    "$\\sum_{i \\in S_0}x[i] + \\sum_{i \\in S_1}(1-x_i) \\geq 1$\n",
    "\n",
    "Write a loop that solves the problem 5 times, adding an integer cut to remove the previous solution, and printing the value of the objective function and the solution at each iteration of the loop."
   ]
  },
  {
   "cell_type": "code",
   "execution_count": 5,
   "metadata": {
    "nbpages": {
     "level": 3,
     "link": "[2.9.1.3 Integer cuts](https://ndcbe.github.io/CBE60499/02.09-Pyomo2.html#2.9.1.3-Integer-cuts)",
     "section": "2.9.1.3 Integer cuts"
    }
   },
   "outputs": [
    {
     "name": "stdout",
     "output_type": "stream",
     "text": [
      "Obj: 25.0  x[hammer]: 1.000000  x[wrench]: 0.000000  x[screwdriver]: 1.000000  x[towel]: 1.000000\n",
      "Obj: 20.0  x[hammer]: 0.000000  x[wrench]: 1.000000  x[screwdriver]: 1.000000  x[towel]: 1.000000\n",
      "Obj: 19.0  x[hammer]: 1.000000  x[wrench]: 0.000000  x[screwdriver]: 0.000000  x[towel]: 1.000000\n",
      "Obj: 17.0  x[hammer]: 0.000000  x[wrench]: 0.000000  x[screwdriver]: 1.000000  x[towel]: 1.000000\n",
      "Obj: 14.0  x[hammer]: 0.000000  x[wrench]: 1.000000  x[screwdriver]: 0.000000  x[towel]: 1.000000\n"
     ]
    }
   ],
   "source": [
    "from pyomo.environ import *\n",
    "\n",
    "A = ['hammer', 'wrench', 'screwdriver', 'towel']\n",
    "b = {'hammer':8, 'wrench':3, 'screwdriver':6, 'towel':11}\n",
    "w = {'hammer':5, 'wrench':7, 'screwdriver':4, 'towel':3}\n",
    "W_max = 14\n",
    "\n",
    "model = ConcreteModel()\n",
    "model.x = Var( A, within=Binary )\n",
    "\n",
    "def obj_rule(m):\n",
    "    return sum( b[i]*m.x[i] for i in A )\n",
    "model.obj = Objective(rule=obj_rule, sense = maximize )\n",
    "\n",
    "def weight_con_rule(m):\n",
    "    return sum( w[i]*m.x[i] for i in A ) <= W_max\n",
    "model.weight_con = Constraint(rule=weight_con_rule)\n",
    "\n",
    "opt = SolverFactory('glpk')\n",
    "\n",
    "# YOUR SOLUTION HERE"
   ]
  },
  {
   "cell_type": "markdown",
   "metadata": {
    "nbpages": {
     "level": 3,
     "link": "[2.9.1.4 Putting it all together: Lot sizing example (Hart et al., 2017)](https://ndcbe.github.io/CBE60499/02.09-Pyomo2.html#2.9.1.4-Putting-it-all-together:-Lot-sizing-example-(Hart-et-al.,-2017))",
     "section": "2.9.1.4 Putting it all together: Lot sizing example (Hart et al., 2017)"
    }
   },
   "source": [
    "### 2.9.1.4 Putting it all together: Lot sizing example (Hart et al., 2017)\n",
    "\n",
    "We will now write a complete model from scratch using a well-known multi-period optimization problem for optimal lot-sizing adapted from Hagen et al. (2001) shown below.\n",
    "\n",
    "$\\min \\sum_{t \\in T}c_ty_t+h_t^+I_t^+ +h_t^-I_t^-$\n",
    "\n",
    "s.t. $I_t=I_{t-1}+X_t-d_t, \\forall t \\in T$\n",
    "\n",
    "$I_t=I_t^+-I_t^-, \\forall t \\in T$\n",
    "\n",
    "$X_t \\leq Py_t, \\forall t \\in T$\n",
    "\n",
    "$X_t, I_t^+, I_t^- \\geq 0, \\forall t \\in T$\n",
    "\n",
    "$y_t \\in \\{0,1\\}, \\forall t \\in T$\n",
    "\n",
    "Our goal is to finnd the optimal production $X_t$ given known demands $d_t$, fixed cost $c_t$ associated with active production in a particular time period, an inventory holding cost $h_t^+$ and a shortage cost $h_t^-$ (cost of keeping a backlog) of orders. The variable $y_t$ (binary) determines if we produce in time $t$ or not, and $I_t^+$ represents inventory that we are storing across time period $t$, while $I_t^-$ represents the magnitude of the backlog. Note that $X_t \\leq Py_t$ is a constraint that only allows production in time period $t$ if the indicator variable $y_t$=1.\n",
    "\n",
    "Write a Pyomo model for this problem and solve it using glpk using the data provided below.\n",
    "\n",
    "|Parameter|Description|Value|\n",
    "|---|---|---|\n",
    "|$c$|fixed cost of production|4.6|\n",
    "|$I_0^+$|initial value of positive inventory|5.0|\n",
    "|$I_0^-$|initial value of backlogged orders|0.0|\n",
    "|$h^+$|cost (per unit) of holding inventory|0.7|\n",
    "|$h^-$|shortage cost (per unit)|1.2|\n",
    "|$P$|maximum production amoung (big-M value)|5|\n",
    "|$d$|demand|[5,7,6.2,3.1,1,7]|\n",
    "\n",
    "**Reference**: Hart, W. E., Laird, C. D., Watson, J. P., Woodruff, D. L., Hackebeil, G. A., Nicholson, B. L., and Siirola, J. D. Pyomo: Optimization Modeling in Python (Second Edition), Vol (67), Springer Verlag, 2017."
   ]
  },
  {
   "cell_type": "code",
   "execution_count": 6,
   "metadata": {
    "nbpages": {
     "level": 3,
     "link": "[2.9.1.4 Putting it all together: Lot sizing example (Hart et al., 2017)](https://ndcbe.github.io/CBE60499/02.09-Pyomo2.html#2.9.1.4-Putting-it-all-together:-Lot-sizing-example-(Hart-et-al.,-2017))",
     "section": "2.9.1.4 Putting it all together: Lot sizing example (Hart et al., 2017)"
    }
   },
   "outputs": [
    {
     "name": "stdout",
     "output_type": "stream",
     "text": [
      "Period: 1, Prod. Amount: 3.0\n",
      "Period: 2, Prod. Amount: 5.0\n",
      "Period: 3, Prod. Amount: 5.0\n",
      "Period: 4, Prod. Amount: 5.0\n",
      "Period: 5, Prod. Amount: 0.0\n"
     ]
    }
   ],
   "source": [
    "model = ConcreteModel()\n",
    "model.T = RangeSet(5)    # time periods\n",
    "\n",
    "i0 = 5.0           # initial inventory\n",
    "c = 4.6            # setup cost\n",
    "h_pos = 0.7        # inventory holding cost\n",
    "h_neg = 1.2        # shortage cost\n",
    "P = 5.0            # maximum production amount\n",
    "\n",
    "# demand during period t\n",
    "d = {1: 5.0, 2:7.0, 3:6.2, 4:3.1, 5:1.7}\n",
    "\n",
    "# YOUR SOLUTION HERE\n",
    "\n",
    "# solve the problem\n",
    "solver = SolverFactory('glpk')\n",
    "solver.solve(model)\n",
    "\n",
    "# print the results\n",
    "for t in model.T:\n",
    "    print('Period: {0}, Prod. Amount: {1}'.format(t, value(model.x[t]))) "
   ]
  },
  {
   "cell_type": "markdown",
   "metadata": {
    "nbpages": {
     "level": 2,
     "link": "[2.9.2 Nonlinear programs: initial and problem formulation are very important!](https://ndcbe.github.io/CBE60499/02.09-Pyomo2.html#2.9.2-Nonlinear-programs:-initial-and-problem-formulation-are-very-important!)",
     "section": "2.9.2 Nonlinear programs: initial and problem formulation are very important!"
    }
   },
   "source": [
    "## 2.9.2 Nonlinear programs: initial and problem formulation are very important!"
   ]
  },
  {
   "cell_type": "markdown",
   "metadata": {
    "nbpages": {
     "level": 3,
     "link": "[2.9.2.1 Alternative initialization](https://ndcbe.github.io/CBE60499/02.09-Pyomo2.html#2.9.2.1-Alternative-initialization)",
     "section": "2.9.2.1 Alternative initialization"
    }
   },
   "source": [
    "### 2.9.2.1 Alternative initialization\n",
    "\n",
    "Effective initialization can be critical for solving nonlinear problems, since they can have several local solutions and numerical diffculties. Solve the [Rosenbrock problem](https://en.wikipedia.org/wiki/Rosenbrock_function) using different initial values for the x variables. Write a loop that varies the initial value from 2.0 to 6.0, solves the problem, and prints the solution for each iteration of the loop."
   ]
  },
  {
   "cell_type": "code",
   "execution_count": 7,
   "metadata": {
    "nbpages": {
     "level": 3,
     "link": "[2.9.2.1 Alternative initialization](https://ndcbe.github.io/CBE60499/02.09-Pyomo2.html#2.9.2.1-Alternative-initialization)",
     "section": "2.9.2.1 Alternative initialization"
    }
   },
   "outputs": [
    {
     "name": "stdout",
     "output_type": "stream",
     "text": [
      "x_init, y_init, x_soln, y_soln\n",
      "  2.00    5.00    1.00    1.00\n",
      "  3.00    5.00    1.00    1.00\n",
      "  4.00    5.00    1.00    1.00\n",
      "  5.00    5.00    1.00    1.00\n"
     ]
    }
   ],
   "source": [
    "model = ConcreteModel()\n",
    "model.x = Var()\n",
    "model.y = Var()\n",
    "\n",
    "def rosenbrock(m):\n",
    "    return (1.0-m.x)**2 + 10000.0*(m.y - m.x**2)**2\n",
    "model.obj = Objective(rule=rosenbrock, sense=minimize)\n",
    "\n",
    "\n",
    "solver = SolverFactory('ipopt')\n",
    "\n",
    "print('x_init, y_init, x_soln, y_soln')\n",
    "\n",
    "# YOUR SOLUTION HERE    \n"
   ]
  },
  {
   "cell_type": "markdown",
   "metadata": {
    "nbpages": {
     "level": 3,
     "link": "[2.9.2.1 Alternative initialization](https://ndcbe.github.io/CBE60499/02.09-Pyomo2.html#2.9.2.1-Alternative-initialization)",
     "section": "2.9.2.1 Alternative initialization"
    }
   },
   "source": [
    "As elaborated here, the [Rosenbrock problem](https://en.wikipedia.org/wiki/Rosenbrock_function) is a classic \"hard\" test case for optimization algorithms. Your results may surprise you (and show the effectiveness of Pyomo and Ipopt!)."
   ]
  },
  {
   "cell_type": "markdown",
   "metadata": {
    "nbpages": {
     "level": 3,
     "link": "[2.9.2.2 Evaluation errors](https://ndcbe.github.io/CBE60499/02.09-Pyomo2.html#2.9.2.2-Evaluation-errors)",
     "section": "2.9.2.2 Evaluation errors"
    }
   },
   "source": [
    "### 2.9.2.2 Evaluation errors\n",
    "\n",
    "Consider the following problem with **initial values** $x$=5, $y$=5.\n",
    "\n",
    "$\\min_{x,y} f(x,y)=(x-1.01)^2+y^2$\n",
    "\n",
    "s.t. $y=\\sqrt{x-1.0}$\n"
   ]
  },
  {
   "cell_type": "markdown",
   "metadata": {
    "nbpages": {
     "level": 3,
     "link": "[2.9.2.2 Evaluation errors](https://ndcbe.github.io/CBE60499/02.09-Pyomo2.html#2.9.2.2-Evaluation-errors)",
     "section": "2.9.2.2 Evaluation errors"
    }
   },
   "source": [
    "1. Formulate this Pyomo model and solve using IPOPT. You should get a list of errors from the solver. Add the IPOPT solver option solver.options['halt_on_ampl_error']='yes' to find the problem. *Hint*: the error output might be ordered strangely, look this up in the console output. What did you discover? How might you fix this?"
   ]
  },
  {
   "cell_type": "code",
   "execution_count": 8,
   "metadata": {
    "nbpages": {
     "level": 3,
     "link": "[2.9.2.2 Evaluation errors](https://ndcbe.github.io/CBE60499/02.09-Pyomo2.html#2.9.2.2-Evaluation-errors)",
     "section": "2.9.2.2 Evaluation errors"
    }
   },
   "outputs": [
    {
     "name": "stdout",
     "output_type": "stream",
     "text": [
      "Ipopt 3.13.2: halt_on_ampl_error=yes\n",
      "\n",
      "\n"
     ]
    },
    {
     "name": "stderr",
     "output_type": "stream",
     "text": [
      "Error evaluating \"var =\" definition -1: can't evaluate sqrt(-0.752432).\n"
     ]
    },
    {
     "name": "stdout",
     "output_type": "stream",
     "text": [
      "******************************************************************************\n",
      "This program contains Ipopt, a library for large-scale nonlinear optimization.\n",
      " Ipopt is released as open source code under the Eclipse Public License (EPL).\n",
      "         For more information visit http://projects.coin-or.org/Ipopt\n",
      "******************************************************************************\n",
      "\n",
      "This is Ipopt version 3.13.2, running with linear solver ma27.\n",
      "\n",
      "Number of nonzeros in equality constraint Jacobian...:        2\n",
      "Number of nonzeros in inequality constraint Jacobian.:        0\n",
      "Number of nonzeros in Lagrangian Hessian.............:        2\n",
      "\n",
      "Total number of variables............................:        2\n",
      "                     variables with only lower bounds:        0\n",
      "                variables with lower and upper bounds:        0\n",
      "                     variables with only upper bounds:        0\n",
      "Total number of equality constraints.................:        1\n",
      "Total number of inequality constraints...............:        0\n",
      "        inequality constraints with only lower bounds:        0\n",
      "   inequality constraints with lower and upper bounds:        0\n",
      "        inequality constraints with only upper bounds:        0\n",
      "\n",
      "iter    objective    inf_pr   inf_du lg(mu)  ||d||  lg(rg) alpha_du alpha_pr  ls\n",
      "   0  4.0920100e+01 3.00e+00 9.86e+00  -1.0 0.00e+00    -  0.00e+00 0.00e+00   0\n",
      "ERROR: Solver (ipopt) returned non-zero return code (1)\n",
      "ERROR: See the solver log above for diagnostic information.\n"
     ]
    },
    {
     "ename": "ApplicationError",
     "evalue": "Solver (ipopt) did not exit normally",
     "output_type": "error",
     "traceback": [
      "\u001b[0;31m---------------------------------------------------------------------------\u001b[0m",
      "\u001b[0;31mApplicationError\u001b[0m                          Traceback (most recent call last)",
      "\u001b[0;32m<ipython-input-8-0d590bbe7a81>\u001b[0m in \u001b[0;36m<module>\u001b[0;34m\u001b[0m\n\u001b[1;32m     15\u001b[0m \u001b[0msolver\u001b[0m \u001b[0;34m=\u001b[0m \u001b[0mSolverFactory\u001b[0m\u001b[0;34m(\u001b[0m\u001b[0;34m'ipopt'\u001b[0m\u001b[0;34m)\u001b[0m\u001b[0;34m\u001b[0m\u001b[0;34m\u001b[0m\u001b[0m\n\u001b[1;32m     16\u001b[0m \u001b[0msolver\u001b[0m\u001b[0;34m.\u001b[0m\u001b[0moptions\u001b[0m\u001b[0;34m[\u001b[0m\u001b[0;34m'halt_on_ampl_error'\u001b[0m\u001b[0;34m]\u001b[0m \u001b[0;34m=\u001b[0m \u001b[0;34m'yes'\u001b[0m\u001b[0;34m\u001b[0m\u001b[0;34m\u001b[0m\u001b[0m\n\u001b[0;32m---> 17\u001b[0;31m \u001b[0msolver\u001b[0m\u001b[0;34m.\u001b[0m\u001b[0msolve\u001b[0m\u001b[0;34m(\u001b[0m\u001b[0mmodel\u001b[0m\u001b[0;34m,\u001b[0m \u001b[0mtee\u001b[0m\u001b[0;34m=\u001b[0m\u001b[0;32mTrue\u001b[0m\u001b[0;34m)\u001b[0m\u001b[0;34m\u001b[0m\u001b[0;34m\u001b[0m\u001b[0m\n\u001b[0m\u001b[1;32m     18\u001b[0m \u001b[0;34m\u001b[0m\u001b[0m\n\u001b[1;32m     19\u001b[0m \u001b[0mprint\u001b[0m\u001b[0;34m(\u001b[0m \u001b[0mvalue\u001b[0m\u001b[0;34m(\u001b[0m\u001b[0mmodel\u001b[0m\u001b[0;34m.\u001b[0m\u001b[0mx\u001b[0m\u001b[0;34m)\u001b[0m \u001b[0;34m)\u001b[0m\u001b[0;34m\u001b[0m\u001b[0;34m\u001b[0m\u001b[0m\n",
      "\u001b[0;32m/anaconda3/envs/spring2021/lib/python3.8/site-packages/pyomo/opt/base/solvers.py\u001b[0m in \u001b[0;36msolve\u001b[0;34m(self, *args, **kwds)\u001b[0m\n\u001b[1;32m    595\u001b[0m                 \u001b[0;32melif\u001b[0m \u001b[0mhasattr\u001b[0m\u001b[0;34m(\u001b[0m\u001b[0m_status\u001b[0m\u001b[0;34m,\u001b[0m \u001b[0;34m'log'\u001b[0m\u001b[0;34m)\u001b[0m \u001b[0;32mand\u001b[0m \u001b[0m_status\u001b[0m\u001b[0;34m.\u001b[0m\u001b[0mlog\u001b[0m\u001b[0;34m:\u001b[0m\u001b[0;34m\u001b[0m\u001b[0;34m\u001b[0m\u001b[0m\n\u001b[1;32m    596\u001b[0m                     \u001b[0mlogger\u001b[0m\u001b[0;34m.\u001b[0m\u001b[0merror\u001b[0m\u001b[0;34m(\u001b[0m\u001b[0;34m\"Solver log:\\n\"\u001b[0m \u001b[0;34m+\u001b[0m \u001b[0mstr\u001b[0m\u001b[0;34m(\u001b[0m\u001b[0m_status\u001b[0m\u001b[0;34m.\u001b[0m\u001b[0mlog\u001b[0m\u001b[0;34m)\u001b[0m\u001b[0;34m)\u001b[0m\u001b[0;34m\u001b[0m\u001b[0;34m\u001b[0m\u001b[0m\n\u001b[0;32m--> 597\u001b[0;31m                 raise ApplicationError(\n\u001b[0m\u001b[1;32m    598\u001b[0m                     \"Solver (%s) did not exit normally\" % self.name)\n\u001b[1;32m    599\u001b[0m             \u001b[0msolve_completion_time\u001b[0m \u001b[0;34m=\u001b[0m \u001b[0mtime\u001b[0m\u001b[0;34m.\u001b[0m\u001b[0mtime\u001b[0m\u001b[0;34m(\u001b[0m\u001b[0;34m)\u001b[0m\u001b[0;34m\u001b[0m\u001b[0;34m\u001b[0m\u001b[0m\n",
      "\u001b[0;31mApplicationError\u001b[0m: Solver (ipopt) did not exit normally"
     ]
    }
   ],
   "source": [
    "# YOUR SOLUTION HERE"
   ]
  },
  {
   "cell_type": "markdown",
   "metadata": {
    "nbpages": {
     "level": 3,
     "link": "[2.9.2.2 Evaluation errors](https://ndcbe.github.io/CBE60499/02.09-Pyomo2.html#2.9.2.2-Evaluation-errors)",
     "section": "2.9.2.2 Evaluation errors"
    }
   },
   "source": [
    "**Question Answers**\n",
    "\n",
    "*Fill in here*"
   ]
  },
  {
   "cell_type": "markdown",
   "metadata": {
    "nbpages": {
     "level": 3,
     "link": "[2.9.2.2 Evaluation errors](https://ndcbe.github.io/CBE60499/02.09-Pyomo2.html#2.9.2.2-Evaluation-errors)",
     "section": "2.9.2.2 Evaluation errors"
    }
   },
   "source": [
    "2. Add bounds $x \\geq 1$ to fix this problem and resolve. Comment on the number of iterations and the quality of solution. Note, the problem still occurs because $x \\geq 1$ is not enforced exactly, and small numerical values still cause the error."
   ]
  },
  {
   "cell_type": "code",
   "execution_count": 9,
   "metadata": {
    "nbpages": {
     "level": 3,
     "link": "[2.9.2.2 Evaluation errors](https://ndcbe.github.io/CBE60499/02.09-Pyomo2.html#2.9.2.2-Evaluation-errors)",
     "section": "2.9.2.2 Evaluation errors"
    }
   },
   "outputs": [
    {
     "name": "stdout",
     "output_type": "stream",
     "text": [
      "Ipopt 3.13.2: halt_on_ampl_error=yes\n",
      "\n",
      "\n",
      "******************************************************************************\n",
      "This program contains Ipopt, a library for large-scale nonlinear optimization.\n",
      " Ipopt is released as open source code under the Eclipse Public License (EPL).\n",
      "         For more information visit http://projects.coin-or.org/Ipopt\n",
      "******************************************************************************\n",
      "\n",
      "This is Ipopt version 3.13.2, running with linear solver ma27.\n",
      "\n",
      "Number of nonzeros in equality constraint Jacobian...:        2\n",
      "Number of nonzeros in inequality constraint Jacobian.:        0\n",
      "Number of nonzeros in Lagrangian Hessian.............:        2\n",
      "\n",
      "Total number of variables............................:        2\n",
      "                     variables with only lower bounds:        1\n"
     ]
    },
    {
     "name": "stderr",
     "output_type": "stream",
     "text": [
      "Error evaluating \"var =\" definition -1: can't evaluate sqrt(-9.90312e-09).\n"
     ]
    },
    {
     "name": "stdout",
     "output_type": "stream",
     "text": [
      "                variables with lower and upper bounds:        0\n",
      "                     variables with only upper bounds:        0\n",
      "Total number of equality constraints.................:        1\n",
      "Total number of inequality constraints...............:        0\n",
      "        inequality constraints with only lower bounds:        0\n",
      "   inequality constraints with lower and upper bounds:        0\n",
      "        inequality constraints with only upper bounds:        0\n",
      "\n",
      "iter    objective    inf_pr   inf_du lg(mu)  ||d||  lg(rg) alpha_du alpha_pr  ls\n",
      "   0  4.0920100e+01 3.00e+00 8.92e+00  -1.0 0.00e+00    -  0.00e+00 0.00e+00   0\n",
      "   1  1.3964766e+00 9.81e-01 4.57e+00  -1.0 4.20e+00    -  1.00e+00 9.43e-01f  1\n",
      "   2  1.3265288e+00 4.58e-01 9.56e+00  -1.0 3.54e-01   2.0 1.31e-01 1.00e+00f  1\n",
      "   3  3.2528786e-01 1.23e-02 1.25e+00  -1.0 5.70e-01    -  1.00e+00 1.00e+00f  1\n",
      "   4  4.9701812e-03 7.82e-02 1.36e-01  -1.0 3.78e-01    -  1.00e+00 1.00e+00F  1\n",
      "   5  6.0628408e-03 4.53e-02 1.66e+00  -2.5 2.08e-02    -  1.00e+00 1.00e+00h  1\n",
      "   6  6.7063949e-03 4.53e-02 2.24e+00  -2.5 1.05e+00    -  1.53e-02 3.91e-03h  9\n",
      "   7  7.6973110e-03 1.67e-02 5.10e-01  -2.5 6.16e-03   1.5 1.00e+00 1.00e+00h  1\n",
      "   8  3.5855462e-03 1.09e-03 2.51e-01  -2.5 2.81e-02    -  1.00e+00 1.00e+00h  1\n",
      "   9  3.0456986e-03 1.24e-04 1.10e-03  -2.5 4.78e-03    -  1.00e+00 1.00e+00h  1\n",
      "iter    objective    inf_pr   inf_du lg(mu)  ||d||  lg(rg) alpha_du alpha_pr  ls\n",
      "  10  9.2960387e-04 1.58e-02 1.21e+00  -3.8 2.59e-02    -  1.00e+00 1.00e+00h  1\n",
      "  11  2.2722219e-04 1.18e-04 1.42e-01  -3.8 1.75e-02    -  1.00e+00 1.00e+00h  1\n",
      "  12  2.4804811e-04 4.21e-05 4.38e-03  -3.8 8.99e-04    -  1.00e+00 1.00e+00h  1\n",
      "  13  2.5041988e-04 8.02e-07 1.04e-04  -3.8 9.89e-05    -  1.00e+00 1.00e+00h  1\n",
      "  14  1.3928326e-04 4.89e-03 3.54e+00  -5.7 6.12e-03    -  1.00e+00 1.00e+00h  1\n",
      "  15  1.6721345e-04 3.66e-03 4.16e+00  -5.7 1.95e-03   1.0 1.01e-01 1.00e+00h  1\n",
      "  16  1.7756299e-04 1.12e-03 2.28e+00  -5.7 6.51e-04   1.5 1.00e+00 1.00e+00h  1\n",
      "  17  1.5169810e-04 1.68e-05 1.58e-01  -5.7 1.61e-03   1.0 1.00e+00 1.00e+00h  1\n",
      "ERROR: Solver (ipopt) returned non-zero return code (1)\n",
      "ERROR: See the solver log above for diagnostic information.\n"
     ]
    },
    {
     "ename": "ApplicationError",
     "evalue": "Solver (ipopt) did not exit normally",
     "output_type": "error",
     "traceback": [
      "\u001b[0;31m---------------------------------------------------------------------------\u001b[0m",
      "\u001b[0;31mApplicationError\u001b[0m                          Traceback (most recent call last)",
      "\u001b[0;32m<ipython-input-9-864b685fb6cd>\u001b[0m in \u001b[0;36m<module>\u001b[0;34m\u001b[0m\n\u001b[1;32m     15\u001b[0m \u001b[0msolver\u001b[0m \u001b[0;34m=\u001b[0m \u001b[0mSolverFactory\u001b[0m\u001b[0;34m(\u001b[0m\u001b[0;34m'ipopt'\u001b[0m\u001b[0;34m)\u001b[0m\u001b[0;34m\u001b[0m\u001b[0;34m\u001b[0m\u001b[0m\n\u001b[1;32m     16\u001b[0m \u001b[0msolver\u001b[0m\u001b[0;34m.\u001b[0m\u001b[0moptions\u001b[0m\u001b[0;34m[\u001b[0m\u001b[0;34m'halt_on_ampl_error'\u001b[0m\u001b[0;34m]\u001b[0m \u001b[0;34m=\u001b[0m \u001b[0;34m'yes'\u001b[0m\u001b[0;34m\u001b[0m\u001b[0;34m\u001b[0m\u001b[0m\n\u001b[0;32m---> 17\u001b[0;31m \u001b[0msolver\u001b[0m\u001b[0;34m.\u001b[0m\u001b[0msolve\u001b[0m\u001b[0;34m(\u001b[0m\u001b[0mmodel\u001b[0m\u001b[0;34m,\u001b[0m \u001b[0mtee\u001b[0m\u001b[0;34m=\u001b[0m\u001b[0;32mTrue\u001b[0m\u001b[0;34m)\u001b[0m\u001b[0;34m\u001b[0m\u001b[0;34m\u001b[0m\u001b[0m\n\u001b[0m\u001b[1;32m     18\u001b[0m \u001b[0;34m\u001b[0m\u001b[0m\n\u001b[1;32m     19\u001b[0m \u001b[0mprint\u001b[0m\u001b[0;34m(\u001b[0m \u001b[0mvalue\u001b[0m\u001b[0;34m(\u001b[0m\u001b[0mmodel\u001b[0m\u001b[0;34m.\u001b[0m\u001b[0mx\u001b[0m\u001b[0;34m)\u001b[0m \u001b[0;34m)\u001b[0m\u001b[0;34m\u001b[0m\u001b[0;34m\u001b[0m\u001b[0m\n",
      "\u001b[0;32m/anaconda3/envs/spring2021/lib/python3.8/site-packages/pyomo/opt/base/solvers.py\u001b[0m in \u001b[0;36msolve\u001b[0;34m(self, *args, **kwds)\u001b[0m\n\u001b[1;32m    595\u001b[0m                 \u001b[0;32melif\u001b[0m \u001b[0mhasattr\u001b[0m\u001b[0;34m(\u001b[0m\u001b[0m_status\u001b[0m\u001b[0;34m,\u001b[0m \u001b[0;34m'log'\u001b[0m\u001b[0;34m)\u001b[0m \u001b[0;32mand\u001b[0m \u001b[0m_status\u001b[0m\u001b[0;34m.\u001b[0m\u001b[0mlog\u001b[0m\u001b[0;34m:\u001b[0m\u001b[0;34m\u001b[0m\u001b[0;34m\u001b[0m\u001b[0m\n\u001b[1;32m    596\u001b[0m                     \u001b[0mlogger\u001b[0m\u001b[0;34m.\u001b[0m\u001b[0merror\u001b[0m\u001b[0;34m(\u001b[0m\u001b[0;34m\"Solver log:\\n\"\u001b[0m \u001b[0;34m+\u001b[0m \u001b[0mstr\u001b[0m\u001b[0;34m(\u001b[0m\u001b[0m_status\u001b[0m\u001b[0;34m.\u001b[0m\u001b[0mlog\u001b[0m\u001b[0;34m)\u001b[0m\u001b[0;34m)\u001b[0m\u001b[0;34m\u001b[0m\u001b[0;34m\u001b[0m\u001b[0m\n\u001b[0;32m--> 597\u001b[0;31m                 raise ApplicationError(\n\u001b[0m\u001b[1;32m    598\u001b[0m                     \"Solver (%s) did not exit normally\" % self.name)\n\u001b[1;32m    599\u001b[0m             \u001b[0msolve_completion_time\u001b[0m \u001b[0;34m=\u001b[0m \u001b[0mtime\u001b[0m\u001b[0;34m.\u001b[0m\u001b[0mtime\u001b[0m\u001b[0;34m(\u001b[0m\u001b[0;34m)\u001b[0m\u001b[0;34m\u001b[0m\u001b[0;34m\u001b[0m\u001b[0m\n",
      "\u001b[0;31mApplicationError\u001b[0m: Solver (ipopt) did not exit normally"
     ]
    }
   ],
   "source": [
    "# YOUR SOLUTION HERE"
   ]
  },
  {
   "cell_type": "markdown",
   "metadata": {
    "nbpages": {
     "level": 3,
     "link": "[2.9.2.2 Evaluation errors](https://ndcbe.github.io/CBE60499/02.09-Pyomo2.html#2.9.2.2-Evaluation-errors)",
     "section": "2.9.2.2 Evaluation errors"
    }
   },
   "source": [
    "**Discussion**\n",
    "\n",
    "*Fill in here*"
   ]
  },
  {
   "cell_type": "markdown",
   "metadata": {
    "nbpages": {
     "level": 3,
     "link": "[2.9.2.2 Evaluation errors](https://ndcbe.github.io/CBE60499/02.09-Pyomo2.html#2.9.2.2-Evaluation-errors)",
     "section": "2.9.2.2 Evaluation errors"
    }
   },
   "source": [
    "3. Think about other solutions for this problem and attempt to implement one of these solutions. *Hint*: $x \\geq 1.001$."
   ]
  },
  {
   "cell_type": "code",
   "execution_count": 10,
   "metadata": {
    "nbpages": {
     "level": 3,
     "link": "[2.9.2.2 Evaluation errors](https://ndcbe.github.io/CBE60499/02.09-Pyomo2.html#2.9.2.2-Evaluation-errors)",
     "section": "2.9.2.2 Evaluation errors"
    }
   },
   "outputs": [
    {
     "name": "stdout",
     "output_type": "stream",
     "text": [
      "Ipopt 3.13.2: halt_on_ampl_error=yes\n",
      "\n",
      "\n",
      "******************************************************************************\n",
      "This program contains Ipopt, a library for large-scale nonlinear optimization.\n",
      " Ipopt is released as open source code under the Eclipse Public License (EPL).\n",
      "         For more information visit http://projects.coin-or.org/Ipopt\n",
      "******************************************************************************\n",
      "\n",
      "This is Ipopt version 3.13.2, running with linear solver ma27.\n",
      "\n",
      "Number of nonzeros in equality constraint Jacobian...:        2\n",
      "Number of nonzeros in inequality constraint Jacobian.:        0\n",
      "Number of nonzeros in Lagrangian Hessian.............:        2\n",
      "\n",
      "Total number of variables............................:        2\n",
      "                     variables with only lower bounds:        1\n",
      "                variables with lower and upper bounds:        0\n",
      "                     variables with only upper bounds:        0\n",
      "Total number of equality constraints.................:        1\n",
      "Total number of inequality constraints...............:        0\n",
      "        inequality constraints with only lower bounds:        0\n",
      "   inequality constraints with lower and upper bounds:        0\n",
      "        inequality constraints with only upper bounds:        0\n",
      "\n",
      "iter    objective    inf_pr   inf_du lg(mu)  ||d||  lg(rg) alpha_du alpha_pr  ls\n",
      "   0  4.0920100e+01 3.00e+00 8.92e+00  -1.0 0.00e+00    -  0.00e+00 0.00e+00   0\n",
      "   1  1.3985928e+00 9.80e-01 4.51e+00  -1.0 4.20e+00    -  1.00e+00 9.43e-01f  1\n",
      "   2  1.3200328e+00 4.52e-01 1.00e+01  -1.0 3.56e-01   2.0 1.31e-01 1.00e+00f  1\n",
      "   3  3.3527706e-01 1.13e-02 1.27e+00  -1.0 5.60e-01    -  1.00e+00 1.00e+00f  1\n",
      "   4  4.9066403e-03 4.74e-02 2.52e-02  -1.0 3.83e-01    -  1.00e+00 1.00e+00F  1\n",
      "   5  4.4928608e-03 2.36e-02 7.26e-01  -2.5 1.19e-02    -  1.00e+00 1.00e+00h  1\n",
      "   6  5.9528153e-03 7.95e-03 5.53e-01  -2.5 1.04e-02    -  1.00e+00 1.00e+00h  1\n",
      "   7  3.2290130e-03 1.43e-03 4.99e-03  -2.5 2.06e-02    -  1.00e+00 1.00e+00h  1\n",
      "   8  1.5403307e-03 3.85e-03 1.04e-01  -3.8 1.82e-02    -  1.00e+00 1.00e+00h  1\n",
      "   9  1.2315611e-03 2.80e-06 1.34e-03  -3.8 4.28e-03    -  1.00e+00 1.00e+00h  1\n",
      "iter    objective    inf_pr   inf_du lg(mu)  ||d||  lg(rg) alpha_du alpha_pr  ls\n",
      "  10  1.0880355e-03 7.80e-05 2.46e-03  -5.7 2.23e-03    -  1.00e+00 1.00e+00h  1\n",
      "  11  1.0828351e-03 2.74e-10 3.15e-07  -5.7 8.21e-05    -  1.00e+00 1.00e+00h  1\n",
      "  12  1.0809936e-03 1.39e-08 4.39e-07  -8.6 2.96e-05    -  1.00e+00 1.00e+00h  1\n",
      "  13  1.0809927e-03 1.34e-15 6.88e-14  -8.6 1.40e-08    -  1.00e+00 1.00e+00h  1\n",
      "\n",
      "Number of Iterations....: 13\n",
      "\n",
      "                                   (scaled)                 (unscaled)\n",
      "Objective...............:   1.0809926760836025e-03    1.0809926760836025e-03\n",
      "Dual infeasibility......:   6.8833827526759706e-14    6.8833827526759706e-14\n",
      "Constraint violation....:   1.3392065234540951e-15    1.3392065234540951e-15\n",
      "Complementarity.........:   2.5059036424968433e-09    2.5059036424968433e-09\n",
      "Overall NLP error.......:   2.5059036424968433e-09    2.5059036424968433e-09\n",
      "\n",
      "\n",
      "Number of objective function evaluations             = 15\n",
      "Number of objective gradient evaluations             = 14\n",
      "Number of equality constraint evaluations            = 15\n",
      "Number of inequality constraint evaluations          = 0\n",
      "Number of equality constraint Jacobian evaluations   = 14\n",
      "Number of inequality constraint Jacobian evaluations = 0\n",
      "Number of Lagrangian Hessian evaluations             = 13\n",
      "Total CPU secs in IPOPT (w/o function evaluations)   =      0.003\n",
      "Total CPU secs in NLP function evaluations           =      0.000\n",
      "\n",
      "EXIT: Optimal Solution Found.\n",
      "1.001\n",
      "0.0316226586775465\n"
     ]
    }
   ],
   "source": [
    "model = ConcreteModel()\n",
    "\n",
    "model.x = Var(initialize=5.0, bounds=(1.001,None))\n",
    "model.y = Var(initialize=5.0)\n",
    "\n",
    "def obj_rule(m):\n",
    "    return (m.x-1.01)**2 + m.y**2\n",
    "model.obj = Objective(rule=obj_rule)\n",
    "\n",
    "def con_rule(m):\n",
    "    return m.y == sqrt(m.x - 1.0)\n",
    "model.con = Constraint(rule=con_rule)\n",
    "\n",
    "solver = SolverFactory('ipopt')\n",
    "solver.options['halt_on_ampl_error'] = 'yes'\n",
    "solver.solve(model, tee=True)\n",
    "\n",
    "print( value(model.x) )\n",
    "print( value(model.y) )"
   ]
  },
  {
   "cell_type": "markdown",
   "metadata": {
    "nbpages": {
     "level": 3,
     "link": "[2.9.2.3 Alternative formulations](https://ndcbe.github.io/CBE60499/02.09-Pyomo2.html#2.9.2.3-Alternative-formulations)",
     "section": "2.9.2.3 Alternative formulations"
    }
   },
   "source": [
    "### 2.9.2.3 Alternative formulations\n",
    "\n",
    "Consider the following problem with initial values $x$=5, $y$=5.\n",
    "\n",
    "$\\min_{x,y} f(x,y)=(x-1.01)^2+y^2$\n",
    "\n",
    "s.t. $\\frac{x-1}{y}=1$\n",
    "\n",
    "Note, the solution to this problem is $x$=1.005 and $y$=0.005. There are several ways that the problem above can be reformulated. Some examples are shown below. Which ones do you expect to be better? Why?\n",
    "\n",
    "1. $\\min_{x,y} f(x,y)=(x-1.01)^2+y^2$\n",
    "\n",
    "s.t. $\\frac{x-1}{y}=1$\n",
    "\n",
    "2. $\\min_{x,y} f(x,y)=(x-1.01)^2+y^2$\n",
    "\n",
    "s.t. $\\frac{x}{y+1}=1$\n",
    "\n",
    "3. $\\min_{x,y} f(x,y)=(x-1.01)^2+y^2$\n",
    "\n",
    "s.t. $y=x-1$\n",
    "\n",
    "Implement Pyomo models for each formulation and solve with IPOPT."
   ]
  },
  {
   "cell_type": "markdown",
   "metadata": {
    "nbpages": {
     "level": 4,
     "link": "[2.9.2.3.1 Formulation 1](https://ndcbe.github.io/CBE60499/02.09-Pyomo2.html#2.9.2.3.1-Formulation-1)",
     "section": "2.9.2.3.1 Formulation 1"
    }
   },
   "source": [
    "#### 2.9.2.3.1 Formulation 1"
   ]
  },
  {
   "cell_type": "code",
   "execution_count": 11,
   "metadata": {
    "nbpages": {
     "level": 4,
     "link": "[2.9.2.3.1 Formulation 1](https://ndcbe.github.io/CBE60499/02.09-Pyomo2.html#2.9.2.3.1-Formulation-1)",
     "section": "2.9.2.3.1 Formulation 1"
    }
   },
   "outputs": [
    {
     "name": "stdout",
     "output_type": "stream",
     "text": [
      "Ipopt 3.13.2: \n",
      "\n",
      "******************************************************************************\n",
      "This program contains Ipopt, a library for large-scale nonlinear optimization.\n",
      " Ipopt is released as open source code under the Eclipse Public License (EPL).\n",
      "         For more information visit http://projects.coin-or.org/Ipopt\n",
      "******************************************************************************\n",
      "\n",
      "This is Ipopt version 3.13.2, running with linear solver ma27.\n",
      "\n",
      "Number of nonzeros in equality constraint Jacobian...:        2\n",
      "Number of nonzeros in inequality constraint Jacobian.:        0\n",
      "Number of nonzeros in Lagrangian Hessian.............:        3\n",
      "\n",
      "Total number of variables............................:        2\n",
      "                     variables with only lower bounds:        0\n",
      "                variables with lower and upper bounds:        0\n",
      "                     variables with only upper bounds:        0\n",
      "Total number of equality constraints.................:        1\n",
      "Total number of inequality constraints...............:        0\n",
      "        inequality constraints with only lower bounds:        0\n",
      "   inequality constraints with lower and upper bounds:        0\n",
      "        inequality constraints with only upper bounds:        0\n",
      "\n",
      "iter    objective    inf_pr   inf_du lg(mu)  ||d||  lg(rg) alpha_du alpha_pr  ls\n",
      "   0  4.0920100e+01 2.00e-01 9.99e+00  -1.0 0.00e+00    -  0.00e+00 0.00e+00   0\n",
      "   1  5.9762286e-01 2.27e+00 1.52e+01  -1.0 5.48e+00    -  1.00e+00 1.00e+00f  1\n",
      "   2  1.9787064e-01 2.97e+00 2.40e+01  -1.0 8.02e+00    -  1.00e+00 1.25e-01f  4\n",
      "   3  6.5241867e+01 2.82e+00 2.98e+01  -1.0 6.68e+00    -  1.00e+00 1.00e+00h  1\n",
      "   4  9.5583161e+01 1.54e+00 2.31e+01  -1.0 4.70e+00    -  1.00e+00 1.00e+00h  1\n",
      "   5  1.8959813e+02 4.39e-01 2.77e+01  -1.0 1.14e+01    -  1.00e+00 1.00e+00h  1\n",
      "   6  2.2666991e+01 2.02e+00 1.24e+01  -1.0 1.54e+01    -  1.00e+00 1.00e+00f  1\n",
      "   7  3.7976779e+01 9.23e-01 1.21e+01  -1.0 3.88e+00    -  1.00e+00 1.00e+00h  1\n",
      "   8  2.0620942e+01 6.84e-02 1.64e+01  -1.0 5.65e+00    -  1.00e+00 5.00e-01f  2\n",
      "   9  9.8180623e-02 8.02e-01 1.24e+02  -1.0 3.63e+00    -  1.00e+00 1.00e+00f  1\n",
      "iter    objective    inf_pr   inf_du lg(mu)  ||d||  lg(rg) alpha_du alpha_pr  ls\n",
      "  10  2.3622224e+03 7.97e-01 1.42e+02  -1.0 4.73e+01    -  1.00e+00 1.00e+00h  1\n",
      "  11  3.6759509e+03 1.64e-01 2.37e+02  -1.0 3.63e+01    -  1.00e+00 1.00e+00h  1\n",
      "  12  7.0378669e+01 6.52e-01 5.20e+02  -1.0 4.32e+01    -  1.00e+00 1.00e+00f  1\n",
      "  13  2.5142436e+04 6.17e-01 5.94e+02  -1.0 1.40e+02    -  1.00e+00 1.00e+00h  1\n",
      "  14  2.6505724e+04 3.06e-01 1.02e+03  -1.7 7.26e+01    -  1.00e+00 1.00e+00h  1\n",
      "  15  3.7335004e+03 2.99e-01 5.43e+02  -1.7 9.42e+01    -  1.00e+00 1.00e+00f  1\n",
      "  16  3.5127061e+03 7.10e-02 3.16e+02  -1.7 9.60e+00    -  1.00e+00 1.00e+00f  1\n",
      "  17  3.2134630e+01 4.96e-01 1.50e+03  -1.7 4.08e+01    -  1.00e+00 1.00e+00f  1\n",
      "  18  1.0915648e+05 4.88e-01 1.76e+03  -1.7 2.89e+02    -  1.00e+00 1.00e+00h  1\n",
      "  19  1.1667899e+05 1.53e-01 1.76e+03  -1.7 1.07e+02    -  1.00e+00 1.00e+00h  1\n",
      "iter    objective    inf_pr   inf_du lg(mu)  ||d||  lg(rg) alpha_du alpha_pr  ls\n",
      "  20  3.7449172e+03 4.78e-01 3.37e+03  -1.7 2.30e+02    -  1.00e+00 1.00e+00f  1\n",
      "  21  4.9463570e+05 4.36e-01 3.65e+03  -1.7 5.58e+02    -  1.00e+00 1.00e+00h  1\n",
      "  22  3.6988313e+05 2.75e-01 5.13e+03  -1.7 2.37e+02    -  1.00e+00 1.00e+00f  1\n",
      "  23  8.9309627e+04 1.73e-01 1.92e+03  -1.7 2.88e+02    -  1.00e+00 1.00e+00f  1\n",
      "  24  4.0590995e+04 3.57e-02 4.55e+02  -1.7 1.71e+02    -  1.00e+00 5.00e-01f  2\n",
      "  25  1.8907970e+01 5.44e+00 1.24e+05  -1.7 1.46e+02    -  1.00e+00 1.00e+00f  1\n",
      "  26  1.4670968e+01 5.44e+00 1.24e+05  -1.7 1.63e+04    -  1.00e+00 4.88e-04f 12\n",
      "  27  2.3540992e+01 5.44e+00 1.24e+05  -1.7 1.63e+04    -  1.00e+00 6.10e-05h 15\n",
      "  28  2.8758563e+01 5.44e+00 1.24e+05  -1.7 1.63e+04    -  1.00e+00 3.05e-05h 16\n",
      "  29  3.1562971e+01 5.44e+00 1.24e+05  -1.7 1.63e+04    -  1.00e+00 1.53e-05h 17\n",
      "iter    objective    inf_pr   inf_du lg(mu)  ||d||  lg(rg) alpha_du alpha_pr  ls\n",
      "  30  2.8032208e+08 5.44e+00 1.32e+05  -1.7 1.63e+04    -  1.00e+00 1.00e+00s 22\n",
      "  31  2.9975467e+08 2.93e+00 7.23e+04  -1.7 4.29e+03    -  1.00e+00 1.00e+00s 22\n",
      "  32  5.0495436e+08 1.67e+00 5.58e+04  -1.7 1.07e+04    -  1.00e+00 1.00e+00s 22\n",
      "  33r 5.0495436e+08 1.67e+00 9.99e+02   0.2 0.00e+00    -  0.00e+00 0.00e+00R  1\n",
      "  34r 5.1181880e+08 1.63e+00 3.35e-03   0.2 5.20e+02    -  1.00e+00 1.00e+00f  1\n",
      "  35r 5.1039583e+08 1.63e+00 4.77e-02  -1.9 4.51e+01    -  9.96e-01 9.97e-01h  1\n",
      "  36r 4.9195690e+08 1.35e+00 4.46e-02  -4.2 4.64e+03    -  1.00e+00 1.00e+00f  1\n",
      "  37r 4.9179264e+08 1.33e+00 4.40e-02  -4.2 4.40e+02  -4.0 1.00e+00 1.00e+00h  1\n",
      "  38r 4.8990727e+08 1.27e+00 4.25e-02  -4.2 1.27e+03  -4.5 1.00e+00 1.00e+00f  1\n",
      "  39r 4.7382990e+08 1.10e+00 3.97e-02  -4.2 3.57e+03  -5.0 1.00e+00 1.00e+00f  1\n",
      "iter    objective    inf_pr   inf_du lg(mu)  ||d||  lg(rg) alpha_du alpha_pr  ls\n",
      "  40r 3.7628486e+08 4.51e-01 4.52e-02  -4.2 1.15e+04  -5.4 1.00e+00 1.00e+00f  1\n",
      "  41  1.0535429e+08 1.06e-01 2.99e+04  -1.7 2.02e+04    -  1.00e+00 5.00e-01f  2\n",
      "  42  5.0568867e+05 9.22e-01 1.26e+05  -2.5 7.56e+03    -  1.00e+00 1.00e+00f  1\n",
      "  43  3.3347854e+09 9.11e-01 1.34e+05  -2.5 5.68e+04    -  1.00e+00 1.00e+00h  1\n",
      "  44  5.8840295e+09 1.09e-01 2.61e+05  -2.5 5.18e+04    -  1.00e+00 1.00e+00h  1\n",
      "  45  4.1193681e+07 7.84e-01 1.00e+06  -2.5 5.56e+04    -  1.00e+00 1.00e+00f  1\n",
      "  46  1.4749624e+11 7.71e-01 1.15e+06  -2.5 3.68e+05    -  1.00e+00 1.00e+00h  1\n",
      "  47  2.1551056e+11 2.01e-01 1.98e+06  -2.5 2.71e+05    -  1.00e+00 1.00e+00h  1\n",
      "  48  6.9492790e+09 5.76e-01 3.13e+06  -2.5 3.24e+05    -  1.00e+00 1.00e+00f  1\n",
      "  49  6.6118466e+11 5.16e-01 3.38e+06  -2.5 6.55e+05    -  1.00e+00 1.00e+00h  1\n",
      "iter    objective    inf_pr   inf_du lg(mu)  ||d||  lg(rg) alpha_du alpha_pr  ls\n",
      "  50  4.9827616e+11 4.07e-01 6.68e+06  -2.5 3.23e+05    -  1.00e+00 1.00e+00f  1\n",
      "  51  2.5070264e+11 5.12e-02 9.66e+05  -2.5 2.31e+05    -  1.00e+00 1.00e+00f  1\n",
      "  52  6.1554282e+10 1.85e-03 3.55e+05  -2.5 3.76e+05    -  1.00e+00 5.00e-01f  2\n",
      "  53  5.2610595e+04 1.97e+00 5.11e+06  -2.5 1.76e+05    -  1.00e+00 1.00e+00f  1\n",
      "  54  4.4943971e+05 1.97e+00 5.11e+06  -2.5 2.59e+06    -  1.00e+00 1.22e-04h 14\n",
      "  55r 4.4943971e+05 1.97e+00 9.99e+02   0.3 0.00e+00    -  0.00e+00 4.77e-07R 22\n",
      "  56r 9.1590793e+05 9.92e-01 3.10e+02   0.3 6.91e+02    -  1.00e+00 6.90e-01f  1\n",
      "  57r 2.2644173e+05 9.86e-01 1.97e+01   0.3 4.81e+02    -  1.09e-01 1.00e+00h  1\n",
      "  58  1.1167372e+05 1.33e-02 1.43e+03  -2.5 4.82e+02    -  1.00e+00 5.00e-01f  2\n",
      "  59  2.4761840e+01 6.53e-01 4.64e+04  -2.5 2.36e+02    -  1.00e+00 1.00e+00f  1\n",
      "iter    objective    inf_pr   inf_du lg(mu)  ||d||  lg(rg) alpha_du alpha_pr  ls\n",
      "  60  8.0631714e+05 6.53e-01 4.69e+04  -2.5 1.35e+04    -  1.00e+00 6.25e-02h  5\n",
      "  61  2.0421100e+08 6.11e-01 5.31e+04  -2.5 1.25e+04    -  1.00e+00 1.00e+00h  1\n",
      "  62  2.0547303e+08 3.37e-01 9.62e+04  -2.5 6.30e+03    -  1.00e+00 1.00e+00h  1\n",
      "  63  3.8551062e+07 2.46e-01 3.78e+04  -2.5 7.74e+03    -  1.00e+00 1.00e+00f  1\n",
      "  64  9.8551263e+06 4.34e-01 1.01e+05  -2.5 3.16e+03    -  1.00e+00 1.00e+00f  1\n",
      "  65  7.0643113e+07 2.83e-01 7.29e+04  -2.5 4.05e+03    -  1.00e+00 1.00e+00h  1\n",
      "  66  1.8786849e+07 1.58e-01 2.41e+04  -2.5 3.84e+03    -  1.00e+00 1.00e+00f  1\n",
      "  67  7.4748196e+06 2.41e-02 4.91e+03  -2.5 2.72e+03    -  1.00e+00 5.00e-01f  2\n",
      "  68  1.8818509e+06 2.10e-04 2.01e+03  -2.5 1.97e+03    -  1.00e+00 5.00e-01f  2\n",
      "  69  2.2872308e-02 1.84e+00 6.28e+05  -2.5 9.70e+02    -  1.00e+00 1.00e+00f  1\n",
      "iter    objective    inf_pr   inf_du lg(mu)  ||d||  lg(rg) alpha_du alpha_pr  ls\n",
      "  70r 2.2872308e-02 1.84e+00 9.99e+02   0.3 0.00e+00    -  0.00e+00 4.77e-07R 22\n",
      "  71r 4.4351946e-02 8.81e-01 1.76e+01   0.3 1.81e+03    -  1.00e+00 1.01e-03f  1\n",
      "  72  1.7776427e-02 9.56e-02 6.09e-01  -2.5 2.31e-01    -  1.00e+00 5.00e-01h  2\n",
      "  73  3.1709471e-04 4.13e-01 1.65e+00  -2.5 9.34e-02    -  1.00e+00 1.00e+00h  1\n",
      "  74  7.3004326e-03 3.89e-01 1.61e+00  -2.5 2.37e-01    -  1.00e+00 2.50e-01h  3\n",
      "  75  1.6285131e-02 3.21e-01 1.35e+00  -2.5 1.32e-01    -  1.00e+00 2.50e-01h  3\n",
      "  76  2.6559704e-02 3.14e-02 3.18e-01  -2.5 4.34e-02    -  1.00e+00 1.00e+00h  1\n",
      "  77  2.0352617e-05 1.52e+00 1.02e+01  -2.5 1.19e-01    -  1.00e+00 1.00e+00h  1\n",
      "  78  6.3246080e-05 1.51e+00 1.01e+01  -2.5 1.06e+00    -  1.00e+00 3.91e-03h  9\n",
      "  79  9.8814789e-05 1.41e+00 9.41e+00  -2.5 1.04e+00    -  1.00e+00 1.95e-03h 10\n",
      "iter    objective    inf_pr   inf_du lg(mu)  ||d||  lg(rg) alpha_du alpha_pr  ls\n",
      "  80  9.9989710e-05 1.40e+00 9.34e+00  -2.5 9.66e-01    -  1.00e+00 6.10e-05h 15\n",
      "  81  1.0975944e+00 1.40e+00 1.01e+01  -2.5 9.58e-01    -  1.00e+00 1.00e+00s 22\n",
      "  82  1.1421887e+00 4.64e-01 4.82e+00  -2.5 1.98e-01    -  1.00e+00 1.00e+00s 22\n",
      "  83  1.2756204e-01 4.39e-01 2.00e+00  -2.5 7.03e-01    -  1.00e+00 1.00e+00s 22\n",
      "  84r 1.2756204e-01 4.39e-01 9.99e+02  -0.4 0.00e+00    -  0.00e+00 0.00e+00R  1\n",
      "  85r 1.4318780e-01 9.50e-02 2.05e+01  -0.4 4.30e+02    -  1.00e+00 1.01e-03f  1\n",
      "  86r 1.2257823e-01 1.78e-03 2.63e-02  -1.1 3.20e-02    -  1.00e+00 9.90e-01f  1\n",
      "  87  5.4518642e-05 8.47e-02 4.97e-01  -2.5 2.48e-01    -  1.00e+00 1.00e+00f  1\n",
      "  88  6.5899060e-05 3.67e-02 2.08e-01  -2.5 1.17e-02    -  1.00e+00 2.50e-01h  3\n",
      "  89  5.7483881e-05 9.65e-03 5.44e-02  -2.5 8.75e-04    -  1.00e+00 1.00e+00h  1\n",
      "iter    objective    inf_pr   inf_du lg(mu)  ||d||  lg(rg) alpha_du alpha_pr  ls\n",
      "  90  5.0200713e-05 3.49e-03 1.84e-02  -2.5 1.78e-03    -  1.00e+00 1.00e+00h  1\n",
      "  91  5.0003939e-05 6.90e-05 3.59e-04  -3.8 1.15e-04    -  1.00e+00 1.00e+00h  1\n",
      "  92  5.0000011e-05 2.16e-07 1.02e-06  -5.7 1.60e-05    -  1.00e+00 1.00e+00h  1\n",
      "  93  5.0000000e-05 2.35e-13 1.03e-12  -8.6 6.18e-09    -  1.00e+00 1.00e+00h  1\n",
      "\n",
      "Number of Iterations....: 93\n",
      "\n",
      "                                   (scaled)                 (unscaled)\n",
      "Objective...............:   5.0000000000011841e-05    5.0000000000011841e-05\n",
      "Dual infeasibility......:   1.0301603320383990e-12    1.0301603320383990e-12\n",
      "Constraint violation....:   2.3503421431314564e-13    2.3503421431314564e-13\n",
      "Complementarity.........:   0.0000000000000000e+00    0.0000000000000000e+00\n",
      "Overall NLP error.......:   1.0301603320383990e-12    1.0301603320383990e-12\n",
      "\n",
      "\n",
      "Number of objective function evaluations             = 321\n",
      "Number of objective gradient evaluations             = 86\n",
      "Number of equality constraint evaluations            = 321\n",
      "Number of inequality constraint evaluations          = 0\n",
      "Number of equality constraint Jacobian evaluations   = 98\n",
      "Number of inequality constraint Jacobian evaluations = 0\n",
      "Number of Lagrangian Hessian evaluations             = 93\n",
      "Total CPU secs in IPOPT (w/o function evaluations)   =      0.028\n",
      "Total CPU secs in NLP function evaluations           =      0.002\n",
      "\n",
      "EXIT: Optimal Solution Found.\n"
     ]
    },
    {
     "name": "stdout",
     "output_type": "stream",
     "text": [
      "1.0049999999999448\n",
      "0.004999999999946002\n"
     ]
    }
   ],
   "source": [
    "# YOUR SOLUTION HERE"
   ]
  },
  {
   "cell_type": "markdown",
   "metadata": {
    "nbpages": {
     "level": 4,
     "link": "[2.9.2.3.2 Formulation 2](https://ndcbe.github.io/CBE60499/02.09-Pyomo2.html#2.9.2.3.2-Formulation-2)",
     "section": "2.9.2.3.2 Formulation 2"
    }
   },
   "source": [
    "#### 2.9.2.3.2 Formulation 2"
   ]
  },
  {
   "cell_type": "code",
   "execution_count": 12,
   "metadata": {
    "nbpages": {
     "level": 4,
     "link": "[2.9.2.3.2 Formulation 2](https://ndcbe.github.io/CBE60499/02.09-Pyomo2.html#2.9.2.3.2-Formulation-2)",
     "section": "2.9.2.3.2 Formulation 2"
    }
   },
   "outputs": [
    {
     "name": "stdout",
     "output_type": "stream",
     "text": [
      "Ipopt 3.13.2: \n",
      "\n",
      "******************************************************************************\n",
      "This program contains Ipopt, a library for large-scale nonlinear optimization.\n",
      " Ipopt is released as open source code under the Eclipse Public License (EPL).\n",
      "         For more information visit http://projects.coin-or.org/Ipopt\n",
      "******************************************************************************\n",
      "\n",
      "This is Ipopt version 3.13.2, running with linear solver ma27.\n",
      "\n",
      "Number of nonzeros in equality constraint Jacobian...:        2\n",
      "Number of nonzeros in inequality constraint Jacobian.:        0\n",
      "Number of nonzeros in Lagrangian Hessian.............:        3\n",
      "\n",
      "Total number of variables............................:        2\n",
      "                     variables with only lower bounds:        0\n",
      "                variables with lower and upper bounds:        0\n",
      "                     variables with only upper bounds:        0\n",
      "Total number of equality constraints.................:        1\n",
      "Total number of inequality constraints...............:        0\n",
      "        inequality constraints with only lower bounds:        0\n",
      "   inequality constraints with lower and upper bounds:        0\n",
      "        inequality constraints with only upper bounds:        0\n",
      "\n",
      "iter    objective    inf_pr   inf_du lg(mu)  ||d||  lg(rg) alpha_du alpha_pr  ls\n",
      "   0  4.0920100e+01 1.67e-01 9.83e+00  -1.0 0.00e+00    -  0.00e+00 0.00e+00   0\n",
      "   1  4.0023722e-01 1.49e+00 2.82e+01  -1.0 5.39e+00    -  1.00e+00 1.00e+00f  1\n",
      "   2  1.0494629e+01 1.04e+00 2.24e+01  -1.0 2.58e+00    -  1.00e+00 1.00e+00h  1\n",
      "   3  5.4394796e+00 1.78e-01 8.48e+00  -1.0 1.23e+00    -  1.00e+00 1.00e+00f  1\n",
      "   4  1.0538196e-01 1.52e-01 3.90e+00  -1.0 1.75e+00    -  1.00e+00 1.00e+00f  1\n",
      "   5  4.6918851e-02 2.17e-02 1.20e+00  -1.0 1.63e-01    -  1.00e+00 1.00e+00h  1\n",
      "   6  1.3071752e-04 2.88e-03 1.19e-01  -1.0 1.62e-01    -  1.00e+00 1.00e+00h  1\n",
      "   7  4.9833353e-05 1.79e-05 1.02e-03  -2.5 6.25e-03    -  1.00e+00 1.00e+00h  1\n",
      "   8  5.0000013e-05 1.28e-09 6.30e-08  -5.7 9.00e-05    -  1.00e+00 1.00e+00h  1\n",
      "   9  5.0000000e-05 2.22e-16 4.77e-16  -8.6 4.58e-09    -  1.00e+00 1.00e+00h  1\n",
      "\n",
      "Number of Iterations....: 9\n",
      "\n",
      "                                   (scaled)                 (unscaled)\n",
      "Objective...............:   5.0000000000001568e-05    5.0000000000001568e-05\n",
      "Dual infeasibility......:   4.7704895589362195e-16    4.7704895589362195e-16\n",
      "Constraint violation....:   2.2204460492503131e-16    2.2204460492503131e-16\n",
      "Complementarity.........:   0.0000000000000000e+00    0.0000000000000000e+00\n",
      "Overall NLP error.......:   4.7704895589362195e-16    4.7704895589362195e-16\n",
      "\n",
      "\n",
      "Number of objective function evaluations             = 10\n",
      "Number of objective gradient evaluations             = 10\n",
      "Number of equality constraint evaluations            = 10\n",
      "Number of inequality constraint evaluations          = 0\n",
      "Number of equality constraint Jacobian evaluations   = 10\n",
      "Number of inequality constraint Jacobian evaluations = 0\n",
      "Number of Lagrangian Hessian evaluations             = 9\n",
      "Total CPU secs in IPOPT (w/o function evaluations)   =      0.002\n",
      "Total CPU secs in NLP function evaluations           =      0.000\n",
      "\n",
      "EXIT: Optimal Solution Found.\n",
      "1.005\n",
      "0.005000000000000042\n"
     ]
    }
   ],
   "source": [
    "# YOUR SOLUTION HERE"
   ]
  },
  {
   "cell_type": "markdown",
   "metadata": {
    "nbpages": {
     "level": 4,
     "link": "[2.9.2.3.3 Formulation 3](https://ndcbe.github.io/CBE60499/02.09-Pyomo2.html#2.9.2.3.3-Formulation-3)",
     "section": "2.9.2.3.3 Formulation 3"
    }
   },
   "source": [
    "#### 2.9.2.3.3 Formulation 3"
   ]
  },
  {
   "cell_type": "code",
   "execution_count": 13,
   "metadata": {
    "nbpages": {
     "level": 4,
     "link": "[2.9.2.3.3 Formulation 3](https://ndcbe.github.io/CBE60499/02.09-Pyomo2.html#2.9.2.3.3-Formulation-3)",
     "section": "2.9.2.3.3 Formulation 3"
    }
   },
   "outputs": [
    {
     "name": "stdout",
     "output_type": "stream",
     "text": [
      "Ipopt 3.13.2: \n",
      "\n",
      "******************************************************************************\n",
      "This program contains Ipopt, a library for large-scale nonlinear optimization.\n",
      " Ipopt is released as open source code under the Eclipse Public License (EPL).\n",
      "         For more information visit http://projects.coin-or.org/Ipopt\n",
      "******************************************************************************\n",
      "\n",
      "This is Ipopt version 3.13.2, running with linear solver ma27.\n",
      "\n",
      "Number of nonzeros in equality constraint Jacobian...:        2\n",
      "Number of nonzeros in inequality constraint Jacobian.:        0\n",
      "Number of nonzeros in Lagrangian Hessian.............:        2\n",
      "\n",
      "Total number of variables............................:        2\n",
      "                     variables with only lower bounds:        0\n",
      "                variables with lower and upper bounds:        0\n",
      "                     variables with only upper bounds:        0\n",
      "Total number of equality constraints.................:        1\n",
      "Total number of inequality constraints...............:        0\n",
      "        inequality constraints with only lower bounds:        0\n",
      "   inequality constraints with lower and upper bounds:        0\n",
      "        inequality constraints with only upper bounds:        0\n",
      "\n",
      "iter    objective    inf_pr   inf_du lg(mu)  ||d||  lg(rg) alpha_du alpha_pr  ls\n",
      "   0  4.0920100e+01 1.00e+00 8.99e+00  -1.0 0.00e+00    -  0.00e+00 0.00e+00   0\n",
      "   1  5.0000000e-05 0.00e+00 4.44e-16  -1.0 5.00e+00    -  1.00e+00 1.00e+00f  1\n",
      "\n",
      "Number of Iterations....: 1\n",
      "\n",
      "                                   (scaled)                 (unscaled)\n",
      "Objective...............:   5.0000000000000090e-05    5.0000000000000090e-05\n",
      "Dual infeasibility......:   4.4408920985006262e-16    4.4408920985006262e-16\n",
      "Constraint violation....:   0.0000000000000000e+00    0.0000000000000000e+00\n",
      "Complementarity.........:   0.0000000000000000e+00    0.0000000000000000e+00\n",
      "Overall NLP error.......:   4.4408920985006262e-16    4.4408920985006262e-16\n",
      "\n",
      "\n",
      "Number of objective function evaluations             = 2\n",
      "Number of objective gradient evaluations             = 2\n",
      "Number of equality constraint evaluations            = 2\n",
      "Number of inequality constraint evaluations          = 0\n",
      "Number of equality constraint Jacobian evaluations   = 2\n",
      "Number of inequality constraint Jacobian evaluations = 0\n",
      "Number of Lagrangian Hessian evaluations             = 1\n",
      "Total CPU secs in IPOPT (w/o function evaluations)   =      0.001\n",
      "Total CPU secs in NLP function evaluations           =      0.000\n",
      "\n",
      "EXIT: Optimal Solution Found.\n",
      "1.005\n",
      "0.004999999999999893\n"
     ]
    }
   ],
   "source": [
    "# YOUR SOLUTION HERE"
   ]
  },
  {
   "cell_type": "markdown",
   "metadata": {
    "nbpages": {
     "level": 4,
     "link": "[2.9.2.3.3 Formulation 3](https://ndcbe.github.io/CBE60499/02.09-Pyomo2.html#2.9.2.3.3-Formulation-3)",
     "section": "2.9.2.3.3 Formulation 3"
    }
   },
   "source": [
    "Note the nuber of iterations and quality of solutions. What can you learn about the problem formulation from these examples?\n",
    "\n",
    "**Discussion**\n",
    "\n",
    "*Fill in here*"
   ]
  },
  {
   "cell_type": "markdown",
   "metadata": {
    "nbpages": {
     "level": 4,
     "link": "[2.9.2.3.3 Formulation 3](https://ndcbe.github.io/CBE60499/02.09-Pyomo2.html#2.9.2.3.3-Formulation-3)",
     "section": "2.9.2.3.3 Formulation 3"
    }
   },
   "source": [
    "Bounds and initialization can be very helpful when solving nonlinear optimization problems. Resolve the original problem below, but add bounds, $y \\geq 0$. Note the number of iterations and quality of solution, and compare with what you found for Formulation 1."
   ]
  },
  {
   "cell_type": "code",
   "execution_count": 14,
   "metadata": {
    "nbpages": {
     "level": 4,
     "link": "[2.9.2.3.3 Formulation 3](https://ndcbe.github.io/CBE60499/02.09-Pyomo2.html#2.9.2.3.3-Formulation-3)",
     "section": "2.9.2.3.3 Formulation 3"
    }
   },
   "outputs": [
    {
     "name": "stdout",
     "output_type": "stream",
     "text": [
      "Ipopt 3.13.2: \n",
      "\n",
      "******************************************************************************\n",
      "This program contains Ipopt, a library for large-scale nonlinear optimization.\n",
      " Ipopt is released as open source code under the Eclipse Public License (EPL).\n",
      "         For more information visit http://projects.coin-or.org/Ipopt\n",
      "******************************************************************************\n",
      "\n",
      "This is Ipopt version 3.13.2, running with linear solver ma27.\n",
      "\n",
      "Number of nonzeros in equality constraint Jacobian...:        2\n",
      "Number of nonzeros in inequality constraint Jacobian.:        0\n",
      "Number of nonzeros in Lagrangian Hessian.............:        3\n",
      "\n",
      "Total number of variables............................:        2\n",
      "                     variables with only lower bounds:        1\n",
      "                variables with lower and upper bounds:        0\n",
      "                     variables with only upper bounds:        0\n",
      "Total number of equality constraints.................:        1\n",
      "Total number of inequality constraints...............:        0\n",
      "        inequality constraints with only lower bounds:        0\n",
      "   inequality constraints with lower and upper bounds:        0\n",
      "        inequality constraints with only upper bounds:        0\n",
      "\n",
      "iter    objective    inf_pr   inf_du lg(mu)  ||d||  lg(rg) alpha_du alpha_pr  ls\n",
      "   0  4.0920100e+01 2.00e-01 9.38e+00  -1.0 0.00e+00    -  0.00e+00 0.00e+00   0\n",
      "   1  9.7049410e-01 1.89e+01 2.29e+03  -1.0 5.19e+00    -  1.00e+00 9.54e-01f  1\n",
      "   2  2.8303563e+03 1.85e+01 2.25e+03  -1.0 5.21e+01    -  1.88e-02 1.00e+00h  1\n",
      "   3  2.9704435e+03 9.12e+00 1.14e+03  -1.0 2.64e+00    -  1.00e+00 1.00e+00h  1\n",
      "   4  2.5293245e+03 4.09e+00 5.51e+02  -1.0 4.89e+00    -  8.94e-01 1.00e+00f  1\n",
      "   5  1.7547126e+03 1.52e+00 2.52e+02  -1.0 1.04e+01    -  1.00e+00 1.00e+00f  1\n",
      "   6  6.8047428e+02 1.49e-01 8.49e+01  -1.0 1.93e+01    -  1.00e+00 1.00e+00f  1\n",
      "   7  7.4721920e+00 8.01e-01 2.32e+02  -1.0 1.91e+01    -  1.00e+00 1.00e+00f  1\n",
      "   8  8.1969347e+03 7.77e-01 2.62e+02  -1.0 8.57e+01    -  3.37e-02 1.00e+00h  1\n",
      "   9  1.1605265e+04 2.36e-01 4.89e+02  -1.0 6.40e+01    -  1.00e+00 1.00e+00h  1\n",
      "iter    objective    inf_pr   inf_du lg(mu)  ||d||  lg(rg) alpha_du alpha_pr  ls\n",
      "  10  5.5411085e+02 5.19e-01 5.83e+02  -1.0 7.36e+01    -  1.00e+00 1.00e+00f  1\n",
      "  11  1.7377623e+04 4.22e-01 5.65e+02  -1.0 9.29e+01    -  3.00e-01 1.00e+00h  1\n",
      "  12  1.1573362e+04 1.25e-01 1.63e+02  -1.0 6.64e+01    -  1.00e+00 5.00e-01f  2\n",
      "  13  3.3128549e+03 8.55e-03 9.20e+01  -1.0 8.52e+01    -  1.00e+00 4.70e-01f  2\n",
      "  14  7.1443870e-01 8.34e-01 1.80e+03  -1.0 4.11e+01    -  1.00e+00 9.85e-01f  1\n",
      "  15  3.2462198e-05 4.75e-01 1.05e+03  -1.0 1.73e+02    -  1.00e+00 4.30e-03f  1\n",
      "  16  9.8963008e-05 2.74e-01 8.52e+02  -1.0 1.41e+00    -  1.00e+00 4.23e-03h  1\n",
      "  17  9.2105755e-05 2.40e-01 5.57e+02  -1.0 3.56e-04    -  1.00e+00 1.00e+00f  1\n",
      "  18  7.9772743e-05 1.58e-01 3.60e+02  -1.0 7.13e-04    -  1.00e+00 1.00e+00h  1\n",
      "  19  6.9741224e-05 6.86e-02 1.47e+02  -1.0 7.40e-04    -  1.00e+00 1.00e+00h  1\n",
      "iter    objective    inf_pr   inf_du lg(mu)  ||d||  lg(rg) alpha_du alpha_pr  ls\n",
      "  20  4.9888137e-05 3.97e-02 6.88e+01  -1.0 2.39e-03    -  1.00e+00 1.00e+00h  1\n",
      "  21  3.3950490e-04 3.02e-02 4.89e+01  -1.0 1.32e-02    -  1.00e+00 1.00e+00f  1\n",
      "  22  3.7536170e-03 1.95e-02 3.11e+01  -1.0 3.12e-02    -  1.00e+00 1.00e+00h  1\n",
      "  23  1.2981580e-02 8.58e-03 1.36e+01  -1.0 3.74e-02    -  1.00e+00 1.00e+00h  1\n",
      "  24  3.4681398e-02 3.23e-03 5.01e+00  -1.0 5.13e-02    -  1.00e+00 1.00e+00h  1\n",
      "  25  4.7179466e-02 4.50e-04 7.03e-01  -1.0 2.21e-02    -  1.00e+00 1.00e+00h  1\n",
      "  26  1.7082443e-02 2.83e-04 3.55e-01  -1.7 6.13e-02    -  1.00e+00 1.00e+00f  1\n",
      "  27  1.0216180e-02 7.79e-05 1.09e-01  -1.7 2.10e-02    -  1.00e+00 1.00e+00h  1\n",
      "  28  3.1289054e-03 5.64e-05 3.27e-02  -2.5 3.21e-02    -  1.00e+00 1.00e+00h  1\n",
      "  29  1.4987215e-03 2.18e-05 2.21e-02  -2.5 1.23e-02    -  1.00e+00 1.00e+00h  1\n",
      "iter    objective    inf_pr   inf_du lg(mu)  ||d||  lg(rg) alpha_du alpha_pr  ls\n",
      "  30  3.8554063e-04 1.69e-05 4.50e-03  -3.8 1.40e-02    -  1.00e+00 1.00e+00h  1\n",
      "  31  1.3832051e-04 9.18e-06 4.39e-03  -3.8 6.31e-03    -  1.00e+00 1.00e+00h  1\n",
      "  32  8.9968997e-05 2.11e-06 9.99e-06  -3.8 2.18e-03    -  1.00e+00 1.00e+00h  1\n",
      "  33  5.4301800e-05 9.79e-07 2.80e-03  -5.7 3.00e-03    -  1.00e+00 1.00e+00h  1\n",
      "  34  5.0216846e-05 2.09e-07 1.11e-04  -5.7 1.14e-03    -  1.00e+00 1.00e+00h  1\n",
      "  35  5.0020268e-05 9.37e-09 2.55e-05  -5.7 2.29e-04    -  1.00e+00 1.00e+00h  1\n",
      "  36  5.0016425e-05 1.85e-11 1.06e-08  -5.7 1.00e-05    -  1.00e+00 1.00e+00h  1\n",
      "  37  5.0000006e-05 3.39e-13 3.16e-06  -8.6 8.89e-05    -  1.00e+00 1.00e+00h  1\n",
      "  38  5.0000000e-05 5.55e-15 4.02e-13  -8.6 1.58e-06    -  1.00e+00 1.00e+00h  1\n",
      "\n",
      "Number of Iterations....: 38\n",
      "\n",
      "                                   (scaled)                 (unscaled)\n",
      "Objective...............:   5.0000000031647193e-05    5.0000000031647193e-05\n",
      "Dual infeasibility......:   4.0225288377992996e-13    4.0225288377992996e-13\n",
      "Constraint violation....:   5.5511151231257827e-15    5.5511151231257827e-15\n",
      "Complementarity.........:   2.5158913589264014e-09    2.5158913589264014e-09\n",
      "Overall NLP error.......:   2.5158913589264014e-09    2.5158913589264014e-09\n",
      "\n",
      "\n",
      "Number of objective function evaluations             = 44\n",
      "Number of objective gradient evaluations             = 39\n",
      "Number of equality constraint evaluations            = 44\n",
      "Number of inequality constraint evaluations          = 0\n",
      "Number of equality constraint Jacobian evaluations   = 39\n",
      "Number of inequality constraint Jacobian evaluations = 0\n",
      "Number of Lagrangian Hessian evaluations             = 38\n",
      "Total CPU secs in IPOPT (w/o function evaluations)   =      0.008\n",
      "Total CPU secs in NLP function evaluations           =      0.000\n",
      "\n",
      "EXIT: Optimal Solution Found.\n",
      "1.0050001257911454\n",
      "0.005000125791145421\n"
     ]
    }
   ],
   "source": [
    "# YOUR SOLUTION HERE"
   ]
  },
  {
   "cell_type": "markdown",
   "metadata": {
    "nbpages": {
     "level": 4,
     "link": "[2.9.2.3.3 Formulation 3](https://ndcbe.github.io/CBE60499/02.09-Pyomo2.html#2.9.2.3.3-Formulation-3)",
     "section": "2.9.2.3.3 Formulation 3"
    }
   },
   "source": [
    "**Discussion**\n",
    "\n",
    "*Fill in here*"
   ]
  },
  {
   "cell_type": "markdown",
   "metadata": {
    "nbpages": {
     "level": 3,
     "link": "[2.9.2.4 Reactor design problem (Hart et al., 2017; Bequette, 2003)](https://ndcbe.github.io/CBE60499/02.09-Pyomo2.html#2.9.2.4-Reactor-design-problem-(Hart-et-al.,-2017;-Bequette,-2003))",
     "section": "2.9.2.4 Reactor design problem (Hart et al., 2017; Bequette, 2003)"
    }
   },
   "source": [
    "### 2.9.2.4 Reactor design problem (Hart et al., 2017; Bequette, 2003)\n",
    "\n",
    "Here we will consider a chemical reactor designed to produce product B from reactant A using a reaction scheme known as the Van de Vusse reaction:\n",
    "\n",
    "$A \\overset{k_1}{\\rightarrow} B \\overset{k_2}{\\rightarrow} C$\n",
    "\n",
    "$2A \\overset{k_3}{\\rightarrow} D$\n",
    "\n",
    "Under appropriate assumptions, $F$ is the volumetric flowrate through the tank. The concentation of component A in the feed is $c_{Af}$, and the concentrations in the reactor are equivalent to the concentrations of each component \n",
    "flowing out of the reactor, given by $c_A$, $c_B$, $c_C$, and $c_D$.\n",
    "\n",
    "If the reactor is too small, we will not produce sufficient quantity of B, and if the reactor is too large, much of B will be further reacted to form the undesired product C. Therefore, our goal is to solve for the reactor volume that maximizes the outlet concentration for product B.\n",
    "\n",
    "The steady-state mole balances for each of the four components are given by\n",
    "\n",
    "$0=\\frac{F}{V}c_{Af}-\\frac{F}{V}c_A-k_1C_A-2k_3c^2_A$\n",
    "\n",
    "$0=-\\frac{F}{V}c_{B}+k_1C_A-k_2c_B$\n",
    "\n",
    "$0=-\\frac{F}{V}c_{C}+k_2c_B$\n",
    "\n",
    "$0=-\\frac{F}{V}c_{D}+k_3c^2_A$\n",
    "\n",
    "The known parameters for the system are:\n",
    "\n",
    "$c_{Af}=10\\frac{\\mathrm{gmol}}{\\mathrm{m}^3}$\n",
    "\n",
    "$k_1=\\frac{5}{6}\\mathrm{min}^{-1}$\n",
    "\n",
    "$k_2=\\frac{5}{3}\\mathrm{min}^{-1}$\n",
    "\n",
    "$k_3=\\frac{1}{6000}\\frac{\\mathrm{m}^3}{\\mathrm{gmol}~\\mathrm{min}^{-1}}$\n",
    "\n",
    "Formulate and solve this optimization problem using Pyomo. Since the volumetric flowrate $F$ always appears as the numerator over the reactor volume $V$, it is common to consider this ratio as a single variable, called the space-velocity $SV$.\n",
    "\n",
    "**References**:\n",
    "Hart, W. E., Laird, C. D., Watson, J. P., Woodruff, D. L., Hackebeil, G. A., Nicholson, B. L., and Siirola, J. D. Pyomo: Optimization Modeling in Python (Second Edition), Vol (67), Springer Verlag, 2017.\n",
    "\n",
    "B.W. Bequette. Process control: modeling, design, and simulation. Prentice Hall, 2003."
   ]
  },
  {
   "cell_type": "code",
   "execution_count": 15,
   "metadata": {
    "nbpages": {
     "level": 3,
     "link": "[2.9.2.4 Reactor design problem (Hart et al., 2017; Bequette, 2003)](https://ndcbe.github.io/CBE60499/02.09-Pyomo2.html#2.9.2.4-Reactor-design-problem-(Hart-et-al.,-2017;-Bequette,-2003))",
     "section": "2.9.2.4 Reactor design problem (Hart et al., 2017; Bequette, 2003)"
    }
   },
   "outputs": [
    {
     "name": "stdout",
     "output_type": "stream",
     "text": [
      "5 Var Declarations\n",
      "    ca : Size=1, Index=None\n",
      "        Key  : Lower : Value              : Upper : Fixed : Stale : Domain\n",
      "        None :     0 : 3874.2588672317133 :  None : False : False : PositiveReals\n",
      "    cb : Size=1, Index=None\n",
      "        Key  : Lower : Value             : Upper : Fixed : Stale : Domain\n",
      "        None :     0 : 1072.437200108632 :  None : False : False : PositiveReals\n",
      "    cc : Size=1, Index=None\n",
      "        Key  : Lower : Value             : Upper : Fixed : Stale : Domain\n",
      "        None :     0 : 1330.093533408881 :  None : False : False : PositiveReals\n",
      "    cd : Size=1, Index=None\n",
      "        Key  : Lower : Value              : Upper : Fixed : Stale : Domain\n",
      "        None :     0 : 1861.6051996253875 :  None : False : False : PositiveReals\n",
      "    sv : Size=1, Index=None\n",
      "        Key  : Lower : Value             : Upper : Fixed : Stale : Domain\n",
      "        None :     0 : 1.343811761067278 :  None : False : False : PositiveReals\n",
      "\n",
      "1 Objective Declarations\n",
      "    obj : Size=1, Index=None, Active=True\n",
      "        Key  : Active : Sense    : Expression\n",
      "        None :   True : maximize :         cb\n",
      "\n",
      "4 Constraint Declarations\n",
      "    ca_bal : Size=1, Index=None, Active=True\n",
      "        Key  : Lower : Body                                                                       : Upper : Active\n",
      "        None :   0.0 : 10000.0*sv - sv*ca - 0.8333333333333334*ca - 0.0003333333333333333*ca**2.0 :   0.0 :   True\n",
      "    cb_bal : Size=1, Index=None, Active=True\n",
      "        Key  : Lower : Body                                                    : Upper : Active\n",
      "        None :   0.0 : - sv*cb + 0.8333333333333334*ca - 1.6666666666666667*cb :   0.0 :   True\n",
      "    cc_bal : Size=1, Index=None, Active=True\n",
      "        Key  : Lower : Body                            : Upper : Active\n",
      "        None :   0.0 : - sv*cc + 1.6666666666666667*cb :   0.0 :   True\n",
      "    cd_bal : Size=1, Index=None, Active=True\n",
      "        Key  : Lower : Body                                     : Upper : Active\n",
      "        None :   0.0 : - sv*cd + 0.00016666666666666666*ca**2.0 :   0.0 :   True\n",
      "\n",
      "10 Declarations: sv ca cb cc cd obj ca_bal cb_bal cc_bal cd_bal\n"
     ]
    }
   ],
   "source": [
    "# YOUR SOLUTION HERE"
   ]
  },
  {
   "cell_type": "code",
   "execution_count": null,
   "metadata": {
    "nbpages": {
     "level": 3,
     "link": "[2.9.2.4 Reactor design problem (Hart et al., 2017; Bequette, 2003)](https://ndcbe.github.io/CBE60499/02.09-Pyomo2.html#2.9.2.4-Reactor-design-problem-(Hart-et-al.,-2017;-Bequette,-2003))",
     "section": "2.9.2.4 Reactor design problem (Hart et al., 2017; Bequette, 2003)"
    }
   },
   "outputs": [],
   "source": []
  },
  {
   "cell_type": "markdown",
   "metadata": {},
   "source": [
    "<!--NAVIGATION-->\n",
    "< [2.8 Pyomo Homework 1](https://ndcbe.github.io/CBE60499/02.08-Pyomo1.html) | [Contents](toc.html) | [3.0 Unconstrained Nonlinear Optimization: Theory and Algorithms](https://ndcbe.github.io/CBE60499/03.00-Unconstrained.html) ><p><a href=\"https://colab.research.google.com/github/ndcbe/CBE60499/blob/master/docs/02.09-Pyomo2.ipynb\"> <img align=\"left\" src=\"https://colab.research.google.com/assets/colab-badge.svg\" alt=\"Open in Colab\" title=\"Open in Google Colaboratory\"></a><p><a href=\"https://ndcbe.github.io/CBE60499/02.09-Pyomo2.ipynb\"> <img align=\"left\" src=\"https://img.shields.io/badge/Github-Download-blue.svg\" alt=\"Download\" title=\"Download Notebook\"></a>"
   ]
  }
 ],
 "metadata": {
  "kernelspec": {
   "display_name": "Python 3",
   "language": "python",
   "name": "python3"
  },
  "language_info": {
   "codemirror_mode": {
    "name": "ipython",
    "version": 3
   },
   "file_extension": ".py",
   "mimetype": "text/x-python",
   "name": "python",
   "nbconvert_exporter": "python",
   "pygments_lexer": "ipython3",
   "version": "3.8.6"
  }
 },
 "nbformat": 4,
 "nbformat_minor": 2
}
