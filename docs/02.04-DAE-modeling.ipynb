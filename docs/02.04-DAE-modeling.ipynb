{
 "cells": [
  {
   "cell_type": "markdown",
   "metadata": {},
   "source": [
    "<!--NOTEBOOK_HEADER-->\n",
    "*This notebook contains material from [CBE60499](https://ndcbe.github.io/CBE60499);\n",
    "content is available [on Github](git@github.com:ndcbe/CBE60499.git).*\n"
   ]
  },
  {
   "cell_type": "markdown",
   "metadata": {},
   "source": [
    "<!--NAVIGATION-->\n",
    "< [2.3 Logical Modeling and Generalized Disjunctive Programs](https://ndcbe.github.io/CBE60499/02.03-GDP.html) | [Contents](toc.html) | [2.5 Numeric Integration for DAEs](https://ndcbe.github.io/CBE60499/02.05-Numeric-Integration.html) ><p><a href=\"https://colab.research.google.com/github/ndcbe/CBE60499/blob/master/docs/02.04-DAE-modeling.ipynb\"> <img align=\"left\" src=\"https://colab.research.google.com/assets/colab-badge.svg\" alt=\"Open in Colab\" title=\"Open in Google Colaboratory\"></a><p><a href=\"https://ndcbe.github.io/CBE60499/02.04-DAE-modeling.ipynb\"> <img align=\"left\" src=\"https://img.shields.io/badge/Github-Download-blue.svg\" alt=\"Download\" title=\"Download Notebook\"></a>"
   ]
  },
  {
   "cell_type": "markdown",
   "metadata": {
    "nbpages": {
     "level": 1,
     "link": "[2.4 Dynamic Optimization: Differential Algebraic Equations (DAEs)](https://ndcbe.github.io/CBE60499/02.04-DAE-modeling.html#2.4-Dynamic-Optimization:-Differential-Algebraic-Equations-(DAEs))",
     "section": "2.4 Dynamic Optimization: Differential Algebraic Equations (DAEs)"
    }
   },
   "source": [
    "# 2.4 Dynamic Optimization: Differential Algebraic Equations (DAEs)"
   ]
  },
  {
   "cell_type": "code",
   "execution_count": null,
   "metadata": {
    "nbpages": {
     "level": 1,
     "link": "[2.4 Dynamic Optimization: Differential Algebraic Equations (DAEs)](https://ndcbe.github.io/CBE60499/02.04-DAE-modeling.html#2.4-Dynamic-Optimization:-Differential-Algebraic-Equations-(DAEs))",
     "section": "2.4 Dynamic Optimization: Differential Algebraic Equations (DAEs)"
    }
   },
   "outputs": [],
   "source": [
    "import sys\n",
    "if \"google.colab\" in sys.modules:\n",
    "    !wget \"https://raw.githubusercontent.com/ndcbe/CBE60499/main/notebooks/helper.py\"\n",
    "    import helper\n",
    "    !pip install casadi\n",
    "    helper.install_idaes()\n",
    "    #helper.install_ipopt()"
   ]
  },
  {
   "cell_type": "markdown",
   "metadata": {
    "nbpages": {
     "level": 2,
     "link": "[2.4.1 Dynamic Optimization Overview](https://ndcbe.github.io/CBE60499/02.04-DAE-modeling.html#2.4.1-Dynamic-Optimization-Overview)",
     "section": "2.4.1 Dynamic Optimization Overview"
    }
   },
   "source": [
    "## 2.4.1 Dynamic Optimization Overview"
   ]
  },
  {
   "cell_type": "markdown",
   "metadata": {
    "nbpages": {
     "level": 2,
     "link": "[2.4.1 Dynamic Optimization Overview](https://ndcbe.github.io/CBE60499/02.04-DAE-modeling.html#2.4.1-Dynamic-Optimization-Overview)",
     "section": "2.4.1 Dynamic Optimization Overview"
    }
   },
   "source": [
    "**Chapter 8: Dynamic Optimization Introduction** (Biegler, 2010)\n",
    "-\tChemical engineering examples\n",
    "-\tClassical (variational) approaches including Hamiltonian and Euler-Lagrange equations\n",
    "-\tDAE background (this notebook)\n",
    "\n",
    "**Chapter 9: Sequential Methods** (Biegler, 2010)\n",
    "-\tDAE integration (this notebook, next notebook)\n",
    "-\tSingle Shooting\n",
    "-\tMultiple Shooting\n",
    "\n",
    "**Chapter 10: Simultaneous Methods** (Biegler, 2010)\n",
    "-\tGauss quadrature (next notebook)\n",
    "-\tOrthogonal collocation on finite elements (next notebook, next next notebook)\n",
    "-\tExamples, benchmarks, and large-scale extensions"
   ]
  },
  {
   "cell_type": "markdown",
   "metadata": {
    "nbpages": {
     "level": 2,
     "link": "[2.4.1 Dynamic Optimization Overview](https://ndcbe.github.io/CBE60499/02.04-DAE-modeling.html#2.4.1-Dynamic-Optimization-Overview)",
     "section": "2.4.1 Dynamic Optimization Overview"
    }
   },
   "source": [
    "![dynamic-optimization-strategies](./figures/dynamic_optimization_strategies.png)"
   ]
  },
  {
   "cell_type": "markdown",
   "metadata": {
    "nbpages": {
     "level": 2,
     "link": "[2.4.1 Dynamic Optimization Overview](https://ndcbe.github.io/CBE60499/02.04-DAE-modeling.html#2.4.1-Dynamic-Optimization-Overview)",
     "section": "2.4.1 Dynamic Optimization Overview"
    }
   },
   "source": [
    "![sequential_dae_optimization](./figures/sequential_dae_optimization.png)"
   ]
  },
  {
   "cell_type": "markdown",
   "metadata": {
    "nbpages": {
     "level": 2,
     "link": "[2.4.2 DAE Index Reduction](https://ndcbe.github.io/CBE60499/02.04-DAE-modeling.html#2.4.2-DAE-Index-Reduction)",
     "section": "2.4.2 DAE Index Reduction"
    }
   },
   "source": [
    "## 2.4.2 DAE Index Reduction"
   ]
  },
  {
   "cell_type": "markdown",
   "metadata": {
    "nbpages": {
     "level": 2,
     "link": "[2.4.2 DAE Index Reduction](https://ndcbe.github.io/CBE60499/02.04-DAE-modeling.html#2.4.2-DAE-Index-Reduction)",
     "section": "2.4.2 DAE Index Reduction"
    }
   },
   "source": [
    "Excerpts from Chapter 8 of Biegler (2010)."
   ]
  },
  {
   "cell_type": "markdown",
   "metadata": {
    "nbpages": {
     "level": 2,
     "link": "[2.4.2 DAE Index Reduction](https://ndcbe.github.io/CBE60499/02.04-DAE-modeling.html#2.4.2-DAE-Index-Reduction)",
     "section": "2.4.2 DAE Index Reduction"
    }
   },
   "source": [
    "![dae-form1](./figures/dae_form1.png)\n",
    "![dae-form2](./figures/dae_form2.png)"
   ]
  },
  {
   "cell_type": "markdown",
   "metadata": {
    "nbpages": {
     "level": 2,
     "link": "[2.4.2 DAE Index Reduction](https://ndcbe.github.io/CBE60499/02.04-DAE-modeling.html#2.4.2-DAE-Index-Reduction)",
     "section": "2.4.2 DAE Index Reduction"
    }
   },
   "source": [
    "![dae-reduction](./figures/dae_reduction.png)"
   ]
  },
  {
   "cell_type": "markdown",
   "metadata": {
    "nbpages": {
     "level": 2,
     "link": "[2.4.3 DAE Formulations for Simple Pendulum Example](https://ndcbe.github.io/CBE60499/02.04-DAE-modeling.html#2.4.3-DAE-Formulations-for-Simple-Pendulum-Example)",
     "section": "2.4.3 DAE Formulations for Simple Pendulum Example"
    }
   },
   "source": [
    "## 2.4.3 DAE Formulations for Simple Pendulum Example\n",
    "\n",
    "Pyomo.dae documentation:\n",
    "* https://pyomo.readthedocs.io/en/latest/modeling_extensions/dae.html\n",
    "\n",
    "Pendulum example:\n",
    "* http://apmonitor.com/wiki/index.php/Apps/PendulumMotion\n",
    "* https://www.lehigh.edu/~wes1/apci/11may00.pdf\n",
    "\n",
    "CasADi (need to integrate DAEs):\n",
    "* https://web.casadi.org/get/\n",
    "* For local installation: ```pip install casadi```. Warning: installing `CasADi` with `conda` will install an \"okay\" version of Ipopt. If you really want to install `CasADi` with `conda`, you'll likely need to add `import idaes` to your notebook to load the \"good\" version of Ipopt (Linux and Windows users).\n",
    "\n",
    "DAE simulation example:\n",
    "* https://github.com/Pyomo/pyomo/blob/master/examples/dae/simulator_dae_example.py"
   ]
  },
  {
   "cell_type": "code",
   "execution_count": 1,
   "metadata": {
    "nbpages": {
     "level": 2,
     "link": "[2.4.3 DAE Formulations for Simple Pendulum Example](https://ndcbe.github.io/CBE60499/02.04-DAE-modeling.html#2.4.3-DAE-Formulations-for-Simple-Pendulum-Example)",
     "section": "2.4.3 DAE Formulations for Simple Pendulum Example"
    }
   },
   "outputs": [],
   "source": [
    "## Load libraries\n",
    "from pyomo.environ import *\n",
    "from pyomo.dae import *\n",
    "from pyomo.dae.simulator import Simulator\n",
    "import matplotlib.pyplot as plt\n",
    "import numpy as np\n",
    "\n",
    "## Define function for plotting results\n",
    "def plot_results(sim, tsim, profiles):\n",
    "\n",
    "    '''\n",
    "    time = list(m.t)\n",
    "    x = [value(m.x[t]) for t in m.t]\n",
    "    y = [value(m.y[t]) for t in m.t]\n",
    "\n",
    "    plt.plot(time, x, '-b', label='x')\n",
    "    plt.plot(time, y, '-r', label='y')\n",
    "    plt.xlabel('Time')\n",
    "    plt.ylabel('Position')\n",
    "    plt.legend(loc='best')\n",
    "    plt.show()\n",
    "    '''\n",
    "    \n",
    "    plt.figure(1)\n",
    "    varorder = sim.get_variable_order()\n",
    "    algorder = sim.get_variable_order(vartype='algebraic')\n",
    "\n",
    "    # Create empty dictionary\n",
    "    results = {}\n",
    "    \n",
    "    for idx1, v in enumerate(varorder):\n",
    "        i = idx1\n",
    "        v_ = str(v)\n",
    "        results[v_] = profiles[:, i]\n",
    "        plt.plot(tsim, results[v_], label=v)\n",
    "\n",
    "    for idx2, v in enumerate(algorder):\n",
    "        i = len(varorder) + idx2\n",
    "        v_ = str(v)\n",
    "        results[v_] = profiles[:, i]\n",
    "        plt.plot(tsim, results[v_], label=v)\n",
    "    \n",
    "    plt.xlabel('t')\n",
    "    plt.legend(loc='best')\n",
    "    \n",
    "    plt.show()\n",
    "    \n",
    "    plt.figure(2)\n",
    "    x_ = results['x[{t}]']\n",
    "    y_ = results['y[{t}]']\n",
    "    plt.plot(tsim, np.sqrt(x_**2 + y_**2), '-b', label='length')\n",
    "    plt.xlabel('t')\n",
    "    plt.ylabel('$\\sqrt{x^2 + y^2}$')\n",
    "    plt.show()\n",
    "    \n",
    "    #return results"
   ]
  },
  {
   "cell_type": "markdown",
   "metadata": {
    "nbpages": {
     "level": 3,
     "link": "[2.4.3.1 Formulation 1: Index-3 DAE](https://ndcbe.github.io/CBE60499/02.04-DAE-modeling.html#2.4.3.1-Formulation-1:-Index-3-DAE)",
     "section": "2.4.3.1 Formulation 1: Index-3 DAE"
    }
   },
   "source": [
    "### 2.4.3.1 Formulation 1: Index-3 DAE\n",
    "\n",
    "Consider the following model:\n",
    "\n",
    "$$\\begin{align}\n",
    "\\frac{d x}{dt} &= u \\\\\n",
    "\\frac{d y}{dt} &= v \\\\\n",
    "\\frac{d u}{dt} &= -T x \\\\\n",
    "\\frac{d v}{dt} &= g - Ty \\\\\n",
    "& x^2 + y^2 = 1\n",
    "\\end{align}$$\n",
    "\n",
    "This assumes mass and length of unity."
   ]
  },
  {
   "cell_type": "code",
   "execution_count": 2,
   "metadata": {
    "nbpages": {
     "level": 3,
     "link": "[2.4.3.1 Formulation 1: Index-3 DAE](https://ndcbe.github.io/CBE60499/02.04-DAE-modeling.html#2.4.3.1-Formulation-1:-Index-3-DAE)",
     "section": "2.4.3.1 Formulation 1: Index-3 DAE"
    }
   },
   "outputs": [
    {
     "name": "stderr",
     "output_type": "stream",
     "text": [
      "psetup failed: .../casadi/interfaces/sundials/idas_interface.cpp:852: Linear solve failed\n",
      "psetup failed: .../casadi/interfaces/sundials/idas_interface.cpp:852: Linear solve failed\n",
      "psetup failed: .../casadi/interfaces/sundials/idas_interface.cpp:852: Linear solve failed\n",
      "psetup failed: .../casadi/interfaces/sundials/idas_interface.cpp:852: Linear solve failed\n",
      "psetup failed: .../casadi/interfaces/sundials/idas_interface.cpp:852: Linear solve failed\n",
      "psetup failed: .../casadi/interfaces/sundials/idas_interface.cpp:852: Linear solve failed\n",
      "psetup failed: .../casadi/interfaces/sundials/idas_interface.cpp:852: Linear solve failed\n",
      "psetup failed: .../casadi/interfaces/sundials/idas_interface.cpp:852: Linear solve failed\n",
      "psetup failed: .../casadi/interfaces/sundials/idas_interface.cpp:852: Linear solve failed\n",
      "psetup failed: .../casadi/interfaces/sundials/idas_interface.cpp:852: Linear solve failed\n",
      "At t = 0 and h = 1.06624e-14, the corrector convergence failed repeatedly or with |h| = hmin.\n"
     ]
    },
    {
     "ename": "RuntimeError",
     "evalue": ".../casadi/interfaces/sundials/idas_interface.cpp:591: IDASolve returned \"IDA_CONV_FAIL\". Consult IDAS documentation.",
     "output_type": "error",
     "traceback": [
      "\u001b[0;31m---------------------------------------------------------------------------\u001b[0m",
      "\u001b[0;31mRuntimeError\u001b[0m                              Traceback (most recent call last)",
      "\u001b[0;32m<ipython-input-2-6df9f09067d7>\u001b[0m in \u001b[0;36m<module>\u001b[0;34m\u001b[0m\n\u001b[1;32m     60\u001b[0m \u001b[0;31m# Solve DAEs\u001b[0m\u001b[0;34m\u001b[0m\u001b[0;34m\u001b[0m\u001b[0;34m\u001b[0m\u001b[0m\n\u001b[1;32m     61\u001b[0m \u001b[0msim\u001b[0m \u001b[0;34m=\u001b[0m \u001b[0mSimulator\u001b[0m\u001b[0;34m(\u001b[0m\u001b[0mindex3\u001b[0m\u001b[0;34m,\u001b[0m \u001b[0mpackage\u001b[0m\u001b[0;34m=\u001b[0m\u001b[0;34m'casadi'\u001b[0m\u001b[0;34m)\u001b[0m\u001b[0;34m\u001b[0m\u001b[0;34m\u001b[0m\u001b[0m\n\u001b[0;32m---> 62\u001b[0;31m \u001b[0mtsim\u001b[0m\u001b[0;34m,\u001b[0m \u001b[0mprofiles\u001b[0m \u001b[0;34m=\u001b[0m \u001b[0msim\u001b[0m\u001b[0;34m.\u001b[0m\u001b[0msimulate\u001b[0m\u001b[0;34m(\u001b[0m\u001b[0mnumpoints\u001b[0m\u001b[0;34m=\u001b[0m\u001b[0;36m100\u001b[0m\u001b[0;34m,\u001b[0m \u001b[0mintegrator\u001b[0m\u001b[0;34m=\u001b[0m\u001b[0;34m'idas'\u001b[0m\u001b[0;34m,\u001b[0m\u001b[0mintegrator_options\u001b[0m\u001b[0;34m=\u001b[0m\u001b[0mint_ops\u001b[0m\u001b[0;34m)\u001b[0m\u001b[0;34m\u001b[0m\u001b[0;34m\u001b[0m\u001b[0m\n\u001b[0m\u001b[1;32m     63\u001b[0m \u001b[0;34m\u001b[0m\u001b[0m\n\u001b[1;32m     64\u001b[0m \u001b[0;31m# Plot solution\u001b[0m\u001b[0;34m\u001b[0m\u001b[0;34m\u001b[0m\u001b[0;34m\u001b[0m\u001b[0m\n",
      "\u001b[0;32m/anaconda3/envs/spring2021/lib/python3.8/site-packages/pyomo/dae/simulator.py\u001b[0m in \u001b[0;36msimulate\u001b[0;34m(self, numpoints, tstep, integrator, varying_inputs, initcon, integrator_options)\u001b[0m\n\u001b[1;32m    905\u001b[0m             \u001b[0;32melse\u001b[0m\u001b[0;34m:\u001b[0m\u001b[0;34m\u001b[0m\u001b[0;34m\u001b[0m\u001b[0m\n\u001b[1;32m    906\u001b[0m                 \u001b[0mtsim\u001b[0m\u001b[0;34m,\u001b[0m \u001b[0mprofile\u001b[0m \u001b[0;34m=\u001b[0m\u001b[0;31m \u001b[0m\u001b[0;31m\\\u001b[0m\u001b[0;34m\u001b[0m\u001b[0;34m\u001b[0m\u001b[0m\n\u001b[0;32m--> 907\u001b[0;31m                     self._simulate_with_casadi_no_inputs(initcon, tsim,\n\u001b[0m\u001b[1;32m    908\u001b[0m                                                          \u001b[0mintegrator\u001b[0m\u001b[0;34m,\u001b[0m\u001b[0;34m\u001b[0m\u001b[0;34m\u001b[0m\u001b[0m\n\u001b[1;32m    909\u001b[0m                                                          integrator_options)\n",
      "\u001b[0;32m/anaconda3/envs/spring2021/lib/python3.8/site-packages/pyomo/dae/simulator.py\u001b[0m in \u001b[0;36m_simulate_with_casadi_no_inputs\u001b[0;34m(self, initcon, tsim, integrator, integrator_options)\u001b[0m\n\u001b[1;32m    967\u001b[0m         \u001b[0mintegrator_options\u001b[0m\u001b[0;34m[\u001b[0m\u001b[0;34m'output_t0'\u001b[0m\u001b[0;34m]\u001b[0m \u001b[0;34m=\u001b[0m \u001b[0;32mTrue\u001b[0m\u001b[0;34m\u001b[0m\u001b[0;34m\u001b[0m\u001b[0m\n\u001b[1;32m    968\u001b[0m         \u001b[0mF\u001b[0m \u001b[0;34m=\u001b[0m \u001b[0mcasadi\u001b[0m\u001b[0;34m.\u001b[0m\u001b[0mintegrator\u001b[0m\u001b[0;34m(\u001b[0m\u001b[0;34m'F'\u001b[0m\u001b[0;34m,\u001b[0m \u001b[0mintegrator\u001b[0m\u001b[0;34m,\u001b[0m \u001b[0mdae\u001b[0m\u001b[0;34m,\u001b[0m \u001b[0mintegrator_options\u001b[0m\u001b[0;34m)\u001b[0m\u001b[0;34m\u001b[0m\u001b[0;34m\u001b[0m\u001b[0m\n\u001b[0;32m--> 969\u001b[0;31m         \u001b[0msol\u001b[0m \u001b[0;34m=\u001b[0m \u001b[0mF\u001b[0m\u001b[0;34m(\u001b[0m\u001b[0mx0\u001b[0m\u001b[0;34m=\u001b[0m\u001b[0minitcon\u001b[0m\u001b[0;34m)\u001b[0m\u001b[0;34m\u001b[0m\u001b[0;34m\u001b[0m\u001b[0m\n\u001b[0m\u001b[1;32m    970\u001b[0m         \u001b[0mprofile\u001b[0m \u001b[0;34m=\u001b[0m \u001b[0msol\u001b[0m\u001b[0;34m[\u001b[0m\u001b[0;34m'xf'\u001b[0m\u001b[0;34m]\u001b[0m\u001b[0;34m.\u001b[0m\u001b[0mfull\u001b[0m\u001b[0;34m(\u001b[0m\u001b[0;34m)\u001b[0m\u001b[0;34m.\u001b[0m\u001b[0mT\u001b[0m\u001b[0;34m\u001b[0m\u001b[0;34m\u001b[0m\u001b[0m\n\u001b[1;32m    971\u001b[0m \u001b[0;34m\u001b[0m\u001b[0m\n",
      "\u001b[0;32m/anaconda3/envs/spring2021/lib/python3.8/site-packages/casadi/casadi.py\u001b[0m in \u001b[0;36m__call__\u001b[0;34m(self, *args, **kwargs)\u001b[0m\n\u001b[1;32m  13451\u001b[0m       \u001b[0;32melse\u001b[0m\u001b[0;34m:\u001b[0m\u001b[0;34m\u001b[0m\u001b[0;34m\u001b[0m\u001b[0m\n\u001b[1;32m  13452\u001b[0m     \u001b[0;31m# Named inputs -> return dictionary\u001b[0m\u001b[0;34m\u001b[0m\u001b[0;34m\u001b[0m\u001b[0;34m\u001b[0m\u001b[0m\n\u001b[0;32m> 13453\u001b[0;31m         \u001b[0;32mreturn\u001b[0m \u001b[0mself\u001b[0m\u001b[0;34m.\u001b[0m\u001b[0mcall\u001b[0m\u001b[0;34m(\u001b[0m\u001b[0mkwargs\u001b[0m\u001b[0;34m)\u001b[0m\u001b[0;34m\u001b[0m\u001b[0;34m\u001b[0m\u001b[0m\n\u001b[0m\u001b[1;32m  13454\u001b[0m \u001b[0;34m\u001b[0m\u001b[0m\n\u001b[1;32m  13455\u001b[0m     \u001b[0;32mdef\u001b[0m \u001b[0mbuffer\u001b[0m\u001b[0;34m(\u001b[0m\u001b[0mself\u001b[0m\u001b[0;34m)\u001b[0m\u001b[0;34m:\u001b[0m\u001b[0;34m\u001b[0m\u001b[0;34m\u001b[0m\u001b[0m\n",
      "\u001b[0;32m/anaconda3/envs/spring2021/lib/python3.8/site-packages/casadi/casadi.py\u001b[0m in \u001b[0;36mcall\u001b[0;34m(self, *args)\u001b[0m\n\u001b[1;32m  12322\u001b[0m \u001b[0;34m\u001b[0m\u001b[0m\n\u001b[1;32m  12323\u001b[0m         \"\"\"\n\u001b[0;32m> 12324\u001b[0;31m         \u001b[0;32mreturn\u001b[0m \u001b[0m_casadi\u001b[0m\u001b[0;34m.\u001b[0m\u001b[0mFunction_call\u001b[0m\u001b[0;34m(\u001b[0m\u001b[0mself\u001b[0m\u001b[0;34m,\u001b[0m \u001b[0;34m*\u001b[0m\u001b[0margs\u001b[0m\u001b[0;34m)\u001b[0m\u001b[0;34m\u001b[0m\u001b[0;34m\u001b[0m\u001b[0m\n\u001b[0m\u001b[1;32m  12325\u001b[0m \u001b[0;34m\u001b[0m\u001b[0m\n\u001b[1;32m  12326\u001b[0m \u001b[0;34m\u001b[0m\u001b[0m\n",
      "\u001b[0;31mRuntimeError\u001b[0m: .../casadi/interfaces/sundials/idas_interface.cpp:591: IDASolve returned \"IDA_CONV_FAIL\". Consult IDAS documentation."
     ]
    }
   ],
   "source": [
    "def create_model_index3():\n",
    "\n",
    "    m = ConcreteModel()\n",
    "\n",
    "    # Declare time\n",
    "    m.t = ContinuousSet(bounds=(0.0, 1))\n",
    "\n",
    "    # Declare parameter - acceleration due to gravity\n",
    "    m.g = Param(initialize=9.81) # m/s^2\n",
    "\n",
    "    # Declare variables indexed over time\n",
    "    m.x = Var(m.t) # horizontal position\n",
    "    m.y = Var(m.t) # vertical position\n",
    "    m.u = Var(m.t) # horizontal velocity\n",
    "    m.v = Var(m.t) # vertical velocity\n",
    "    m.T = Var(m.t) # tension\n",
    "\n",
    "    # Declare derivative variables\n",
    "    m.dx = DerivativeVar(m.x) # with respect to t is implied\n",
    "    m.dy = DerivativeVar(m.y)\n",
    "    m.du = DerivativeVar(m.u)\n",
    "    m.dv = DerivativeVar(m.v)\n",
    "\n",
    "    # Declare differential equations\n",
    "    def _dx_eqn(m, t):\n",
    "        return m.dx[t] == m.u[t]\n",
    "    m.dx_eqn = Constraint(m.t, rule=_dx_eqn)\n",
    "\n",
    "    def _dy_eqn(m, t):\n",
    "        return m.dy[t] == m.v[t]\n",
    "    m.dy_eqn = Constraint(m.t, rule=_dy_eqn)\n",
    "\n",
    "    def _du_eqn(m, t):\n",
    "        return m.du[t] == -m.T[t]*m.x[t]\n",
    "    m.du_eqn = Constraint(m.t, rule=_du_eqn)\n",
    "\n",
    "    def _dv_eqn(m, t):\n",
    "        return m.dv[t] == m.g -m.T[t]*m.y[t]\n",
    "    m.dv_eqn = Constraint(m.t, rule=_dv_eqn)\n",
    "\n",
    "    # Declare algebraic equation\n",
    "    def _alg_eqn(m, t):\n",
    "        return m.x[t]**2 + m.y[t]**2 == 1\n",
    "    m.alg_eqn = Constraint(m.t, rule=_alg_eqn)\n",
    "\n",
    "    # Specify initial conditions\n",
    "    m.x[0] = 0\n",
    "    m.y[0] = 1\n",
    "    m.u[0] = 1\n",
    "    m.v[0] = 0\n",
    "    m.T[0] = 1 + m.g\n",
    "    \n",
    "    return m\n",
    "\n",
    "index3 = create_model_index3()\n",
    "\n",
    "# Specify integrator options\n",
    "int_ops = {'print_stats':True,\"abstol\":1E-8,\"reltol\":1E-6}\n",
    "\n",
    "# Solve DAEs\n",
    "sim = Simulator(index3, package='casadi')\n",
    "tsim, profiles = sim.simulate(numpoints=100, integrator='idas',integrator_options=int_ops)\n",
    "\n",
    "# Plot solution\n",
    "plot_results(sim, tsim, profiles)"
   ]
  },
  {
   "cell_type": "markdown",
   "metadata": {
    "nbpages": {
     "level": 3,
     "link": "[2.4.3.1 Formulation 1: Index-3 DAE](https://ndcbe.github.io/CBE60499/02.04-DAE-modeling.html#2.4.3.1-Formulation-1:-Index-3-DAE)",
     "section": "2.4.3.1 Formulation 1: Index-3 DAE"
    }
   },
   "source": [
    "**Warning**: If you run this notebook in Colab, you may get the following runtime error and your kernel may crash:\n",
    "\n",
    "![casadi-error-1](./figures/casadi-error1.png)\n",
    "\n",
    "![casadi-error-2](./figures/casadi-error2.png)"
   ]
  },
  {
   "cell_type": "markdown",
   "metadata": {
    "nbpages": {
     "level": 3,
     "link": "[2.4.3.1 Formulation 1: Index-3 DAE](https://ndcbe.github.io/CBE60499/02.04-DAE-modeling.html#2.4.3.1-Formulation-1:-Index-3-DAE)",
     "section": "2.4.3.1 Formulation 1: Index-3 DAE"
    }
   },
   "source": [
    "Why did the `IDAS` integrator in `SUNDIALS` fail? It is only meant for index 0 or 1 DAEs! Integrating high index DAEs is really hard!"
   ]
  },
  {
   "cell_type": "markdown",
   "metadata": {
    "nbpages": {
     "level": 3,
     "link": "[2.4.3.2 Formulation 2: Pure ODE Model](https://ndcbe.github.io/CBE60499/02.04-DAE-modeling.html#2.4.3.2-Formulation-2:-Pure-ODE-Model)",
     "section": "2.4.3.2 Formulation 2: Pure ODE Model"
    }
   },
   "source": [
    "### 2.4.3.2 Formulation 2: Pure ODE Model\n",
    "\n",
    "$$\\begin{align}\n",
    "\\frac{d x}{dt} &= u \\\\\n",
    "\\frac{d y}{dt} &= v \\\\\n",
    "\\frac{d u}{dt} &= -T x \\\\\n",
    "\\frac{d v}{dt} &= g - Ty \\\\\n",
    "\\frac{d T}{dt} &= 4 T (x u + y v) + 3 g v\n",
    "\\end{align}$$\n"
   ]
  },
  {
   "cell_type": "code",
   "execution_count": 3,
   "metadata": {
    "nbpages": {
     "level": 3,
     "link": "[2.4.3.2 Formulation 2: Pure ODE Model](https://ndcbe.github.io/CBE60499/02.04-DAE-modeling.html#2.4.3.2-Formulation-2:-Pure-ODE-Model)",
     "section": "2.4.3.2 Formulation 2: Pure ODE Model"
    }
   },
   "outputs": [
    {
     "name": "stdout",
     "output_type": "stream",
     "text": [
      "FORWARD INTEGRATION:\n",
      "Number of steps taken by SUNDIALS: 167\n",
      "Number of calls to the user’s f function: 242\n",
      "Number of calls made to the linear solver setup function: 31\n",
      "Number of error test failures: 7\n",
      "Method order used on the last internal step: 5\n",
      "Method order to be used on the next internal step: 5\n",
      "Actual value of initial step size: 7.90569e-07\n",
      "Step size taken on the last internal step: 0.00246466\n",
      "Step size to be attempted on the next internal step: 0.00492933\n",
      "Current internal time reached: 0.00492933\n",
      "Number of nonlinear iterations performed: 240\n",
      "Number of nonlinear convergence failures: 0\n",
      "\n"
     ]
    },
    {
     "data": {
      "image/png": "[encoded data removed]",
      "text/plain": [
       "<Figure size 432x288 with 1 Axes>"
      ]
     },
     "metadata": {
      "needs_background": "light"
     },
     "output_type": "display_data"
    },
    {
     "data": {
      "image/png": "[encoded data removed]",
      "text/plain": [
       "<Figure size 432x288 with 1 Axes>"
      ]
     },
     "metadata": {
      "needs_background": "light"
     },
     "output_type": "display_data"
    }
   ],
   "source": [
    "def create_model_ode():\n",
    "\n",
    "    m = ConcreteModel()\n",
    "\n",
    "    # Declare time\n",
    "    m.t = ContinuousSet(bounds=(0.0, 5.0))\n",
    "\n",
    "    # Declare parameter - acceleration due to gravity\n",
    "    m.g = Param(initialize=9.81) # m/s^2\n",
    "\n",
    "    # Declare variables indexed over time\n",
    "    m.x = Var(m.t) # horizontal position\n",
    "    m.y = Var(m.t) # vertical position\n",
    "    m.u = Var(m.t) # horizontal velocity\n",
    "    m.v = Var(m.t) # vertical velocity\n",
    "    m.T = Var(m.t) # tension\n",
    "\n",
    "    # Declare derivative variables\n",
    "    m.dx = DerivativeVar(m.x) # with respect to t is implied\n",
    "    m.dy = DerivativeVar(m.y)\n",
    "    m.du = DerivativeVar(m.u)\n",
    "    m.dv = DerivativeVar(m.v)\n",
    "    m.dT = DerivativeVar(m.T)\n",
    "\n",
    "    # Declare differential equations\n",
    "    def _dx_eqn(m, t):\n",
    "        return m.dx[t] == m.u[t]\n",
    "    m.dx_eqn = Constraint(m.t, rule=_dx_eqn)\n",
    "\n",
    "    def _dy_eqn(m, t):\n",
    "        return m.dy[t] == m.v[t]\n",
    "    m.dy_eqn = Constraint(m.t, rule=_dy_eqn)\n",
    "\n",
    "    def _du_eqn(m, t):\n",
    "        return m.du[t] == -m.T[t]*m.x[t]\n",
    "    m.du_eqn = Constraint(m.t, rule=_du_eqn)\n",
    "\n",
    "    def _dv_eqn(m, t):\n",
    "        return m.dv[t] == m.g -m.T[t]*m.y[t]\n",
    "    m.dv_eqn = Constraint(m.t, rule=_dv_eqn)\n",
    "\n",
    "    def _dT_eqn(m, t):\n",
    "        return m.dT[t] == 4*m.T[t]*(m.x[t]*m.u[t] + m.y[t]*m.v[t]) + 3*m.g*m.v[t]\n",
    "    m.dT_eqn = Constraint(m.t, rule=_dT_eqn)\n",
    "\n",
    "    # Specify initial conditions\n",
    "    m.x[0] = 0\n",
    "    m.y[0] = 1\n",
    "    m.u[0] = 1\n",
    "    m.v[0] = 0\n",
    "    m.T[0] = 1 + m.g\n",
    "    \n",
    "    return m\n",
    "\n",
    "ode = create_model_ode()\n",
    "\n",
    "# Specify integrator options\n",
    "int_ops = {'print_stats':True,\"abstol\":1E-6,\"reltol\":1E-4}\n",
    "\n",
    "# Solve DAEs\n",
    "sim = Simulator(ode, package='casadi')\n",
    "tsim, profiles = sim.simulate(numpoints=100, integrator='idas',integrator_options=int_ops)\n",
    "\n",
    "# Plot solution\n",
    "results = plot_results(sim, tsim, profiles)"
   ]
  },
  {
   "cell_type": "markdown",
   "metadata": {
    "nbpages": {
     "level": 3,
     "link": "[2.4.3.2 Formulation 2: Pure ODE Model](https://ndcbe.github.io/CBE60499/02.04-DAE-modeling.html#2.4.3.2-Formulation-2:-Pure-ODE-Model)",
     "section": "2.4.3.2 Formulation 2: Pure ODE Model"
    }
   },
   "source": [
    "**Discussion**\n",
    "* Are all of the algebraic constraints in the original formulation satisfied?"
   ]
  },
  {
   "cell_type": "markdown",
   "metadata": {
    "nbpages": {
     "level": 3,
     "link": "[2.4.3.3 Formulation 3: Index-1 DAE Model](https://ndcbe.github.io/CBE60499/02.04-DAE-modeling.html#2.4.3.3-Formulation-3:-Index-1-DAE-Model)",
     "section": "2.4.3.3 Formulation 3: Index-1 DAE Model"
    }
   },
   "source": [
    "### 2.4.3.3 Formulation 3: Index-1 DAE Model\n",
    "\n",
    "$$\\begin{align}\n",
    "\\frac{d y}{dt} &= v \\\\\n",
    "\\frac{d v}{dt} &= g - Ty \\\\\n",
    " & x^2 + y^2 = 1 \\\\\n",
    " & 2 x u + 2 y v = 0 \\\\\n",
    " & (u^2 + v^2) - T (x^2 + y^2) + g y = 0\n",
    "\\end{align}$$\n",
    "\n",
    "(This reformulation is NOT unique... could have written $\\frac{dx}{dt}$ and $\\frac{du}{dt}$ instead.)\n",
    "\n",
    "Consistent initial conditions:\n",
    "1. Specify $y(0)$ and $v(0)$.\n",
    "2. Solve for $x(0)$, $u(0)$, and $T(0)$"
   ]
  },
  {
   "cell_type": "code",
   "execution_count": 4,
   "metadata": {
    "nbpages": {
     "level": 3,
     "link": "[2.4.3.3 Formulation 3: Index-1 DAE Model](https://ndcbe.github.io/CBE60499/02.04-DAE-modeling.html#2.4.3.3-Formulation-3:-Index-1-DAE-Model)",
     "section": "2.4.3.3 Formulation 3: Index-1 DAE Model"
    }
   },
   "outputs": [
    {
     "name": "stdout",
     "output_type": "stream",
     "text": [
      "Constraint 1:\n",
      "0\n",
      "\n",
      "Constraint 2:\n",
      "0\n",
      "\n",
      "Constraint 3:\n",
      "0.0\n"
     ]
    },
    {
     "name": "stderr",
     "output_type": "stream",
     "text": [
      "psetup failed: .../casadi/interfaces/sundials/idas_interface.cpp:852: Linear solve failed\n",
      "psetup failed: .../casadi/interfaces/sundials/idas_interface.cpp:852: Linear solve failed\n",
      "psetup failed: .../casadi/interfaces/sundials/idas_interface.cpp:852: Linear solve failed\n",
      "psetup failed: .../casadi/interfaces/sundials/idas_interface.cpp:852: Linear solve failed\n",
      "psetup failed: .../casadi/interfaces/sundials/idas_interface.cpp:852: Linear solve failed\n",
      "The residual routine or the linear setup or solve routine had a recoverable error, but IDACalcIC was unable to recover.\n"
     ]
    },
    {
     "ename": "RuntimeError",
     "evalue": ".../casadi/interfaces/sundials/idas_interface.cpp:591: IDACalcIC returned \"IDA_NO_RECOVERY\". Consult IDAS documentation.",
     "output_type": "error",
     "traceback": [
      "\u001b[0;31m---------------------------------------------------------------------------\u001b[0m",
      "\u001b[0;31mRuntimeError\u001b[0m                              Traceback (most recent call last)",
      "\u001b[0;32m<ipython-input-4-302b44bce341>\u001b[0m in \u001b[0;36m<module>\u001b[0;34m\u001b[0m\n\u001b[1;32m     77\u001b[0m \u001b[0;31m# Solve DAEs\u001b[0m\u001b[0;34m\u001b[0m\u001b[0;34m\u001b[0m\u001b[0;34m\u001b[0m\u001b[0m\n\u001b[1;32m     78\u001b[0m \u001b[0msim\u001b[0m \u001b[0;34m=\u001b[0m \u001b[0mSimulator\u001b[0m\u001b[0;34m(\u001b[0m\u001b[0mindex1\u001b[0m\u001b[0;34m,\u001b[0m \u001b[0mpackage\u001b[0m\u001b[0;34m=\u001b[0m\u001b[0;34m'casadi'\u001b[0m\u001b[0;34m)\u001b[0m\u001b[0;34m\u001b[0m\u001b[0;34m\u001b[0m\u001b[0m\n\u001b[0;32m---> 79\u001b[0;31m \u001b[0mtsim\u001b[0m\u001b[0;34m,\u001b[0m \u001b[0mprofiles\u001b[0m \u001b[0;34m=\u001b[0m \u001b[0msim\u001b[0m\u001b[0;34m.\u001b[0m\u001b[0msimulate\u001b[0m\u001b[0;34m(\u001b[0m\u001b[0mnumpoints\u001b[0m\u001b[0;34m=\u001b[0m\u001b[0;36m100\u001b[0m\u001b[0;34m,\u001b[0m \u001b[0mintegrator\u001b[0m\u001b[0;34m=\u001b[0m\u001b[0;34m'idas'\u001b[0m\u001b[0;34m,\u001b[0m\u001b[0mintegrator_options\u001b[0m\u001b[0;34m=\u001b[0m\u001b[0mint_ops\u001b[0m\u001b[0;34m)\u001b[0m\u001b[0;34m\u001b[0m\u001b[0;34m\u001b[0m\u001b[0m\n\u001b[0m\u001b[1;32m     80\u001b[0m \u001b[0;31m# tsim, profiles = sim.simulate(numpoints=100, integrator='collocation')\u001b[0m\u001b[0;34m\u001b[0m\u001b[0;34m\u001b[0m\u001b[0;34m\u001b[0m\u001b[0m\n",
      "\u001b[0;32m/anaconda3/envs/spring2021/lib/python3.8/site-packages/pyomo/dae/simulator.py\u001b[0m in \u001b[0;36msimulate\u001b[0;34m(self, numpoints, tstep, integrator, varying_inputs, initcon, integrator_options)\u001b[0m\n\u001b[1;32m    905\u001b[0m             \u001b[0;32melse\u001b[0m\u001b[0;34m:\u001b[0m\u001b[0;34m\u001b[0m\u001b[0;34m\u001b[0m\u001b[0m\n\u001b[1;32m    906\u001b[0m                 \u001b[0mtsim\u001b[0m\u001b[0;34m,\u001b[0m \u001b[0mprofile\u001b[0m \u001b[0;34m=\u001b[0m\u001b[0;31m \u001b[0m\u001b[0;31m\\\u001b[0m\u001b[0;34m\u001b[0m\u001b[0;34m\u001b[0m\u001b[0m\n\u001b[0;32m--> 907\u001b[0;31m                     self._simulate_with_casadi_no_inputs(initcon, tsim,\n\u001b[0m\u001b[1;32m    908\u001b[0m                                                          \u001b[0mintegrator\u001b[0m\u001b[0;34m,\u001b[0m\u001b[0;34m\u001b[0m\u001b[0;34m\u001b[0m\u001b[0m\n\u001b[1;32m    909\u001b[0m                                                          integrator_options)\n",
      "\u001b[0;32m/anaconda3/envs/spring2021/lib/python3.8/site-packages/pyomo/dae/simulator.py\u001b[0m in \u001b[0;36m_simulate_with_casadi_no_inputs\u001b[0;34m(self, initcon, tsim, integrator, integrator_options)\u001b[0m\n\u001b[1;32m    967\u001b[0m         \u001b[0mintegrator_options\u001b[0m\u001b[0;34m[\u001b[0m\u001b[0;34m'output_t0'\u001b[0m\u001b[0;34m]\u001b[0m \u001b[0;34m=\u001b[0m \u001b[0;32mTrue\u001b[0m\u001b[0;34m\u001b[0m\u001b[0;34m\u001b[0m\u001b[0m\n\u001b[1;32m    968\u001b[0m         \u001b[0mF\u001b[0m \u001b[0;34m=\u001b[0m \u001b[0mcasadi\u001b[0m\u001b[0;34m.\u001b[0m\u001b[0mintegrator\u001b[0m\u001b[0;34m(\u001b[0m\u001b[0;34m'F'\u001b[0m\u001b[0;34m,\u001b[0m \u001b[0mintegrator\u001b[0m\u001b[0;34m,\u001b[0m \u001b[0mdae\u001b[0m\u001b[0;34m,\u001b[0m \u001b[0mintegrator_options\u001b[0m\u001b[0;34m)\u001b[0m\u001b[0;34m\u001b[0m\u001b[0;34m\u001b[0m\u001b[0m\n\u001b[0;32m--> 969\u001b[0;31m         \u001b[0msol\u001b[0m \u001b[0;34m=\u001b[0m \u001b[0mF\u001b[0m\u001b[0;34m(\u001b[0m\u001b[0mx0\u001b[0m\u001b[0;34m=\u001b[0m\u001b[0minitcon\u001b[0m\u001b[0;34m)\u001b[0m\u001b[0;34m\u001b[0m\u001b[0;34m\u001b[0m\u001b[0m\n\u001b[0m\u001b[1;32m    970\u001b[0m         \u001b[0mprofile\u001b[0m \u001b[0;34m=\u001b[0m \u001b[0msol\u001b[0m\u001b[0;34m[\u001b[0m\u001b[0;34m'xf'\u001b[0m\u001b[0;34m]\u001b[0m\u001b[0;34m.\u001b[0m\u001b[0mfull\u001b[0m\u001b[0;34m(\u001b[0m\u001b[0;34m)\u001b[0m\u001b[0;34m.\u001b[0m\u001b[0mT\u001b[0m\u001b[0;34m\u001b[0m\u001b[0;34m\u001b[0m\u001b[0m\n\u001b[1;32m    971\u001b[0m \u001b[0;34m\u001b[0m\u001b[0m\n",
      "\u001b[0;32m/anaconda3/envs/spring2021/lib/python3.8/site-packages/casadi/casadi.py\u001b[0m in \u001b[0;36m__call__\u001b[0;34m(self, *args, **kwargs)\u001b[0m\n\u001b[1;32m  13451\u001b[0m       \u001b[0;32melse\u001b[0m\u001b[0;34m:\u001b[0m\u001b[0;34m\u001b[0m\u001b[0;34m\u001b[0m\u001b[0m\n\u001b[1;32m  13452\u001b[0m     \u001b[0;31m# Named inputs -> return dictionary\u001b[0m\u001b[0;34m\u001b[0m\u001b[0;34m\u001b[0m\u001b[0;34m\u001b[0m\u001b[0m\n\u001b[0;32m> 13453\u001b[0;31m         \u001b[0;32mreturn\u001b[0m \u001b[0mself\u001b[0m\u001b[0;34m.\u001b[0m\u001b[0mcall\u001b[0m\u001b[0;34m(\u001b[0m\u001b[0mkwargs\u001b[0m\u001b[0;34m)\u001b[0m\u001b[0;34m\u001b[0m\u001b[0;34m\u001b[0m\u001b[0m\n\u001b[0m\u001b[1;32m  13454\u001b[0m \u001b[0;34m\u001b[0m\u001b[0m\n\u001b[1;32m  13455\u001b[0m     \u001b[0;32mdef\u001b[0m \u001b[0mbuffer\u001b[0m\u001b[0;34m(\u001b[0m\u001b[0mself\u001b[0m\u001b[0;34m)\u001b[0m\u001b[0;34m:\u001b[0m\u001b[0;34m\u001b[0m\u001b[0;34m\u001b[0m\u001b[0m\n",
      "\u001b[0;32m/anaconda3/envs/spring2021/lib/python3.8/site-packages/casadi/casadi.py\u001b[0m in \u001b[0;36mcall\u001b[0;34m(self, *args)\u001b[0m\n\u001b[1;32m  12322\u001b[0m \u001b[0;34m\u001b[0m\u001b[0m\n\u001b[1;32m  12323\u001b[0m         \"\"\"\n\u001b[0;32m> 12324\u001b[0;31m         \u001b[0;32mreturn\u001b[0m \u001b[0m_casadi\u001b[0m\u001b[0;34m.\u001b[0m\u001b[0mFunction_call\u001b[0m\u001b[0;34m(\u001b[0m\u001b[0mself\u001b[0m\u001b[0;34m,\u001b[0m \u001b[0;34m*\u001b[0m\u001b[0margs\u001b[0m\u001b[0;34m)\u001b[0m\u001b[0;34m\u001b[0m\u001b[0;34m\u001b[0m\u001b[0m\n\u001b[0m\u001b[1;32m  12325\u001b[0m \u001b[0;34m\u001b[0m\u001b[0m\n\u001b[1;32m  12326\u001b[0m \u001b[0;34m\u001b[0m\u001b[0m\n",
      "\u001b[0;31mRuntimeError\u001b[0m: .../casadi/interfaces/sundials/idas_interface.cpp:591: IDACalcIC returned \"IDA_NO_RECOVERY\". Consult IDAS documentation."
     ]
    }
   ],
   "source": [
    "def create_model_index1():\n",
    "\n",
    "    m = ConcreteModel()\n",
    "\n",
    "    # Declare time\n",
    "    m.t = ContinuousSet(bounds=(0, 5))\n",
    "\n",
    "    # Declare parameter - acceleration due to gravity\n",
    "    m.g = Param(initialize=9.81) # m/s^2\n",
    "\n",
    "    # Declare variables indexed over time\n",
    "    m.x = Var(m.t) # horizontal position\n",
    "    m.y = Var(m.t) # vertical position\n",
    "    m.u = Var(m.t) # horizontal velocity\n",
    "    m.v = Var(m.t) # vertical velocity\n",
    "    m.T = Var(m.t) # tension\n",
    "\n",
    "    # Declare derivative variables\n",
    "    m.dy = DerivativeVar(m.y)\n",
    "    m.dv = DerivativeVar(m.v)\n",
    "\n",
    "    # Declare differential equations\n",
    "    def _dy_eqn(m, t):\n",
    "        return m.dy[t] == m.v[t]\n",
    "    m.dy_eqn = Constraint(m.t, rule=_dy_eqn)\n",
    "\n",
    "    def _dv_eqn(m, t):\n",
    "        return m.dv[t] == m.g - m.T[t]*m.y[t]\n",
    "    m.dv_eqn = Constraint(m.t, rule=_dv_eqn)\n",
    "\n",
    "    # Declare algebraic equations\n",
    "    def _alg_eqn1(m, t):\n",
    "        return m.x[t]**2 + m.y[t]**2 == 1\n",
    "    m.alg_eqn1 = Constraint(m.t, rule=_alg_eqn1)\n",
    "\n",
    "    def _alg_eqn2(m, t):\n",
    "        return m.x[t]*m.u[t] + m.y[t]*m.v[t] == 0\n",
    "    m.alg_eqn2 = Constraint(m.t, rule=_alg_eqn2)\n",
    "\n",
    "    def _alg_eqn3(m, t):\n",
    "        return m.u[t]**2 + m.v[t]**2 - m.T[t]*(m.x[t]**2 + m.y[t]**2) + m.g*m.y[t] == 0\n",
    "    m.alg_eqn3 = Constraint(m.t, rule=_alg_eqn3)\n",
    "\n",
    "    # Specify initial conditions\n",
    "    m.x[0] = 0\n",
    "    m.y[0] = 1\n",
    "    m.u[0] = 1\n",
    "    m.v[0] = 0\n",
    "    m.T[0] = 1 + m.g\n",
    "    \n",
    "    return m\n",
    "\n",
    "def index1_check_constraints(m):\n",
    "    \"\"\" Check if the three constraints are feasible.\n",
    "    \"\"\"\n",
    "    \n",
    "    print(\"Constraint 1:\")\n",
    "    r1 = m.x[0]()**2 + m.y[0]()**2 - 1\n",
    "    print(r1)\n",
    "    \n",
    "    print(\"\\nConstraint 2:\")\n",
    "    r2 = m.x[0]()*m.u[0]() + m.y[0]()*m.v[0]()\n",
    "    print(r2)\n",
    "    \n",
    "    print(\"\\nConstraint 3:\")\n",
    "    r3 = m.u[0]()**2 + m.v[0]()**2 - m.T[0]() + m.g*m.y[0]()\n",
    "    print(r3)\n",
    "\n",
    "index1 = create_model_index1()\n",
    "\n",
    "# Check initial condition\n",
    "index1_check_constraints(index1)\n",
    "\n",
    "# Specify integrator options\n",
    "int_ops = {'print_stats':True,\"abstol\":1E-6,\"reltol\":1E-4}\n",
    "\n",
    "# Solve DAEs\n",
    "sim = Simulator(index1, package='casadi')\n",
    "tsim, profiles = sim.simulate(numpoints=100, integrator='idas',integrator_options=int_ops)\n",
    "# tsim, profiles = sim.simulate(numpoints=100, integrator='collocation')"
   ]
  },
  {
   "cell_type": "markdown",
   "metadata": {
    "nbpages": {
     "level": 3,
     "link": "[2.4.3.3 Formulation 3: Index-1 DAE Model](https://ndcbe.github.io/CBE60499/02.04-DAE-modeling.html#2.4.3.3-Formulation-3:-Index-1-DAE-Model)",
     "section": "2.4.3.3 Formulation 3: Index-1 DAE Model"
    }
   },
   "source": [
    "What happened? Point singularity at $x=0$.\n",
    "\n",
    "Let's try $x=0.1$ as the initial point."
   ]
  },
  {
   "cell_type": "code",
   "execution_count": 5,
   "metadata": {
    "nbpages": {
     "level": 3,
     "link": "[2.4.3.3 Formulation 3: Index-1 DAE Model](https://ndcbe.github.io/CBE60499/02.04-DAE-modeling.html#2.4.3.3-Formulation-3:-Index-1-DAE-Model)",
     "section": "2.4.3.3 Formulation 3: Index-1 DAE Model"
    }
   },
   "outputs": [
    {
     "name": "stdout",
     "output_type": "stream",
     "text": [
      "Constraint 1:\n",
      "0.010000000000000009\n",
      "\n",
      "Constraint 2:\n",
      "0.1\n",
      "\n",
      "Constraint 3:\n",
      "0.0\n"
     ]
    },
    {
     "name": "stderr",
     "output_type": "stream",
     "text": [
      "psetup failed: .../casadi/interfaces/sundials/idas_interface.cpp:852: Linear solve failed\n",
      "psetup failed: .../casadi/interfaces/sundials/idas_interface.cpp:852: Linear solve failed\n",
      "psetup failed: .../casadi/interfaces/sundials/idas_interface.cpp:852: Linear solve failed\n",
      "psetup failed: .../casadi/interfaces/sundials/idas_interface.cpp:852: Linear solve failed\n",
      "psetup failed: .../casadi/interfaces/sundials/idas_interface.cpp:852: Linear solve failed\n",
      "The residual routine or the linear setup or solve routine had a recoverable error, but IDACalcIC was unable to recover.\n"
     ]
    },
    {
     "ename": "RuntimeError",
     "evalue": ".../casadi/interfaces/sundials/idas_interface.cpp:591: IDACalcIC returned \"IDA_NO_RECOVERY\". Consult IDAS documentation.",
     "output_type": "error",
     "traceback": [
      "\u001b[0;31m---------------------------------------------------------------------------\u001b[0m",
      "\u001b[0;31mRuntimeError\u001b[0m                              Traceback (most recent call last)",
      "\u001b[0;32m<ipython-input-5-d7e5a0955a84>\u001b[0m in \u001b[0;36m<module>\u001b[0;34m\u001b[0m\n\u001b[1;32m     17\u001b[0m \u001b[0;34m\u001b[0m\u001b[0m\n\u001b[1;32m     18\u001b[0m \u001b[0;31m# Simulator\u001b[0m\u001b[0;34m\u001b[0m\u001b[0;34m\u001b[0m\u001b[0;34m\u001b[0m\u001b[0m\n\u001b[0;32m---> 19\u001b[0;31m \u001b[0mtsim\u001b[0m\u001b[0;34m,\u001b[0m \u001b[0mprofiles\u001b[0m \u001b[0;34m=\u001b[0m \u001b[0msim\u001b[0m\u001b[0;34m.\u001b[0m\u001b[0msimulate\u001b[0m\u001b[0;34m(\u001b[0m\u001b[0mnumpoints\u001b[0m\u001b[0;34m=\u001b[0m\u001b[0;36m100\u001b[0m\u001b[0;34m,\u001b[0m \u001b[0mintegrator\u001b[0m\u001b[0;34m=\u001b[0m\u001b[0;34m'idas'\u001b[0m\u001b[0;34m,\u001b[0m\u001b[0mintegrator_options\u001b[0m\u001b[0;34m=\u001b[0m\u001b[0mint_ops\u001b[0m\u001b[0;34m)\u001b[0m\u001b[0;34m\u001b[0m\u001b[0;34m\u001b[0m\u001b[0m\n\u001b[0m",
      "\u001b[0;32m/anaconda3/envs/spring2021/lib/python3.8/site-packages/pyomo/dae/simulator.py\u001b[0m in \u001b[0;36msimulate\u001b[0;34m(self, numpoints, tstep, integrator, varying_inputs, initcon, integrator_options)\u001b[0m\n\u001b[1;32m    905\u001b[0m             \u001b[0;32melse\u001b[0m\u001b[0;34m:\u001b[0m\u001b[0;34m\u001b[0m\u001b[0;34m\u001b[0m\u001b[0m\n\u001b[1;32m    906\u001b[0m                 \u001b[0mtsim\u001b[0m\u001b[0;34m,\u001b[0m \u001b[0mprofile\u001b[0m \u001b[0;34m=\u001b[0m\u001b[0;31m \u001b[0m\u001b[0;31m\\\u001b[0m\u001b[0;34m\u001b[0m\u001b[0;34m\u001b[0m\u001b[0m\n\u001b[0;32m--> 907\u001b[0;31m                     self._simulate_with_casadi_no_inputs(initcon, tsim,\n\u001b[0m\u001b[1;32m    908\u001b[0m                                                          \u001b[0mintegrator\u001b[0m\u001b[0;34m,\u001b[0m\u001b[0;34m\u001b[0m\u001b[0;34m\u001b[0m\u001b[0m\n\u001b[1;32m    909\u001b[0m                                                          integrator_options)\n",
      "\u001b[0;32m/anaconda3/envs/spring2021/lib/python3.8/site-packages/pyomo/dae/simulator.py\u001b[0m in \u001b[0;36m_simulate_with_casadi_no_inputs\u001b[0;34m(self, initcon, tsim, integrator, integrator_options)\u001b[0m\n\u001b[1;32m    967\u001b[0m         \u001b[0mintegrator_options\u001b[0m\u001b[0;34m[\u001b[0m\u001b[0;34m'output_t0'\u001b[0m\u001b[0;34m]\u001b[0m \u001b[0;34m=\u001b[0m \u001b[0;32mTrue\u001b[0m\u001b[0;34m\u001b[0m\u001b[0;34m\u001b[0m\u001b[0m\n\u001b[1;32m    968\u001b[0m         \u001b[0mF\u001b[0m \u001b[0;34m=\u001b[0m \u001b[0mcasadi\u001b[0m\u001b[0;34m.\u001b[0m\u001b[0mintegrator\u001b[0m\u001b[0;34m(\u001b[0m\u001b[0;34m'F'\u001b[0m\u001b[0;34m,\u001b[0m \u001b[0mintegrator\u001b[0m\u001b[0;34m,\u001b[0m \u001b[0mdae\u001b[0m\u001b[0;34m,\u001b[0m \u001b[0mintegrator_options\u001b[0m\u001b[0;34m)\u001b[0m\u001b[0;34m\u001b[0m\u001b[0;34m\u001b[0m\u001b[0m\n\u001b[0;32m--> 969\u001b[0;31m         \u001b[0msol\u001b[0m \u001b[0;34m=\u001b[0m \u001b[0mF\u001b[0m\u001b[0;34m(\u001b[0m\u001b[0mx0\u001b[0m\u001b[0;34m=\u001b[0m\u001b[0minitcon\u001b[0m\u001b[0;34m)\u001b[0m\u001b[0;34m\u001b[0m\u001b[0;34m\u001b[0m\u001b[0m\n\u001b[0m\u001b[1;32m    970\u001b[0m         \u001b[0mprofile\u001b[0m \u001b[0;34m=\u001b[0m \u001b[0msol\u001b[0m\u001b[0;34m[\u001b[0m\u001b[0;34m'xf'\u001b[0m\u001b[0;34m]\u001b[0m\u001b[0;34m.\u001b[0m\u001b[0mfull\u001b[0m\u001b[0;34m(\u001b[0m\u001b[0;34m)\u001b[0m\u001b[0;34m.\u001b[0m\u001b[0mT\u001b[0m\u001b[0;34m\u001b[0m\u001b[0;34m\u001b[0m\u001b[0m\n\u001b[1;32m    971\u001b[0m \u001b[0;34m\u001b[0m\u001b[0m\n",
      "\u001b[0;32m/anaconda3/envs/spring2021/lib/python3.8/site-packages/casadi/casadi.py\u001b[0m in \u001b[0;36m__call__\u001b[0;34m(self, *args, **kwargs)\u001b[0m\n\u001b[1;32m  13451\u001b[0m       \u001b[0;32melse\u001b[0m\u001b[0;34m:\u001b[0m\u001b[0;34m\u001b[0m\u001b[0;34m\u001b[0m\u001b[0m\n\u001b[1;32m  13452\u001b[0m     \u001b[0;31m# Named inputs -> return dictionary\u001b[0m\u001b[0;34m\u001b[0m\u001b[0;34m\u001b[0m\u001b[0;34m\u001b[0m\u001b[0m\n\u001b[0;32m> 13453\u001b[0;31m         \u001b[0;32mreturn\u001b[0m \u001b[0mself\u001b[0m\u001b[0;34m.\u001b[0m\u001b[0mcall\u001b[0m\u001b[0;34m(\u001b[0m\u001b[0mkwargs\u001b[0m\u001b[0;34m)\u001b[0m\u001b[0;34m\u001b[0m\u001b[0;34m\u001b[0m\u001b[0m\n\u001b[0m\u001b[1;32m  13454\u001b[0m \u001b[0;34m\u001b[0m\u001b[0m\n\u001b[1;32m  13455\u001b[0m     \u001b[0;32mdef\u001b[0m \u001b[0mbuffer\u001b[0m\u001b[0;34m(\u001b[0m\u001b[0mself\u001b[0m\u001b[0;34m)\u001b[0m\u001b[0;34m:\u001b[0m\u001b[0;34m\u001b[0m\u001b[0;34m\u001b[0m\u001b[0m\n",
      "\u001b[0;32m/anaconda3/envs/spring2021/lib/python3.8/site-packages/casadi/casadi.py\u001b[0m in \u001b[0;36mcall\u001b[0;34m(self, *args)\u001b[0m\n\u001b[1;32m  12322\u001b[0m \u001b[0;34m\u001b[0m\u001b[0m\n\u001b[1;32m  12323\u001b[0m         \"\"\"\n\u001b[0;32m> 12324\u001b[0;31m         \u001b[0;32mreturn\u001b[0m \u001b[0m_casadi\u001b[0m\u001b[0;34m.\u001b[0m\u001b[0mFunction_call\u001b[0m\u001b[0;34m(\u001b[0m\u001b[0mself\u001b[0m\u001b[0;34m,\u001b[0m \u001b[0;34m*\u001b[0m\u001b[0margs\u001b[0m\u001b[0;34m)\u001b[0m\u001b[0;34m\u001b[0m\u001b[0;34m\u001b[0m\u001b[0m\n\u001b[0m\u001b[1;32m  12325\u001b[0m \u001b[0;34m\u001b[0m\u001b[0m\n\u001b[1;32m  12326\u001b[0m \u001b[0;34m\u001b[0m\u001b[0m\n",
      "\u001b[0;31mRuntimeError\u001b[0m: .../casadi/interfaces/sundials/idas_interface.cpp:591: IDACalcIC returned \"IDA_NO_RECOVERY\". Consult IDAS documentation."
     ]
    }
   ],
   "source": [
    "index1_again = create_model_index1()\n",
    "\n",
    "# Specify alternative initial conditions\n",
    "small_number = 0.1\n",
    "\n",
    "index1_again.x[0] = small_number\n",
    "index1_again.y[0] = 1\n",
    "index1_again.u[0] = 1\n",
    "index1_again.v[0] = 0\n",
    "index1_again.T[0] = 1 + index1_again.g\n",
    "\n",
    "# Check initial condition\n",
    "index1_check_constraints(index1_again)\n",
    "\n",
    "# Solve DAEs\n",
    "sim = Simulator(index1_again, package='casadi')\n",
    "\n",
    "# Simulator\n",
    "tsim, profiles = sim.simulate(numpoints=100, integrator='idas',integrator_options=int_ops)"
   ]
  },
  {
   "cell_type": "markdown",
   "metadata": {
    "nbpages": {
     "level": 3,
     "link": "[2.4.3.3 Formulation 3: Index-1 DAE Model](https://ndcbe.github.io/CBE60499/02.04-DAE-modeling.html#2.4.3.3-Formulation-3:-Index-1-DAE-Model)",
     "section": "2.4.3.3 Formulation 3: Index-1 DAE Model"
    }
   },
   "source": [
    "Our initial point does not satisfy the algebraic constraints! We need a consistent initial point."
   ]
  },
  {
   "cell_type": "markdown",
   "metadata": {
    "nbpages": {
     "level": 3,
     "link": "[2.4.3.3 Formulation 3: Index-1 DAE Model](https://ndcbe.github.io/CBE60499/02.04-DAE-modeling.html#2.4.3.3-Formulation-3:-Index-1-DAE-Model)",
     "section": "2.4.3.3 Formulation 3: Index-1 DAE Model"
    }
   },
   "source": [
    "Given $x = \\epsilon$, solve $x^2 + y^2 = 1$ for $y$:\n",
    "\n",
    "$$ y = \\sqrt{1^2 - \\epsilon^2}$$\n",
    "\n",
    "Then, assume $u = 1$ and solve $2 x u + 2 y v = 0$ for $v$:\n",
    "\n",
    "$$v = \\frac{-x u}{y}$$\n",
    "\n",
    "Finally, we can solve $(u^2 + v^2) - T (x^2 + y^2) + g y = 0$ for $T$:\n",
    "\n",
    "$$\n",
    "T = \\frac{(u^2 + v^2) + gy}{x^2 + y^2} = \\frac{(u^2 + v^2) + gy}{1}\n",
    "$$"
   ]
  },
  {
   "cell_type": "code",
   "execution_count": 6,
   "metadata": {
    "nbpages": {
     "level": 3,
     "link": "[2.4.3.3 Formulation 3: Index-1 DAE Model](https://ndcbe.github.io/CBE60499/02.04-DAE-modeling.html#2.4.3.3-Formulation-3:-Index-1-DAE-Model)",
     "section": "2.4.3.3 Formulation 3: Index-1 DAE Model"
    }
   },
   "outputs": [
    {
     "name": "stdout",
     "output_type": "stream",
     "text": [
      "Constraint 1:\n",
      "0.0\n",
      "\n",
      "Constraint 2:\n",
      "0.0\n",
      "\n",
      "Constraint 3:\n",
      "0.0\n"
     ]
    },
    {
     "name": "stderr",
     "output_type": "stream",
     "text": [
      "psetup failed: .../casadi/interfaces/sundials/idas_interface.cpp:852: Linear solve failed\n",
      "psetup failed: .../casadi/interfaces/sundials/idas_interface.cpp:852: Linear solve failed\n",
      "psetup failed: .../casadi/interfaces/sundials/idas_interface.cpp:852: Linear solve failed\n",
      "psetup failed: .../casadi/interfaces/sundials/idas_interface.cpp:852: Linear solve failed\n",
      "psetup failed: .../casadi/interfaces/sundials/idas_interface.cpp:852: Linear solve failed\n",
      "The residual routine or the linear setup or solve routine had a recoverable error, but IDACalcIC was unable to recover.\n"
     ]
    },
    {
     "ename": "RuntimeError",
     "evalue": ".../casadi/interfaces/sundials/idas_interface.cpp:591: IDACalcIC returned \"IDA_NO_RECOVERY\". Consult IDAS documentation.",
     "output_type": "error",
     "traceback": [
      "\u001b[0;31m---------------------------------------------------------------------------\u001b[0m",
      "\u001b[0;31mRuntimeError\u001b[0m                              Traceback (most recent call last)",
      "\u001b[0;32m<ipython-input-6-1f152c98c30e>\u001b[0m in \u001b[0;36m<module>\u001b[0;34m\u001b[0m\n\u001b[1;32m     22\u001b[0m \u001b[0;34m\u001b[0m\u001b[0m\n\u001b[1;32m     23\u001b[0m \u001b[0;31m# Simulator\u001b[0m\u001b[0;34m\u001b[0m\u001b[0;34m\u001b[0m\u001b[0;34m\u001b[0m\u001b[0m\n\u001b[0;32m---> 24\u001b[0;31m \u001b[0mtsim\u001b[0m\u001b[0;34m,\u001b[0m \u001b[0mprofiles\u001b[0m \u001b[0;34m=\u001b[0m \u001b[0msim\u001b[0m\u001b[0;34m.\u001b[0m\u001b[0msimulate\u001b[0m\u001b[0;34m(\u001b[0m\u001b[0mnumpoints\u001b[0m\u001b[0;34m=\u001b[0m\u001b[0;36m20\u001b[0m\u001b[0;34m,\u001b[0m \u001b[0mintegrator\u001b[0m\u001b[0;34m=\u001b[0m\u001b[0;34m'idas'\u001b[0m\u001b[0;34m,\u001b[0m\u001b[0mintegrator_options\u001b[0m\u001b[0;34m=\u001b[0m\u001b[0mint_ops2\u001b[0m\u001b[0;34m)\u001b[0m\u001b[0;34m\u001b[0m\u001b[0;34m\u001b[0m\u001b[0m\n\u001b[0m",
      "\u001b[0;32m/anaconda3/envs/spring2021/lib/python3.8/site-packages/pyomo/dae/simulator.py\u001b[0m in \u001b[0;36msimulate\u001b[0;34m(self, numpoints, tstep, integrator, varying_inputs, initcon, integrator_options)\u001b[0m\n\u001b[1;32m    905\u001b[0m             \u001b[0;32melse\u001b[0m\u001b[0;34m:\u001b[0m\u001b[0;34m\u001b[0m\u001b[0;34m\u001b[0m\u001b[0m\n\u001b[1;32m    906\u001b[0m                 \u001b[0mtsim\u001b[0m\u001b[0;34m,\u001b[0m \u001b[0mprofile\u001b[0m \u001b[0;34m=\u001b[0m\u001b[0;31m \u001b[0m\u001b[0;31m\\\u001b[0m\u001b[0;34m\u001b[0m\u001b[0;34m\u001b[0m\u001b[0m\n\u001b[0;32m--> 907\u001b[0;31m                     self._simulate_with_casadi_no_inputs(initcon, tsim,\n\u001b[0m\u001b[1;32m    908\u001b[0m                                                          \u001b[0mintegrator\u001b[0m\u001b[0;34m,\u001b[0m\u001b[0;34m\u001b[0m\u001b[0;34m\u001b[0m\u001b[0m\n\u001b[1;32m    909\u001b[0m                                                          integrator_options)\n",
      "\u001b[0;32m/anaconda3/envs/spring2021/lib/python3.8/site-packages/pyomo/dae/simulator.py\u001b[0m in \u001b[0;36m_simulate_with_casadi_no_inputs\u001b[0;34m(self, initcon, tsim, integrator, integrator_options)\u001b[0m\n\u001b[1;32m    967\u001b[0m         \u001b[0mintegrator_options\u001b[0m\u001b[0;34m[\u001b[0m\u001b[0;34m'output_t0'\u001b[0m\u001b[0;34m]\u001b[0m \u001b[0;34m=\u001b[0m \u001b[0;32mTrue\u001b[0m\u001b[0;34m\u001b[0m\u001b[0;34m\u001b[0m\u001b[0m\n\u001b[1;32m    968\u001b[0m         \u001b[0mF\u001b[0m \u001b[0;34m=\u001b[0m \u001b[0mcasadi\u001b[0m\u001b[0;34m.\u001b[0m\u001b[0mintegrator\u001b[0m\u001b[0;34m(\u001b[0m\u001b[0;34m'F'\u001b[0m\u001b[0;34m,\u001b[0m \u001b[0mintegrator\u001b[0m\u001b[0;34m,\u001b[0m \u001b[0mdae\u001b[0m\u001b[0;34m,\u001b[0m \u001b[0mintegrator_options\u001b[0m\u001b[0;34m)\u001b[0m\u001b[0;34m\u001b[0m\u001b[0;34m\u001b[0m\u001b[0m\n\u001b[0;32m--> 969\u001b[0;31m         \u001b[0msol\u001b[0m \u001b[0;34m=\u001b[0m \u001b[0mF\u001b[0m\u001b[0;34m(\u001b[0m\u001b[0mx0\u001b[0m\u001b[0;34m=\u001b[0m\u001b[0minitcon\u001b[0m\u001b[0;34m)\u001b[0m\u001b[0;34m\u001b[0m\u001b[0;34m\u001b[0m\u001b[0m\n\u001b[0m\u001b[1;32m    970\u001b[0m         \u001b[0mprofile\u001b[0m \u001b[0;34m=\u001b[0m \u001b[0msol\u001b[0m\u001b[0;34m[\u001b[0m\u001b[0;34m'xf'\u001b[0m\u001b[0;34m]\u001b[0m\u001b[0;34m.\u001b[0m\u001b[0mfull\u001b[0m\u001b[0;34m(\u001b[0m\u001b[0;34m)\u001b[0m\u001b[0;34m.\u001b[0m\u001b[0mT\u001b[0m\u001b[0;34m\u001b[0m\u001b[0;34m\u001b[0m\u001b[0m\n\u001b[1;32m    971\u001b[0m \u001b[0;34m\u001b[0m\u001b[0m\n",
      "\u001b[0;32m/anaconda3/envs/spring2021/lib/python3.8/site-packages/casadi/casadi.py\u001b[0m in \u001b[0;36m__call__\u001b[0;34m(self, *args, **kwargs)\u001b[0m\n\u001b[1;32m  13451\u001b[0m       \u001b[0;32melse\u001b[0m\u001b[0;34m:\u001b[0m\u001b[0;34m\u001b[0m\u001b[0;34m\u001b[0m\u001b[0m\n\u001b[1;32m  13452\u001b[0m     \u001b[0;31m# Named inputs -> return dictionary\u001b[0m\u001b[0;34m\u001b[0m\u001b[0;34m\u001b[0m\u001b[0;34m\u001b[0m\u001b[0m\n\u001b[0;32m> 13453\u001b[0;31m         \u001b[0;32mreturn\u001b[0m \u001b[0mself\u001b[0m\u001b[0;34m.\u001b[0m\u001b[0mcall\u001b[0m\u001b[0;34m(\u001b[0m\u001b[0mkwargs\u001b[0m\u001b[0;34m)\u001b[0m\u001b[0;34m\u001b[0m\u001b[0;34m\u001b[0m\u001b[0m\n\u001b[0m\u001b[1;32m  13454\u001b[0m \u001b[0;34m\u001b[0m\u001b[0m\n\u001b[1;32m  13455\u001b[0m     \u001b[0;32mdef\u001b[0m \u001b[0mbuffer\u001b[0m\u001b[0;34m(\u001b[0m\u001b[0mself\u001b[0m\u001b[0;34m)\u001b[0m\u001b[0;34m:\u001b[0m\u001b[0;34m\u001b[0m\u001b[0;34m\u001b[0m\u001b[0m\n",
      "\u001b[0;32m/anaconda3/envs/spring2021/lib/python3.8/site-packages/casadi/casadi.py\u001b[0m in \u001b[0;36mcall\u001b[0;34m(self, *args)\u001b[0m\n\u001b[1;32m  12322\u001b[0m \u001b[0;34m\u001b[0m\u001b[0m\n\u001b[1;32m  12323\u001b[0m         \"\"\"\n\u001b[0;32m> 12324\u001b[0;31m         \u001b[0;32mreturn\u001b[0m \u001b[0m_casadi\u001b[0m\u001b[0;34m.\u001b[0m\u001b[0mFunction_call\u001b[0m\u001b[0;34m(\u001b[0m\u001b[0mself\u001b[0m\u001b[0;34m,\u001b[0m \u001b[0;34m*\u001b[0m\u001b[0margs\u001b[0m\u001b[0;34m)\u001b[0m\u001b[0;34m\u001b[0m\u001b[0;34m\u001b[0m\u001b[0m\n\u001b[0m\u001b[1;32m  12325\u001b[0m \u001b[0;34m\u001b[0m\u001b[0m\n\u001b[1;32m  12326\u001b[0m \u001b[0;34m\u001b[0m\u001b[0m\n",
      "\u001b[0;31mRuntimeError\u001b[0m: .../casadi/interfaces/sundials/idas_interface.cpp:591: IDACalcIC returned \"IDA_NO_RECOVERY\". Consult IDAS documentation."
     ]
    }
   ],
   "source": [
    "index1_take_two = create_model_index1()\n",
    "\n",
    "# Specify alternative initial conditions\n",
    "small_number = 0.1\n",
    "\n",
    "index1_take_two.x[0] = small_number\n",
    "index1_take_two.y[0] = np.sqrt(1 - small_number**2)\n",
    "index1_take_two.u[0] = 1\n",
    "index1_take_two.v[0] = -index1_take_two.x[0]()*index1_take_two.u[0]()/index1_take_two.y[0]()\n",
    "index1_take_two.T[0] = (index1_take_two.u[0]()**2 + index1_take_two.v[0]()**2\n",
    "    + index1_take_two.g*index1_take_two.y[0]())\n",
    "\n",
    "# Check initial condition\n",
    "index1_check_constraints(index1_take_two)\n",
    "\n",
    "# Solve DAEs\n",
    "sim = Simulator(index1_take_two, package='casadi')\n",
    "\n",
    "# Specify integrator options\n",
    "int_ops2 = {'print_stats':True,\"abstol\":1E-6,\"reltol\":1E-4,\n",
    "            \"verbose\":False,\"calc_ic\":True}\n",
    "\n",
    "# Simulator\n",
    "tsim, profiles = sim.simulate(numpoints=20, integrator='idas',integrator_options=int_ops2)"
   ]
  },
  {
   "cell_type": "markdown",
   "metadata": {
    "nbpages": {
     "level": 3,
     "link": "[2.4.3.4 Formulation 4: Index-1 DAE Model](https://ndcbe.github.io/CBE60499/02.04-DAE-modeling.html#2.4.3.4-Formulation-4:-Index-1-DAE-Model)",
     "section": "2.4.3.4 Formulation 4: Index-1 DAE Model"
    }
   },
   "source": [
    "### 2.4.3.4 Formulation 4: Index-1 DAE Model\n",
    "\n",
    "$$\\begin{align}\n",
    "\\frac{d x}{dt} &= u \\\\\n",
    "\\frac{d y}{dt} &= v \\\\\n",
    "\\frac{d u}{dt} &= -T x \\\\\n",
    "\\frac{d v}{dt} &= g - Ty \\\\\n",
    "0 &= (u^2 + v^2) - T (x^2 + y^2) + g y\n",
    "\\end{align}$$\n",
    "\n",
    "Consistent initial conditions:\n",
    "1. Specify $x(0)$, $u(0)$, $y(0)$, and $v(0)$.\n",
    "2. Solve for $T(0)$"
   ]
  },
  {
   "cell_type": "code",
   "execution_count": 7,
   "metadata": {
    "nbpages": {
     "level": 3,
     "link": "[2.4.3.4 Formulation 4: Index-1 DAE Model](https://ndcbe.github.io/CBE60499/02.04-DAE-modeling.html#2.4.3.4-Formulation-4:-Index-1-DAE-Model)",
     "section": "2.4.3.4 Formulation 4: Index-1 DAE Model"
    }
   },
   "outputs": [],
   "source": [
    "def create_model_index1_b():\n",
    "\n",
    "    m = ConcreteModel()\n",
    "    \n",
    "    # Declare time\n",
    "    m.t = ContinuousSet(bounds=(0.0, 5))\n",
    "\n",
    "    # Declare parameter - acceleration due to gravity\n",
    "    m.g = Param(initialize=9.81) # m/s^2\n",
    "\n",
    "    # Declare variables indexed over time\n",
    "    m.x = Var(m.t) # horizontal position\n",
    "    m.y = Var(m.t) # vertical position\n",
    "    m.u = Var(m.t) # horizontal velocity\n",
    "    m.v = Var(m.t) # vertical velocity\n",
    "    m.T = Var(m.t) # tension\n",
    "\n",
    "    # Declare derivative variables\n",
    "    m.dx = DerivativeVar(m.x) # with respect to t is implied\n",
    "    m.dy = DerivativeVar(m.y)\n",
    "    m.du = DerivativeVar(m.u)\n",
    "    m.dv = DerivativeVar(m.v)\n",
    "\n",
    "    # Declare differential equations\n",
    "    def _dx_eqn(m, t):\n",
    "        return m.dx[t] == m.u[t]\n",
    "    m.dx_eqn = Constraint(m.t, rule=_dx_eqn)\n",
    "\n",
    "    def _dy_eqn(m, t):\n",
    "        return m.dy[t] == m.v[t]\n",
    "    m.dy_eqn = Constraint(m.t, rule=_dy_eqn)\n",
    "\n",
    "    def _du_eqn(m, t):\n",
    "        return m.du[t] == -m.T[t]*m.x[t]\n",
    "    m.du_eqn = Constraint(m.t, rule=_du_eqn)\n",
    "\n",
    "    def _dv_eqn(m, t):\n",
    "        return m.dv[t] == m.g -m.T[t]*m.y[t]\n",
    "    m.dv_eqn = Constraint(m.t, rule=_dv_eqn)\n",
    "\n",
    "    def _alg_eqn3(m, t):\n",
    "        return m.u[t]**2 + m.v[t]**2 - m.T[t]*(m.x[t]**2 + m.y[t]**2) + m.g*m.y[t] == 0\n",
    "    m.alg_eqn3 = Constraint(m.t, rule=_alg_eqn3)\n",
    "\n",
    "    # Specify initial conditions\n",
    "    m.x[0] = 0\n",
    "    m.y[0] = 1\n",
    "    m.u[0] = 1\n",
    "    m.v[0] = 0\n",
    "    m.T[0] = 1 + m.g\n",
    "    \n",
    "    return m"
   ]
  },
  {
   "cell_type": "code",
   "execution_count": 8,
   "metadata": {
    "nbpages": {
     "level": 3,
     "link": "[2.4.3.4 Formulation 4: Index-1 DAE Model](https://ndcbe.github.io/CBE60499/02.04-DAE-modeling.html#2.4.3.4-Formulation-4:-Index-1-DAE-Model)",
     "section": "2.4.3.4 Formulation 4: Index-1 DAE Model"
    }
   },
   "outputs": [
    {
     "name": "stdout",
     "output_type": "stream",
     "text": [
      "FORWARD INTEGRATION:\n",
      "Number of steps taken by SUNDIALS: 379\n",
      "Number of calls to the user’s f function: 485\n",
      "Number of calls made to the linear solver setup function: 31\n",
      "Number of error test failures: 3\n",
      "Method order used on the last internal step: 5\n",
      "Method order to be used on the next internal step: 5\n",
      "Actual value of initial step size: 7.90569e-09\n",
      "Step size taken on the last internal step: 0.0120795\n",
      "Step size to be attempted on the next internal step: 0.0120795\n",
      "Current internal time reached: 0.0120795\n",
      "Number of nonlinear iterations performed: 483\n",
      "Number of nonlinear convergence failures: 0\n",
      "\n"
     ]
    },
    {
     "data": {
      "image/png": "[encoded data removed]",
      "text/plain": [
       "<Figure size 432x288 with 1 Axes>"
      ]
     },
     "metadata": {
      "needs_background": "light"
     },
     "output_type": "display_data"
    },
    {
     "data": {
      "image/png": "[encoded data removed]",
      "text/plain": [
       "<Figure size 432x288 with 1 Axes>"
      ]
     },
     "metadata": {
      "needs_background": "light"
     },
     "output_type": "display_data"
    }
   ],
   "source": [
    "index1_b = create_model_index1_b()\n",
    "\n",
    "# Specify integrator options\n",
    "int_ops = {'print_stats':True,\"abstol\":1E-8,\"reltol\":1E-6}\n",
    "\n",
    "# Solve DAEs\n",
    "sim = Simulator(index1_b, package='casadi')\n",
    "tsim, profiles = sim.simulate(numpoints=100, integrator='idas',integrator_options=int_ops)\n",
    "\n",
    "# Plot solution\n",
    "plot_results(sim, tsim, profiles)"
   ]
  },
  {
   "cell_type": "markdown",
   "metadata": {
    "nbpages": {
     "level": 2,
     "link": "[2.4.4 Take Away Messages](https://ndcbe.github.io/CBE60499/02.04-DAE-modeling.html#2.4.4-Take-Away-Messages)",
     "section": "2.4.4 Take Away Messages"
    }
   },
   "source": [
    "## 2.4.4 Take Away Messages\n",
    "1. Differential algebriac equations (DAEs) are really powerful modeling tools.\n",
    "2. Integrating DAEs requires special care. Make sure your model is index 1.\n",
    "3. Often there are many ways to reformulate the DAE model. But the numeric integrator only enforces error tolerances on the equations that are explicitly modeled. If an algebriac constraint must be satified to a specific tolerance, include it in the DAE model (as long as it is not high index!)."
   ]
  },
  {
   "cell_type": "code",
   "execution_count": null,
   "metadata": {
    "nbpages": {
     "level": 2,
     "link": "[2.4.4 Take Away Messages](https://ndcbe.github.io/CBE60499/02.04-DAE-modeling.html#2.4.4-Take-Away-Messages)",
     "section": "2.4.4 Take Away Messages"
    }
   },
   "outputs": [],
   "source": []
  },
  {
   "cell_type": "markdown",
   "metadata": {},
   "source": [
    "<!--NAVIGATION-->\n",
    "< [2.3 Logical Modeling and Generalized Disjunctive Programs](https://ndcbe.github.io/CBE60499/02.03-GDP.html) | [Contents](toc.html) | [2.5 Numeric Integration for DAEs](https://ndcbe.github.io/CBE60499/02.05-Numeric-Integration.html) ><p><a href=\"https://colab.research.google.com/github/ndcbe/CBE60499/blob/master/docs/02.04-DAE-modeling.ipynb\"> <img align=\"left\" src=\"https://colab.research.google.com/assets/colab-badge.svg\" alt=\"Open in Colab\" title=\"Open in Google Colaboratory\"></a><p><a href=\"https://ndcbe.github.io/CBE60499/02.04-DAE-modeling.ipynb\"> <img align=\"left\" src=\"https://img.shields.io/badge/Github-Download-blue.svg\" alt=\"Download\" title=\"Download Notebook\"></a>"
   ]
  }
 ],
 "metadata": {
  "kernelspec": {
   "display_name": "Python 3",
   "language": "python",
   "name": "python3"
  },
  "language_info": {
   "codemirror_mode": {
    "name": "ipython",
    "version": 3
   },
   "file_extension": ".py",
   "mimetype": "text/x-python",
   "name": "python",
   "nbconvert_exporter": "python",
   "pygments_lexer": "ipython3",
   "version": "3.8.6"
  }
 },
 "nbformat": 4,
 "nbformat_minor": 2
}
