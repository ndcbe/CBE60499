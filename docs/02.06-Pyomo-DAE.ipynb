{
 "cells": [
  {
   "cell_type": "markdown",
   "metadata": {},
   "source": [
    "<!--NOTEBOOK_HEADER-->\n",
    "*This notebook contains material from [CBE60499](https://ndcbe.github.io/CBE60499);\n",
    "content is available [on Github](git@github.com:ndcbe/CBE60499.git).*\n"
   ]
  },
  {
   "cell_type": "markdown",
   "metadata": {},
   "source": [
    "<!--NAVIGATION-->\n",
    "< [2.5 Numeric Integration for DAEs](https://ndcbe.github.io/CBE60499/02.05-Numeric-Integration.html) | [Contents](toc.html) | [2.7 Stochastic Programming](https://ndcbe.github.io/CBE60499/02.07-SP.html) ><p><a href=\"https://colab.research.google.com/github/ndcbe/CBE60499/blob/master/docs/02.06-Pyomo-DAE.ipynb\"> <img align=\"left\" src=\"https://colab.research.google.com/assets/colab-badge.svg\" alt=\"Open in Colab\" title=\"Open in Google Colaboratory\"></a><p><a href=\"https://ndcbe.github.io/CBE60499/02.06-Pyomo-DAE.ipynb\"> <img align=\"left\" src=\"https://img.shields.io/badge/Github-Download-blue.svg\" alt=\"Download\" title=\"Download Notebook\"></a>"
   ]
  },
  {
   "cell_type": "markdown",
   "metadata": {
    "nbpages": {
     "level": 1,
     "link": "[2.6 Dynamic Optimization with Pyomo.DAE](https://ndcbe.github.io/CBE60499/02.06-Pyomo-DAE.html#2.6-Dynamic-Optimization-with-Pyomo.DAE)",
     "section": "2.6 Dynamic Optimization with Pyomo.DAE"
    }
   },
   "source": [
    "# 2.6 Dynamic Optimization with Pyomo.DAE\n",
    "\n",
    "Adapted from https://github.com/Pyomo/pyomo/blob/master/examples/dae/car_example.py"
   ]
  },
  {
   "cell_type": "code",
   "execution_count": 1,
   "metadata": {
    "nbpages": {
     "level": 1,
     "link": "[2.6 Dynamic Optimization with Pyomo.DAE](https://ndcbe.github.io/CBE60499/02.06-Pyomo-DAE.html#2.6-Dynamic-Optimization-with-Pyomo.DAE)",
     "section": "2.6 Dynamic Optimization with Pyomo.DAE"
    }
   },
   "outputs": [],
   "source": [
    "import sys\n",
    "if \"google.colab\" in sys.modules:\n",
    "    !wget \"https://raw.githubusercontent.com/ndcbe/CBE60499/main/notebooks/helper.py\"\n",
    "    import helper\n",
    "    #!pip install casadi\n",
    "    helper.install_idaes()\n",
    "    helper.install_ipopt()"
   ]
  },
  {
   "cell_type": "markdown",
   "metadata": {
    "nbpages": {
     "level": 2,
     "link": "[2.6.1 Car Example](https://ndcbe.github.io/CBE60499/02.06-Pyomo-DAE.html#2.6.1-Car-Example)",
     "section": "2.6.1 Car Example"
    }
   },
   "source": [
    "## 2.6.1 Car Example\n",
    "\n",
    "You are a race car driver with a simple goal. Drive distance $L$ in the minimal amount of time **but** come to a complete stop at the finish line.\n",
    "\n",
    "### Optimal Control Problem Formulation\n",
    "\n",
    "Mathematically, you want to solve the following optimal control problem:\n",
    "\n",
    "$$\\begin{align*}\n",
    "\\min_{u} \\quad & t_f \\\\\n",
    "\\mathrm{s.t.} \\quad & \\frac{dx}{dt} = v \\\\\n",
    "& \\frac{dv}{dt} = u - R v^2 \\\\\n",
    "& x(t=0) = 0, ~~ x(t=t_f) = L \\\\\n",
    "& v(t=0) = 0, ~~ v(t=t_f) = 0 \\\\\n",
    "& -3 \\leq u \\leq 1\n",
    "\\end{align*}$$\n",
    "\n",
    "where $a$ is the acceleration/braking (your control variable) and $R$ is the drag coefficient (parameter).\n",
    "\n",
    "### Scale Time Scale Time\n",
    "\n",
    "Let $t = \\tau \\cdot t_f$ where $\\tau \\in [0,1]$. Thus $dt = t_f d\\tau$. The optimal control problem becomes:\n",
    "\n",
    "$$\\begin{align*}\n",
    "\\min_{u} \\quad & t_f \\\\\n",
    "\\mathrm{s.t.} \\quad & \\frac{dx}{d\\tau} = t_f v \\\\\n",
    "& \\frac{dv}{d\\tau} = t_f (u - R v^2) \\\\\n",
    "& x(\\tau = 0) = 0, ~~ x(\\tau = 1) = L \\\\\n",
    "& v(\\tau = 0) = 0, ~~ v(\\tau = 1) = 0 \\\\\n",
    "& -3 \\leq u \\leq 1\n",
    "\\end{align*}$$"
   ]
  },
  {
   "cell_type": "markdown",
   "metadata": {
    "nbpages": {
     "level": 3,
     "link": "[2.6.1.1 Orthogonal Collocation on Finite Elements: Manual Approach](https://ndcbe.github.io/CBE60499/02.06-Pyomo-DAE.html#2.6.1.1-Orthogonal-Collocation-on-Finite-Elements:-Manual-Approach)",
     "section": "2.6.1.1 Orthogonal Collocation on Finite Elements: Manual Approach"
    }
   },
   "source": [
    "### 2.6.1.1 Orthogonal Collocation on Finite Elements: Manual Approach\n",
    "\n",
    "**Indices and Sets**\n",
    "* Finite elements: $i \\in \\mathcal{I} = \\{1,2,...,N_{FE}\\}$\n",
    "* Finite elements (except first): $\\mathcal{I} \\setminus 1$\n",
    "* Internal collocation points: $j,k \\in \\mathcal{J} = \\{1,2,...,N_{C}\\}$\n",
    "\n",
    "\n",
    "**Parameters**\n",
    "* Coefficients in collocation/Runge-Kutta formula: $a_{j,j}$\n",
    "* Drag coefficient: $R$\n",
    "* Race length: $L$\n",
    "* Scaled time for each finite element: $h_i = \\frac{1}{N_{FE}}$\n",
    "\n",
    "**Variables**\n",
    "* Position (internal collocation points): $x_{i,j}$\n",
    "* Position (beginning of each finite element): $\\bar{x}_{i}$\n",
    "* Position derivative (internal collocation points): $\\dot{x}_{i,j}$\n",
    "* Velocity (internal collocation points): $v_{i,j}$\n",
    "* Velocity (beginning of each finite element): $\\bar{v}_{i}$\n",
    "* Velocity derivative (internal collocation points): $\\dot{v}_{i,j}$\n",
    "* Time (internal collocation points): $t_{i,j}$\n",
    "* Time (beginning of each finite element): $\\bar{t}_{i}$\n",
    "* Acceleration (control degrees of freedom): $u_i$\n",
    "\n",
    "**Objective and Constraints**\n",
    "\n",
    "$$\\begin{align*}\n",
    "\\min \\quad & t_f \\\\\n",
    "\\mathrm{s.t.} \\quad & \\mathrm{Differential~equation~for~x:} \\\\ \n",
    "& x_{i,j} = \\bar{x}_{i} + h_i \\sum_{k \\in \\mathcal{J}} a_{k,j} \\dot{x}_{i,k},\\quad \\forall i \\in \\mathcal{I},~j \\in \\mathcal{J} \\\\\n",
    "& \\bar{x}_{i} = \\bar{x}_{i-1} + h_{i-1} \\sum_{k \\in \\mathcal{J}} a_{k,N_C} \\dot{x}_{i-1,k},\\quad \\forall i \\in \\mathcal{I} \\setminus 1\\\\\n",
    "& \\dot{x}_{i,j} = t_f v_{i,j}, \\quad \\forall i \\in \\mathcal{I} \\setminus 1,~j \\in \\mathcal{J} \\\\ \\\\\n",
    "& \\mathrm{Differential~equation~for~v:} \\\\ \n",
    "& v_{i,j} = \\bar{v}_{i} + h_i \\sum_{k \\in \\mathcal{J}} a_{k,j} \\dot{v}_{i,k},\\quad \\forall i \\in \\mathcal{I},~j \\in \\mathcal{J} \\\\\n",
    "& \\bar{v}_{i} = \\bar{v}_{i-1} + h_{i-1} \\sum_{k \\in \\mathcal{J}} a_{k,N_C} \\dot{v}_{i-1,k},\\quad \\forall i \\in \\mathcal{I} \\setminus 1\\\\\n",
    "& \\dot{v}_{i,j} = t_f (u_{i} - R v_{i,j}^2), \\quad \\forall i \\in \\mathcal{I} \\setminus 1,~j \\in \\mathcal{J} \\\\ \\\\\n",
    "& \\mathrm{Differential~equation~for~time:} \\\\\n",
    "& t_{i,j} = \\bar{t}_{i} + h_i \\sum_{k \\in \\mathcal{J}} a_{k,j} t_f,\\quad \\forall i \\in \\mathcal{I},~j \\in \\mathcal{J} \\\\\n",
    "& \\bar{t}_{i} = \\bar{t}_{i-1} + h_{i-1} \\sum_{k \\in \\mathcal{J}} a_{k,N_C} t_f,\\quad \\forall i \\in \\mathcal{I} \\setminus 1\\\\ \\\\\n",
    "& \\mathrm{Initial~conditions:} \\\\ \n",
    "& \\bar{x}_{1} = 0, \\quad \\bar{v}_{1} = 0, \\quad \\bar{t}_1 = 0\\\\ \\\\\n",
    "& \\mathrm{Boundary~conditions:} \\\\ \n",
    "& L = \\bar{x}_{N_{FE}} + h_{N_{FE}} \\sum_{k \\in \\mathcal{J}} a_{k,N_C} \\dot{x}_{N_{FE},k}, \\\\\n",
    "& 0 = \\bar{v}_{N_{FE}} + h_{N_{FE}} \\sum_{k \\in \\mathcal{J}} a_{k,N_C} \\dot{v}_{N_{FE},k}, \\\\ \\\\\n",
    "& \\mathrm{Bounds~on~acceleration:} \\\\\n",
    "& -3 \\leq a_i \\leq 1, \\quad \\forall i \\in \\mathcal{I}\n",
    "\\end{align*}$$"
   ]
  },
  {
   "cell_type": "code",
   "execution_count": 2,
   "metadata": {
    "nbpages": {
     "level": 3,
     "link": "[2.6.1.1 Orthogonal Collocation on Finite Elements: Manual Approach](https://ndcbe.github.io/CBE60499/02.06-Pyomo-DAE.html#2.6.1.1-Orthogonal-Collocation-on-Finite-Elements:-Manual-Approach)",
     "section": "2.6.1.1 Orthogonal Collocation on Finite Elements: Manual Approach"
    }
   },
   "outputs": [],
   "source": [
    "from pyomo.environ import *\n",
    "import matplotlib.pyplot as plt\n",
    "from pyomo.dae import *\n",
    "\n",
    "m2 = ConcreteModel()\n",
    "\n",
    "# Define model parameters\n",
    "m2.R = Param(initialize=0.001) #  Friction factor\n",
    "m2.L = Param(initialize=100.0) #  Final position\n",
    "\n",
    "# Define finite elements and collocation points\n",
    "NFE = 15\n",
    "NC = 3\n",
    "m2.I = Set(initialize=RangeSet(1,NFE)) # Finite elements\n",
    "m2.J = Set(initialize=RangeSet(1,NC)) # Internal collocation points\n",
    "\n",
    "# Define first order derivative collocation matrix\n",
    "A = {}\n",
    "A[1,1] = 0.19681547722366\n",
    "A[1,2] = 0.39442431473909\n",
    "A[1,3] = 0.37640306270047\n",
    "A[2,1] = -0.06553542585020\n",
    "A[2,2] = 0.29207341166523\n",
    "A[2,3] = 0.51248582618842\n",
    "A[3,1] = 0.02377097434822\n",
    "A[3,2] = -0.04154875212600\n",
    "A[3,3] = 0.11111111111111\n",
    "\n",
    "m2.a = Param(m2.J, m2.J, initialize=A)\n",
    "\n",
    "# Define step for each finite element\n",
    "m2.h = Param(m2.I,initialize=1/NFE)\n",
    "\n",
    "# Define objective (final time)\n",
    "m2.tf = Var(domain=NonNegativeReals)\n",
    "\n",
    "# Variables for x\n",
    "m2.x0 = Var(m2.I)\n",
    "m2.x = Var(m2.I,m2.J)\n",
    "m2.xdot = Var(m2.I,m2.J)\n",
    "\n",
    "# Variables for v\n",
    "m2.v0 = Var(m2.I)\n",
    "m2.v = Var(m2.I,m2.J)\n",
    "m2.vdot = Var(m2.I,m2.J)\n",
    "\n",
    "# Variables for t\n",
    "m2.t0 = Var(m2.I)\n",
    "m2.t = Var(m2.I,m2.J)\n",
    "\n",
    "# Acceleration\n",
    "m2.u = Var(m2.I, bounds=(-3,1))\n",
    "\n",
    "### Finite Element Collocation Equations\n",
    "# position\n",
    "def FECOLx_(m2,i,j):\n",
    "    return m2.x[i,j] == m2.x0[i] + m2.h[i]*sum(m2.a[k,j]*m2.xdot[i,k] for k in m2.J)\n",
    "m2.FECOLx = Constraint(m2.I,m2.J,rule=FECOLx_)\n",
    "\n",
    "# velocity\n",
    "def FECOLv_(m2,i,j):\n",
    "    return m2.v[i,j] == m2.v0[i] + m2.h[i]*sum(m2.a[k,j]*m2.vdot[i,k] for k in m2.J)\n",
    "m2.FECOLv = Constraint(m2.I,m2.J,rule=FECOLv_)\n",
    "\n",
    "# time\n",
    "def FECOLt_(m2,i,j):\n",
    "    return m2.t[i,j] == m2.t0[i] + m2.h[i]*sum(m2.a[k,j]*m2.tf for k in m2.J)\n",
    "m2.FECOLt = Constraint(m2.I,m2.J,rule=FECOLt_)\n",
    "\n",
    "\n",
    "### Continuity Equations\n",
    "# position\n",
    "def CONx_(m2,i):\n",
    "    if i == 1:\n",
    "        return Constraint.Skip\n",
    "    else:\n",
    "        return m2.x0[i] == m2.x0[i-1] + m2.h[i-1]*sum(m2.a[k,NC]*m2.xdot[i,k] for k in m2.J)\n",
    "m2.CONx = Constraint(m2.I, rule=CONx_)\n",
    "\n",
    "# velocity\n",
    "def CONv_(m2,i):\n",
    "    if i == 1:\n",
    "        return Constraint.Skip\n",
    "    else:\n",
    "        return m2.v0[i] == m2.v0[i-1] + m2.h[i-1]*sum(m2.a[k,NC]*m2.vdot[i,k] for k in m2.J)\n",
    "m2.CONv = Constraint(m2.I, rule=CONv_)\n",
    "\n",
    "# time\n",
    "def CONt_(m2,i):\n",
    "    if i == 1:\n",
    "        return Constraint.Skip\n",
    "    else:\n",
    "        return m2.t0[i] == m2.t0[i-1] + m2.h[i-1]*sum(m2.a[k,NC]*m2.tf for k in m2.J)\n",
    "m2.CONt = Constraint(m2.I, rule=CONt_)\n",
    "\n",
    "### Differential equations\n",
    "# position\n",
    "def ODEx_(m2,i,j):\n",
    "    return m2.xdot[i,j] == m2.tf*m2.v[i,j]\n",
    "m2.ODEx = Constraint(m2.I,m2.J,rule=ODEx_)\n",
    "\n",
    "# velocity\n",
    "def ODEv_(m2,i,j):\n",
    "    return m2.vdot[i,j] == m2.tf*(m2.u[i] - m2.R*m2.v[i,j]**2)\n",
    "m2.ODEv = Constraint(m2.I,m2.J,rule=ODEv_)\n",
    "\n",
    "### Initial conditions\n",
    "m2.xIC = Constraint(expr=m2.x0[1] == 0)\n",
    "m2.vIC = Constraint(expr=m2.v0[1] == 0)\n",
    "m2.tIC = Constraint(expr=m2.t0[1] == 0)\n",
    "\n",
    "### Boundary conditions\n",
    "m2.xBC = Constraint(expr=m2.L == m2.x0[NFE] + m2.h[NFE]*sum(m2.a[k,NC]*m2.xdot[NFE,k] for k in m2.J))\n",
    "m2.vBC = Constraint(expr=0 == m2.v0[NFE] + m2.h[NFE]*sum(m2.a[k,NC]*m2.vdot[NFE,k] for k in m2.J))\n",
    "\n",
    "### Set objective\n",
    "m2.obj = Objective(expr=m2.tf)"
   ]
  },
  {
   "cell_type": "code",
   "execution_count": 3,
   "metadata": {
    "nbpages": {
     "level": 3,
     "link": "[2.6.1.1 Orthogonal Collocation on Finite Elements: Manual Approach](https://ndcbe.github.io/CBE60499/02.06-Pyomo-DAE.html#2.6.1.1-Orthogonal-Collocation-on-Finite-Elements:-Manual-Approach)",
     "section": "2.6.1.1 Orthogonal Collocation on Finite Elements: Manual Approach"
    }
   },
   "outputs": [
    {
     "name": "stdout",
     "output_type": "stream",
     "text": [
      "Ipopt 3.13.2: \n",
      "\n",
      "******************************************************************************\n",
      "This program contains Ipopt, a library for large-scale nonlinear optimization.\n",
      " Ipopt is released as open source code under the Eclipse Public License (EPL).\n",
      "         For more information visit http://projects.coin-or.org/Ipopt\n",
      "******************************************************************************\n",
      "\n",
      "This is Ipopt version 3.13.2, running with linear solver ma27.\n",
      "\n",
      "Number of nonzeros in equality constraint Jacobian...:     1093\n",
      "Number of nonzeros in inequality constraint Jacobian.:        0\n",
      "Number of nonzeros in Lagrangian Hessian.............:      105\n",
      "\n",
      "Total number of variables............................:      286\n",
      "                     variables with only lower bounds:        1\n",
      "                variables with lower and upper bounds:       15\n",
      "                     variables with only upper bounds:        0\n",
      "Total number of equality constraints.................:      272\n",
      "Total number of inequality constraints...............:        0\n",
      "        inequality constraints with only lower bounds:        0\n",
      "   inequality constraints with lower and upper bounds:        0\n",
      "        inequality constraints with only upper bounds:        0\n",
      "\n",
      "iter    objective    inf_pr   inf_du lg(mu)  ||d||  lg(rg) alpha_du alpha_pr  ls\n",
      "   0  9.9999900e-03 1.00e+02 0.00e+00  -1.0 0.00e+00    -  0.00e+00 0.00e+00   0\n",
      "   1r 9.9999900e-03 1.00e+02 9.99e+02   2.0 0.00e+00    -  0.00e+00 1.05e-07R  2\n",
      "   2r 3.0578540e+00 9.99e+01 9.31e+02   2.0 4.49e+01    -  1.35e-01 6.80e-02f  2\n",
      "   3r 2.2146807e+00 9.91e+01 5.68e+02   1.3 2.16e+00    -  1.00e+00 3.91e-01f  1\n",
      "   4r 2.0626784e+00 9.87e+01 4.21e+02   0.6 2.94e+00    -  6.36e-01 2.59e-01f  1\n",
      "   5r 2.7501672e+00 9.77e+01 2.42e+02   0.6 8.74e+00    -  5.56e-01 4.24e-01f  1\n",
      "   6r 5.8696920e+00 9.43e+01 1.91e+02  -0.1 8.62e+00    -  4.13e-01 7.57e-01f  1\n",
      "   7r 8.6536528e+00 8.80e+01 1.65e+02  -0.1 1.29e+01    -  2.98e-01 7.27e-01f  1\n",
      "   8r 9.0137628e+00 8.55e+01 1.09e+02  -0.1 3.77e+00    -  5.42e-01 1.00e+00f  1\n",
      "   9  9.4134225e+00 8.42e+01 9.84e-01  -1.0 1.13e+02    -  3.63e-01 1.56e-02h  7\n",
      "iter    objective    inf_pr   inf_du lg(mu)  ||d||  lg(rg) alpha_du alpha_pr  ls\n",
      "  10  9.7719760e+00 8.29e+01 9.61e-01  -1.0 1.13e+02    -  6.94e-01 1.56e-02h  7\n",
      "  11  1.0069154e+01 8.16e+01 1.10e+00  -1.0 1.20e+02    -  6.26e-01 1.52e-02h  7\n",
      "  12  1.0350049e+01 8.04e+01 1.27e+00  -1.0 1.24e+02    -  1.00e+00 1.56e-02h  7\n",
      "  13  1.0613260e+01 7.91e+01 1.29e+00  -1.0 1.25e+02    -  6.03e-01 1.56e-02h  7\n",
      "  14  1.0858870e+01 7.79e+01 1.31e+00  -1.0 1.25e+02    -  1.00e+00 1.56e-02h  7\n",
      "  15  1.1089714e+01 7.66e+01 1.31e+00  -1.0 1.23e+02    -  7.24e-01 1.56e-02h  7\n",
      "  16  1.1306240e+01 7.55e+01 1.31e+00  -1.0 1.24e+02    -  1.00e+00 1.56e-02h  7\n",
      "  17  1.1714847e+01 7.31e+01 1.28e+00  -1.0 1.22e+02    -  8.51e-01 3.12e-02h  6\n",
      "  18  1.2077191e+01 7.08e+01 1.24e+00  -1.0 1.23e+02    -  1.00e+00 3.12e-02h  6\n",
      "  19  2.2531170e+01 7.10e+01 8.96e-01  -1.0 1.19e+02    -  1.00e+00 1.00e+00w  1\n",
      "iter    objective    inf_pr   inf_du lg(mu)  ||d||  lg(rg) alpha_du alpha_pr  ls\n",
      "  20  1.7706786e+01 4.49e+00 1.75e-01  -1.0 2.28e+01    -  1.00e+00 1.00e+00w  1\n",
      "  21  1.7349863e+01 1.01e-01 7.40e-04  -1.0 8.28e+00    -  1.00e+00 1.00e+00h  1\n",
      "  22  1.6478946e+01 1.06e+00 3.16e-02  -2.5 1.68e+01    -  8.21e-01 1.00e+00h  1\n",
      "  23  1.6333670e+01 1.11e-01 9.02e-04  -2.5 1.27e+01    -  9.80e-01 1.00e+00h  1\n",
      "  24  1.6324255e+01 5.10e-04 4.40e-06  -2.5 6.64e-01    -  1.00e+00 1.00e+00h  1\n",
      "  25  1.6289923e+01 3.05e-03 1.05e-05  -3.8 1.03e+00    -  1.00e+00 1.00e+00h  1\n",
      "  26  1.6289753e+01 1.16e-07 1.47e-09  -3.8 5.97e-03    -  1.00e+00 1.00e+00h  1\n",
      "  27  1.6287822e+01 9.84e-06 3.34e-08  -5.7 5.95e-02    -  1.00e+00 1.00e+00f  1\n",
      "  28  1.6287798e+01 1.59e-09 5.42e-12  -8.6 7.53e-04    -  1.00e+00 1.00e+00h  1\n",
      "\n",
      "Number of Iterations....: 28\n",
      "\n",
      "                                   (scaled)                 (unscaled)\n",
      "Objective...............:   1.6287797665173553e+01    1.6287797665173553e+01\n",
      "Dual infeasibility......:   5.4235099871471539e-12    5.4235099871471539e-12\n",
      "Constraint violation....:   1.5949126463965513e-09    1.5949126463965513e-09\n",
      "Complementarity.........:   2.5440456242856559e-09    2.5440456242856559e-09\n",
      "Overall NLP error.......:   2.5440456242856559e-09    2.5440456242856559e-09\n",
      "\n",
      "\n",
      "Number of objective function evaluations             = 106\n",
      "Number of objective gradient evaluations             = 23\n",
      "Number of equality constraint evaluations            = 106\n",
      "Number of inequality constraint evaluations          = 0\n",
      "Number of equality constraint Jacobian evaluations   = 30\n",
      "Number of inequality constraint Jacobian evaluations = 0\n",
      "Number of Lagrangian Hessian evaluations             = 28\n",
      "Total CPU secs in IPOPT (w/o function evaluations)   =      0.014\n",
      "Total CPU secs in NLP function evaluations           =      0.001\n",
      "\n",
      "EXIT: Optimal Solution Found.\n",
      "final time =  16.29\n"
     ]
    }
   ],
   "source": [
    "solver = SolverFactory('ipopt')\n",
    "solver.solve(m2,tee=True)\n",
    "\n",
    "print(\"final time = %6.2f\" %(value(m2.tf)))"
   ]
  },
  {
   "cell_type": "markdown",
   "metadata": {
    "nbpages": {
     "level": 3,
     "link": "[2.6.1.2 Orthogonal Collocation on Finite Elements: Pyomo.dae](https://ndcbe.github.io/CBE60499/02.06-Pyomo-DAE.html#2.6.1.2-Orthogonal-Collocation-on-Finite-Elements:-Pyomo.dae)",
     "section": "2.6.1.2 Orthogonal Collocation on Finite Elements: Pyomo.dae"
    }
   },
   "source": [
    "### 2.6.1.2 Orthogonal Collocation on Finite Elements: Pyomo.dae\n",
    "\n",
    "#### Declare Model"
   ]
  },
  {
   "cell_type": "code",
   "execution_count": 4,
   "metadata": {
    "nbpages": {
     "level": 3,
     "link": "[2.6.1.2 Orthogonal Collocation on Finite Elements: Pyomo.dae](https://ndcbe.github.io/CBE60499/02.06-Pyomo-DAE.html#2.6.1.2-Orthogonal-Collocation-on-Finite-Elements:-Pyomo.dae)",
     "section": "2.6.1.2 Orthogonal Collocation on Finite Elements: Pyomo.dae"
    }
   },
   "outputs": [],
   "source": [
    "m = ConcreteModel()\n",
    "\n",
    "m.R = Param(initialize=0.001) #  Friction factor\n",
    "m.L = Param(initialize=100.0) #  Final position\n",
    "\n",
    "m.tau = ContinuousSet(bounds=(0,1)) # Unscaled time\n",
    "m.time = Var(m.tau) # Scaled time\n",
    "m.tf = Var()\n",
    "m.x = Var(m.tau,bounds=(0,m.L+50))\n",
    "m.v = Var(m.tau,bounds=(0,None))\n",
    "m.u = Var(m.tau, bounds=(-3.0,1.0),initialize=0)\n",
    "\n",
    "m.dtime = DerivativeVar(m.time)\n",
    "m.dx = DerivativeVar(m.x)\n",
    "m.dv = DerivativeVar(m.v)\n",
    "\n",
    "m.obj = Objective(expr=m.tf)\n",
    "\n",
    "def _ode1(m,i):\n",
    "    if i == 0 :\n",
    "        return Constraint.Skip\n",
    "    return m.dx[i] == m.tf * m.v[i]\n",
    "m.ode1 = Constraint(m.tau, rule=_ode1)\n",
    "\n",
    "def _ode2(m,i):\n",
    "    if i == 0 :\n",
    "        return Constraint.Skip\n",
    "    return m.dv[i] == m.tf*(m.u[i] - m.R*m.v[i]**2)\n",
    "m.ode2 = Constraint(m.tau, rule=_ode2)\n",
    "\n",
    "def _ode3(m,i):\n",
    "    if i == 0:\n",
    "        return Constraint.Skip\n",
    "    return m.dtime[i] == m.tf\n",
    "m.ode3 = Constraint(m.tau, rule=_ode3)\n",
    "\n",
    "def _init(m):\n",
    "    yield m.x[0] == 0\n",
    "    yield m.x[1] == m.L\n",
    "    yield m.v[0] == 0\n",
    "    yield m.v[1] == 0\n",
    "    yield m.time[0] == 0\n",
    "m.initcon = ConstraintList(rule=_init)"
   ]
  },
  {
   "cell_type": "markdown",
   "metadata": {
    "nbpages": {
     "level": 4,
     "link": "[2.6.1.2.1 Discretize/Transcribe and Solve](https://ndcbe.github.io/CBE60499/02.06-Pyomo-DAE.html#2.6.1.2.1-Discretize/Transcribe-and-Solve)",
     "section": "2.6.1.2.1 Discretize/Transcribe and Solve"
    }
   },
   "source": [
    "#### 2.6.1.2.1 Discretize/Transcribe and Solve"
   ]
  },
  {
   "cell_type": "code",
   "execution_count": 5,
   "metadata": {
    "nbpages": {
     "level": 4,
     "link": "[2.6.1.2.1 Discretize/Transcribe and Solve](https://ndcbe.github.io/CBE60499/02.06-Pyomo-DAE.html#2.6.1.2.1-Discretize/Transcribe-and-Solve)",
     "section": "2.6.1.2.1 Discretize/Transcribe and Solve"
    }
   },
   "outputs": [
    {
     "name": "stdout",
     "output_type": "stream",
     "text": [
      "Ipopt 3.13.2: \n",
      "\n",
      "******************************************************************************\n",
      "This program contains Ipopt, a library for large-scale nonlinear optimization.\n",
      " Ipopt is released as open source code under the Eclipse Public License (EPL).\n",
      "         For more information visit http://projects.coin-or.org/Ipopt\n",
      "******************************************************************************\n",
      "\n",
      "This is Ipopt version 3.13.2, running with linear solver ma27.\n",
      "\n",
      "Number of nonzeros in equality constraint Jacobian...:     1145\n",
      "Number of nonzeros in inequality constraint Jacobian.:        0\n",
      "Number of nonzeros in Lagrangian Hessian.............:      135\n",
      "\n",
      "Total number of variables............................:      319\n",
      "                     variables with only lower bounds:       46\n",
      "                variables with lower and upper bounds:       91\n",
      "                     variables with only upper bounds:        0\n",
      "Total number of equality constraints.................:      305\n",
      "Total number of inequality constraints...............:        0\n",
      "        inequality constraints with only lower bounds:        0\n",
      "   inequality constraints with lower and upper bounds:        0\n",
      "        inequality constraints with only upper bounds:        0\n",
      "\n",
      "iter    objective    inf_pr   inf_du lg(mu)  ||d||  lg(rg) alpha_du alpha_pr  ls\n",
      "   0  0.0000000e+00 1.00e+02 1.00e+00  -1.0 0.00e+00    -  0.00e+00 0.00e+00   0\n",
      "   1  3.6882930e+01 9.96e+01 6.45e+02  -1.0 1.00e+04    -  9.91e-05 3.69e-03h  9\n",
      "   2  3.9470634e+01 1.07e+01 1.19e+03  -1.0 1.53e+02   0.0 2.42e-03 9.90e-01f  1\n",
      "   3  3.8532247e+01 2.51e-01 2.03e+02  -1.0 2.54e+00  -0.5 9.65e-01 9.90e-01h  1\n",
      "   4  3.8410228e+01 7.80e-04 3.81e-01  -1.0 1.22e-01  -1.0 1.00e+00 1.00e+00h  1\n",
      "   5  1.1753203e+01 1.06e+02 6.26e+03  -2.5 2.54e+03    -  6.71e-02 1.02e-01f  1\n",
      "   6  1.4082983e+01 7.02e+01 4.81e+04  -2.5 1.08e+02    -  7.78e-02 3.38e-01h  1\n",
      "   7  1.5801574e+01 3.64e+01 8.78e+04  -2.5 8.55e+01    -  8.81e-02 4.94e-01h  1\n",
      "   8  1.6404903e+01 1.44e+01 8.17e+04  -2.5 7.55e+01    -  2.84e-01 6.29e-01h  1\n",
      "   9  1.6434448e+01 6.13e+00 2.33e+04  -2.5 4.53e+01    -  6.87e-01 5.78e-01h  1\n",
      "iter    objective    inf_pr   inf_du lg(mu)  ||d||  lg(rg) alpha_du alpha_pr  ls\n",
      "  10  1.6664583e+01 1.13e-01 2.73e+03  -2.5 7.97e+00    -  9.14e-01 1.00e+00h  1\n",
      "  11  1.6635032e+01 8.41e-03 1.02e-05  -2.5 4.85e+00    -  1.00e+00 1.00e+00h  1\n",
      "  12  1.6528482e+01 1.77e-02 3.21e-04  -3.8 1.54e+00    -  1.00e+00 1.00e+00h  1\n",
      "  13  1.6526502e+01 7.15e-06 5.43e-08  -3.8 2.76e-02    -  1.00e+00 1.00e+00h  1\n",
      "  14  1.6520275e+01 6.32e-05 1.05e-06  -5.7 9.58e-02    -  1.00e+00 1.00e+00h  1\n",
      "  15  1.6520269e+01 7.57e-11 1.88e-11  -5.7 1.33e-04    -  1.00e+00 1.00e+00h  1\n",
      "  16  1.6520192e+01 9.76e-09 1.62e-10  -8.6 1.19e-03    -  1.00e+00 1.00e+00f  1\n",
      "\n",
      "Number of Iterations....: 16\n",
      "\n",
      "                                   (scaled)                 (unscaled)\n",
      "Objective...............:   1.6520191521080921e+01    1.6520191521080921e+01\n",
      "Dual infeasibility......:   1.6218795328535750e-10    1.6218795328535750e-10\n",
      "Constraint violation....:   9.7603845006233314e-09    9.7603845006233314e-09\n",
      "Complementarity.........:   2.5852537039546602e-09    2.5852537039546602e-09\n",
      "Overall NLP error.......:   9.7603845006233314e-09    9.7603845006233314e-09\n",
      "\n",
      "\n",
      "Number of objective function evaluations             = 27\n",
      "Number of objective gradient evaluations             = 17\n",
      "Number of equality constraint evaluations            = 27\n",
      "Number of inequality constraint evaluations          = 0\n",
      "Number of equality constraint Jacobian evaluations   = 17\n",
      "Number of inequality constraint Jacobian evaluations = 0\n",
      "Number of Lagrangian Hessian evaluations             = 16\n",
      "Total CPU secs in IPOPT (w/o function evaluations)   =      0.009\n",
      "Total CPU secs in NLP function evaluations           =      0.001\n",
      "\n",
      "EXIT: Optimal Solution Found.\n",
      "final time =  16.52\n"
     ]
    }
   ],
   "source": [
    "#discretizer = TransformationFactory('dae.finite_difference')\n",
    "#discretizer.apply_to(m,nfe=15,scheme='BACKWARD')\n",
    "\n",
    "discretizer = TransformationFactory('dae.collocation')\n",
    "discretizer.apply_to(m,nfe=15,scheme='LAGRANGE-RADAU',ncp=3)\n",
    "#discretizer.apply_to(m,nfe=15,scheme='LAGRANGE-LEGENDRE',ncp=3)\n",
    "\n",
    "# force piecewise constant controls (acceleration) over each finite element\n",
    "m = discretizer.reduce_collocation_points(m,var=m.u,ncp=1,contset=m.tau)\n",
    "\n",
    "solver = SolverFactory('ipopt')\n",
    "solver.solve(m,tee=True)\n",
    "\n",
    "print(\"final time = %6.2f\" %(value(m.tf)))"
   ]
  },
  {
   "cell_type": "markdown",
   "metadata": {
    "nbpages": {
     "level": 4,
     "link": "[2.6.1.2.2 Plot Results](https://ndcbe.github.io/CBE60499/02.06-Pyomo-DAE.html#2.6.1.2.2-Plot-Results)",
     "section": "2.6.1.2.2 Plot Results"
    }
   },
   "source": [
    "#### 2.6.1.2.2 Plot Results"
   ]
  },
  {
   "cell_type": "code",
   "execution_count": 6,
   "metadata": {
    "nbpages": {
     "level": 4,
     "link": "[2.6.1.2.2 Plot Results](https://ndcbe.github.io/CBE60499/02.06-Pyomo-DAE.html#2.6.1.2.2-Plot-Results)",
     "section": "2.6.1.2.2 Plot Results"
    }
   },
   "outputs": [
    {
     "data": {
      "image/png": "[encoded data removed]",
      "text/plain": [
       "<Figure size 432x288 with 3 Axes>"
      ]
     },
     "metadata": {
      "needs_background": "light"
     },
     "output_type": "display_data"
    }
   ],
   "source": [
    "x = []\n",
    "v = []\n",
    "u = []\n",
    "time=[]\n",
    "\n",
    "for i in m.tau:\n",
    "    time.append(value(m.time[i]))\n",
    "    x.append(value(m.x[i]))\n",
    "    v.append(value(m.v[i]))\n",
    "    u.append(value(m.u[i]))\n",
    "    \n",
    "plt.subplot(131)\n",
    "plt.plot(time,x,label='x')\n",
    "plt.title('location')\n",
    "plt.xlabel('time')\n",
    "\n",
    "plt.subplot(132)\n",
    "plt.plot(time,v,label='v')\n",
    "plt.xlabel('time')\n",
    "plt.title('velocity')\n",
    "\n",
    "plt.subplot(133)\n",
    "plt.plot(time,u,label='a')\n",
    "plt.xlabel('time')\n",
    "plt.title('acceleration')\n",
    "\n",
    "plt.show()"
   ]
  },
  {
   "cell_type": "code",
   "execution_count": null,
   "metadata": {
    "nbpages": {
     "level": 4,
     "link": "[2.6.1.2.2 Plot Results](https://ndcbe.github.io/CBE60499/02.06-Pyomo-DAE.html#2.6.1.2.2-Plot-Results)",
     "section": "2.6.1.2.2 Plot Results"
    }
   },
   "outputs": [],
   "source": []
  },
  {
   "cell_type": "markdown",
   "metadata": {},
   "source": [
    "<!--NAVIGATION-->\n",
    "< [2.5 Numeric Integration for DAEs](https://ndcbe.github.io/CBE60499/02.05-Numeric-Integration.html) | [Contents](toc.html) | [2.7 Stochastic Programming](https://ndcbe.github.io/CBE60499/02.07-SP.html) ><p><a href=\"https://colab.research.google.com/github/ndcbe/CBE60499/blob/master/docs/02.06-Pyomo-DAE.ipynb\"> <img align=\"left\" src=\"https://colab.research.google.com/assets/colab-badge.svg\" alt=\"Open in Colab\" title=\"Open in Google Colaboratory\"></a><p><a href=\"https://ndcbe.github.io/CBE60499/02.06-Pyomo-DAE.ipynb\"> <img align=\"left\" src=\"https://img.shields.io/badge/Github-Download-blue.svg\" alt=\"Download\" title=\"Download Notebook\"></a>"
   ]
  }
 ],
 "metadata": {
  "kernelspec": {
   "display_name": "Python 3",
   "language": "python",
   "name": "python3"
  },
  "language_info": {
   "codemirror_mode": {
    "name": "ipython",
    "version": 3
   },
   "file_extension": ".py",
   "mimetype": "text/x-python",
   "name": "python",
   "nbconvert_exporter": "python",
   "pygments_lexer": "ipython3",
   "version": "3.8.6"
  }
 },
 "nbformat": 4,
 "nbformat_minor": 2
}
