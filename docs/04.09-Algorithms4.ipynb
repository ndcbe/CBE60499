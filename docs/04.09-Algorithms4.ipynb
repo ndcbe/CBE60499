{
 "cells": [
  {
   "cell_type": "markdown",
   "id": "648ea9f4",
   "metadata": {},
   "source": [
    "<!--NOTEBOOK_HEADER-->\n",
    "*This notebook contains material from [CBE60499](https://ndcbe.github.io/CBE60499);\n",
    "content is available [on Github](git@github.com:ndcbe/CBE60499.git).*\n"
   ]
  },
  {
   "cell_type": "markdown",
   "id": "03d22611",
   "metadata": {},
   "source": [
    "<!--NAVIGATION-->\n",
    "< [4.8 Inertia-Corrected Netwon Method for Equality Constrained NLPs](https://ndcbe.github.io/CBE60499/04.08-Interior-Point2.html) | [Contents](toc.html) | [Tag Index](tag_index.html) | [5.0 Special Topics](https://ndcbe.github.io/CBE60499/05.00-Special-Topics.html) ><p><a href=\"https://colab.research.google.com/github/ndcbe/CBE60499/blob/master/docs/04.09-Algorithms4.ipynb\"> <img align=\"left\" src=\"https://colab.research.google.com/assets/colab-badge.svg\" alt=\"Open in Colab\" title=\"Open in Google Colaboratory\"></a><p><a href=\"https://ndcbe.github.io/CBE60499/04.09-Algorithms4.ipynb\"> <img align=\"left\" src=\"https://img.shields.io/badge/Github-Download-blue.svg\" alt=\"Download\" title=\"Download Notebook\"></a>"
   ]
  },
  {
   "cell_type": "markdown",
   "id": "f3e9a52a",
   "metadata": {
    "nbpages": {
     "level": 1,
     "link": "[4.9 Algorithms Homework 4: Interior Point Methods](https://ndcbe.github.io/CBE60499/04.09-Algorithms4.html#4.9-Algorithms-Homework-4:-Interior-Point-Methods)",
     "section": "4.9 Algorithms Homework 4: Interior Point Methods"
    }
   },
   "source": [
    "# 4.9 Algorithms Homework 4: Interior Point Methods"
   ]
  },
  {
   "cell_type": "markdown",
   "id": "ba74c034",
   "metadata": {
    "nbpages": {
     "level": 2,
     "link": "[4.9.1 Tips and Tricks](https://ndcbe.github.io/CBE60499/04.09-Algorithms4.html#4.9.1-Tips-and-Tricks)",
     "section": "4.9.1 Tips and Tricks"
    }
   },
   "source": [
    "## 4.9.1 Tips and Tricks"
   ]
  },
  {
   "cell_type": "markdown",
   "id": "a8715f98",
   "metadata": {
    "nbpages": {
     "level": 3,
     "link": "[4.9.1.1 Background](https://ndcbe.github.io/CBE60499/04.09-Algorithms4.html#4.9.1.1-Background)",
     "section": "4.9.1.1 Background"
    }
   },
   "source": [
    "### 4.9.1.1 Background"
   ]
  },
  {
   "cell_type": "markdown",
   "id": "4844e9f9",
   "metadata": {
    "nbpages": {
     "level": 3,
     "link": "[4.9.1.1 Background](https://ndcbe.github.io/CBE60499/04.09-Algorithms4.html#4.9.1.1-Background)",
     "section": "4.9.1.1 Background"
    }
   },
   "source": [
    "![fig6_56](./figures/eq_6_56.png)\n",
    "\n",
    "![fig6_57](./figures/eq_6_57.png)\n",
    "\n",
    "![fig6_58](./figures/eq_6_58.png)\n",
    "\n",
    "![fig6_59](./figures/eq_6_59.png)"
   ]
  },
  {
   "cell_type": "markdown",
   "id": "11a91e88",
   "metadata": {
    "nbpages": {
     "level": 3,
     "link": "[4.9.1.2 Problem Formulation](https://ndcbe.github.io/CBE60499/04.09-Algorithms4.html#4.9.1.2-Problem-Formulation)",
     "section": "4.9.1.2 Problem Formulation"
    }
   },
   "source": [
    "### 4.9.1.2 Problem Formulation"
   ]
  },
  {
   "cell_type": "markdown",
   "id": "164bb509",
   "metadata": {
    "nbpages": {
     "level": 3,
     "link": "[4.9.1.2 Problem Formulation](https://ndcbe.github.io/CBE60499/04.09-Algorithms4.html#4.9.1.2-Problem-Formulation)",
     "section": "4.9.1.2 Problem Formulation"
    }
   },
   "source": [
    "Consider the following nonlinear program:\n",
    "\n",
    "$$\n",
    "\\begin{align}\n",
    "\t\\min_{x} \\quad & f(x) \\\\\n",
    "\t\\mathrm{s.t.} \\quad & c(x) = 0 \\\\\n",
    "\t& x_i \\geq 0, \\quad i \\in \\mathcal{I}\n",
    "\\end{align}\n",
    "$$\n",
    "\n",
    "where $x \\in \\mathbb{R}^{n}$, $f(x): \\mathbb{R}^{n} \\rightarrow \\mathbb{R}$, $c(x): \\mathbb{R}^{n} \\rightarrow \\mathbb{R}^{m}$ and $|\\mathcal{I} |$ = $r$ (i.e., there are $r$ variables with a lower bound and $r \\leq n$). This is an extension of (6.48) in Biegler (2010).\n",
    "\n",
    "This has the corresponding log-barrier approximation:\n",
    "\n",
    "$$\n",
    "\\begin{align}\n",
    "\t\\min_{x} \\quad & \\phi_{\\mu_l}(x) := f(x) - \\mu_l \\sum_{i \\in \\mathcal{I}} \\log(x_i) \\\\\n",
    "\t\\mathrm{s.t.} \\quad & c(x) = 0\n",
    "\\end{align}\n",
    "$$\n",
    "\n",
    "which is an extension of (6.49) in Biegler (2010).\n",
    "\n",
    "Let the $n \\times r$ matrix $G$ encode which variables are bounded. If variable $i$ corresponds to the $j$th bound, then $G_{i,j} = 1$ and otherwise $G_{i,j} = 0$. $G$ is assembled as follows:\n",
    "\n",
    "![ip_bounds_G](./figures/ip_bounds_G.png)\n",
    "\n",
    "Notice that $G$ is the gradient of $x \\geq 0$. $G^T G = I$ but the converse does not hold unless $r = n$."
   ]
  },
  {
   "cell_type": "markdown",
   "id": "c2fed8b8",
   "metadata": {
    "nbpages": {
     "level": 3,
     "link": "[4.9.1.3 Reformulation Example](https://ndcbe.github.io/CBE60499/04.09-Algorithms4.html#4.9.1.3-Reformulation-Example)",
     "section": "4.9.1.3 Reformulation Example"
    }
   },
   "source": [
    "### 4.9.1.3 Reformulation Example"
   ]
  },
  {
   "cell_type": "markdown",
   "id": "fae61884",
   "metadata": {
    "nbpages": {
     "level": 3,
     "link": "[4.9.1.3 Reformulation Example](https://ndcbe.github.io/CBE60499/04.09-Algorithms4.html#4.9.1.3-Reformulation-Example)",
     "section": "4.9.1.3 Reformulation Example"
    }
   },
   "source": [
    "Start with:\n",
    "\n",
    "$$\n",
    "\t\\begin{align}\n",
    "\t\t\\min_{x} \\quad & x_1^2 + x_2 \\\\\n",
    "\t\t\\mathrm{s.t.} \\quad & x_1 + x_2 = 1 \\\\\n",
    "\t\t& x_1 + 1 \\geq 0\n",
    "\t\\end{align}\n",
    "$$\n",
    "\n",
    "Add slack variable $x_3$ and convert the inequality constraint to an equality constraint and bound:\n",
    "\n",
    "$$\n",
    "\t\\begin{align}\n",
    "\t\t\\min_{x} \\quad & x_1^2 + x_2 \\\\\n",
    "\t\t\\mathrm{s.t.} \\quad & x_1 + x_2 = 1 \\\\\n",
    "\t\t& x_1 + 1 - x_3 = 0 \\\\\n",
    "\t\t& x_3 \\geq 0\n",
    "\t\\end{align}\n",
    "$$\n",
    "\n",
    "Now assemble $G$:\n",
    "\n",
    "$$\n",
    "\tG = \\begin{bmatrix}\n",
    "\t\t0 \\\\\n",
    "\t\t0 \\\\\n",
    "\t\t1\n",
    "\t\\end{bmatrix}\n",
    "$$"
   ]
  },
  {
   "cell_type": "markdown",
   "id": "00e568fa",
   "metadata": {
    "nbpages": {
     "level": 3,
     "link": "[4.9.1.4 Primal Dual Optimality Conditions](https://ndcbe.github.io/CBE60499/04.09-Algorithms4.html#4.9.1.4-Primal-Dual-Optimality-Conditions)",
     "section": "4.9.1.4 Primal Dual Optimality Conditions"
    }
   },
   "source": [
    "### 4.9.1.4 Primal Dual Optimality Conditions"
   ]
  },
  {
   "cell_type": "markdown",
   "id": "b923aa13",
   "metadata": {
    "nbpages": {
     "level": 3,
     "link": "[4.9.1.4 Primal Dual Optimality Conditions](https://ndcbe.github.io/CBE60499/04.09-Algorithms4.html#4.9.1.4-Primal-Dual-Optimality-Conditions)",
     "section": "4.9.1.4 Primal Dual Optimality Conditions"
    }
   },
   "source": [
    "$$\n",
    "\\newcommand{\\dims}[3]{\\underbrace{#1}_{#2 \\times #3}}\n",
    "\\newcommand{\\I}[0]{\\mathcal{I}}\n",
    "\\newcommand{\\dfx}[0]{\\dims{\\nabla f(x^k)}{n}{1}}\n",
    "\\newcommand{\\cx}[0]{\\dims{c(x^k)}{m}{1}}\n",
    "\\newcommand{\\dcx}[0]{\\dims{\\nabla c(x^k)}{n}{m}}\n",
    "\\newcommand{\\dcxT}[0]{\\dims{\\nabla_x c(x^k)^T}{m}{n}}\n",
    "\\newcommand{\\W}[0]{\\dims{W^k}{n}{n}}\n",
    "\\newcommand{\\G}[0]{\\dims{G}{n}{r}}\n",
    "\\newcommand{\\GT}[0]{\\dims{G^T}{r}{n}}\n",
    "\\newcommand{\\vk}[0]{\\dims{v^k}{m}{1}}\n",
    "\\newcommand{\\Xinv}[0]{\\dims{(\\hat{X}^k)^{-1}}{r}{r}}\n",
    "\\newcommand{\\X}[0]{\\dims{\\hat{X}^k}{r}{r}}\n",
    "\\newcommand{\\e}[0]{\\dims{e}{r}{1}}\n",
    "\\newcommand{\\uk}[0]{\\dims{u^k}{r}{1}}\n",
    "\\newcommand{\\dx}[0]{\\dims{d_x^k}{n}{1}}\n",
    "\\newcommand{\\dv}[0]{\\dims{d_v^k}{m}{1}}\n",
    "\\newcommand{\\du}[0]{\\dims{d_u^k}{r}{1}}\n",
    "\\newcommand{\\Uk}[0]{\\dims{U^k}{r}{r}}\n",
    "\\newcommand{\\Sk}[0]{\\dims{\\Sigma^k}{n}{n}}\n",
    "\\newcommand{\\dphi}[0]{\\dims{\\nabla \\phi_{\\mu_l}}{n}{1}}\n",
    "$$\n",
    "\n",
    "Next we extend (6.51) in Biegler (2010):\n",
    "    \n",
    "$$\n",
    "\\begin{gather}\n",
    "\t\\dfx ~+~ \\dcx \\vk ~-~ \\G \\uk = \\dims{0}{n}{1} \\\\\n",
    "\t\\X \\uk = \\mu \\e \\\\\n",
    "\t\\cx = \\dims{0}{m}{1}\n",
    "\\end{gather}\n",
    "$$\n",
    "\n",
    "We now extend (6.56) in Biegler (2010):\n",
    "\n",
    "$$\n",
    "\t\\begin{bmatrix}\n",
    "\t\t\\W & \\dcx & \\G \\\\\n",
    "\t\t\\dcxT & \\dims{0}{m}{m} & \\dims{0}{m}{r} \\\\\n",
    "\t\t\\Uk \\GT & \\dims{0}{r}{m} & \\X\n",
    "\t\\end{bmatrix} \n",
    "\t\\begin{bmatrix}\n",
    "\t\t\\dx \\\\\n",
    "\t\t\\dv \\\\\n",
    "\t\t\\du\n",
    "\t\\end{bmatrix} = -\n",
    "\t\\begin{bmatrix}\n",
    "\t\\dfx ~+~ \\dcx \\vk ~-~ \\G \\uk \\\\\n",
    "\t\\cx \\\\\n",
    "\t\\X \\uk ~-~ \\mu_l \\e\n",
    "\t\\end{bmatrix}\n",
    "$$\n",
    "\n",
    "where $U^k = \\mathrm{diag}\\{u^k\\}$ and $W^k = \\nabla_{xx} L(x^k,v^k)$. Notice that $W^k$ does NOT include a contribution from the barrier term:\n",
    "\n",
    "$$\n",
    "\\begin{equation}\n",
    "\t\\W = \\dims{\\nabla^2 f(x^k)}{n}{n} + \\sum_{j=1}^{m} \\left( \\dims{\\nabla^2 c_{j}(x^k)}{n}{n} \\underbrace{v^k_{j}}_{\\mathrm{scalar}} \\right)\n",
    "\\end{equation}\n",
    "$$\n",
    "\n",
    "We can verify that $W^k$ does not include $\\hat{X}$ by showing that the KKT system above is a Newton step to solve the nonlinear system for the primal dual conditions.\n",
    "\n",
    "\n",
    "The Newton step can be simplified, similar to (6.57) and (6.58) in Biegler (2010):\n",
    "\n",
    "$$\n",
    "\\begin{equation}\n",
    "\t\\begin{bmatrix}\n",
    "\t\t\\W + \\Sk & \\dcx \\\\\n",
    "\t\t\\dcxT & 0\n",
    "\t\\end{bmatrix} \n",
    "\t\\begin{bmatrix}\n",
    "\t\t\\dx \\\\\n",
    "\t\t\\dv\n",
    "\t\\end{bmatrix} = -\n",
    "\t\\begin{bmatrix}\n",
    "\t\\dphi ~+~ \\dcx \\vk \\\\\n",
    "\t\\cx\n",
    "\t\\end{bmatrix}\n",
    "\\end{equation}\n",
    "$$\n",
    "\n",
    "and\n",
    "\n",
    "$$\n",
    "\\begin{equation} \\label{eq:du}\n",
    "\t\\du = \\mu_l \\Xinv \\e ~-~ \\uk ~-~ \\GT \\Sk \\dx\n",
    "\\end{equation}\n",
    "$$\n",
    "\n",
    "where\n",
    "$$\n",
    "\\begin{equation} \\label{eq:Sk}\n",
    "\t\\Sk = \\G \\Xinv \\Uk \\GT\n",
    "\\end{equation}\n",
    "$$\n",
    "\n",
    "and \n",
    "\n",
    "$$\n",
    "\\begin{equation}\n",
    "\t\\dphi = \\dfx - \\mu_l \\G \\Xinv \\dims{e}{r}{1}\n",
    "\\end{equation}\n",
    "$$\n",
    "\n",
    "Notice that the equation for $\\du$ simplifies by substituting $G^T G = I$:\n",
    "\n",
    "$$\n",
    "\t\\du = \\mu_l \\Xinv \\e ~-~ \\uk ~-~ \\Xinv \\Uk \\GT \\dx\n",
    "$$\n",
    "\n",
    "Finally, inertia correction can be applied to simplified KKT step similar to (6.59) in Biegler (2010).  "
   ]
  },
  {
   "cell_type": "markdown",
   "id": "1ca1ed21",
   "metadata": {
    "nbpages": {
     "level": 2,
     "link": "[4.9.2 Basic Interior Point Method for Inequality and Equality Constraint NLPs](https://ndcbe.github.io/CBE60499/04.09-Algorithms4.html#4.9.2-Basic-Interior-Point-Method-for-Inequality-and-Equality-Constraint-NLPs)",
     "section": "4.9.2 Basic Interior Point Method for Inequality and Equality Constraint NLPs"
    }
   },
   "source": [
    "## 4.9.2 Basic Interior Point Method for Inequality and Equality Constraint NLPs"
   ]
  },
  {
   "cell_type": "markdown",
   "id": "3fd841f9",
   "metadata": {
    "nbpages": {
     "level": 2,
     "link": "[4.9.2 Basic Interior Point Method for Inequality and Equality Constraint NLPs](https://ndcbe.github.io/CBE60499/04.09-Algorithms4.html#4.9.2-Basic-Interior-Point-Method-for-Inequality-and-Equality-Constraint-NLPs)",
     "section": "4.9.2 Basic Interior Point Method for Inequality and Equality Constraint NLPs"
    }
   },
   "source": [
    "Implement a basic interior point method for inequality and equality constrained nonlinear programs. See pg. 154 – 155 in Biegler (2010). You may skip the line search, i.e., always take a full step."
   ]
  },
  {
   "cell_type": "markdown",
   "id": "a7a244c5",
   "metadata": {
    "nbpages": {
     "level": 3,
     "link": "[4.9.2.1 Pseudocode](https://ndcbe.github.io/CBE60499/04.09-Algorithms4.html#4.9.2.1-Pseudocode)",
     "section": "4.9.2.1 Pseudocode"
    }
   },
   "source": [
    "### 4.9.2.1 Pseudocode"
   ]
  },
  {
   "cell_type": "markdown",
   "id": "23e86ba7",
   "metadata": {
    "nbpages": {
     "level": 3,
     "link": "[4.9.2.1 Pseudocode](https://ndcbe.github.io/CBE60499/04.09-Algorithms4.html#4.9.2.1-Pseudocode)",
     "section": "4.9.2.1 Pseudocode"
    }
   },
   "source": [
    "Write detailed pseudocode on paper or a whiteboard. Scan/take a photo and turn in."
   ]
  },
  {
   "cell_type": "markdown",
   "id": "d1ec363f",
   "metadata": {
    "nbpages": {
     "level": 3,
     "link": "[4.9.2.2 Python Implementation](https://ndcbe.github.io/CBE60499/04.09-Algorithms4.html#4.9.2.2-Python-Implementation)",
     "section": "4.9.2.2 Python Implementation"
    }
   },
   "source": [
    "### 4.9.2.2 Python Implementation"
   ]
  },
  {
   "cell_type": "markdown",
   "id": "2ad37a24",
   "metadata": {
    "nbpages": {
     "level": 3,
     "link": "[4.9.2.2 Python Implementation](https://ndcbe.github.io/CBE60499/04.09-Algorithms4.html#4.9.2.2-Python-Implementation)",
     "section": "4.9.2.2 Python Implementation"
    }
   },
   "source": [
    "Implement in Python. Hints: Reuse code from Algorithm 5.2 example."
   ]
  },
  {
   "cell_type": "code",
   "execution_count": 1,
   "id": "ec182a38",
   "metadata": {
    "nbpages": {
     "level": 3,
     "link": "[4.9.2.2 Python Implementation](https://ndcbe.github.io/CBE60499/04.09-Algorithms4.html#4.9.2.2-Python-Implementation)",
     "section": "4.9.2.2 Python Implementation"
    }
   },
   "outputs": [],
   "source": [
    "### Load Python libraries\n",
    "import numpy as np\n",
    "from scipy import linalg\n",
    "\n",
    "### Define helper functions\n",
    "## Check is element of array is NaN\n",
    "def check_nan(A):\n",
    "    return np.sum(np.isnan(A))\n",
    "\n",
    "## Calculate gradient with central finite difference\n",
    "def my_grad_approx(x,f,eps1,verbose=False):\n",
    "    '''\n",
    "    Calculate gradient of function f using central difference formula\n",
    "    \n",
    "    Inputs:\n",
    "        x - point for which to evaluate gradient\n",
    "        f - function to consider\n",
    "        eps1 - perturbation size\n",
    "        \n",
    "    Outputs:\n",
    "        grad - gradient (vector)\n",
    "    '''\n",
    "    \n",
    "    n = len(x)\n",
    "    grad = np.zeros(n)\n",
    "    \n",
    "    if(verbose):\n",
    "        print(\"***** my_grad_approx at x = \",x,\"*****\")\n",
    "    \n",
    "    for i in range(0,n):\n",
    "        \n",
    "        # Create vector of zeros except eps in position i\n",
    "        e = np.zeros(n)\n",
    "        e[i] = eps1\n",
    "        \n",
    "        # Finite difference formula\n",
    "        my_f_plus = f(x + e)\n",
    "        my_f_minus = f(x - e)\n",
    "        \n",
    "        # Diagnostics\n",
    "        if(verbose):\n",
    "            print(\"e[\",i,\"] = \",e)\n",
    "            print(\"f(x + e[\",i,\"]) = \",my_f_plus)\n",
    "            print(\"f(x - e[\",i,\"]) = \",my_f_minus)\n",
    "        \n",
    "        \n",
    "        grad[i] = (my_f_plus - my_f_minus)/(2*eps1)\n",
    "    \n",
    "    if(verbose):\n",
    "        print(\"***** Done. ***** \\n\")\n",
    "    \n",
    "    return grad\n",
    "\n",
    "## Calculate gradient with central finite difference\n",
    "def my_jac_approx(x,h,eps1,verbose=False):\n",
    "    '''\n",
    "    Calculate Jacobian of function h(x) using central difference formula\n",
    "    \n",
    "    Inputs:\n",
    "        x - point for which to evaluate gradient\n",
    "        h - vector-valued function to consider. h(x): R^n --> R^m\n",
    "        eps1 - perturbation size\n",
    "        \n",
    "    Outputs:\n",
    "        A - Jacobian (n x m matrix)\n",
    "    '''\n",
    "    \n",
    "    # Check h(x) at x\n",
    "    h_x0 = h(x)\n",
    "    \n",
    "    # Extract dimensions\n",
    "    n = len(x)\n",
    "    m = len(h_x0)\n",
    "    \n",
    "    # Initialize Jacobian matrix\n",
    "    A = np.zeros((n,m))\n",
    "    \n",
    "    # Calculate Jacobian by row\n",
    "    for i in range(0,n):\n",
    "        \n",
    "        # Create vector of zeros except eps in position i\n",
    "        e = np.zeros(n)\n",
    "        e[i] = eps1\n",
    "        \n",
    "        # Finite difference formula\n",
    "        my_h_plus = h(x + e)\n",
    "        my_h_minus = h(x - e)\n",
    "        \n",
    "        # Diagnostics\n",
    "        if(verbose):\n",
    "            print(\"e[\",i,\"] = \",e)\n",
    "            print(\"h(x + e[\",i,\"]) = \",my_h_plus)\n",
    "            print(\"h(x - e[\",i,\"]) = \",my_h_minus)\n",
    "        \n",
    "        \n",
    "        A[i,:] = (my_h_plus - my_h_minus)/(2*eps1)\n",
    "    \n",
    "    if(verbose):\n",
    "        print(\"***** Done. ***** \\n\")\n",
    "    \n",
    "    return A\n",
    "    \n",
    "## Calculate Hessian using central finite difference\n",
    "def my_hes_approx(x,grad,eps2):\n",
    "    '''\n",
    "    Calculate gradient of function my_f using central difference formula and my_grad\n",
    "    \n",
    "    Inputs:\n",
    "        x - point for which to evaluate gradient\n",
    "        grad - function to calculate the gradient\n",
    "        eps2 - perturbation size (for Hessian NOT gradient approximation)\n",
    "        \n",
    "    Outputs:\n",
    "        H - Hessian (matrix)\n",
    "    '''\n",
    "    \n",
    "    n = len(x)\n",
    "    H = np.zeros([n,n])\n",
    "    \n",
    "    for i in range(0,n):\n",
    "        # Create vector of zeros except eps in position i\n",
    "        e = np.zeros(n)\n",
    "        e[i] = eps2\n",
    "        \n",
    "        # Evaluate gradient twice\n",
    "        grad_plus = grad(x + e)\n",
    "        grad_minus = grad(x - e)\n",
    "        \n",
    "        # Notice we are building the Hessian by column (or row)\n",
    "        H[:,i] = (grad_plus - grad_minus)/(2*eps2)\n",
    "\n",
    "    return H\n",
    "\n",
    "## Linear algebra calculation\n",
    "def xxT(u):\n",
    "    '''\n",
    "    Calculates u*u.T to circumvent limitation with SciPy\n",
    "    \n",
    "    Arguments:\n",
    "    u - numpy 1D array\n",
    "    \n",
    "    Returns:\n",
    "    u*u.T\n",
    "    \n",
    "    Assume u is a nx1 vector.\n",
    "    Recall: NumPy does not distinguish between row or column vectors\n",
    "    \n",
    "    u.dot(u) returns a scalar. This functon returns an nxn matrix.\n",
    "    '''\n",
    "    \n",
    "    n = len(u)\n",
    "    A = np.zeros([n,n])\n",
    "    for i in range(0,n):\n",
    "        for j in range(0,n):\n",
    "            A[i,j] = u[i]*u[j]\n",
    "    \n",
    "    return A\n",
    "\n",
    "## Analyze Hessian\n",
    "def analyze_hes(B):\n",
    "    print(B,\"\\n\")\n",
    "    \n",
    "    l = linalg.eigvals(B)\n",
    "    print(\"Eigenvalues: \",l,\"\\n\")\n"
   ]
  },
  {
   "cell_type": "code",
   "execution_count": 2,
   "id": "f51b5c25",
   "metadata": {
    "nbpages": {
     "level": 3,
     "link": "[4.9.2.2 Python Implementation](https://ndcbe.github.io/CBE60499/04.09-Algorithms4.html#4.9.2.2-Python-Implementation)",
     "section": "4.9.2.2 Python Implementation"
    }
   },
   "outputs": [],
   "source": [
    "## Assemble KKT matrix (equality constrained only)\n",
    "def assemble_check_KKT(W,Sk,A,deltaA,deltaW,verbose):\n",
    "    \n",
    "    # YOUR SOLUTION HERE\n",
    "    \n",
    "    return KKT,inertia_correct,pos_ev,neg_ev,zero_ev"
   ]
  },
  {
   "cell_type": "code",
   "execution_count": 3,
   "id": "ae9be074",
   "metadata": {
    "nbpages": {
     "level": 3,
     "link": "[4.9.2.2 Python Implementation](https://ndcbe.github.io/CBE60499/04.09-Algorithms4.html#4.9.2.2-Python-Implementation)",
     "section": "4.9.2.2 Python Implementation"
    }
   },
   "outputs": [],
   "source": [
    "def barrier_subproblem(x0,v0,u0,calc_f,calc_c,var_bounds,mu,eps,max_iter=100,verbose=False):\n",
    "    '''\n",
    "    Basic Full Space Newton Method for Solving Barrier Subproblem Constrained NLP\n",
    "    \n",
    "    Input:\n",
    "        x0 - starting point (vector)\n",
    "        calc_f - function to calculate objective (returns scalar)\n",
    "        calc_c - function to calculate constraints (returns vector)\n",
    "        var_bounds - list of indicies for variables with lower bound\n",
    "        mu - barrier penalty\n",
    "        eps - tolerance for termination\n",
    "        \n",
    "    Histories (stored for debugging):\n",
    "        x - history of steps (primal variables)\n",
    "        v - history of steps (duals for constraints)\n",
    "        u - history of steps (duals for bounds)\n",
    "        f - history of objective evaluations\n",
    "        c - history of constraint evaluations\n",
    "        df - history of objective gradients\n",
    "        dL - history of Lagrange function gradients\n",
    "        A - history of constraint Jacobians\n",
    "        W - history of Lagrange Hessians\n",
    "        S - history of sigma matrix\n",
    "    \n",
    "    Outputs:\n",
    "        x - final value for primal variable\n",
    "        v - final value for constraint duals\n",
    "        u - final value for bound duals\n",
    "    \n",
    "    Notes:\n",
    "        1. For simplicity, central finite difference is used \n",
    "           for all gradient calculations.\n",
    "    '''    \n",
    "    \n",
    "    ### Specifics for Algorithm 5.2\n",
    "    # Tuning parameters\n",
    "    delta_bar_W_min = 1E-20\n",
    "    delta_bar_W_0 = 1E-4\n",
    "    delta_bar_W_max = 1E40\n",
    "    delta_bar_A = 1E-8\n",
    "    kappa_u = 8\n",
    "    kappa_l = 1/3\n",
    "    \n",
    "    # Declare iteration histories as empty lists\n",
    "    x = []\n",
    "    v = []\n",
    "    u = []\n",
    "    f = []\n",
    "    L = []\n",
    "    c = []\n",
    "    df = []\n",
    "    dL = []\n",
    "    A = []\n",
    "    W = []\n",
    "\n",
    "    # YOUR SOLUTION HERE"
   ]
  },
  {
   "cell_type": "code",
   "execution_count": 4,
   "id": "6549fabb",
   "metadata": {
    "nbpages": {
     "level": 3,
     "link": "[4.9.2.2 Python Implementation](https://ndcbe.github.io/CBE60499/04.09-Algorithms4.html#4.9.2.2-Python-Implementation)",
     "section": "4.9.2.2 Python Implementation"
    }
   },
   "outputs": [],
   "source": [
    "def interior_point(x0,calc_f,calc_c,var_bounds,max_iter=20):\n",
    "    \n",
    "    \n",
    "    # YOUR SOLUTION HERE\n",
    "    \n",
    "    return x, v, u, mu, E"
   ]
  },
  {
   "cell_type": "markdown",
   "id": "4fb21995",
   "metadata": {
    "nbpages": {
     "level": 2,
     "link": "[4.9.3 Test Problems](https://ndcbe.github.io/CBE60499/04.09-Algorithms4.html#4.9.3-Test-Problems)",
     "section": "4.9.3 Test Problems"
    }
   },
   "source": [
    "## 4.9.3 Test Problems"
   ]
  },
  {
   "cell_type": "markdown",
   "id": "2e7ab8ef",
   "metadata": {
    "nbpages": {
     "level": 3,
     "link": "[4.9.3.1 Problem 1: Convex](https://ndcbe.github.io/CBE60499/04.09-Algorithms4.html#4.9.3.1-Problem-1:-Convex)",
     "section": "4.9.3.1 Problem 1: Convex"
    }
   },
   "source": [
    "### 4.9.3.1 Problem 1: Convex"
   ]
  },
  {
   "cell_type": "code",
   "execution_count": 5,
   "id": "4c290f53",
   "metadata": {
    "nbpages": {
     "level": 3,
     "link": "[4.9.3.1 Problem 1: Convex](https://ndcbe.github.io/CBE60499/04.09-Algorithms4.html#4.9.3.1-Problem-1:-Convex)",
     "section": "4.9.3.1 Problem 1: Convex"
    }
   },
   "outputs": [
    {
     "name": "stdout",
     "output_type": "stream",
     "text": [
      "Iter. \tf(x) \t\t||c(x)|| \tE \t\t||dx|| \t\t||dv|| \t\t||du|| \t\tdelta_A \tdelta_W\n",
      "0   \t 3.0000e+00 \t1.0000e+00 \t 2.00e+00 \t 9.06e-01 \t 2.00e+00 \t 3.56e-04 \t 0.00e+00 \t 0.00e+00\n",
      "1   \t 1.0996e+00 \t1.3978e-10 \t 3.20e-04 \t 5.03e-04 \t 1.78e-04 \t 3.56e-04 \t 0.00e+00 \t 0.00e+00\n",
      "2   \t 1.1000e+00 \t3.9524e-14 \t 1.26e-07 \t 1.70e-07 \t 3.94e-08 \t 5.91e-08 \t 0.00e+00 \t 0.00e+00\n",
      "3   \t 1.1000e+00 \t0.0000e+00 \t 6.87e-11 \t 1.48e-11 \t 1.11e-10 \t 1.04e-10 \t 0.00e+00 \t 0.00e+00\n"
     ]
    }
   ],
   "source": [
    "f = lambda x: x[0] + 2*x[1]\n",
    "c = lambda x: (x[0] + x[1] - 1)*np.ones(1)\n",
    "\n",
    "# Indices of variables with lower bound of zero\n",
    "vb = [1]\n",
    "\n",
    "x0 = np.ones(2)\n",
    "u0 = np.ones(1)\n",
    "v0 = np.ones(1)\n",
    "\n",
    "x_, v_, u_, E_ = barrier_subproblem(x0,v0,u0,f,c,vb,1E-1,1E-10,verbose=False)"
   ]
  },
  {
   "cell_type": "markdown",
   "id": "1f44a1a9",
   "metadata": {
    "nbpages": {
     "level": 3,
     "link": "[4.9.3.2 Problem 2: Convex](https://ndcbe.github.io/CBE60499/04.09-Algorithms4.html#4.9.3.2-Problem-2:-Convex)",
     "section": "4.9.3.2 Problem 2: Convex"
    }
   },
   "source": [
    "### 4.9.3.2 Problem 2: Convex"
   ]
  },
  {
   "cell_type": "code",
   "execution_count": 6,
   "id": "08e17352",
   "metadata": {
    "nbpages": {
     "level": 3,
     "link": "[4.9.3.2 Problem 2: Convex](https://ndcbe.github.io/CBE60499/04.09-Algorithms4.html#4.9.3.2-Problem-2:-Convex)",
     "section": "4.9.3.2 Problem 2: Convex"
    }
   },
   "outputs": [
    {
     "name": "stdout",
     "output_type": "stream",
     "text": [
      "\n",
      "*** Barrier Subproblem  0  ***\n",
      "mu =  10.0\n",
      "Iter. \tf(x) \t\t||c(x)|| \tE \t\t||dx|| \t\t||dv|| \t\t||du|| \t\tdelta_A \tdelta_W\n",
      "0   \t 3.0000e+00 \t1.0000e+00 \t 9.00e+00 \t 1.35e+01 \t 2.00e+00 \t 8.45e-03 \t 0.00e+00 \t 0.00e+00\n",
      "\n",
      "*** Barrier Subproblem  1  ***\n",
      "mu =  2.0\n",
      "Iter. \tf(x) \t\t||c(x)|| \tE \t\t||dx|| \t\t||dv|| \t\t||du|| \t\tdelta_A \tdelta_W\n",
      "0   \t 1.1008e+01 \t1.3978e-10 \t 7.92e+00 \t 1.14e+01 \t 4.22e-03 \t 8.45e-03 \t 0.00e+00 \t 0.00e+00\n",
      "\n",
      "*** Barrier Subproblem  2  ***\n",
      "mu =  0.4\n",
      "Iter. \tf(x) \t\t||c(x)|| \tE \t\t||dx|| \t\t||dv|| \t\t||du|| \t\tdelta_A \tdelta_W\n",
      "0   \t 2.9318e+00 \t0.0000e+00 \t 1.53e+00 \t 2.17e+00 \t 1.70e-04 \t 3.40e-04 \t 0.00e+00 \t 0.00e+00\n",
      "\n",
      "*** Barrier Subproblem  3  ***\n",
      "mu =  0.08000000000000002\n",
      "Iter. \tf(x) \t\t||c(x)|| \tE \t\t||dx|| \t\t||dv|| \t\t||du|| \t\tdelta_A \tdelta_W\n",
      "0   \t 1.3993e+00 \t2.5520e-10 \t 3.19e-01 \t 4.51e-01 \t 1.70e-04 \t 3.40e-04 \t 0.00e+00 \t 0.00e+00\n",
      "\n",
      "*** Barrier Subproblem  4  ***\n",
      "mu =  0.016000000000000004\n",
      "Iter. \tf(x) \t\t||c(x)|| \tE \t\t||dx|| \t\t||dv|| \t\t||du|| \t\tdelta_A \tdelta_W\n",
      "0   \t 1.0801e+00 \t5.3163e-11 \t 6.41e-02 \t 9.07e-02 \t 1.07e-05 \t 1.78e-05 \t 0.00e+00 \t 0.00e+00\n",
      "\n",
      "*** Barrier Subproblem  5  ***\n",
      "mu =  0.0020238577025077633\n",
      "Iter. \tf(x) \t\t||c(x)|| \tE \t\t||dx|| \t\t||dv|| \t\t||du|| \t\tdelta_A \tdelta_W\n",
      "0   \t 1.0160e+00 \t0.0000e+00 \t 1.40e-02 \t 1.98e-02 \t 1.15e-05 \t 1.86e-05 \t 0.00e+00 \t 0.00e+00\n",
      "\n",
      "*** Barrier Subproblem  6  ***\n",
      "mu =  9.104790579399288e-05\n",
      "Iter. \tf(x) \t\t||c(x)|| \tE \t\t||dx|| \t\t||dv|| \t\t||du|| \t\tdelta_A \tdelta_W\n",
      "0   \t 1.0020e+00 \t7.7571e-13 \t 1.93e-03 \t 2.73e-03 \t 7.76e-07 \t 8.83e-07 \t 0.00e+00 \t 0.00e+00\n",
      "1   \t 1.0001e+00 \t0.0000e+00 \t 1.07e-07 \t 2.43e-09 \t 0.00e+00 \t 1.07e-07 \t 0.00e+00 \t 0.00e+00\n",
      "\n",
      "*** Barrier Subproblem  7  ***\n",
      "mu =  8.687702517211205e-07\n",
      "Iter. \tf(x) \t\t||c(x)|| \tE \t\t||dx|| \t\t||dv|| \t\t||du|| \t\tdelta_A \tdelta_W\n",
      "0   \t 1.0001e+00 \t0.0000e+00 \t 9.02e-05 \t 1.28e-04 \t 1.11e-10 \t 5.12e-09 \t 0.00e+00 \t 0.00e+00\n",
      "1   \t 1.0000e+00 \t9.9920e-15 \t 4.95e-09 \t 6.52e-13 \t 3.88e-17 \t 4.95e-09 \t 0.00e+00 \t 0.00e+00\n"
     ]
    }
   ],
   "source": [
    "f = lambda x: x[0] + 2*x[1]\n",
    "c = lambda x: (x[0] + x[1] - 1)*np.ones(1)\n",
    "\n",
    "# Indices of variables with lower bound of zero\n",
    "vb = [1]\n",
    "\n",
    "x0 = np.ones(2)\n",
    "#u0 = np.ones(1)\n",
    "#v0 = np.ones(1)\n",
    "\n",
    "# x_, v_, u_, E_ = barrier_subproblem(x0,v0,u0,f,c,vb,1E-1,1E-10,verbose=False)\n",
    "\n",
    "x, v, u, mu, E = interior_point(x0,f,c,vb)"
   ]
  },
  {
   "cell_type": "code",
   "execution_count": 7,
   "id": "2efe01ca",
   "metadata": {
    "nbpages": {
     "level": 3,
     "link": "[4.9.3.2 Problem 2: Convex](https://ndcbe.github.io/CBE60499/04.09-Algorithms4.html#4.9.3.2-Problem-2:-Convex)",
     "section": "4.9.3.2 Problem 2: Convex"
    }
   },
   "outputs": [
    {
     "data": {
      "image/png": "[encoded data removed]",
      "text/plain": [
       "<Figure size 432x288 with 1 Axes>"
      ]
     },
     "metadata": {
      "needs_background": "light"
     },
     "output_type": "display_data"
    },
    {
     "data": {
      "image/png": "[encoded data removed]",
      "text/plain": [
       "<Figure size 432x288 with 1 Axes>"
      ]
     },
     "metadata": {
      "needs_background": "light"
     },
     "output_type": "display_data"
    },
    {
     "data": {
      "image/png": "[encoded data removed]",
      "text/plain": [
       "<Figure size 432x288 with 1 Axes>"
      ]
     },
     "metadata": {
      "needs_background": "light"
     },
     "output_type": "display_data"
    },
    {
     "data": {
      "image/png": "[encoded data removed]",
      "text/plain": [
       "<Figure size 432x288 with 1 Axes>"
      ]
     },
     "metadata": {
      "needs_background": "light"
     },
     "output_type": "display_data"
    }
   ],
   "source": [
    "import matplotlib.pyplot as plt\n",
    "\n",
    "# number of iterations\n",
    "N = len(x)\n",
    "\n",
    "# iteration\n",
    "iters = range(0,N)\n",
    "\n",
    "plt.figure\n",
    "for i in range(0,len(x0)):\n",
    "    plt.plot(iters,[x[j][i] for j in range(0,N)],label=\"x\"+str(i))\n",
    "plt.xlabel(\"Iteration\")\n",
    "plt.ylabel(\"Primal Variables\")\n",
    "plt.legend()\n",
    "plt.show()\n",
    "\n",
    "plt.figure\n",
    "for i in range(0,len(u[0])):\n",
    "    plt.plot(iters,[u[j][i] for j in range(0,N)],label=\"u\"+str(i))\n",
    "for i in range(0,len(v[0])):\n",
    "    plt.plot(iters,[v[j][i] for j in range(0,N)],label=\"v\"+str(i))\n",
    "plt.xlabel(\"Iteration\")\n",
    "plt.ylabel(\"Dual Variables\")\n",
    "plt.legend()\n",
    "plt.show()\n",
    "\n",
    "plt.figure\n",
    "plt.semilogy(iters,mu)\n",
    "plt.xlabel(\"Iteration\")\n",
    "plt.ylabel(\"Barrier Penalty\")\n",
    "plt.show()\n",
    "\n",
    "plt.figure\n",
    "plt.semilogy(range(1,N),E)\n",
    "plt.xlabel(\"Iteration\")\n",
    "plt.ylabel(\"Error\")\n",
    "plt.show()"
   ]
  },
  {
   "cell_type": "markdown",
   "id": "ce1653ce",
   "metadata": {
    "nbpages": {
     "level": 3,
     "link": "[4.9.3.3 Problem 3: Nonconvex](https://ndcbe.github.io/CBE60499/04.09-Algorithms4.html#4.9.3.3-Problem-3:-Nonconvex)",
     "section": "4.9.3.3 Problem 3: Nonconvex"
    }
   },
   "source": [
    "### 4.9.3.3 Problem 3: Nonconvex"
   ]
  },
  {
   "cell_type": "code",
   "execution_count": 8,
   "id": "adaa8455",
   "metadata": {
    "nbpages": {
     "level": 3,
     "link": "[4.9.3.3 Problem 3: Nonconvex](https://ndcbe.github.io/CBE60499/04.09-Algorithms4.html#4.9.3.3-Problem-3:-Nonconvex)",
     "section": "4.9.3.3 Problem 3: Nonconvex"
    }
   },
   "outputs": [
    {
     "name": "stdout",
     "output_type": "stream",
     "text": [
      "\n",
      "*** Barrier Subproblem  0  ***\n",
      "mu =  10.0\n",
      "Iter. \tf(x) \t\t||c(x)|| \tE \t\t||dx|| \t\t||dv|| \t\t||du|| \t\tdelta_A \tdelta_W\n",
      "0   \t 4.0000e+00 \t3.1623e+00 \t 9.00e+00 \t 6.17e+00 \t 8.25e+00 \t 8.06e+00 \t 0.00e+00 \t 0.00e+00\n",
      "\n",
      "*** Barrier Subproblem  1  ***\n",
      "mu =  2.0\n",
      "Iter. \tf(x) \t\t||c(x)|| \tE \t\t||dx|| \t\t||dv|| \t\t||du|| \t\tdelta_A \tdelta_W\n",
      "0   \t 4.0013e+01 \t4.4202e-10 \t 2.80e+01 \t 3.79e+00 \t 1.52e+00 \t 3.22e+00 \t 0.00e+00 \t 0.00e+00\n",
      "1   \t 1.6354e+01 \t1.3323e-15 \t 6.22e+00 \t 9.26e-01 \t 2.49e-01 \t 1.35e+00 \t 0.00e+00 \t 0.00e+00\n",
      "\n",
      "*** Barrier Subproblem  2  ***\n",
      "mu =  0.4\n",
      "Iter. \tf(x) \t\t||c(x)|| \tE \t\t||dx|| \t\t||dv|| \t\t||du|| \t\tdelta_A \tdelta_W\n",
      "0   \t 1.2029e+01 \t5.9350e-11 \t 2.31e+00 \t 3.94e-01 \t 1.93e-01 \t 6.76e-01 \t 0.00e+00 \t 0.00e+00\n",
      "\n",
      "*** Barrier Subproblem  3  ***\n",
      "mu =  0.08000000000000002\n",
      "Iter. \tf(x) \t\t||c(x)|| \tE \t\t||dx|| \t\t||dv|| \t\t||du|| \t\tdelta_A \tdelta_W\n",
      "0   \t 1.0363e+01 \t5.0465e-11 \t 4.67e-01 \t 7.00e-02 \t 6.98e-02 \t 1.66e-01 \t 0.00e+00 \t 0.00e+00\n",
      "\n",
      "*** Barrier Subproblem  4  ***\n",
      "mu =  0.016000000000000004\n",
      "Iter. \tf(x) \t\t||c(x)|| \tE \t\t||dx|| \t\t||dv|| \t\t||du|| \t\tdelta_A \tdelta_W\n",
      "0   \t 1.0077e+01 \t8.9693e-12 \t 7.01e-02 \t 1.52e-02 \t 5.71e-03 \t 2.39e-02 \t 0.00e+00 \t 0.00e+00\n",
      "\n",
      "*** Barrier Subproblem  5  ***\n",
      "mu =  0.0020238577025077633\n",
      "Iter. \tf(x) \t\t||c(x)|| \tE \t\t||dx|| \t\t||dv|| \t\t||du|| \t\tdelta_A \tdelta_W\n",
      "0   \t 1.0016e+01 \t4.8606e-13 \t 1.42e-02 \t 3.45e-03 \t 7.38e-04 \t 4.77e-03 \t 0.00e+00 \t 0.00e+00\n",
      "\n",
      "*** Barrier Subproblem  6  ***\n",
      "mu =  9.104790579399288e-05\n",
      "Iter. \tf(x) \t\t||c(x)|| \tE \t\t||dx|| \t\t||dv|| \t\t||du|| \t\tdelta_A \tdelta_W\n",
      "0   \t 1.0002e+01 \t4.5590e-13 \t 1.94e-03 \t 4.78e-04 \t 9.46e-05 \t 6.54e-04 \t 0.00e+00 \t 0.00e+00\n",
      "1   \t 1.0000e+01 \t6.1284e-14 \t 2.94e-07 \t 6.48e-09 \t 4.36e-07 \t 8.52e-07 \t 0.00e+00 \t 0.00e+00\n",
      "\n",
      "*** Barrier Subproblem  7  ***\n",
      "mu =  8.687702517211205e-07\n",
      "Iter. \tf(x) \t\t||c(x)|| \tE \t\t||dx|| \t\t||dv|| \t\t||du|| \t\tdelta_A \tdelta_W\n",
      "0   \t 1.0000e+01 \t4.4409e-16 \t 9.02e-05 \t 2.23e-05 \t 4.29e-06 \t 3.04e-05 \t 0.00e+00 \t 0.00e+00\n",
      "1   \t 1.0000e+01 \t2.6645e-15 \t 1.67e-08 \t 1.36e-11 \t 1.69e-08 \t 2.21e-08 \t 0.00e+00 \t 0.00e+00\n",
      "\n",
      "*** Barrier Subproblem  8  ***\n",
      "mu =  1e-09\n",
      "Iter. \tf(x) \t\t||c(x)|| \tE \t\t||dx|| \t\t||dv|| \t\t||du|| \t\tdelta_A \tdelta_W\n",
      "0   \t 1.0000e+01 \t1.1102e-16 \t 8.68e-07 \t 2.15e-07 \t 4.23e-08 \t 2.92e-07 \t 0.00e+00 \t 0.00e+00\n",
      "1   \t 1.0000e+01 \t0.0000e+00 \t 1.36e-09 \t 1.33e-15 \t 3.33e-10 \t 1.60e-09 \t 0.00e+00 \t 0.00e+00\n"
     ]
    }
   ],
   "source": [
    "f = lambda x: x[0] + 2*x[1] + x[2]**2\n",
    "\n",
    "def c(x):\n",
    "    rhs = np.zeros(2)\n",
    "    rhs[0] = x[0] + x[1] - 1\n",
    "    rhs[1] = x[2] - x[1] - 3\n",
    "    return rhs\n",
    "\n",
    "# Indices of variables with lower bound of zero\n",
    "vb = [1,2]\n",
    "\n",
    "x0 = np.ones(3)\n",
    "u0 = np.ones(2)\n",
    "v0 = np.ones(2)\n",
    "\n",
    "## Test barrier subproblem\n",
    "# xtest, vtest, utest, Etest = barrier_subproblem(x0,v0,u0,f,c,vb,1E-1,1E-10,max_iter=10,verbose=True)\n",
    "\n",
    "##\n",
    "x, v, u, mu, E = interior_point(x0,f,c,vb)"
   ]
  },
  {
   "cell_type": "code",
   "execution_count": 9,
   "id": "5b06a941",
   "metadata": {
    "nbpages": {
     "level": 3,
     "link": "[4.9.3.3 Problem 3: Nonconvex](https://ndcbe.github.io/CBE60499/04.09-Algorithms4.html#4.9.3.3-Problem-3:-Nonconvex)",
     "section": "4.9.3.3 Problem 3: Nonconvex"
    }
   },
   "outputs": [
    {
     "data": {
      "image/png": "[encoded data removed]",
      "text/plain": [
       "<Figure size 432x288 with 1 Axes>"
      ]
     },
     "metadata": {
      "needs_background": "light"
     },
     "output_type": "display_data"
    },
    {
     "data": {
      "image/png": "[encoded data removed]",
      "text/plain": [
       "<Figure size 432x288 with 1 Axes>"
      ]
     },
     "metadata": {
      "needs_background": "light"
     },
     "output_type": "display_data"
    },
    {
     "data": {
      "image/png": "[encoded data removed]",
      "text/plain": [
       "<Figure size 432x288 with 1 Axes>"
      ]
     },
     "metadata": {
      "needs_background": "light"
     },
     "output_type": "display_data"
    },
    {
     "data": {
      "image/png": "[encoded data removed]",
      "text/plain": [
       "<Figure size 432x288 with 1 Axes>"
      ]
     },
     "metadata": {
      "needs_background": "light"
     },
     "output_type": "display_data"
    }
   ],
   "source": [
    "import matplotlib.pyplot as plt\n",
    "\n",
    "# number of iterations\n",
    "N = len(x)\n",
    "\n",
    "# iteration\n",
    "iters = range(0,N)\n",
    "\n",
    "plt.figure\n",
    "for i in range(0,len(x0)):\n",
    "    plt.plot(iters,[x[j][i] for j in range(0,N)],label=\"x\"+str(i))\n",
    "plt.xlabel(\"Iteration\")\n",
    "plt.ylabel(\"Primal Variables\")\n",
    "plt.legend()\n",
    "plt.show()\n",
    "\n",
    "plt.figure\n",
    "for i in range(0,len(u[0])):\n",
    "    plt.plot(iters,[u[j][i] for j in range(0,N)],label=\"u\"+str(i))\n",
    "for i in range(0,len(v[0])):\n",
    "    plt.plot(iters,[v[j][i] for j in range(0,N)],label=\"v\"+str(i))\n",
    "plt.xlabel(\"Iteration\")\n",
    "plt.ylabel(\"Dual Variables\")\n",
    "plt.legend()\n",
    "plt.show()\n",
    "\n",
    "plt.figure\n",
    "plt.semilogy(iters,mu)\n",
    "plt.xlabel(\"Iteration\")\n",
    "plt.ylabel(\"Barrier Penalty\")\n",
    "plt.show()\n",
    "\n",
    "plt.figure\n",
    "plt.semilogy(range(1,N),E)\n",
    "plt.xlabel(\"Iteration\")\n",
    "plt.ylabel(\"Error\")\n",
    "plt.show()"
   ]
  },
  {
   "cell_type": "markdown",
   "id": "a846e211",
   "metadata": {},
   "source": [
    "<!--NAVIGATION-->\n",
    "< [4.8 Inertia-Corrected Netwon Method for Equality Constrained NLPs](https://ndcbe.github.io/CBE60499/04.08-Interior-Point2.html) | [Contents](toc.html) | [Tag Index](tag_index.html) | [5.0 Special Topics](https://ndcbe.github.io/CBE60499/05.00-Special-Topics.html) ><p><a href=\"https://colab.research.google.com/github/ndcbe/CBE60499/blob/master/docs/04.09-Algorithms4.ipynb\"> <img align=\"left\" src=\"https://colab.research.google.com/assets/colab-badge.svg\" alt=\"Open in Colab\" title=\"Open in Google Colaboratory\"></a><p><a href=\"https://ndcbe.github.io/CBE60499/04.09-Algorithms4.ipynb\"> <img align=\"left\" src=\"https://img.shields.io/badge/Github-Download-blue.svg\" alt=\"Download\" title=\"Download Notebook\"></a>"
   ]
  }
 ],
 "metadata": {
  "kernelspec": {
   "display_name": "Python 3",
   "language": "python",
   "name": "python3"
  },
  "language_info": {
   "codemirror_mode": {
    "name": "ipython",
    "version": 3
   },
   "file_extension": ".py",
   "mimetype": "text/x-python",
   "name": "python",
   "nbconvert_exporter": "python",
   "pygments_lexer": "ipython3",
   "version": "3.8.6"
  }
 },
 "nbformat": 4,
 "nbformat_minor": 5
}
